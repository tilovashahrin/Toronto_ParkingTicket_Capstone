{
 "cells": [
  {
   "cell_type": "markdown",
   "id": "4d253f8c",
   "metadata": {},
   "source": [
    "# Processing\n",
    "\n",
    "## Author: Tilova Shahrin"
   ]
  },
  {
   "cell_type": "markdown",
   "id": "6504735c",
   "metadata": {},
   "source": [
    "Table of Contents:\n",
    "\n",
    "- [Coordinates API using Geopy](#geoapi)"
   ]
  },
  {
   "cell_type": "code",
   "execution_count": 3,
   "id": "e28ce1d4",
   "metadata": {},
   "outputs": [],
   "source": [
    "import numpy as np\n",
    "import pandas as pd\n",
    "import matplotlib.pyplot as plt\n",
    "%matplotlib inline\n",
    "import statsmodels.api as sm\n",
    "from scipy import stats\n",
    "import seaborn as sns\n",
    "import os\n",
    "import glob\n",
    "import datetime\n",
    "from geopy.geocoders import Nominatim\n",
    "import time"
   ]
  },
  {
   "cell_type": "markdown",
   "id": "c3e380a7",
   "metadata": {},
   "source": [
    "Recall we downloaded a new csv file from our cleaning in the last file `Cleaning and EDA`. Let's upload the file into a dataframe."
   ]
  },
  {
   "cell_type": "code",
   "execution_count": 4,
   "id": "262afd12",
   "metadata": {},
   "outputs": [],
   "source": [
    "parking_df = pd.read_csv('../data/parking_df.csv')"
   ]
  },
  {
   "cell_type": "code",
   "execution_count": 17,
   "id": "06db131b",
   "metadata": {},
   "outputs": [
    {
     "data": {
      "text/html": [
       "<div>\n",
       "<style scoped>\n",
       "    .dataframe tbody tr th:only-of-type {\n",
       "        vertical-align: middle;\n",
       "    }\n",
       "\n",
       "    .dataframe tbody tr th {\n",
       "        vertical-align: top;\n",
       "    }\n",
       "\n",
       "    .dataframe thead th {\n",
       "        text-align: right;\n",
       "    }\n",
       "</style>\n",
       "<table border=\"1\" class=\"dataframe\">\n",
       "  <thead>\n",
       "    <tr style=\"text-align: right;\">\n",
       "      <th></th>\n",
       "      <th>date_of_infraction</th>\n",
       "      <th>infraction_code</th>\n",
       "      <th>infraction_description</th>\n",
       "      <th>set_fine_amount</th>\n",
       "      <th>time_of_infraction</th>\n",
       "      <th>location1</th>\n",
       "      <th>location2</th>\n",
       "      <th>location3</th>\n",
       "      <th>location4</th>\n",
       "      <th>province</th>\n",
       "      <th>datetime_of_infraction</th>\n",
       "    </tr>\n",
       "  </thead>\n",
       "  <tbody>\n",
       "    <tr>\n",
       "      <th>0</th>\n",
       "      <td>2016-12-30</td>\n",
       "      <td>403.0</td>\n",
       "      <td>STOP-SIGNED HIGHWAY-RUSH HOUR</td>\n",
       "      <td>150</td>\n",
       "      <td>16:37:00</td>\n",
       "      <td>N/S</td>\n",
       "      <td>1546 BLOOR ST W</td>\n",
       "      <td>NaN</td>\n",
       "      <td>NaN</td>\n",
       "      <td>ON</td>\n",
       "      <td>2016-12-30 16:37:00</td>\n",
       "    </tr>\n",
       "    <tr>\n",
       "      <th>1</th>\n",
       "      <td>2016-12-30</td>\n",
       "      <td>403.0</td>\n",
       "      <td>STOP-SIGNED HIGHWAY-RUSH HOUR</td>\n",
       "      <td>150</td>\n",
       "      <td>16:37:00</td>\n",
       "      <td>N/S</td>\n",
       "      <td>5418 YONGE ST</td>\n",
       "      <td>NaN</td>\n",
       "      <td>NaN</td>\n",
       "      <td>ON</td>\n",
       "      <td>2016-12-30 16:37:00</td>\n",
       "    </tr>\n",
       "    <tr>\n",
       "      <th>2</th>\n",
       "      <td>2016-12-30</td>\n",
       "      <td>403.0</td>\n",
       "      <td>STOP-SIGNED HIGHWAY-RUSH HOUR</td>\n",
       "      <td>150</td>\n",
       "      <td>16:37:00</td>\n",
       "      <td>OPP</td>\n",
       "      <td>777 QUEEN ST W</td>\n",
       "      <td>NaN</td>\n",
       "      <td>NaN</td>\n",
       "      <td>ON</td>\n",
       "      <td>2016-12-30 16:37:00</td>\n",
       "    </tr>\n",
       "    <tr>\n",
       "      <th>3</th>\n",
       "      <td>2016-12-30</td>\n",
       "      <td>403.0</td>\n",
       "      <td>STOP-SIGNED HIGHWAY-RUSH HOUR</td>\n",
       "      <td>150</td>\n",
       "      <td>16:37:00</td>\n",
       "      <td>N/S</td>\n",
       "      <td>747 QUEEN ST E</td>\n",
       "      <td>NaN</td>\n",
       "      <td>NaN</td>\n",
       "      <td>ON</td>\n",
       "      <td>2016-12-30 16:37:00</td>\n",
       "    </tr>\n",
       "    <tr>\n",
       "      <th>4</th>\n",
       "      <td>2016-12-30</td>\n",
       "      <td>403.0</td>\n",
       "      <td>STOP-SIGNED HIGHWAY-RUSH HOUR</td>\n",
       "      <td>150</td>\n",
       "      <td>16:37:00</td>\n",
       "      <td>N/S</td>\n",
       "      <td>3042 DUNDAS ST W</td>\n",
       "      <td>NaN</td>\n",
       "      <td>NaN</td>\n",
       "      <td>ON</td>\n",
       "      <td>2016-12-30 16:37:00</td>\n",
       "    </tr>\n",
       "  </tbody>\n",
       "</table>\n",
       "</div>"
      ],
      "text/plain": [
       "  date_of_infraction  infraction_code         infraction_description  \\\n",
       "0         2016-12-30            403.0  STOP-SIGNED HIGHWAY-RUSH HOUR   \n",
       "1         2016-12-30            403.0  STOP-SIGNED HIGHWAY-RUSH HOUR   \n",
       "2         2016-12-30            403.0  STOP-SIGNED HIGHWAY-RUSH HOUR   \n",
       "3         2016-12-30            403.0  STOP-SIGNED HIGHWAY-RUSH HOUR   \n",
       "4         2016-12-30            403.0  STOP-SIGNED HIGHWAY-RUSH HOUR   \n",
       "\n",
       "   set_fine_amount time_of_infraction location1         location2 location3  \\\n",
       "0              150           16:37:00       N/S   1546 BLOOR ST W       NaN   \n",
       "1              150           16:37:00       N/S     5418 YONGE ST       NaN   \n",
       "2              150           16:37:00       OPP    777 QUEEN ST W       NaN   \n",
       "3              150           16:37:00       N/S    747 QUEEN ST E       NaN   \n",
       "4              150           16:37:00       N/S  3042 DUNDAS ST W       NaN   \n",
       "\n",
       "  location4 province datetime_of_infraction  \n",
       "0       NaN       ON    2016-12-30 16:37:00  \n",
       "1       NaN       ON    2016-12-30 16:37:00  \n",
       "2       NaN       ON    2016-12-30 16:37:00  \n",
       "3       NaN       ON    2016-12-30 16:37:00  \n",
       "4       NaN       ON    2016-12-30 16:37:00  "
      ]
     },
     "execution_count": 17,
     "metadata": {},
     "output_type": "execute_result"
    }
   ],
   "source": [
    "parking_df.head()"
   ]
  },
  {
   "cell_type": "code",
   "execution_count": 18,
   "id": "33a3a801",
   "metadata": {},
   "outputs": [
    {
     "name": "stdout",
     "output_type": "stream",
     "text": [
      "<class 'pandas.core.frame.DataFrame'>\n",
      "RangeIndex: 12960604 entries, 0 to 12960603\n",
      "Data columns (total 11 columns):\n",
      " #   Column                  Dtype  \n",
      "---  ------                  -----  \n",
      " 0   date_of_infraction      object \n",
      " 1   infraction_code         float64\n",
      " 2   infraction_description  object \n",
      " 3   set_fine_amount         int64  \n",
      " 4   time_of_infraction      object \n",
      " 5   location1               object \n",
      " 6   location2               object \n",
      " 7   location3               object \n",
      " 8   location4               object \n",
      " 9   province                object \n",
      " 10  datetime_of_infraction  object \n",
      "dtypes: float64(1), int64(1), object(9)\n",
      "memory usage: 1.1+ GB\n"
     ]
    }
   ],
   "source": [
    "parking_df.info()"
   ]
  },
  {
   "cell_type": "code",
   "execution_count": 40,
   "id": "b6766045",
   "metadata": {},
   "outputs": [
    {
     "data": {
      "text/plain": [
       "0"
      ]
     },
     "execution_count": 40,
     "metadata": {},
     "output_type": "execute_result"
    }
   ],
   "source": [
    "parking_df.duplicated().sum()"
   ]
  },
  {
   "cell_type": "code",
   "execution_count": 36,
   "id": "9955773f",
   "metadata": {},
   "outputs": [
    {
     "data": {
      "text/plain": [
       "0          2016-12-30 16:37:00\n",
       "1          2016-12-30 16:37:00\n",
       "2          2016-12-30 16:37:00\n",
       "3          2016-12-30 16:37:00\n",
       "4          2016-12-30 16:37:00\n",
       "                   ...        \n",
       "12960599   2022-12-12 09:46:00\n",
       "12960600   2022-12-12 09:46:00\n",
       "12960601   2022-12-12 09:47:00\n",
       "12960602   2022-12-12 09:47:00\n",
       "12960603   2022-12-12 09:47:00\n",
       "Name: datetime_of_infraction, Length: 12960604, dtype: datetime64[ns]"
      ]
     },
     "execution_count": 36,
     "metadata": {},
     "output_type": "execute_result"
    }
   ],
   "source": [
    "parking_df['datetime_of_infraction'].astype('datetime64[ns]')"
   ]
  },
  {
   "cell_type": "markdown",
   "id": "b474b6f9",
   "metadata": {},
   "source": [
    "<a id='geoapi'></a>\n",
    "## Geocoders  API\n",
    "\n",
    "I want to find a way to produce geospatial analysis for my machine learning models. With that, I need geo coordinates `latitude` and `longitude`. "
   ]
  },
  {
   "cell_type": "markdown",
   "id": "29d4f974",
   "metadata": {},
   "source": [
    "We're going to use this code snippet to change address to a coordinate. However, we need to run this geolocator a lot of times.  "
   ]
  },
  {
   "cell_type": "code",
   "execution_count": 20,
   "id": "ee2e39c0",
   "metadata": {},
   "outputs": [
    {
     "name": "stdout",
     "output_type": "stream",
     "text": [
      "Edward Street, Discovery District, University—Rosedale, Old Toronto, Toronto, Golden Horseshoe, Ontario, M5B 1R7, Canada\n",
      "(43.6566007, -79.3831637)\n"
     ]
    }
   ],
   "source": [
    "import pandas as pd\n",
    "from geopy.geocoders import Nominatim\n",
    "\n",
    "geolocator = Nominatim(user_agent=\"toronto-parking-application\")\n",
    "location = geolocator.geocode(\"Edward St Toronto ON Canada\")\n",
    "print(location.address)\n",
    "print((location.latitude, location.longitude))"
   ]
  },
  {
   "cell_type": "markdown",
   "id": "73810981",
   "metadata": {},
   "source": [
    "Recall the shape. That is a lot of rows to process, about 13 million, even after cleaning this is going to take a while. We need to find a way to reduce the amount of API calls!"
   ]
  },
  {
   "cell_type": "code",
   "execution_count": 21,
   "id": "2fdd5531",
   "metadata": {},
   "outputs": [
    {
     "data": {
      "text/plain": [
       "(12960604, 11)"
      ]
     },
     "execution_count": 21,
     "metadata": {},
     "output_type": "execute_result"
    }
   ],
   "source": [
    "parking_df.shape"
   ]
  },
  {
   "cell_type": "markdown",
   "id": "8da013e7",
   "metadata": {},
   "source": [
    "Let's get the unique values of the addresses, and apply those addresses onto any duplicate addresses. Recall the addresses with the most tickets. Some have about 30 thousand tickets. To reduce, we get the unique value, add to dictionary and find a way to use that same address after getting the coordinate. "
   ]
  },
  {
   "cell_type": "code",
   "execution_count": 39,
   "id": "1096af3b",
   "metadata": {},
   "outputs": [
    {
     "data": {
      "text/plain": [
       "482566"
      ]
     },
     "execution_count": 39,
     "metadata": {},
     "output_type": "execute_result"
    }
   ],
   "source": [
    "parking_df['location2'].nunique()"
   ]
  },
  {
   "cell_type": "markdown",
   "id": "d76fccfd",
   "metadata": {},
   "source": [
    "About 400k unique values. That is a lot less than the number of rows. We can use these addresses and process them onto the API. "
   ]
  },
  {
   "cell_type": "code",
   "execution_count": 22,
   "id": "28021859",
   "metadata": {},
   "outputs": [
    {
     "data": {
      "text/plain": [
       "array(['1546 BLOOR ST W', '5418 YONGE ST', '777 QUEEN ST W', ...,\n",
       "       '28 LAMBERTON BLVD', '30151 GLENDALE AVE', '576 FORMAN AVE'],\n",
       "      dtype=object)"
      ]
     },
     "execution_count": 22,
     "metadata": {},
     "output_type": "execute_result"
    }
   ],
   "source": [
    "parking_df['location2'].unique()"
   ]
  },
  {
   "cell_type": "code",
   "execution_count": 23,
   "id": "caa7b07e",
   "metadata": {},
   "outputs": [],
   "source": [
    "def geocode_address(address):\n",
    "    geolocator = Nominatim(user_agent=\"toronto-parking-application\")\n",
    "    location = geolocator.geocode(address, timeout=10)\n",
    "    if location:\n",
    "        return location.latitude, location.longitude\n",
    "    else:\n",
    "        return None, None"
   ]
  },
  {
   "cell_type": "markdown",
   "id": "eb25476e",
   "metadata": {},
   "source": [
    "Let's apply the code snippet from before to get the coordinates of these unique values. "
   ]
  },
  {
   "cell_type": "code",
   "execution_count": null,
   "id": "4cace0d1",
   "metadata": {},
   "outputs": [],
   "source": [
    "import json\n",
    "from IPython.display import clear_output\n",
    "\n",
    "#opens existing json file\n",
    "f = open('address_data.json')\n",
    "data = json.load(f)\n",
    "f.close()\n",
    "\n",
    "#initialize count\n",
    "count = 0\n",
    "\n",
    "#get all the unique addresses in lower case\n",
    "unique_addresses = parking_df['location2'].str.lower().unique()\n",
    "\n",
    "\n",
    "try:\n",
    "    for address in unique_addresses:\n",
    "        #add city, province and country to address to get an accurate coordinate\n",
    "        address += ', toronto, on, canada'\n",
    "        \n",
    "        #if address isn't in dictionary\n",
    "        if address not in data.keys():\n",
    "            clear_output(wait=True)\n",
    "            print(round(len(data.keys())/parking_df['location2'].nunique()*100, 4), flush=True)\n",
    "            \n",
    "            #add count\n",
    "            count += 1\n",
    "            \n",
    "            #get coordinates from api geocode_address\n",
    "            coord = geocode_address(address)\n",
    "            \n",
    "            #add to dictionary\n",
    "            data[address] = coord\n",
    "            \n",
    "            if count == 100:\n",
    "                #once we save 100 coordinates, write onto json file\n",
    "                with open('address_data.json', 'w') as json_file:\n",
    "                    json.dump(data, json_file)\n",
    "\n",
    "                # Reset the counter\n",
    "                counter = 0\n",
    "                \n",
    "#if I need to stop, dump coordinates from the dict into json              \n",
    "except KeyboardInterrupt:\n",
    "    print(\"Saving the collected data to a JSON file.\")\n",
    "    with open('address_data.json', 'w') as json_file:\n",
    "        json.dump(data, json_file)\n",
    "    raise"
   ]
  },
  {
   "cell_type": "code",
   "execution_count": 1,
   "id": "7c790d55",
   "metadata": {},
   "outputs": [
    {
     "data": {
      "text/plain": [
       "114736"
      ]
     },
     "execution_count": 1,
     "metadata": {},
     "output_type": "execute_result"
    }
   ],
   "source": [
    "import json\n",
    "f = open('address_data.json')\n",
    "data = json.load(f)\n",
    "len(data)"
   ]
  },
  {
   "cell_type": "markdown",
   "id": "cda80316",
   "metadata": {},
   "source": [
    "Now let's apply these coordinates as new columns in the dataframe. "
   ]
  },
  {
   "cell_type": "code",
   "execution_count": null,
   "id": "52389b98",
   "metadata": {},
   "outputs": [],
   "source": []
  },
  {
   "cell_type": "code",
   "execution_count": 21,
   "id": "11c8c8ed",
   "metadata": {},
   "outputs": [
    {
     "data": {
      "text/html": [
       "<div>\n",
       "<style scoped>\n",
       "    .dataframe tbody tr th:only-of-type {\n",
       "        vertical-align: middle;\n",
       "    }\n",
       "\n",
       "    .dataframe tbody tr th {\n",
       "        vertical-align: top;\n",
       "    }\n",
       "\n",
       "    .dataframe thead th {\n",
       "        text-align: right;\n",
       "    }\n",
       "</style>\n",
       "<table border=\"1\" class=\"dataframe\">\n",
       "  <thead>\n",
       "    <tr style=\"text-align: right;\">\n",
       "      <th></th>\n",
       "      <th>date_of_infraction</th>\n",
       "      <th>infraction_code</th>\n",
       "      <th>infraction_description</th>\n",
       "      <th>set_fine_amount</th>\n",
       "      <th>time_of_infraction</th>\n",
       "      <th>location1</th>\n",
       "      <th>location2</th>\n",
       "      <th>location3</th>\n",
       "      <th>location4</th>\n",
       "      <th>province</th>\n",
       "      <th>datetime_of_infraction</th>\n",
       "      <th>latitude</th>\n",
       "      <th>longitude</th>\n",
       "    </tr>\n",
       "  </thead>\n",
       "  <tbody>\n",
       "    <tr>\n",
       "      <th>0</th>\n",
       "      <td>2016-12-30</td>\n",
       "      <td>403.0</td>\n",
       "      <td>STOP-SIGNED HIGHWAY-RUSH HOUR</td>\n",
       "      <td>150</td>\n",
       "      <td>16:37:00</td>\n",
       "      <td>N/S</td>\n",
       "      <td>1546 BLOOR ST W</td>\n",
       "      <td>NaN</td>\n",
       "      <td>NaN</td>\n",
       "      <td>ON</td>\n",
       "      <td>2016-12-30 16:37:00</td>\n",
       "      <td>None</td>\n",
       "      <td>None</td>\n",
       "    </tr>\n",
       "    <tr>\n",
       "      <th>1</th>\n",
       "      <td>2016-12-30</td>\n",
       "      <td>403.0</td>\n",
       "      <td>STOP-SIGNED HIGHWAY-RUSH HOUR</td>\n",
       "      <td>150</td>\n",
       "      <td>16:37:00</td>\n",
       "      <td>N/S</td>\n",
       "      <td>5418 YONGE ST</td>\n",
       "      <td>NaN</td>\n",
       "      <td>NaN</td>\n",
       "      <td>ON</td>\n",
       "      <td>2016-12-30 16:37:00</td>\n",
       "      <td>None</td>\n",
       "      <td>None</td>\n",
       "    </tr>\n",
       "    <tr>\n",
       "      <th>2</th>\n",
       "      <td>2016-12-30</td>\n",
       "      <td>403.0</td>\n",
       "      <td>STOP-SIGNED HIGHWAY-RUSH HOUR</td>\n",
       "      <td>150</td>\n",
       "      <td>16:37:00</td>\n",
       "      <td>OPP</td>\n",
       "      <td>777 QUEEN ST W</td>\n",
       "      <td>NaN</td>\n",
       "      <td>NaN</td>\n",
       "      <td>ON</td>\n",
       "      <td>2016-12-30 16:37:00</td>\n",
       "      <td>None</td>\n",
       "      <td>None</td>\n",
       "    </tr>\n",
       "    <tr>\n",
       "      <th>3</th>\n",
       "      <td>2016-12-30</td>\n",
       "      <td>403.0</td>\n",
       "      <td>STOP-SIGNED HIGHWAY-RUSH HOUR</td>\n",
       "      <td>150</td>\n",
       "      <td>16:37:00</td>\n",
       "      <td>N/S</td>\n",
       "      <td>747 QUEEN ST E</td>\n",
       "      <td>NaN</td>\n",
       "      <td>NaN</td>\n",
       "      <td>ON</td>\n",
       "      <td>2016-12-30 16:37:00</td>\n",
       "      <td>None</td>\n",
       "      <td>None</td>\n",
       "    </tr>\n",
       "    <tr>\n",
       "      <th>4</th>\n",
       "      <td>2016-12-30</td>\n",
       "      <td>403.0</td>\n",
       "      <td>STOP-SIGNED HIGHWAY-RUSH HOUR</td>\n",
       "      <td>150</td>\n",
       "      <td>16:37:00</td>\n",
       "      <td>N/S</td>\n",
       "      <td>3042 DUNDAS ST W</td>\n",
       "      <td>NaN</td>\n",
       "      <td>NaN</td>\n",
       "      <td>ON</td>\n",
       "      <td>2016-12-30 16:37:00</td>\n",
       "      <td>None</td>\n",
       "      <td>None</td>\n",
       "    </tr>\n",
       "  </tbody>\n",
       "</table>\n",
       "</div>"
      ],
      "text/plain": [
       "  date_of_infraction  infraction_code         infraction_description  \\\n",
       "0         2016-12-30            403.0  STOP-SIGNED HIGHWAY-RUSH HOUR   \n",
       "1         2016-12-30            403.0  STOP-SIGNED HIGHWAY-RUSH HOUR   \n",
       "2         2016-12-30            403.0  STOP-SIGNED HIGHWAY-RUSH HOUR   \n",
       "3         2016-12-30            403.0  STOP-SIGNED HIGHWAY-RUSH HOUR   \n",
       "4         2016-12-30            403.0  STOP-SIGNED HIGHWAY-RUSH HOUR   \n",
       "\n",
       "   set_fine_amount time_of_infraction location1         location2 location3  \\\n",
       "0              150           16:37:00       N/S   1546 BLOOR ST W       NaN   \n",
       "1              150           16:37:00       N/S     5418 YONGE ST       NaN   \n",
       "2              150           16:37:00       OPP    777 QUEEN ST W       NaN   \n",
       "3              150           16:37:00       N/S    747 QUEEN ST E       NaN   \n",
       "4              150           16:37:00       N/S  3042 DUNDAS ST W       NaN   \n",
       "\n",
       "  location4 province datetime_of_infraction latitude longitude  \n",
       "0       NaN       ON    2016-12-30 16:37:00     None      None  \n",
       "1       NaN       ON    2016-12-30 16:37:00     None      None  \n",
       "2       NaN       ON    2016-12-30 16:37:00     None      None  \n",
       "3       NaN       ON    2016-12-30 16:37:00     None      None  \n",
       "4       NaN       ON    2016-12-30 16:37:00     None      None  "
      ]
     },
     "execution_count": 21,
     "metadata": {},
     "output_type": "execute_result"
    }
   ],
   "source": [
    "parking_df['latitude'] = None\n",
    "parking_df['longitude'] = None\n",
    "parking_df.head()"
   ]
  },
  {
   "cell_type": "code",
   "execution_count": null,
   "id": "faf8bcad",
   "metadata": {},
   "outputs": [],
   "source": [
    "import json\n",
    "\n",
    "with open('address_data.json', 'r') as json_file:\n",
    "    data = json.load(json_file)\n",
    "\n",
    "# Iterate through unique addresses in parking_df['location2']\n",
    "for address in parking_df['location2'].str.lower().unique():\n",
    "    address += ', toronto, on, canada'\n",
    "    if address in data:    \n",
    "        latitude, longitude = data[address]\n",
    "        row_index = (parking_df['location2'].str.lower() == address)\n",
    "        \n",
    "        parking_df[parking_df.loc[row_index, 'latitude']] = latitude\n",
    "        parking_df[parking_df.loc[row_index, 'longitude']] = longitude\n",
    "        "
   ]
  },
  {
   "cell_type": "code",
   "execution_count": 30,
   "id": "4caaa7fd",
   "metadata": {},
   "outputs": [
    {
     "data": {
      "text/html": [
       "<div>\n",
       "<style scoped>\n",
       "    .dataframe tbody tr th:only-of-type {\n",
       "        vertical-align: middle;\n",
       "    }\n",
       "\n",
       "    .dataframe tbody tr th {\n",
       "        vertical-align: top;\n",
       "    }\n",
       "\n",
       "    .dataframe thead th {\n",
       "        text-align: right;\n",
       "    }\n",
       "</style>\n",
       "<table border=\"1\" class=\"dataframe\">\n",
       "  <thead>\n",
       "    <tr style=\"text-align: right;\">\n",
       "      <th></th>\n",
       "      <th>date_of_infraction</th>\n",
       "      <th>infraction_code</th>\n",
       "      <th>infraction_description</th>\n",
       "      <th>set_fine_amount</th>\n",
       "      <th>time_of_infraction</th>\n",
       "      <th>location1</th>\n",
       "      <th>location2</th>\n",
       "      <th>location3</th>\n",
       "      <th>location4</th>\n",
       "      <th>province</th>\n",
       "      <th>datetime_of_infraction</th>\n",
       "      <th>latitude</th>\n",
       "      <th>longitude</th>\n",
       "    </tr>\n",
       "  </thead>\n",
       "  <tbody>\n",
       "    <tr>\n",
       "      <th>0</th>\n",
       "      <td>2016-12-30</td>\n",
       "      <td>403.0</td>\n",
       "      <td>STOP-SIGNED HIGHWAY-RUSH HOUR</td>\n",
       "      <td>150</td>\n",
       "      <td>16:37:00</td>\n",
       "      <td>N/S</td>\n",
       "      <td>1546 BLOOR ST W</td>\n",
       "      <td>NaN</td>\n",
       "      <td>NaN</td>\n",
       "      <td>ON</td>\n",
       "      <td>2016-12-30 16:37:00</td>\n",
       "      <td>None</td>\n",
       "      <td>None</td>\n",
       "    </tr>\n",
       "    <tr>\n",
       "      <th>1</th>\n",
       "      <td>2016-12-30</td>\n",
       "      <td>403.0</td>\n",
       "      <td>STOP-SIGNED HIGHWAY-RUSH HOUR</td>\n",
       "      <td>150</td>\n",
       "      <td>16:37:00</td>\n",
       "      <td>N/S</td>\n",
       "      <td>5418 YONGE ST</td>\n",
       "      <td>NaN</td>\n",
       "      <td>NaN</td>\n",
       "      <td>ON</td>\n",
       "      <td>2016-12-30 16:37:00</td>\n",
       "      <td>None</td>\n",
       "      <td>None</td>\n",
       "    </tr>\n",
       "    <tr>\n",
       "      <th>2</th>\n",
       "      <td>2016-12-30</td>\n",
       "      <td>403.0</td>\n",
       "      <td>STOP-SIGNED HIGHWAY-RUSH HOUR</td>\n",
       "      <td>150</td>\n",
       "      <td>16:37:00</td>\n",
       "      <td>OPP</td>\n",
       "      <td>777 QUEEN ST W</td>\n",
       "      <td>NaN</td>\n",
       "      <td>NaN</td>\n",
       "      <td>ON</td>\n",
       "      <td>2016-12-30 16:37:00</td>\n",
       "      <td>None</td>\n",
       "      <td>None</td>\n",
       "    </tr>\n",
       "    <tr>\n",
       "      <th>3</th>\n",
       "      <td>2016-12-30</td>\n",
       "      <td>403.0</td>\n",
       "      <td>STOP-SIGNED HIGHWAY-RUSH HOUR</td>\n",
       "      <td>150</td>\n",
       "      <td>16:37:00</td>\n",
       "      <td>N/S</td>\n",
       "      <td>747 QUEEN ST E</td>\n",
       "      <td>NaN</td>\n",
       "      <td>NaN</td>\n",
       "      <td>ON</td>\n",
       "      <td>2016-12-30 16:37:00</td>\n",
       "      <td>None</td>\n",
       "      <td>None</td>\n",
       "    </tr>\n",
       "    <tr>\n",
       "      <th>4</th>\n",
       "      <td>2016-12-30</td>\n",
       "      <td>403.0</td>\n",
       "      <td>STOP-SIGNED HIGHWAY-RUSH HOUR</td>\n",
       "      <td>150</td>\n",
       "      <td>16:37:00</td>\n",
       "      <td>N/S</td>\n",
       "      <td>3042 DUNDAS ST W</td>\n",
       "      <td>NaN</td>\n",
       "      <td>NaN</td>\n",
       "      <td>ON</td>\n",
       "      <td>2016-12-30 16:37:00</td>\n",
       "      <td>None</td>\n",
       "      <td>None</td>\n",
       "    </tr>\n",
       "  </tbody>\n",
       "</table>\n",
       "</div>"
      ],
      "text/plain": [
       "  date_of_infraction  infraction_code         infraction_description  \\\n",
       "0         2016-12-30            403.0  STOP-SIGNED HIGHWAY-RUSH HOUR   \n",
       "1         2016-12-30            403.0  STOP-SIGNED HIGHWAY-RUSH HOUR   \n",
       "2         2016-12-30            403.0  STOP-SIGNED HIGHWAY-RUSH HOUR   \n",
       "3         2016-12-30            403.0  STOP-SIGNED HIGHWAY-RUSH HOUR   \n",
       "4         2016-12-30            403.0  STOP-SIGNED HIGHWAY-RUSH HOUR   \n",
       "\n",
       "   set_fine_amount time_of_infraction location1         location2 location3  \\\n",
       "0              150           16:37:00       N/S   1546 BLOOR ST W       NaN   \n",
       "1              150           16:37:00       N/S     5418 YONGE ST       NaN   \n",
       "2              150           16:37:00       OPP    777 QUEEN ST W       NaN   \n",
       "3              150           16:37:00       N/S    747 QUEEN ST E       NaN   \n",
       "4              150           16:37:00       N/S  3042 DUNDAS ST W       NaN   \n",
       "\n",
       "  location4 province datetime_of_infraction latitude longitude  \n",
       "0       NaN       ON    2016-12-30 16:37:00     None      None  \n",
       "1       NaN       ON    2016-12-30 16:37:00     None      None  \n",
       "2       NaN       ON    2016-12-30 16:37:00     None      None  \n",
       "3       NaN       ON    2016-12-30 16:37:00     None      None  \n",
       "4       NaN       ON    2016-12-30 16:37:00     None      None  "
      ]
     },
     "execution_count": 30,
     "metadata": {},
     "output_type": "execute_result"
    }
   ],
   "source": [
    "parking_df.head()"
   ]
  },
  {
   "cell_type": "markdown",
   "id": "1b9370f4",
   "metadata": {},
   "source": [
    "### Clustering Parking Infractions"
   ]
  },
  {
   "cell_type": "code",
   "execution_count": 32,
   "id": "5986323d",
   "metadata": {},
   "outputs": [
    {
     "data": {
      "text/plain": [
       "infraction_description\n",
       "PARK ON PRIVATE PROPERTY          2618813\n",
       "PARK-SIGNED HWY-PROHIBIT DY/TM    2114718\n",
       "PARK PROHIBITED TIME NO PERMIT    1861152\n",
       "PARK MACHINE-REQD FEE NOT PAID    1582572\n",
       "STOP-SIGNED HWY-PROHIBIT TM/DY     694447\n",
       "PARK - LONGER THAN 3 HOURS         613687\n",
       "STAND VEH.-PROHIBIT TIME/DAY       467929\n",
       "PARK-VEH. W/O VALID ONT PLATE      363369\n",
       "PARK-SIGNED HWY-EXC PERMT TIME     359185\n",
       "STOP-SIGNED HIGHWAY-RUSH HOUR      344968\n",
       "Name: count, dtype: int64"
      ]
     },
     "execution_count": 32,
     "metadata": {},
     "output_type": "execute_result"
    }
   ],
   "source": [
    "parking_df['infraction_description'].value_counts().head(10)"
   ]
  },
  {
   "cell_type": "code",
   "execution_count": 28,
   "id": "a4a3ecf0",
   "metadata": {},
   "outputs": [],
   "source": [
    "infraction_unique = parking_df['infraction_description'].unique().astype(object)"
   ]
  },
  {
   "cell_type": "code",
   "execution_count": 30,
   "id": "d1415e93",
   "metadata": {},
   "outputs": [
    {
     "data": {
      "text/plain": [
       "<13353939x321 sparse matrix of type '<class 'numpy.int64'>'\n",
       "\twith 59262194 stored elements in Compressed Sparse Row format>"
      ]
     },
     "execution_count": 30,
     "metadata": {},
     "output_type": "execute_result"
    }
   ],
   "source": [
    "from sklearn.feature_extraction.text import CountVectorizer\n",
    "\n",
    "#Tokenizing these reviews\n",
    "parking_df[\"infraction_description\"].str.split(' ')\n",
    "\n",
    "\n",
    "# instantiate\n",
    "bagofwords = CountVectorizer(stop_words=\"english\")\n",
    "\n",
    "# fit\n",
    "bagofwords.fit(parking_df[\"infraction_description\"])\n",
    "\n",
    "# transform\n",
    "parking_df_transformed = bagofwords.transform(parking_df[\"infraction_description\"])\n",
    "parking_df_transformed"
   ]
  },
  {
   "cell_type": "code",
   "execution_count": 31,
   "id": "ecee705a",
   "metadata": {},
   "outputs": [
    {
     "data": {
      "text/plain": [
       "array(['0m', '15m', '18', '1h', '20', '24hr', '2am', '30', '30cm', '3h',\n",
       "       '3m', '45', '45deg', '5m', '60', '60deg', '6am', '6m', '7days',\n",
       "       '9m', 'acc', 'accessible', 'activ', 'activate', 'adjacent',\n",
       "       'alongside', 'angle', 'approach', 'area', 'avenue', 'basin',\n",
       "       'bcycl', 'bef', 'bicycle', 'bld', 'bldg', 'block', 'boul',\n",
       "       'boulevard', 'boulevd', 'bridge', 'bst', 'bstp', 'bus', 'bycl',\n",
       "       'car', 'card', 'centre', 'chg', 'clse', 'cm', 'cntre', 'commerc',\n",
       "       'commercial', 'condition', 'conn', 'connect', 'connected', 'cons',\n",
       "       'consen', 'consent', 'cont', 'contr', 'contrary', 'crb', 'cross',\n",
       "       'crosswalk', 'crsswlk', 'curb', 'cycle', 'day', 'days', 'dead',\n",
       "       'dec1', 'deg', 'dep', 'deposit', 'desig', 'designate',\n",
       "       'designated', 'display', 'displayed', 'door', 'driveway', 'drng',\n",
       "       'drop', 'drp', 'drway', 'dy', 'elec', 'elect', 'electric',\n",
       "       'elevated', 'encl', 'end', 'enter', 'entry', 'ev', 'exc', 'excav',\n",
       "       'exceeds', 'excess', 'exit', 'expired', 'fail', 'far', 'farnham',\n",
       "       'fee', 'footpath', 'fr', 'freight', 'frnt', 'ftpath', 'funeral',\n",
       "       'grease', 'gt', 'hall', 'hand', 'handicap', 'hdcpd', 'heavy',\n",
       "       'highway', 'hire', 'hour', 'hours', 'hr', 'hwy', 'hydrant', 'ing',\n",
       "       'interf', 'intersct', 'intersctn', 'intersect', 'intersecting',\n",
       "       'intersectn', 'inv', 'issued', 'lane', 'laneway', 'lanewy', 'ld',\n",
       "       'ldg', 'ldzn', 'leave', 'left', 'lft', 'limit', 'ln', 'lngr',\n",
       "       'load', 'loading', 'loc', 'longer', 'lt', 'mach', 'machine',\n",
       "       'mailbox', 'mar31', 'maximum', 'mchine', 'mchne', 'meter',\n",
       "       'metered', 'mid', 'middle', 'min', 'motorcycle', 'mtr', 'mtrcyc',\n",
       "       'mtrcycle', 'mtrd', 'mun', 'municipal', 'mutual', 'near',\n",
       "       'nofeepd', 'non', 'north', 'obs', 'obstr', 'obstruct', 'onstrt',\n",
       "       'ont', 'opp', 'otr', 'otsdmtrd', 'outside', 'overnight', 'paid',\n",
       "       'par', 'para', 'paral', 'parall', 'parallel', 'park', 'parked',\n",
       "       'parking', 'passenger', 'path', 'pd', 'ped', 'pedestrian',\n",
       "       'period', 'perm', 'permit', 'permitd', 'permitted', 'permt', 'pk',\n",
       "       'plate', 'plates', 'posted', 'pr', 'prevent', 'priv', 'private',\n",
       "       'prk', 'prmt', 'pro', 'process', 'proh', 'prohib', 'prohibit',\n",
       "       'prohibited', 'prop', 'property', 'psgr', 'pst', 'public',\n",
       "       'railway', 'ramp', 'rd', 'rdsde', 'rec', 'receipt', 'removal',\n",
       "       'repair', 'reqd', 'res', 'resrvd', 'rght', 'rig', 'right', 'road',\n",
       "       'roadside', 'roadway', 'route', 'rt', 'rush', 'safety', 'sale',\n",
       "       'schl', 'school', 'share', 'shr', 'sidewalk', 'sidewk', 'sign',\n",
       "       'signal', 'signalized', 'signed', 'site', 'sm', 'snow', 'sp',\n",
       "       'space', 'spaces', 'spc', 'spce', 'st', 'stand', 'stcar', 'std',\n",
       "       'step', 'stn', 'stnd', 'stop', 'stopped', 'stp', 'street', 'strip',\n",
       "       'strtcar', 'structure', 'taxi', 'taxicab', 'thn', 'time', 'times',\n",
       "       'tires', 'tm', 'transit', 'trck', 'trk', 'truck', 'tunnel',\n",
       "       'turning', 'unattended', 'unauth', 'underpass', 'unld', 'unpd',\n",
       "       'used', 'valid', 've', 'veh', 'vehicle', 'vend', 'waitl', 'walk',\n",
       "       'wall', 'wash', 'way', 'whls', 'window', 'wood', 'xwalk', 'yard',\n",
       "       'york', 'zn', 'zne', 'zone'], dtype=object)"
      ]
     },
     "execution_count": 31,
     "metadata": {},
     "output_type": "execute_result"
    }
   ],
   "source": [
    "bagofwords.get_feature_names_out()"
   ]
  },
  {
   "cell_type": "code",
   "execution_count": null,
   "id": "6e17b838",
   "metadata": {},
   "outputs": [],
   "source": []
  }
 ],
 "metadata": {
  "kernelspec": {
   "display_name": "Python 3 (ipykernel)",
   "language": "python",
   "name": "python3"
  },
  "language_info": {
   "codemirror_mode": {
    "name": "ipython",
    "version": 3
   },
   "file_extension": ".py",
   "mimetype": "text/x-python",
   "name": "python",
   "nbconvert_exporter": "python",
   "pygments_lexer": "ipython3",
   "version": "3.11.8"
  }
 },
 "nbformat": 4,
 "nbformat_minor": 5
}
