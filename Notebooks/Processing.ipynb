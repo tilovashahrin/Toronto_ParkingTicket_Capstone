{
 "cells": [
  {
   "cell_type": "markdown",
   "id": "4d253f8c",
   "metadata": {},
   "source": [
    "# Processing\n",
    "\n",
    "## Author: Tilova Shahrin"
   ]
  },
  {
   "cell_type": "markdown",
   "id": "6504735c",
   "metadata": {},
   "source": [
    "Table of Contents:\n",
    "\n",
    "- [Coordinates API using Geopy](#geoapi)"
   ]
  },
  {
   "cell_type": "code",
   "execution_count": 1,
   "id": "e28ce1d4",
   "metadata": {},
   "outputs": [],
   "source": [
    "import numpy as np\n",
    "import pandas as pd\n",
    "import matplotlib.pyplot as plt\n",
    "%matplotlib inline\n",
    "import statsmodels.api as sm\n",
    "from scipy import stats\n",
    "import seaborn as sns\n",
    "import os\n",
    "import glob\n",
    "import datetime\n",
    "from geopy.geocoders import Nominatim\n",
    "import time"
   ]
  },
  {
   "cell_type": "markdown",
   "id": "c3e380a7",
   "metadata": {},
   "source": [
    "Recall we downloaded a new csv file from our cleaning in the last file `Cleaning and EDA`. Let's upload the file into a dataframe."
   ]
  },
  {
   "cell_type": "code",
   "execution_count": 2,
   "id": "262afd12",
   "metadata": {},
   "outputs": [],
   "source": [
    "parking_df = pd.read_csv('../data/parking_df.csv')"
   ]
  },
  {
   "cell_type": "code",
   "execution_count": 3,
   "id": "06db131b",
   "metadata": {},
   "outputs": [
    {
     "data": {
      "text/html": [
       "<div>\n",
       "<style scoped>\n",
       "    .dataframe tbody tr th:only-of-type {\n",
       "        vertical-align: middle;\n",
       "    }\n",
       "\n",
       "    .dataframe tbody tr th {\n",
       "        vertical-align: top;\n",
       "    }\n",
       "\n",
       "    .dataframe thead th {\n",
       "        text-align: right;\n",
       "    }\n",
       "</style>\n",
       "<table border=\"1\" class=\"dataframe\">\n",
       "  <thead>\n",
       "    <tr style=\"text-align: right;\">\n",
       "      <th></th>\n",
       "      <th>date_of_infraction</th>\n",
       "      <th>infraction_code</th>\n",
       "      <th>infraction_description</th>\n",
       "      <th>set_fine_amount</th>\n",
       "      <th>time_of_infraction</th>\n",
       "      <th>location1</th>\n",
       "      <th>location2</th>\n",
       "      <th>location3</th>\n",
       "      <th>location4</th>\n",
       "      <th>province</th>\n",
       "      <th>datetime_of_infraction</th>\n",
       "    </tr>\n",
       "  </thead>\n",
       "  <tbody>\n",
       "    <tr>\n",
       "      <th>0</th>\n",
       "      <td>2016-12-30</td>\n",
       "      <td>403.0</td>\n",
       "      <td>STOP-SIGNED HIGHWAY-RUSH HOUR</td>\n",
       "      <td>150</td>\n",
       "      <td>16:37:00</td>\n",
       "      <td>N/S</td>\n",
       "      <td>1546 BLOOR ST W</td>\n",
       "      <td>NaN</td>\n",
       "      <td>NaN</td>\n",
       "      <td>ON</td>\n",
       "      <td>2016-12-30 16:37:00</td>\n",
       "    </tr>\n",
       "    <tr>\n",
       "      <th>1</th>\n",
       "      <td>2016-12-30</td>\n",
       "      <td>403.0</td>\n",
       "      <td>STOP-SIGNED HIGHWAY-RUSH HOUR</td>\n",
       "      <td>150</td>\n",
       "      <td>16:37:00</td>\n",
       "      <td>N/S</td>\n",
       "      <td>5418 YONGE ST</td>\n",
       "      <td>NaN</td>\n",
       "      <td>NaN</td>\n",
       "      <td>ON</td>\n",
       "      <td>2016-12-30 16:37:00</td>\n",
       "    </tr>\n",
       "    <tr>\n",
       "      <th>2</th>\n",
       "      <td>2016-12-30</td>\n",
       "      <td>403.0</td>\n",
       "      <td>STOP-SIGNED HIGHWAY-RUSH HOUR</td>\n",
       "      <td>150</td>\n",
       "      <td>16:37:00</td>\n",
       "      <td>OPP</td>\n",
       "      <td>777 QUEEN ST W</td>\n",
       "      <td>NaN</td>\n",
       "      <td>NaN</td>\n",
       "      <td>ON</td>\n",
       "      <td>2016-12-30 16:37:00</td>\n",
       "    </tr>\n",
       "    <tr>\n",
       "      <th>3</th>\n",
       "      <td>2016-12-30</td>\n",
       "      <td>403.0</td>\n",
       "      <td>STOP-SIGNED HIGHWAY-RUSH HOUR</td>\n",
       "      <td>150</td>\n",
       "      <td>16:37:00</td>\n",
       "      <td>N/S</td>\n",
       "      <td>747 QUEEN ST E</td>\n",
       "      <td>NaN</td>\n",
       "      <td>NaN</td>\n",
       "      <td>ON</td>\n",
       "      <td>2016-12-30 16:37:00</td>\n",
       "    </tr>\n",
       "    <tr>\n",
       "      <th>4</th>\n",
       "      <td>2016-12-30</td>\n",
       "      <td>403.0</td>\n",
       "      <td>STOP-SIGNED HIGHWAY-RUSH HOUR</td>\n",
       "      <td>150</td>\n",
       "      <td>16:37:00</td>\n",
       "      <td>N/S</td>\n",
       "      <td>3042 DUNDAS ST W</td>\n",
       "      <td>NaN</td>\n",
       "      <td>NaN</td>\n",
       "      <td>ON</td>\n",
       "      <td>2016-12-30 16:37:00</td>\n",
       "    </tr>\n",
       "  </tbody>\n",
       "</table>\n",
       "</div>"
      ],
      "text/plain": [
       "  date_of_infraction  infraction_code         infraction_description  \\\n",
       "0         2016-12-30            403.0  STOP-SIGNED HIGHWAY-RUSH HOUR   \n",
       "1         2016-12-30            403.0  STOP-SIGNED HIGHWAY-RUSH HOUR   \n",
       "2         2016-12-30            403.0  STOP-SIGNED HIGHWAY-RUSH HOUR   \n",
       "3         2016-12-30            403.0  STOP-SIGNED HIGHWAY-RUSH HOUR   \n",
       "4         2016-12-30            403.0  STOP-SIGNED HIGHWAY-RUSH HOUR   \n",
       "\n",
       "   set_fine_amount time_of_infraction location1         location2 location3  \\\n",
       "0              150           16:37:00       N/S   1546 BLOOR ST W       NaN   \n",
       "1              150           16:37:00       N/S     5418 YONGE ST       NaN   \n",
       "2              150           16:37:00       OPP    777 QUEEN ST W       NaN   \n",
       "3              150           16:37:00       N/S    747 QUEEN ST E       NaN   \n",
       "4              150           16:37:00       N/S  3042 DUNDAS ST W       NaN   \n",
       "\n",
       "  location4 province datetime_of_infraction  \n",
       "0       NaN       ON    2016-12-30 16:37:00  \n",
       "1       NaN       ON    2016-12-30 16:37:00  \n",
       "2       NaN       ON    2016-12-30 16:37:00  \n",
       "3       NaN       ON    2016-12-30 16:37:00  \n",
       "4       NaN       ON    2016-12-30 16:37:00  "
      ]
     },
     "execution_count": 3,
     "metadata": {},
     "output_type": "execute_result"
    }
   ],
   "source": [
    "parking_df.head()"
   ]
  },
  {
   "cell_type": "code",
   "execution_count": 4,
   "id": "33a3a801",
   "metadata": {},
   "outputs": [
    {
     "name": "stdout",
     "output_type": "stream",
     "text": [
      "<class 'pandas.core.frame.DataFrame'>\n",
      "RangeIndex: 13353939 entries, 0 to 13353938\n",
      "Data columns (total 11 columns):\n",
      " #   Column                  Dtype  \n",
      "---  ------                  -----  \n",
      " 0   date_of_infraction      object \n",
      " 1   infraction_code         float64\n",
      " 2   infraction_description  object \n",
      " 3   set_fine_amount         int64  \n",
      " 4   time_of_infraction      object \n",
      " 5   location1               object \n",
      " 6   location2               object \n",
      " 7   location3               object \n",
      " 8   location4               object \n",
      " 9   province                object \n",
      " 10  datetime_of_infraction  object \n",
      "dtypes: float64(1), int64(1), object(9)\n",
      "memory usage: 1.1+ GB\n"
     ]
    }
   ],
   "source": [
    "parking_df.info()"
   ]
  },
  {
   "cell_type": "code",
   "execution_count": 5,
   "id": "c4eb0007",
   "metadata": {},
   "outputs": [
    {
     "data": {
      "text/plain": [
       "date_of_infraction               0\n",
       "infraction_code                  2\n",
       "infraction_description           0\n",
       "set_fine_amount                  0\n",
       "time_of_infraction               0\n",
       "location1                        0\n",
       "location2                        0\n",
       "location3                 12376426\n",
       "location4                 12374286\n",
       "province                         3\n",
       "datetime_of_infraction           0\n",
       "dtype: int64"
      ]
     },
     "execution_count": 5,
     "metadata": {},
     "output_type": "execute_result"
    }
   ],
   "source": [
    "parking_df.isna().sum()"
   ]
  },
  {
   "cell_type": "code",
   "execution_count": null,
   "id": "7c29b5b1",
   "metadata": {},
   "outputs": [],
   "source": [
    "parking_df.duplicated().sum()"
   ]
  },
  {
   "cell_type": "markdown",
   "id": "b474b6f9",
   "metadata": {},
   "source": [
    "<a id='geoapi'></a>\n",
    "## Geocoders  API\n",
    "\n",
    "I want to find a way to produce geospatial analysis for my machine learning models. With that, I need geo coordinates `latitude` and `longitude`. "
   ]
  },
  {
   "cell_type": "markdown",
   "id": "29d4f974",
   "metadata": {},
   "source": [
    "We're going to use this code snippet to change address to a coordinate. However, we need to run this geolocator a lot of times.  "
   ]
  },
  {
   "cell_type": "code",
   "execution_count": 6,
   "id": "ee2e39c0",
   "metadata": {},
   "outputs": [
    {
     "name": "stdout",
     "output_type": "stream",
     "text": [
      "Edward Street, Discovery District, University—Rosedale, Old Toronto, Toronto, Golden Horseshoe, Ontario, M5B 1R7, Canada\n",
      "(43.6566007, -79.3831637)\n"
     ]
    }
   ],
   "source": [
    "import pandas as pd\n",
    "from geopy.geocoders import Nominatim\n",
    "\n",
    "geolocator = Nominatim(user_agent=\"toronto-parking-application\")\n",
    "location = geolocator.geocode(\"Edward St Toronto ON Canada\")\n",
    "print(location.address)\n",
    "print((location.latitude, location.longitude))"
   ]
  },
  {
   "cell_type": "markdown",
   "id": "73810981",
   "metadata": {},
   "source": [
    "Recall the shape. That is a lot of rows to process, about 13 million, even after cleaning this is going to take a while. We need to find a way to reduce the amount of API calls!"
   ]
  },
  {
   "cell_type": "code",
   "execution_count": 7,
   "id": "2fdd5531",
   "metadata": {},
   "outputs": [
    {
     "data": {
      "text/plain": [
       "(13353939, 11)"
      ]
     },
     "execution_count": 7,
     "metadata": {},
     "output_type": "execute_result"
    }
   ],
   "source": [
    "parking_df.shape"
   ]
  },
  {
   "cell_type": "markdown",
   "id": "8da013e7",
   "metadata": {},
   "source": [
    "Let's get the unique values of the addresses, and apply those addresses onto any duplicate addresses. Recall the addresses with the most tickets. Some have about 30 thousand tickets. To reduce, we get the unique value, add to dictionary and find a way to use that same address after getting the coordinate. "
   ]
  },
  {
   "cell_type": "code",
   "execution_count": 8,
   "id": "1096af3b",
   "metadata": {},
   "outputs": [
    {
     "data": {
      "text/plain": [
       "482566"
      ]
     },
     "execution_count": 8,
     "metadata": {},
     "output_type": "execute_result"
    }
   ],
   "source": [
    "parking_df['location2'].nunique()"
   ]
  },
  {
   "cell_type": "markdown",
   "id": "d76fccfd",
   "metadata": {},
   "source": [
    "About 400k unique values. That is a lot less than the number of rows. We can use these addresses and process them onto the API. "
   ]
  },
  {
   "cell_type": "code",
   "execution_count": 9,
   "id": "28021859",
   "metadata": {},
   "outputs": [
    {
     "data": {
      "text/plain": [
       "array(['1546 BLOOR ST W', '5418 YONGE ST', '777 QUEEN ST W', ...,\n",
       "       '28 LAMBERTON BLVD', '30151 GLENDALE AVE', '576 FORMAN AVE'],\n",
       "      dtype=object)"
      ]
     },
     "execution_count": 9,
     "metadata": {},
     "output_type": "execute_result"
    }
   ],
   "source": [
    "parking_df['location2'].unique()"
   ]
  },
  {
   "cell_type": "code",
   "execution_count": 10,
   "id": "2376778e",
   "metadata": {},
   "outputs": [],
   "source": [
    "def geocode_address(address):\n",
    "    geolocator = Nominatim(user_agent=\"toronto-parking-application\")\n",
    "    location = geolocator.geocode(address, timeout=10)\n",
    "    if location:\n",
    "        return location.latitude, location.longitude\n",
    "    else:\n",
    "        return None, None"
   ]
  },
  {
   "cell_type": "markdown",
   "id": "eb25476e",
   "metadata": {},
   "source": [
    "Let's apply the code snippet from before to get the coordinates of these unique values. "
   ]
  },
  {
   "cell_type": "code",
   "execution_count": null,
   "id": "4cace0d1",
   "metadata": {},
   "outputs": [
    {
     "name": "stdout",
     "output_type": "stream",
     "text": [
      "2.0725\n"
     ]
    }
   ],
   "source": [
    "import json\n",
    "from IPython.display import clear_output\n",
    "\n",
    "#opens existing json file\n",
    "f = open('address_data.json')\n",
    "data = json.load(f)\n",
    "f.close()\n",
    "\n",
    "#initialize count\n",
    "count = 0\n",
    "\n",
    "#get all the unique addresses in lower case\n",
    "unique_addresses = parking_df['location2'].str.lower().unique()\n",
    "\n",
    "\n",
    "try:\n",
    "    for address in unique_addresses:\n",
    "        #add city, province and country to address to get an accurate coordinate\n",
    "        address += ', toronto, on, canada'\n",
    "        \n",
    "        #if address isn't in dictionary\n",
    "        if address not in data.keys():\n",
    "            clear_output(wait=True)\n",
    "            print(round(len(data.keys())/parking_df['location2'].nunique()*100, 4), flush=True)\n",
    "            \n",
    "            #add count\n",
    "            count += 1\n",
    "            \n",
    "            #get coordinates from api geocode_address\n",
    "            coord = geocode_address(address)\n",
    "            \n",
    "            #add to dictionary\n",
    "            data[address] = coord\n",
    "            \n",
    "            if count == 100:\n",
    "                #once we save 100 coordinates, write onto json file\n",
    "                with open('address_data.json', 'w') as json_file:\n",
    "                    json.dump(data, json_file)\n",
    "\n",
    "                # Reset the counter\n",
    "                counter = 0\n",
    "                \n",
    "#if I need to stop, dump coordinates from the dict into json              \n",
    "except KeyboardInterrupt:\n",
    "    print(\"Saving the collected data to a JSON file.\")\n",
    "    with open('address_data.json', 'w') as json_file:\n",
    "        json.dump(data, json_file)\n",
    "    raise"
   ]
  },
  {
   "cell_type": "code",
   "execution_count": 10,
   "id": "c2d3e399",
   "metadata": {},
   "outputs": [],
   "source": [
    "f = open('address_data.json')\n",
    "data = json.load(f)\n",
    "len(data.keys())"
   ]
  },
  {
   "cell_type": "markdown",
   "id": "3c3318b9",
   "metadata": {},
   "source": [
    "### Clustering Parking Infractions"
   ]
  },
  {
   "cell_type": "code",
   "execution_count": null,
   "id": "451014f8",
   "metadata": {},
   "outputs": [],
   "source": [
    "parking_df['infraction_description'].value_counts().head(5)"
   ]
  },
  {
   "cell_type": "code",
   "execution_count": null,
   "id": "9f38a919",
   "metadata": {},
   "outputs": [],
   "source": [
    "from sklearn.feature_extraction.text import CountVectorizer\n",
    "\n",
    "#Tokenizing these reviews\n",
    "parking_df[\"infraction_description\"].str.split(' ')\n",
    "\n",
    "\n",
    "# instantiate\n",
    "bagofwords = CountVectorizer(stop_words=\"english\")\n",
    "\n",
    "# fit\n",
    "bagofwords.fit(parking_df[\"infraction_description\"])\n",
    "\n",
    "# transform\n",
    "parking_df_transformed = bagofwords.transform(parking_df[\"infraction_description\"])\n",
    "parking_df_transformed"
   ]
  },
  {
   "cell_type": "code",
   "execution_count": null,
   "id": "f152e791",
   "metadata": {},
   "outputs": [],
   "source": [
    "bagofwords.get_feature_names_out()"
   ]
  },
  {
   "cell_type": "code",
   "execution_count": null,
   "id": "c29d1835",
   "metadata": {},
   "outputs": [],
   "source": []
  },
  {
   "cell_type": "code",
   "execution_count": null,
   "id": "eb58ae57",
   "metadata": {},
   "outputs": [],
   "source": []
  }
 ],
 "metadata": {
  "kernelspec": {
   "display_name": "Python 3 (ipykernel)",
   "language": "python",
   "name": "python3"
  },
  "language_info": {
   "codemirror_mode": {
    "name": "ipython",
    "version": 3
   },
   "file_extension": ".py",
   "mimetype": "text/x-python",
   "name": "python",
   "nbconvert_exporter": "python",
   "pygments_lexer": "ipython3",
   "version": "3.11.8"
  }
 },
 "nbformat": 4,
 "nbformat_minor": 5
}
