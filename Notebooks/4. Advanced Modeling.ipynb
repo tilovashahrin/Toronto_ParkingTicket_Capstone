{
 "cells": [
  {
   "cell_type": "markdown",
   "id": "4f35177e-b7a0-422f-96ca-37ef2d5f208a",
   "metadata": {},
   "source": [
    "## Advanced Modeling\n",
    "\n",
    "### Author: Tilova Shahrin"
   ]
  },
  {
   "cell_type": "markdown",
   "id": "044b358c-b152-49b9-b4a4-33a89033b67d",
   "metadata": {},
   "source": [
    "- [Reading Dataframe](#df)\n",
    "- [Test and Train Split](#split)\n",
    "- [Logreg Scoring](#logreg)\n",
    "- [Multi-Output Classifier](#multi)\n",
    "- [Multi-Output Classifier With Different Weights](#multiweights)\n",
    "- [Randomized Search CV](#search)\n",
    "- [Prediction Report](#pred)\n",
    "- [References](#ref)"
   ]
  },
  {
   "cell_type": "code",
   "execution_count": 1,
   "id": "e4b93945-c6f6-4a52-a89e-b2229bd68897",
   "metadata": {},
   "outputs": [],
   "source": [
    "import numpy as np\n",
    "import pandas as pd\n",
    "import matplotlib.pyplot as plt\n",
    "%matplotlib inline\n",
    "import seaborn as sns\n",
    "import statsmodels.api as sm\n",
    "\n",
    "from sklearn.model_selection import train_test_split\n",
    "from sklearn.linear_model import LinearRegression\n",
    "from sklearn.metrics import mean_squared_error\n",
    "from sklearn.preprocessing import StandardScaler\n",
    "from sklearn.linear_model import LogisticRegression\n",
    "from sklearn.metrics import classification_report\n",
    "from sklearn.multioutput import MultiOutputClassifier\n",
    "from sklearn.ensemble import RandomForestClassifier\n",
    "from sklearn.metrics import accuracy_score\n",
    "from sklearn.model_selection import GridSearchCV"
   ]
  },
  {
   "cell_type": "code",
   "execution_count": 2,
   "id": "1dd8849c-d284-40d3-9522-e4f6f327e5df",
   "metadata": {},
   "outputs": [],
   "source": [
    "import warnings\n",
    "warnings.filterwarnings('ignore')"
   ]
  },
  {
   "cell_type": "markdown",
   "id": "23395f88-b3c9-41ea-9780-58b930c813f9",
   "metadata": {},
   "source": [
    "<a id='df'><a/>\n",
    "### Reading Dataframe"
   ]
  },
  {
   "cell_type": "code",
   "execution_count": 3,
   "id": "6bec9fb6-18d0-4561-9766-c86ba0427830",
   "metadata": {},
   "outputs": [],
   "source": [
    "parking_df = pd.read_csv('../data/parking_df.csv')"
   ]
  },
  {
   "cell_type": "code",
   "execution_count": 55,
   "id": "9c4b6a7a-0f8a-472e-95d7-74094c954daa",
   "metadata": {},
   "outputs": [
    {
     "data": {
      "text/html": [
       "<div>\n",
       "<style scoped>\n",
       "    .dataframe tbody tr th:only-of-type {\n",
       "        vertical-align: middle;\n",
       "    }\n",
       "\n",
       "    .dataframe tbody tr th {\n",
       "        vertical-align: top;\n",
       "    }\n",
       "\n",
       "    .dataframe thead th {\n",
       "        text-align: right;\n",
       "    }\n",
       "</style>\n",
       "<table border=\"1\" class=\"dataframe\">\n",
       "  <thead>\n",
       "    <tr style=\"text-align: right;\">\n",
       "      <th></th>\n",
       "      <th>datetime_of_infraction</th>\n",
       "      <th>time_of_infraction</th>\n",
       "      <th>year</th>\n",
       "      <th>month</th>\n",
       "      <th>day</th>\n",
       "      <th>infraction_code</th>\n",
       "      <th>infraction_description</th>\n",
       "      <th>set_fine_amount</th>\n",
       "      <th>location2</th>\n",
       "      <th>province</th>\n",
       "      <th>...</th>\n",
       "      <th>longitude</th>\n",
       "      <th>permit_time_restrictions</th>\n",
       "      <th>fee_related</th>\n",
       "      <th>time_related</th>\n",
       "      <th>plate_related</th>\n",
       "      <th>fire_route</th>\n",
       "      <th>accessible_related</th>\n",
       "      <th>commercial_related</th>\n",
       "      <th>obstruction_related</th>\n",
       "      <th>cycle_related</th>\n",
       "    </tr>\n",
       "  </thead>\n",
       "  <tbody>\n",
       "    <tr>\n",
       "      <th>0</th>\n",
       "      <td>2016-12-30 16:37:00</td>\n",
       "      <td>16:37:00</td>\n",
       "      <td>2016</td>\n",
       "      <td>12</td>\n",
       "      <td>30</td>\n",
       "      <td>403.0</td>\n",
       "      <td>STOP-SIGNED HIGHWAY-RUSH HOUR</td>\n",
       "      <td>150</td>\n",
       "      <td>1546 BLOOR ST W, TORONTO, ON, CANADA</td>\n",
       "      <td>ON</td>\n",
       "      <td>...</td>\n",
       "      <td>-79.453142</td>\n",
       "      <td>0</td>\n",
       "      <td>0</td>\n",
       "      <td>1</td>\n",
       "      <td>0</td>\n",
       "      <td>0</td>\n",
       "      <td>0</td>\n",
       "      <td>0</td>\n",
       "      <td>0</td>\n",
       "      <td>0</td>\n",
       "    </tr>\n",
       "    <tr>\n",
       "      <th>1</th>\n",
       "      <td>2016-12-30 16:37:00</td>\n",
       "      <td>16:37:00</td>\n",
       "      <td>2016</td>\n",
       "      <td>12</td>\n",
       "      <td>30</td>\n",
       "      <td>403.0</td>\n",
       "      <td>STOP-SIGNED HIGHWAY-RUSH HOUR</td>\n",
       "      <td>150</td>\n",
       "      <td>5418 YONGE ST, TORONTO, ON, CANADA</td>\n",
       "      <td>ON</td>\n",
       "      <td>...</td>\n",
       "      <td>-79.414671</td>\n",
       "      <td>0</td>\n",
       "      <td>0</td>\n",
       "      <td>1</td>\n",
       "      <td>0</td>\n",
       "      <td>0</td>\n",
       "      <td>0</td>\n",
       "      <td>0</td>\n",
       "      <td>0</td>\n",
       "      <td>0</td>\n",
       "    </tr>\n",
       "    <tr>\n",
       "      <th>2</th>\n",
       "      <td>2016-12-30 16:37:00</td>\n",
       "      <td>16:37:00</td>\n",
       "      <td>2016</td>\n",
       "      <td>12</td>\n",
       "      <td>30</td>\n",
       "      <td>403.0</td>\n",
       "      <td>STOP-SIGNED HIGHWAY-RUSH HOUR</td>\n",
       "      <td>150</td>\n",
       "      <td>777 QUEEN ST W, TORONTO, ON, CANADA</td>\n",
       "      <td>ON</td>\n",
       "      <td>...</td>\n",
       "      <td>-79.408080</td>\n",
       "      <td>0</td>\n",
       "      <td>0</td>\n",
       "      <td>1</td>\n",
       "      <td>0</td>\n",
       "      <td>0</td>\n",
       "      <td>0</td>\n",
       "      <td>0</td>\n",
       "      <td>0</td>\n",
       "      <td>0</td>\n",
       "    </tr>\n",
       "    <tr>\n",
       "      <th>3</th>\n",
       "      <td>2016-12-30 16:37:00</td>\n",
       "      <td>16:37:00</td>\n",
       "      <td>2016</td>\n",
       "      <td>12</td>\n",
       "      <td>30</td>\n",
       "      <td>403.0</td>\n",
       "      <td>STOP-SIGNED HIGHWAY-RUSH HOUR</td>\n",
       "      <td>150</td>\n",
       "      <td>747 QUEEN ST E, TORONTO, ON, CANADA</td>\n",
       "      <td>ON</td>\n",
       "      <td>...</td>\n",
       "      <td>-79.348080</td>\n",
       "      <td>0</td>\n",
       "      <td>0</td>\n",
       "      <td>1</td>\n",
       "      <td>0</td>\n",
       "      <td>0</td>\n",
       "      <td>0</td>\n",
       "      <td>0</td>\n",
       "      <td>0</td>\n",
       "      <td>0</td>\n",
       "    </tr>\n",
       "    <tr>\n",
       "      <th>4</th>\n",
       "      <td>2016-12-30 16:37:00</td>\n",
       "      <td>16:37:00</td>\n",
       "      <td>2016</td>\n",
       "      <td>12</td>\n",
       "      <td>30</td>\n",
       "      <td>403.0</td>\n",
       "      <td>STOP-SIGNED HIGHWAY-RUSH HOUR</td>\n",
       "      <td>150</td>\n",
       "      <td>3042 DUNDAS ST W, TORONTO, ON, CANADA</td>\n",
       "      <td>ON</td>\n",
       "      <td>...</td>\n",
       "      <td>-79.470785</td>\n",
       "      <td>0</td>\n",
       "      <td>0</td>\n",
       "      <td>1</td>\n",
       "      <td>0</td>\n",
       "      <td>0</td>\n",
       "      <td>0</td>\n",
       "      <td>0</td>\n",
       "      <td>0</td>\n",
       "      <td>0</td>\n",
       "    </tr>\n",
       "  </tbody>\n",
       "</table>\n",
       "<p>5 rows × 21 columns</p>\n",
       "</div>"
      ],
      "text/plain": [
       "  datetime_of_infraction time_of_infraction  year  month  day  \\\n",
       "0    2016-12-30 16:37:00           16:37:00  2016     12   30   \n",
       "1    2016-12-30 16:37:00           16:37:00  2016     12   30   \n",
       "2    2016-12-30 16:37:00           16:37:00  2016     12   30   \n",
       "3    2016-12-30 16:37:00           16:37:00  2016     12   30   \n",
       "4    2016-12-30 16:37:00           16:37:00  2016     12   30   \n",
       "\n",
       "   infraction_code         infraction_description  set_fine_amount  \\\n",
       "0            403.0  STOP-SIGNED HIGHWAY-RUSH HOUR              150   \n",
       "1            403.0  STOP-SIGNED HIGHWAY-RUSH HOUR              150   \n",
       "2            403.0  STOP-SIGNED HIGHWAY-RUSH HOUR              150   \n",
       "3            403.0  STOP-SIGNED HIGHWAY-RUSH HOUR              150   \n",
       "4            403.0  STOP-SIGNED HIGHWAY-RUSH HOUR              150   \n",
       "\n",
       "                               location2 province  ...  longitude  \\\n",
       "0   1546 BLOOR ST W, TORONTO, ON, CANADA       ON  ... -79.453142   \n",
       "1     5418 YONGE ST, TORONTO, ON, CANADA       ON  ... -79.414671   \n",
       "2    777 QUEEN ST W, TORONTO, ON, CANADA       ON  ... -79.408080   \n",
       "3    747 QUEEN ST E, TORONTO, ON, CANADA       ON  ... -79.348080   \n",
       "4  3042 DUNDAS ST W, TORONTO, ON, CANADA       ON  ... -79.470785   \n",
       "\n",
       "   permit_time_restrictions  fee_related  time_related  plate_related  \\\n",
       "0                         0            0             1              0   \n",
       "1                         0            0             1              0   \n",
       "2                         0            0             1              0   \n",
       "3                         0            0             1              0   \n",
       "4                         0            0             1              0   \n",
       "\n",
       "   fire_route  accessible_related  commercial_related  obstruction_related  \\\n",
       "0           0                   0                   0                    0   \n",
       "1           0                   0                   0                    0   \n",
       "2           0                   0                   0                    0   \n",
       "3           0                   0                   0                    0   \n",
       "4           0                   0                   0                    0   \n",
       "\n",
       "   cycle_related  \n",
       "0              0  \n",
       "1              0  \n",
       "2              0  \n",
       "3              0  \n",
       "4              0  \n",
       "\n",
       "[5 rows x 21 columns]"
      ]
     },
     "execution_count": 55,
     "metadata": {},
     "output_type": "execute_result"
    }
   ],
   "source": [
    "parking_df.head()"
   ]
  },
  {
   "cell_type": "code",
   "execution_count": 4,
   "id": "239e6978-a9b7-45db-9ba2-5110a1b8f58f",
   "metadata": {},
   "outputs": [],
   "source": [
    "parking_coord = parking_df[parking_df['latitude'] != 0.0]"
   ]
  },
  {
   "cell_type": "markdown",
   "id": "489465e5-7e9a-4188-ac43-c8e8233c511d",
   "metadata": {},
   "source": [
    "<a id='split'><a/>\n",
    "### Test Train Split"
   ]
  },
  {
   "cell_type": "code",
   "execution_count": 5,
   "id": "2d88dada-117a-4c3b-8d51-7855a8f73b56",
   "metadata": {},
   "outputs": [],
   "source": [
    "df_numerical_copy = parking_coord[['latitude', 'longitude', 'permit_time_restrictions', 'fee_related', 'time_related', 'fire_route', 'accessible_related', 'commercial_related', 'obstruction_related', 'cycle_related']]\n",
    "\n",
    "X = df_numerical_copy[['latitude', 'longitude']]\n",
    "y = df_numerical_copy.drop(columns=['latitude', 'longitude'], axis=1)\n",
    "\n",
    "X_train, X_test, y_train, y_test = train_test_split(X, y, test_size=0.3, random_state=42)"
   ]
  },
  {
   "cell_type": "code",
   "execution_count": 8,
   "id": "4edd909b-2bbf-48f8-b69b-a244e972acab",
   "metadata": {},
   "outputs": [
    {
     "data": {
      "text/plain": [
       "Index(['permit_time_restrictions', 'fee_related', 'time_related', 'fire_route',\n",
       "       'accessible_related', 'commercial_related', 'obstruction_related',\n",
       "       'cycle_related'],\n",
       "      dtype='object')"
      ]
     },
     "execution_count": 8,
     "metadata": {},
     "output_type": "execute_result"
    }
   ],
   "source": [
    "y.columns"
   ]
  },
  {
   "cell_type": "markdown",
   "id": "e81ed49e-b101-4ab6-9d5e-f658c4a103a7",
   "metadata": {},
   "source": [
    "<a id='logreg'><a/>\n",
    "### Logistic Regression, predicts type of infraction based on location"
   ]
  },
  {
   "cell_type": "code",
   "execution_count": 9,
   "id": "1b5045a5-f420-44f1-9dab-6bfc2396cfc1",
   "metadata": {},
   "outputs": [
    {
     "name": "stdout",
     "output_type": "stream",
     "text": [
      "Infraction: permit_time_restrictions, Accuracy: 0.5955489654451519\n",
      "Infraction: fee_related, Accuracy: 0.781054551015391\n",
      "Infraction: time_related, Accuracy: 0.7142270890961848\n",
      "Infraction: fire_route, Accuracy: 0.9779964730864752\n",
      "Infraction: accessible_related, Accuracy: 0.9881319940611577\n",
      "Infraction: commercial_related, Accuracy: 0.9838036852568434\n",
      "Infraction: obstruction_related, Accuracy: 0.9931049034163829\n",
      "Infraction: cycle_related, Accuracy: 0.9925745113714893\n"
     ]
    }
   ],
   "source": [
    "models = {}\n",
    "\n",
    "for column in y.columns:\n",
    "    scaler = StandardScaler()\n",
    "    X_train = scaler.fit_transform(X_train)\n",
    "    X_test = scaler.transform(X_test)\n",
    "    \n",
    "    model = LogisticRegression()\n",
    "    model.fit(X_train, y_train[column])\n",
    "    \n",
    "    y_pred = model.predict(X_test)\n",
    "    accuracy = accuracy_score(y_test[column], y_pred)\n",
    "    \n",
    "    models[column] = {'model': model, 'accuracy': accuracy}\n",
    "\n",
    "for infraction, model_info in models.items():\n",
    "    print(f\"Infraction: {infraction}, Accuracy: {model_info['accuracy']}\")\n"
   ]
  },
  {
   "cell_type": "markdown",
   "id": "20d08c46-548c-43b6-aa32-e97c1ea59064",
   "metadata": {},
   "source": [
    "<a id='multi'><a/>\n",
    "### Multi-Output Classifier"
   ]
  },
  {
   "cell_type": "markdown",
   "id": "d3910df6-3b60-461b-83cc-47df3fcc24aa",
   "metadata": {},
   "source": [
    "To make sure we output all features, instead of a for loop, we can use a multi-output classifier. This will show the score for all my infractions. "
   ]
  },
  {
   "cell_type": "code",
   "execution_count": 58,
   "id": "84070e91-dff6-4171-b351-ee757cf0650e",
   "metadata": {},
   "outputs": [
    {
     "name": "stdout",
     "output_type": "stream",
     "text": [
      "              precision    recall  f1-score   support\n",
      "\n",
      "           0       0.83      0.81      0.82    241602\n",
      "           1       0.69      0.58      0.63    113107\n",
      "           2       0.75      0.61      0.67    144335\n",
      "           3       0.73      0.15      0.25     11367\n",
      "           4       0.65      0.48      0.56      6754\n",
      "           5       0.69      0.47      0.56      8367\n",
      "           6       0.63      0.24      0.34     12675\n",
      "           7       0.62      0.02      0.05      3836\n",
      "\n",
      "   micro avg       0.77      0.67      0.71    542043\n",
      "   macro avg       0.70      0.42      0.48    542043\n",
      "weighted avg       0.76      0.67      0.70    542043\n",
      " samples avg       0.62      0.62      0.62    542043\n",
      "\n"
     ]
    }
   ],
   "source": [
    "classifier = MultiOutputClassifier(RandomForestClassifier(random_state=42))\n",
    "\n",
    "classifier.fit(X_train, y_train)\n",
    "\n",
    "y_pred = classifier.predict(X_test)\n",
    "\n",
    "print(classification_report(y_test, y_pred))"
   ]
  },
  {
   "cell_type": "markdown",
   "id": "0c911200-2636-4e1b-aadb-cefc9da60728",
   "metadata": {},
   "source": [
    "For obstruction related,commercial, accesible and cycle related infractions, there is a large data imbalance. \n",
    "\n",
    "With these scores, it's important to note that we should consider the context of the problem and the relative importance of precision and recall. In this case, the number of difference offences has a disadvantage in proportion. Let's try to upsample some of these models to improve their scores."
   ]
  },
  {
   "cell_type": "markdown",
   "id": "3063cdc0-2321-4686-84f6-055aed9b0ef1",
   "metadata": {},
   "source": [
    "To balance these targets,let's use the `class_weight` parameter in random forest. \n",
    "Refer to: https://stackoverflow.com/questions/58275113/proper-use-of-class-weight-parameter-in-random-forest-classifier"
   ]
  },
  {
   "cell_type": "markdown",
   "id": "9389ea42-aaf6-4814-bfc9-ad4f9bee61f6",
   "metadata": {},
   "source": [
    "Let's try two methods, one using `\"balanced\"` and another as a dictionary."
   ]
  },
  {
   "cell_type": "markdown",
   "id": "a44a64c8-c1fc-4d6f-bc9a-584ee8db5ae7",
   "metadata": {},
   "source": [
    "<a id='multiweights'><a/>\n",
    "### Multi-Output Classifier with different weight class"
   ]
  },
  {
   "cell_type": "code",
   "execution_count": 59,
   "id": "545ff08f-6a8d-413d-b759-2c88762046de",
   "metadata": {},
   "outputs": [
    {
     "name": "stdout",
     "output_type": "stream",
     "text": [
      "              precision    recall  f1-score   support\n",
      "\n",
      "           0       0.82      0.82      0.82    241602\n",
      "           1       0.51      0.84      0.64    113107\n",
      "           2       0.61      0.80      0.69    144335\n",
      "           3       0.10      0.86      0.17     11367\n",
      "           4       0.17      0.93      0.29      6754\n",
      "           5       0.25      0.98      0.39      8367\n",
      "           6       0.09      0.81      0.16     12675\n",
      "           7       0.08      0.96      0.15      3836\n",
      "\n",
      "   micro avg       0.47      0.82      0.60    542043\n",
      "   macro avg       0.33      0.87      0.41    542043\n",
      "weighted avg       0.64      0.82      0.70    542043\n",
      " samples avg       0.55      0.78      0.62    542043\n",
      "\n"
     ]
    }
   ],
   "source": [
    "classifier = MultiOutputClassifier(RandomForestClassifier(random_state=42, class_weight='balanced'))\n",
    "\n",
    "classifier.fit(X_train, y_train)\n",
    "\n",
    "y_pred = classifier.predict(X_test)\n",
    "\n",
    "print(classification_report(y_test, y_pred))"
   ]
  },
  {
   "cell_type": "markdown",
   "id": "f7867534-5a8a-404e-9b65-be27e3f6e68b",
   "metadata": {},
   "source": [
    "Based on both this Random Forest Classifier, it seems the scores are not that much different compared to the model with balanced weighted class. "
   ]
  },
  {
   "cell_type": "code",
   "execution_count": 6,
   "id": "b2394213-46f8-47fe-9c80-3ebcd5867a08",
   "metadata": {},
   "outputs": [
    {
     "name": "stdout",
     "output_type": "stream",
     "text": [
      "              precision    recall  f1-score   support\n",
      "\n",
      "           0       0.73      0.92      0.81    241602\n",
      "           1       0.58      0.75      0.66    113107\n",
      "           2       0.61      0.80      0.69    144335\n",
      "           3       0.48      0.30      0.37     11367\n",
      "           4       0.60      0.54      0.57      6754\n",
      "           5       0.54      0.83      0.65      8367\n",
      "           6       0.57      0.27      0.37     12675\n",
      "           7       0.42      0.28      0.34      3836\n",
      "\n",
      "   micro avg       0.65      0.81      0.72    542043\n",
      "   macro avg       0.56      0.59      0.56    542043\n",
      "weighted avg       0.65      0.81      0.72    542043\n",
      " samples avg       0.68      0.77      0.71    542043\n",
      "\n"
     ]
    }
   ],
   "source": [
    "#create dictionary for class_weight\n",
    "weight = {0: 2, 1: 5, 2: 5, 3: 100, 4: 100, 5: 100, 6: 200, 7: 200}\n",
    "classifier = MultiOutputClassifier(RandomForestClassifier(random_state=42, class_weight = weight))\n",
    "\n",
    "classifier.fit(X_train, y_train)\n",
    "\n",
    "y_pred = classifier.predict(X_test)\n",
    "\n",
    "print(classification_report(y_test, y_pred))"
   ]
  },
  {
   "cell_type": "markdown",
   "id": "264d7c12-c547-4a02-948c-c00a94495884",
   "metadata": {},
   "source": [
    "These scores are much better, only obstruction and cycle related infractions are of concern. "
   ]
  },
  {
   "cell_type": "markdown",
   "id": "3910ca43-ca10-4647-8b4d-afb3157be0a9",
   "metadata": {},
   "source": [
    "<a id='search'><a/>\n",
    "### Grid Search"
   ]
  },
  {
   "cell_type": "markdown",
   "id": "586b0d33-f2c6-46ca-a0f7-e10e04c7cf30",
   "metadata": {},
   "source": [
    "#### Pipeline for RandomForestClassifier"
   ]
  },
  {
   "cell_type": "code",
   "execution_count": 10,
   "id": "f6cdf263-041d-4f65-a16a-e5c04d966d79",
   "metadata": {},
   "outputs": [
    {
     "data": {
      "text/plain": [
       "0.6157832283841045"
      ]
     },
     "execution_count": 10,
     "metadata": {},
     "output_type": "execute_result"
    }
   ],
   "source": [
    "from sklearn.pipeline import Pipeline\n",
    "rf = RandomForestClassifier(random_state=42)\n",
    "pipe = Pipeline(steps=[('clf', MultiOutputClassifier(rf))])\n",
    "param_grid = {\n",
    "    'clf__estimator__n_estimators': [300],  #Number of trees in the forest\n",
    "    'clf__estimator__max_depth': [15, 30],  #Maximum depth of the trees\n",
    "}\n",
    "\n",
    "\n",
    "#fit\n",
    "pipe.fit(X_train, y_train)\n",
    "\n",
    "#score\n",
    "pipe.score(X_test, y_test)"
   ]
  },
  {
   "cell_type": "code",
   "execution_count": 11,
   "id": "d1e3de8b-8144-4d5a-ae48-b80b28c8ab4c",
   "metadata": {},
   "outputs": [],
   "source": [
    "from sklearn.model_selection import RandomizedSearchCV\n",
    "search = RandomizedSearchCV(\n",
    "    estimator=pipe,\n",
    "    param_distributions=param_grid,\n",
    "    scoring='accuracy',\n",
    "    refit='precision_micro',\n",
    "    cv = 3,\n",
    "    verbose= 2\n",
    ")"
   ]
  },
  {
   "cell_type": "markdown",
   "id": "6fc35638-f3e9-4e21-83ed-7938b83ca02e",
   "metadata": {},
   "source": []
  },
  {
   "cell_type": "code",
   "execution_count": 12,
   "id": "51100c96-7925-4e50-8bdb-4d2f421dc2a7",
   "metadata": {},
   "outputs": [
    {
     "name": "stdout",
     "output_type": "stream",
     "text": [
      "Fitting 3 folds for each of 2 candidates, totalling 6 fits\n",
      "[CV] END clf__estimator__max_depth=15, clf__estimator__n_estimators=300; total time=22.8min\n",
      "[CV] END clf__estimator__max_depth=15, clf__estimator__n_estimators=300; total time=23.0min\n",
      "[CV] END clf__estimator__max_depth=15, clf__estimator__n_estimators=300; total time=23.0min\n",
      "[CV] END clf__estimator__max_depth=30, clf__estimator__n_estimators=300; total time=23.8min\n",
      "[CV] END clf__estimator__max_depth=30, clf__estimator__n_estimators=300; total time=23.5min\n",
      "[CV] END clf__estimator__max_depth=30, clf__estimator__n_estimators=300; total time=23.6min\n"
     ]
    }
   ],
   "source": [
    "fittedgrid = search.fit(X_train, y_train)"
   ]
  },
  {
   "cell_type": "code",
   "execution_count": 13,
   "id": "5c1392aa-438a-476d-a270-0027056dd69e",
   "metadata": {},
   "outputs": [
    {
     "data": {
      "text/plain": [
       "0.6187820278298353"
      ]
     },
     "execution_count": 13,
     "metadata": {},
     "output_type": "execute_result"
    }
   ],
   "source": [
    "fittedgrid.score(X_train, y_train)"
   ]
  },
  {
   "cell_type": "code",
   "execution_count": 14,
   "id": "b15dbba3-1b2a-4a6f-808a-27bbe1f169b1",
   "metadata": {},
   "outputs": [
    {
     "data": {
      "text/plain": [
       "0.6177944595324419"
      ]
     },
     "execution_count": 14,
     "metadata": {},
     "output_type": "execute_result"
    }
   ],
   "source": [
    "fittedgrid.score(X_test, y_test)"
   ]
  },
  {
   "cell_type": "code",
   "execution_count": 15,
   "id": "de4f6965-31a5-48b7-a085-97ed768adaa3",
   "metadata": {},
   "outputs": [
    {
     "data": {
      "text/html": [
       "<style>#sk-container-id-1 {\n",
       "  /* Definition of color scheme common for light and dark mode */\n",
       "  --sklearn-color-text: black;\n",
       "  --sklearn-color-line: gray;\n",
       "  /* Definition of color scheme for unfitted estimators */\n",
       "  --sklearn-color-unfitted-level-0: #fff5e6;\n",
       "  --sklearn-color-unfitted-level-1: #f6e4d2;\n",
       "  --sklearn-color-unfitted-level-2: #ffe0b3;\n",
       "  --sklearn-color-unfitted-level-3: chocolate;\n",
       "  /* Definition of color scheme for fitted estimators */\n",
       "  --sklearn-color-fitted-level-0: #f0f8ff;\n",
       "  --sklearn-color-fitted-level-1: #d4ebff;\n",
       "  --sklearn-color-fitted-level-2: #b3dbfd;\n",
       "  --sklearn-color-fitted-level-3: cornflowerblue;\n",
       "\n",
       "  /* Specific color for light theme */\n",
       "  --sklearn-color-text-on-default-background: var(--sg-text-color, var(--theme-code-foreground, var(--jp-content-font-color1, black)));\n",
       "  --sklearn-color-background: var(--sg-background-color, var(--theme-background, var(--jp-layout-color0, white)));\n",
       "  --sklearn-color-border-box: var(--sg-text-color, var(--theme-code-foreground, var(--jp-content-font-color1, black)));\n",
       "  --sklearn-color-icon: #696969;\n",
       "\n",
       "  @media (prefers-color-scheme: dark) {\n",
       "    /* Redefinition of color scheme for dark theme */\n",
       "    --sklearn-color-text-on-default-background: var(--sg-text-color, var(--theme-code-foreground, var(--jp-content-font-color1, white)));\n",
       "    --sklearn-color-background: var(--sg-background-color, var(--theme-background, var(--jp-layout-color0, #111)));\n",
       "    --sklearn-color-border-box: var(--sg-text-color, var(--theme-code-foreground, var(--jp-content-font-color1, white)));\n",
       "    --sklearn-color-icon: #878787;\n",
       "  }\n",
       "}\n",
       "\n",
       "#sk-container-id-1 {\n",
       "  color: var(--sklearn-color-text);\n",
       "}\n",
       "\n",
       "#sk-container-id-1 pre {\n",
       "  padding: 0;\n",
       "}\n",
       "\n",
       "#sk-container-id-1 input.sk-hidden--visually {\n",
       "  border: 0;\n",
       "  clip: rect(1px 1px 1px 1px);\n",
       "  clip: rect(1px, 1px, 1px, 1px);\n",
       "  height: 1px;\n",
       "  margin: -1px;\n",
       "  overflow: hidden;\n",
       "  padding: 0;\n",
       "  position: absolute;\n",
       "  width: 1px;\n",
       "}\n",
       "\n",
       "#sk-container-id-1 div.sk-dashed-wrapped {\n",
       "  border: 1px dashed var(--sklearn-color-line);\n",
       "  margin: 0 0.4em 0.5em 0.4em;\n",
       "  box-sizing: border-box;\n",
       "  padding-bottom: 0.4em;\n",
       "  background-color: var(--sklearn-color-background);\n",
       "}\n",
       "\n",
       "#sk-container-id-1 div.sk-container {\n",
       "  /* jupyter's `normalize.less` sets `[hidden] { display: none; }`\n",
       "     but bootstrap.min.css set `[hidden] { display: none !important; }`\n",
       "     so we also need the `!important` here to be able to override the\n",
       "     default hidden behavior on the sphinx rendered scikit-learn.org.\n",
       "     See: https://github.com/scikit-learn/scikit-learn/issues/21755 */\n",
       "  display: inline-block !important;\n",
       "  position: relative;\n",
       "}\n",
       "\n",
       "#sk-container-id-1 div.sk-text-repr-fallback {\n",
       "  display: none;\n",
       "}\n",
       "\n",
       "div.sk-parallel-item,\n",
       "div.sk-serial,\n",
       "div.sk-item {\n",
       "  /* draw centered vertical line to link estimators */\n",
       "  background-image: linear-gradient(var(--sklearn-color-text-on-default-background), var(--sklearn-color-text-on-default-background));\n",
       "  background-size: 2px 100%;\n",
       "  background-repeat: no-repeat;\n",
       "  background-position: center center;\n",
       "}\n",
       "\n",
       "/* Parallel-specific style estimator block */\n",
       "\n",
       "#sk-container-id-1 div.sk-parallel-item::after {\n",
       "  content: \"\";\n",
       "  width: 100%;\n",
       "  border-bottom: 2px solid var(--sklearn-color-text-on-default-background);\n",
       "  flex-grow: 1;\n",
       "}\n",
       "\n",
       "#sk-container-id-1 div.sk-parallel {\n",
       "  display: flex;\n",
       "  align-items: stretch;\n",
       "  justify-content: center;\n",
       "  background-color: var(--sklearn-color-background);\n",
       "  position: relative;\n",
       "}\n",
       "\n",
       "#sk-container-id-1 div.sk-parallel-item {\n",
       "  display: flex;\n",
       "  flex-direction: column;\n",
       "}\n",
       "\n",
       "#sk-container-id-1 div.sk-parallel-item:first-child::after {\n",
       "  align-self: flex-end;\n",
       "  width: 50%;\n",
       "}\n",
       "\n",
       "#sk-container-id-1 div.sk-parallel-item:last-child::after {\n",
       "  align-self: flex-start;\n",
       "  width: 50%;\n",
       "}\n",
       "\n",
       "#sk-container-id-1 div.sk-parallel-item:only-child::after {\n",
       "  width: 0;\n",
       "}\n",
       "\n",
       "/* Serial-specific style estimator block */\n",
       "\n",
       "#sk-container-id-1 div.sk-serial {\n",
       "  display: flex;\n",
       "  flex-direction: column;\n",
       "  align-items: center;\n",
       "  background-color: var(--sklearn-color-background);\n",
       "  padding-right: 1em;\n",
       "  padding-left: 1em;\n",
       "}\n",
       "\n",
       "\n",
       "/* Toggleable style: style used for estimator/Pipeline/ColumnTransformer box that is\n",
       "clickable and can be expanded/collapsed.\n",
       "- Pipeline and ColumnTransformer use this feature and define the default style\n",
       "- Estimators will overwrite some part of the style using the `sk-estimator` class\n",
       "*/\n",
       "\n",
       "/* Pipeline and ColumnTransformer style (default) */\n",
       "\n",
       "#sk-container-id-1 div.sk-toggleable {\n",
       "  /* Default theme specific background. It is overwritten whether we have a\n",
       "  specific estimator or a Pipeline/ColumnTransformer */\n",
       "  background-color: var(--sklearn-color-background);\n",
       "}\n",
       "\n",
       "/* Toggleable label */\n",
       "#sk-container-id-1 label.sk-toggleable__label {\n",
       "  cursor: pointer;\n",
       "  display: block;\n",
       "  width: 100%;\n",
       "  margin-bottom: 0;\n",
       "  padding: 0.5em;\n",
       "  box-sizing: border-box;\n",
       "  text-align: center;\n",
       "}\n",
       "\n",
       "#sk-container-id-1 label.sk-toggleable__label-arrow:before {\n",
       "  /* Arrow on the left of the label */\n",
       "  content: \"▸\";\n",
       "  float: left;\n",
       "  margin-right: 0.25em;\n",
       "  color: var(--sklearn-color-icon);\n",
       "}\n",
       "\n",
       "#sk-container-id-1 label.sk-toggleable__label-arrow:hover:before {\n",
       "  color: var(--sklearn-color-text);\n",
       "}\n",
       "\n",
       "/* Toggleable content - dropdown */\n",
       "\n",
       "#sk-container-id-1 div.sk-toggleable__content {\n",
       "  max-height: 0;\n",
       "  max-width: 0;\n",
       "  overflow: hidden;\n",
       "  text-align: left;\n",
       "  /* unfitted */\n",
       "  background-color: var(--sklearn-color-unfitted-level-0);\n",
       "}\n",
       "\n",
       "#sk-container-id-1 div.sk-toggleable__content.fitted {\n",
       "  /* fitted */\n",
       "  background-color: var(--sklearn-color-fitted-level-0);\n",
       "}\n",
       "\n",
       "#sk-container-id-1 div.sk-toggleable__content pre {\n",
       "  margin: 0.2em;\n",
       "  border-radius: 0.25em;\n",
       "  color: var(--sklearn-color-text);\n",
       "  /* unfitted */\n",
       "  background-color: var(--sklearn-color-unfitted-level-0);\n",
       "}\n",
       "\n",
       "#sk-container-id-1 div.sk-toggleable__content.fitted pre {\n",
       "  /* unfitted */\n",
       "  background-color: var(--sklearn-color-fitted-level-0);\n",
       "}\n",
       "\n",
       "#sk-container-id-1 input.sk-toggleable__control:checked~div.sk-toggleable__content {\n",
       "  /* Expand drop-down */\n",
       "  max-height: 200px;\n",
       "  max-width: 100%;\n",
       "  overflow: auto;\n",
       "}\n",
       "\n",
       "#sk-container-id-1 input.sk-toggleable__control:checked~label.sk-toggleable__label-arrow:before {\n",
       "  content: \"▾\";\n",
       "}\n",
       "\n",
       "/* Pipeline/ColumnTransformer-specific style */\n",
       "\n",
       "#sk-container-id-1 div.sk-label input.sk-toggleable__control:checked~label.sk-toggleable__label {\n",
       "  color: var(--sklearn-color-text);\n",
       "  background-color: var(--sklearn-color-unfitted-level-2);\n",
       "}\n",
       "\n",
       "#sk-container-id-1 div.sk-label.fitted input.sk-toggleable__control:checked~label.sk-toggleable__label {\n",
       "  background-color: var(--sklearn-color-fitted-level-2);\n",
       "}\n",
       "\n",
       "/* Estimator-specific style */\n",
       "\n",
       "/* Colorize estimator box */\n",
       "#sk-container-id-1 div.sk-estimator input.sk-toggleable__control:checked~label.sk-toggleable__label {\n",
       "  /* unfitted */\n",
       "  background-color: var(--sklearn-color-unfitted-level-2);\n",
       "}\n",
       "\n",
       "#sk-container-id-1 div.sk-estimator.fitted input.sk-toggleable__control:checked~label.sk-toggleable__label {\n",
       "  /* fitted */\n",
       "  background-color: var(--sklearn-color-fitted-level-2);\n",
       "}\n",
       "\n",
       "#sk-container-id-1 div.sk-label label.sk-toggleable__label,\n",
       "#sk-container-id-1 div.sk-label label {\n",
       "  /* The background is the default theme color */\n",
       "  color: var(--sklearn-color-text-on-default-background);\n",
       "}\n",
       "\n",
       "/* On hover, darken the color of the background */\n",
       "#sk-container-id-1 div.sk-label:hover label.sk-toggleable__label {\n",
       "  color: var(--sklearn-color-text);\n",
       "  background-color: var(--sklearn-color-unfitted-level-2);\n",
       "}\n",
       "\n",
       "/* Label box, darken color on hover, fitted */\n",
       "#sk-container-id-1 div.sk-label.fitted:hover label.sk-toggleable__label.fitted {\n",
       "  color: var(--sklearn-color-text);\n",
       "  background-color: var(--sklearn-color-fitted-level-2);\n",
       "}\n",
       "\n",
       "/* Estimator label */\n",
       "\n",
       "#sk-container-id-1 div.sk-label label {\n",
       "  font-family: monospace;\n",
       "  font-weight: bold;\n",
       "  display: inline-block;\n",
       "  line-height: 1.2em;\n",
       "}\n",
       "\n",
       "#sk-container-id-1 div.sk-label-container {\n",
       "  text-align: center;\n",
       "}\n",
       "\n",
       "/* Estimator-specific */\n",
       "#sk-container-id-1 div.sk-estimator {\n",
       "  font-family: monospace;\n",
       "  border: 1px dotted var(--sklearn-color-border-box);\n",
       "  border-radius: 0.25em;\n",
       "  box-sizing: border-box;\n",
       "  margin-bottom: 0.5em;\n",
       "  /* unfitted */\n",
       "  background-color: var(--sklearn-color-unfitted-level-0);\n",
       "}\n",
       "\n",
       "#sk-container-id-1 div.sk-estimator.fitted {\n",
       "  /* fitted */\n",
       "  background-color: var(--sklearn-color-fitted-level-0);\n",
       "}\n",
       "\n",
       "/* on hover */\n",
       "#sk-container-id-1 div.sk-estimator:hover {\n",
       "  /* unfitted */\n",
       "  background-color: var(--sklearn-color-unfitted-level-2);\n",
       "}\n",
       "\n",
       "#sk-container-id-1 div.sk-estimator.fitted:hover {\n",
       "  /* fitted */\n",
       "  background-color: var(--sklearn-color-fitted-level-2);\n",
       "}\n",
       "\n",
       "/* Specification for estimator info (e.g. \"i\" and \"?\") */\n",
       "\n",
       "/* Common style for \"i\" and \"?\" */\n",
       "\n",
       ".sk-estimator-doc-link,\n",
       "a:link.sk-estimator-doc-link,\n",
       "a:visited.sk-estimator-doc-link {\n",
       "  float: right;\n",
       "  font-size: smaller;\n",
       "  line-height: 1em;\n",
       "  font-family: monospace;\n",
       "  background-color: var(--sklearn-color-background);\n",
       "  border-radius: 1em;\n",
       "  height: 1em;\n",
       "  width: 1em;\n",
       "  text-decoration: none !important;\n",
       "  margin-left: 1ex;\n",
       "  /* unfitted */\n",
       "  border: var(--sklearn-color-unfitted-level-1) 1pt solid;\n",
       "  color: var(--sklearn-color-unfitted-level-1);\n",
       "}\n",
       "\n",
       ".sk-estimator-doc-link.fitted,\n",
       "a:link.sk-estimator-doc-link.fitted,\n",
       "a:visited.sk-estimator-doc-link.fitted {\n",
       "  /* fitted */\n",
       "  border: var(--sklearn-color-fitted-level-1) 1pt solid;\n",
       "  color: var(--sklearn-color-fitted-level-1);\n",
       "}\n",
       "\n",
       "/* On hover */\n",
       "div.sk-estimator:hover .sk-estimator-doc-link:hover,\n",
       ".sk-estimator-doc-link:hover,\n",
       "div.sk-label-container:hover .sk-estimator-doc-link:hover,\n",
       ".sk-estimator-doc-link:hover {\n",
       "  /* unfitted */\n",
       "  background-color: var(--sklearn-color-unfitted-level-3);\n",
       "  color: var(--sklearn-color-background);\n",
       "  text-decoration: none;\n",
       "}\n",
       "\n",
       "div.sk-estimator.fitted:hover .sk-estimator-doc-link.fitted:hover,\n",
       ".sk-estimator-doc-link.fitted:hover,\n",
       "div.sk-label-container:hover .sk-estimator-doc-link.fitted:hover,\n",
       ".sk-estimator-doc-link.fitted:hover {\n",
       "  /* fitted */\n",
       "  background-color: var(--sklearn-color-fitted-level-3);\n",
       "  color: var(--sklearn-color-background);\n",
       "  text-decoration: none;\n",
       "}\n",
       "\n",
       "/* Span, style for the box shown on hovering the info icon */\n",
       ".sk-estimator-doc-link span {\n",
       "  display: none;\n",
       "  z-index: 9999;\n",
       "  position: relative;\n",
       "  font-weight: normal;\n",
       "  right: .2ex;\n",
       "  padding: .5ex;\n",
       "  margin: .5ex;\n",
       "  width: min-content;\n",
       "  min-width: 20ex;\n",
       "  max-width: 50ex;\n",
       "  color: var(--sklearn-color-text);\n",
       "  box-shadow: 2pt 2pt 4pt #999;\n",
       "  /* unfitted */\n",
       "  background: var(--sklearn-color-unfitted-level-0);\n",
       "  border: .5pt solid var(--sklearn-color-unfitted-level-3);\n",
       "}\n",
       "\n",
       ".sk-estimator-doc-link.fitted span {\n",
       "  /* fitted */\n",
       "  background: var(--sklearn-color-fitted-level-0);\n",
       "  border: var(--sklearn-color-fitted-level-3);\n",
       "}\n",
       "\n",
       ".sk-estimator-doc-link:hover span {\n",
       "  display: block;\n",
       "}\n",
       "\n",
       "/* \"?\"-specific style due to the `<a>` HTML tag */\n",
       "\n",
       "#sk-container-id-1 a.estimator_doc_link {\n",
       "  float: right;\n",
       "  font-size: 1rem;\n",
       "  line-height: 1em;\n",
       "  font-family: monospace;\n",
       "  background-color: var(--sklearn-color-background);\n",
       "  border-radius: 1rem;\n",
       "  height: 1rem;\n",
       "  width: 1rem;\n",
       "  text-decoration: none;\n",
       "  /* unfitted */\n",
       "  color: var(--sklearn-color-unfitted-level-1);\n",
       "  border: var(--sklearn-color-unfitted-level-1) 1pt solid;\n",
       "}\n",
       "\n",
       "#sk-container-id-1 a.estimator_doc_link.fitted {\n",
       "  /* fitted */\n",
       "  border: var(--sklearn-color-fitted-level-1) 1pt solid;\n",
       "  color: var(--sklearn-color-fitted-level-1);\n",
       "}\n",
       "\n",
       "/* On hover */\n",
       "#sk-container-id-1 a.estimator_doc_link:hover {\n",
       "  /* unfitted */\n",
       "  background-color: var(--sklearn-color-unfitted-level-3);\n",
       "  color: var(--sklearn-color-background);\n",
       "  text-decoration: none;\n",
       "}\n",
       "\n",
       "#sk-container-id-1 a.estimator_doc_link.fitted:hover {\n",
       "  /* fitted */\n",
       "  background-color: var(--sklearn-color-fitted-level-3);\n",
       "}\n",
       "</style><div id=\"sk-container-id-1\" class=\"sk-top-container\"><div class=\"sk-text-repr-fallback\"><pre>Pipeline(steps=[(&#x27;clf&#x27;,\n",
       "                 MultiOutputClassifier(estimator=RandomForestClassifier(max_depth=30,\n",
       "                                                                        n_estimators=300,\n",
       "                                                                        random_state=42)))])</pre><b>In a Jupyter environment, please rerun this cell to show the HTML representation or trust the notebook. <br />On GitHub, the HTML representation is unable to render, please try loading this page with nbviewer.org.</b></div><div class=\"sk-container\" hidden><div class=\"sk-item sk-dashed-wrapped\"><div class=\"sk-label-container\"><div class=\"sk-label fitted sk-toggleable\"><input class=\"sk-toggleable__control sk-hidden--visually\" id=\"sk-estimator-id-1\" type=\"checkbox\" ><label for=\"sk-estimator-id-1\" class=\"sk-toggleable__label fitted sk-toggleable__label-arrow fitted\">&nbsp;&nbsp;Pipeline<a class=\"sk-estimator-doc-link fitted\" rel=\"noreferrer\" target=\"_blank\" href=\"https://scikit-learn.org/1.4/modules/generated/sklearn.pipeline.Pipeline.html\">?<span>Documentation for Pipeline</span></a><span class=\"sk-estimator-doc-link fitted\">i<span>Fitted</span></span></label><div class=\"sk-toggleable__content fitted\"><pre>Pipeline(steps=[(&#x27;clf&#x27;,\n",
       "                 MultiOutputClassifier(estimator=RandomForestClassifier(max_depth=30,\n",
       "                                                                        n_estimators=300,\n",
       "                                                                        random_state=42)))])</pre></div> </div></div><div class=\"sk-serial\"><div class=\"sk-item sk-dashed-wrapped\"><div class=\"sk-label-container\"><div class=\"sk-label fitted sk-toggleable\"><input class=\"sk-toggleable__control sk-hidden--visually\" id=\"sk-estimator-id-2\" type=\"checkbox\" ><label for=\"sk-estimator-id-2\" class=\"sk-toggleable__label fitted sk-toggleable__label-arrow fitted\">&nbsp;clf: MultiOutputClassifier<a class=\"sk-estimator-doc-link fitted\" rel=\"noreferrer\" target=\"_blank\" href=\"https://scikit-learn.org/1.4/modules/generated/sklearn.multioutput.MultiOutputClassifier.html\">?<span>Documentation for clf: MultiOutputClassifier</span></a></label><div class=\"sk-toggleable__content fitted\"><pre>MultiOutputClassifier(estimator=RandomForestClassifier(max_depth=30,\n",
       "                                                       n_estimators=300,\n",
       "                                                       random_state=42))</pre></div> </div></div><div class=\"sk-parallel\"><div class=\"sk-parallel-item\"><div class=\"sk-item\"><div class=\"sk-label-container\"><div class=\"sk-label fitted sk-toggleable\"><input class=\"sk-toggleable__control sk-hidden--visually\" id=\"sk-estimator-id-3\" type=\"checkbox\" ><label for=\"sk-estimator-id-3\" class=\"sk-toggleable__label fitted sk-toggleable__label-arrow fitted\">estimator: RandomForestClassifier</label><div class=\"sk-toggleable__content fitted\"><pre>RandomForestClassifier(max_depth=30, n_estimators=300, random_state=42)</pre></div> </div></div><div class=\"sk-serial\"><div class=\"sk-item\"><div class=\"sk-estimator fitted sk-toggleable\"><input class=\"sk-toggleable__control sk-hidden--visually\" id=\"sk-estimator-id-4\" type=\"checkbox\" ><label for=\"sk-estimator-id-4\" class=\"sk-toggleable__label fitted sk-toggleable__label-arrow fitted\">&nbsp;RandomForestClassifier<a class=\"sk-estimator-doc-link fitted\" rel=\"noreferrer\" target=\"_blank\" href=\"https://scikit-learn.org/1.4/modules/generated/sklearn.ensemble.RandomForestClassifier.html\">?<span>Documentation for RandomForestClassifier</span></a></label><div class=\"sk-toggleable__content fitted\"><pre>RandomForestClassifier(max_depth=30, n_estimators=300, random_state=42)</pre></div> </div></div></div></div></div></div></div></div></div></div></div>"
      ],
      "text/plain": [
       "Pipeline(steps=[('clf',\n",
       "                 MultiOutputClassifier(estimator=RandomForestClassifier(max_depth=30,\n",
       "                                                                        n_estimators=300,\n",
       "                                                                        random_state=42)))])"
      ]
     },
     "execution_count": 15,
     "metadata": {},
     "output_type": "execute_result"
    }
   ],
   "source": [
    "fittedgrid.best_estimator_"
   ]
  },
  {
   "cell_type": "code",
   "execution_count": 16,
   "id": "b0301f8a-3a63-49b3-9ad9-32b12d4c2230",
   "metadata": {
    "scrolled": true
   },
   "outputs": [
    {
     "data": {
      "text/plain": [
       "{'clf__estimator__n_estimators': 300, 'clf__estimator__max_depth': 30}"
      ]
     },
     "execution_count": 16,
     "metadata": {},
     "output_type": "execute_result"
    }
   ],
   "source": [
    "fittedgrid.best_params_"
   ]
  },
  {
   "cell_type": "code",
   "execution_count": 21,
   "id": "9f8aebad-edbf-4880-b0be-97375d3b3f42",
   "metadata": {},
   "outputs": [
    {
     "name": "stdout",
     "output_type": "stream",
     "text": [
      "Test Accuracy: 0.6157832283841045\n"
     ]
    }
   ],
   "source": [
    "test_score = pipe.score(X_test, y_test)\n",
    "print(\"Test Accuracy:\", test_score)"
   ]
  },
  {
   "cell_type": "markdown",
   "id": "c150f302-631b-4f82-b6ae-78d7b19a18b5",
   "metadata": {},
   "source": [
    "<a id=''></a>\n",
    "### Prediction Report"
   ]
  },
  {
   "cell_type": "markdown",
   "id": "8a1fc9ad-5671-4f21-8494-cefb014d639d",
   "metadata": {},
   "source": [
    "Checking the predictions using a classification report. "
   ]
  },
  {
   "cell_type": "code",
   "execution_count": 22,
   "id": "d69a1c60-f5f4-4bf8-b9f9-4c9b60fb5124",
   "metadata": {},
   "outputs": [
    {
     "name": "stdout",
     "output_type": "stream",
     "text": [
      "Classification Report:\n",
      "               precision    recall  f1-score   support\n",
      "\n",
      "           0       0.82      0.81      0.82    241602\n",
      "           1       0.69      0.58      0.63    113107\n",
      "           2       0.75      0.61      0.67    144335\n",
      "           3       0.73      0.15      0.25     11367\n",
      "           4       0.65      0.48      0.56      6754\n",
      "           5       0.69      0.47      0.56      8367\n",
      "           6       0.63      0.24      0.34     12675\n",
      "           7       0.62      0.02      0.05      3836\n",
      "\n",
      "   micro avg       0.77      0.67      0.72    542043\n",
      "   macro avg       0.70      0.42      0.48    542043\n",
      "weighted avg       0.76      0.67      0.70    542043\n",
      " samples avg       0.62      0.62      0.62    542043\n",
      "\n"
     ]
    }
   ],
   "source": [
    "y_pred = fittedgrid.best_estimator_.predict(X_test)\n",
    "\n",
    "# Generate classification report\n",
    "report = classification_report(y_test, y_pred)\n",
    "print(\"Classification Report:\\n\", report)"
   ]
  },
  {
   "cell_type": "markdown",
   "id": "11f9362f-65de-4d76-95ae-26cec3c5a973",
   "metadata": {},
   "source": [
    "It's important to note that the reason for the low score is from the class imbalance of number 3, 6, and 7. Which are `time_related`, `commercial_related`, `cycle_related`."
   ]
  },
  {
   "cell_type": "markdown",
   "id": "622d2919-2bb1-49c6-9441-5c1d9c5c055a",
   "metadata": {},
   "source": [
    "### Prediction Testing"
   ]
  },
  {
   "cell_type": "code",
   "execution_count": 24,
   "id": "3514839a-a072-4b22-8227-fe7731cac26f",
   "metadata": {
    "scrolled": true
   },
   "outputs": [
    {
     "data": {
      "text/html": [
       "<div>\n",
       "<style scoped>\n",
       "    .dataframe tbody tr th:only-of-type {\n",
       "        vertical-align: middle;\n",
       "    }\n",
       "\n",
       "    .dataframe tbody tr th {\n",
       "        vertical-align: top;\n",
       "    }\n",
       "\n",
       "    .dataframe thead th {\n",
       "        text-align: right;\n",
       "    }\n",
       "</style>\n",
       "<table border=\"1\" class=\"dataframe\">\n",
       "  <thead>\n",
       "    <tr style=\"text-align: right;\">\n",
       "      <th></th>\n",
       "      <th>latitude</th>\n",
       "      <th>longitude</th>\n",
       "    </tr>\n",
       "  </thead>\n",
       "  <tbody>\n",
       "    <tr>\n",
       "      <th>1180920</th>\n",
       "      <td>43.629106</td>\n",
       "      <td>-79.475411</td>\n",
       "    </tr>\n",
       "    <tr>\n",
       "      <th>4512486</th>\n",
       "      <td>43.704912</td>\n",
       "      <td>-79.388689</td>\n",
       "    </tr>\n",
       "    <tr>\n",
       "      <th>11521333</th>\n",
       "      <td>43.641681</td>\n",
       "      <td>-79.383041</td>\n",
       "    </tr>\n",
       "    <tr>\n",
       "      <th>2707075</th>\n",
       "      <td>43.648442</td>\n",
       "      <td>-79.398237</td>\n",
       "    </tr>\n",
       "    <tr>\n",
       "      <th>8580979</th>\n",
       "      <td>43.764867</td>\n",
       "      <td>-79.383870</td>\n",
       "    </tr>\n",
       "    <tr>\n",
       "      <th>...</th>\n",
       "      <td>...</td>\n",
       "      <td>...</td>\n",
       "    </tr>\n",
       "    <tr>\n",
       "      <th>1699382</th>\n",
       "      <td>43.655527</td>\n",
       "      <td>-79.385242</td>\n",
       "    </tr>\n",
       "    <tr>\n",
       "      <th>10329201</th>\n",
       "      <td>43.650837</td>\n",
       "      <td>-79.386621</td>\n",
       "    </tr>\n",
       "    <tr>\n",
       "      <th>835327</th>\n",
       "      <td>43.775587</td>\n",
       "      <td>-79.414671</td>\n",
       "    </tr>\n",
       "    <tr>\n",
       "      <th>4473564</th>\n",
       "      <td>43.655527</td>\n",
       "      <td>-79.385242</td>\n",
       "    </tr>\n",
       "    <tr>\n",
       "      <th>767835</th>\n",
       "      <td>43.684875</td>\n",
       "      <td>-79.352014</td>\n",
       "    </tr>\n",
       "  </tbody>\n",
       "</table>\n",
       "<p>1205397 rows × 2 columns</p>\n",
       "</div>"
      ],
      "text/plain": [
       "           latitude  longitude\n",
       "1180920   43.629106 -79.475411\n",
       "4512486   43.704912 -79.388689\n",
       "11521333  43.641681 -79.383041\n",
       "2707075   43.648442 -79.398237\n",
       "8580979   43.764867 -79.383870\n",
       "...             ...        ...\n",
       "1699382   43.655527 -79.385242\n",
       "10329201  43.650837 -79.386621\n",
       "835327    43.775587 -79.414671\n",
       "4473564   43.655527 -79.385242\n",
       "767835    43.684875 -79.352014\n",
       "\n",
       "[1205397 rows x 2 columns]"
      ]
     },
     "execution_count": 24,
     "metadata": {},
     "output_type": "execute_result"
    }
   ],
   "source": [
    "X_train"
   ]
  },
  {
   "cell_type": "code",
   "execution_count": 27,
   "id": "af543970-15d0-46de-93a3-cb1aed9a0914",
   "metadata": {
    "scrolled": true
   },
   "outputs": [
    {
     "data": {
      "text/plain": [
       "array([[0, 1, 0, 0, 0, 0, 0, 0],\n",
       "       [0, 1, 0, 0, 0, 0, 0, 0]])"
      ]
     },
     "execution_count": 27,
     "metadata": {},
     "output_type": "execute_result"
    }
   ],
   "source": [
    "my_predictions"
   ]
  },
  {
   "cell_type": "markdown",
   "id": "10a4f7b4-ae0c-42df-b616-4c4c77610948",
   "metadata": {},
   "source": [
    "Let's apply this as a demo situation, and code the output of this prediction."
   ]
  },
  {
   "cell_type": "code",
   "execution_count": 88,
   "id": "14d5739b-e24b-42bc-8eaa-48c5aacbbf89",
   "metadata": {},
   "outputs": [
    {
     "name": "stdout",
     "output_type": "stream",
     "text": [
      "This model predicts 'fee_related' parking tickets for this location with a fine of $150.\n"
     ]
    }
   ],
   "source": [
    "input_pred = np.array([[43.629106, -79.475411]])\n",
    "my_predictions = fittedgrid.best_estimator_.predict(input_pred)\n",
    "\n",
    "indices = np.where(my_predictions == 1)\n",
    "fine_amounts = parking_df.iloc[indices[0]]['set_fine_amount']\n",
    "labels = y.columns[indices[1]]\n",
    "\n",
    "# Print the fine amounts and labels\n",
    "for fine_amount, label in zip(fine_amounts, labels):\n",
    "    print(f\"This model predicts '{label}' parking tickets for this location with a fine of ${fine_amount}.\")"
   ]
  },
  {
   "cell_type": "markdown",
   "id": "8ec3970a-805d-4b3c-bd74-7edacc70e17a",
   "metadata": {},
   "source": [
    "Finally, let's save this model."
   ]
  },
  {
   "cell_type": "code",
   "execution_count": 20,
   "id": "c450eb33-75a2-4daa-862e-a59221519ed2",
   "metadata": {},
   "outputs": [
    {
     "data": {
      "text/plain": [
       "['model_custom_best.pkl']"
      ]
     },
     "execution_count": 20,
     "metadata": {},
     "output_type": "execute_result"
    }
   ],
   "source": [
    "import joblib \n",
    "\n",
    "# Save the model as a pickle in a file \n",
    "joblib.dump(fittedgrid, 'model_custom_best.pkl') "
   ]
  },
  {
   "cell_type": "markdown",
   "id": "5b6a8a0a-c25d-40f6-8e4b-e7da9b189f99",
   "metadata": {
    "jp-MarkdownHeadingCollapsed": true
   },
   "source": [
    "### References\n",
    "\n",
    "- Class Weight: https://stackoverflow.com/questions/58275113/proper-use-of-class-weight-parameter-in-random-forest-classifier\n",
    "- Multi-Output Classifier: https://calmcode.io/course/scikit-meta/multi-output#:~:text=Using%20the%20MultiOutputClassifier&text=Instead%20of%20making%20two%20pipelines,this%20by%20using%20a%20MultiOutputClassifier.\n",
    "- Tuning params for multiclassification output: https://datascience.stackexchange.com/questions/107867/how-to-train-multioutput-classification-with-hyperparameter-tuning-in-sklearn\n",
    "- Metrics for scoring parameters: https://scikit-learn.org/stable/modules/model_evaluation.html#the-scoring-parameter-defining-model-evaluation-rules\n",
    "- Random Forest Classifier: https://scikit-learn.org/stable/modules/generated/sklearn.ensemble.RandomForestClassifier.html\n",
    "- Class Weight for Random Forest Classifier: https://stackoverflow.com/questions/58275113/proper-use-of-class-weight-parameter-in-random-forest-classifier\n",
    "- RandomizedSearchCV: https://scikit-learn.org/stable/modules/generated/sklearn.model_selection.RandomizedSearchCV.html"
   ]
  },
  {
   "cell_type": "markdown",
   "id": "97c42ddb-9a72-4ede-bda1-f2b01b9c8879",
   "metadata": {},
   "source": [
    "### Source \n",
    "\n",
    "https://open.toronto.ca/dataset/parking-tickets/"
   ]
  },
  {
   "cell_type": "code",
   "execution_count": null,
   "id": "bed53351-1afb-4c3d-8e43-baa21184f0e1",
   "metadata": {},
   "outputs": [],
   "source": []
  }
 ],
 "metadata": {
  "kernelspec": {
   "display_name": "Python 3 (ipykernel)",
   "language": "python",
   "name": "python3"
  },
  "language_info": {
   "codemirror_mode": {
    "name": "ipython",
    "version": 3
   },
   "file_extension": ".py",
   "mimetype": "text/x-python",
   "name": "python",
   "nbconvert_exporter": "python",
   "pygments_lexer": "ipython3",
   "version": "3.11.8"
  }
 },
 "nbformat": 4,
 "nbformat_minor": 5
}
