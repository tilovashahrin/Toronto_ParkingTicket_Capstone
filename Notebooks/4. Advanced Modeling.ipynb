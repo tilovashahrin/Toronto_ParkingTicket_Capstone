{
 "cells": [
  {
   "cell_type": "code",
   "execution_count": 29,
   "id": "e4b93945-c6f6-4a52-a89e-b2229bd68897",
   "metadata": {},
   "outputs": [],
   "source": [
    "import numpy as np\n",
    "import pandas as pd\n",
    "import matplotlib.pyplot as plt\n",
    "%matplotlib inline\n",
    "import seaborn as sns\n",
    "import statsmodels.api as sm\n",
    "\n",
    "from sklearn.model_selection import train_test_split\n",
    "from sklearn.linear_model import LinearRegression\n",
    "from sklearn.metrics import mean_squared_error\n",
    "from sklearn.preprocessing import StandardScaler\n",
    "from sklearn.linear_model import LogisticRegression\n",
    "from sklearn.metrics import classification_report\n",
    "from sklearn.multioutput import MultiOutputClassifier\n",
    "from sklearn.ensemble import RandomForestClassifier\n",
    "from sklearn.metrics import accuracy_score\n",
    "from sklearn.model_selection import GridSearchCV"
   ]
  },
  {
   "cell_type": "code",
   "execution_count": 49,
   "id": "1dd8849c-d284-40d3-9522-e4f6f327e5df",
   "metadata": {},
   "outputs": [],
   "source": [
    "import warnings\n",
    "warnings.filterwarnings('ignore')"
   ]
  },
  {
   "cell_type": "code",
   "execution_count": 7,
   "id": "6bec9fb6-18d0-4561-9766-c86ba0427830",
   "metadata": {},
   "outputs": [],
   "source": [
    "parking_df = pd.read_csv('../data/parking_df.csv')"
   ]
  },
  {
   "cell_type": "code",
   "execution_count": 8,
   "id": "9c4b6a7a-0f8a-472e-95d7-74094c954daa",
   "metadata": {},
   "outputs": [
    {
     "data": {
      "text/html": [
       "<div>\n",
       "<style scoped>\n",
       "    .dataframe tbody tr th:only-of-type {\n",
       "        vertical-align: middle;\n",
       "    }\n",
       "\n",
       "    .dataframe tbody tr th {\n",
       "        vertical-align: top;\n",
       "    }\n",
       "\n",
       "    .dataframe thead th {\n",
       "        text-align: right;\n",
       "    }\n",
       "</style>\n",
       "<table border=\"1\" class=\"dataframe\">\n",
       "  <thead>\n",
       "    <tr style=\"text-align: right;\">\n",
       "      <th></th>\n",
       "      <th>datetime_of_infraction</th>\n",
       "      <th>time_of_infraction</th>\n",
       "      <th>year</th>\n",
       "      <th>month</th>\n",
       "      <th>day</th>\n",
       "      <th>infraction_code</th>\n",
       "      <th>infraction_description</th>\n",
       "      <th>set_fine_amount</th>\n",
       "      <th>location2</th>\n",
       "      <th>province</th>\n",
       "      <th>latitude</th>\n",
       "      <th>longitude</th>\n",
       "      <th>permit_time_restrictions</th>\n",
       "      <th>fee_related</th>\n",
       "      <th>time_related</th>\n",
       "      <th>fire_route</th>\n",
       "      <th>accessible_related</th>\n",
       "      <th>commercial_related</th>\n",
       "      <th>obstruction_related</th>\n",
       "      <th>cycle_related</th>\n",
       "    </tr>\n",
       "  </thead>\n",
       "  <tbody>\n",
       "    <tr>\n",
       "      <th>0</th>\n",
       "      <td>2016-12-30 16:37:00</td>\n",
       "      <td>16:37:00</td>\n",
       "      <td>2016</td>\n",
       "      <td>12</td>\n",
       "      <td>30</td>\n",
       "      <td>403.0</td>\n",
       "      <td>STOP-SIGNED HIGHWAY-RUSH HOUR</td>\n",
       "      <td>150</td>\n",
       "      <td>1546 BLOOR ST W, TORONTO, ON, CANADA</td>\n",
       "      <td>ON</td>\n",
       "      <td>43.656337</td>\n",
       "      <td>-79.453142</td>\n",
       "      <td>0</td>\n",
       "      <td>0</td>\n",
       "      <td>0</td>\n",
       "      <td>0</td>\n",
       "      <td>0</td>\n",
       "      <td>0</td>\n",
       "      <td>0</td>\n",
       "      <td>0</td>\n",
       "    </tr>\n",
       "    <tr>\n",
       "      <th>1</th>\n",
       "      <td>2016-12-30 16:37:00</td>\n",
       "      <td>16:37:00</td>\n",
       "      <td>2016</td>\n",
       "      <td>12</td>\n",
       "      <td>30</td>\n",
       "      <td>403.0</td>\n",
       "      <td>STOP-SIGNED HIGHWAY-RUSH HOUR</td>\n",
       "      <td>150</td>\n",
       "      <td>5418 YONGE ST, TORONTO, ON, CANADA</td>\n",
       "      <td>ON</td>\n",
       "      <td>43.775587</td>\n",
       "      <td>-79.414671</td>\n",
       "      <td>0</td>\n",
       "      <td>0</td>\n",
       "      <td>0</td>\n",
       "      <td>0</td>\n",
       "      <td>0</td>\n",
       "      <td>0</td>\n",
       "      <td>0</td>\n",
       "      <td>0</td>\n",
       "    </tr>\n",
       "    <tr>\n",
       "      <th>2</th>\n",
       "      <td>2016-12-30 16:37:00</td>\n",
       "      <td>16:37:00</td>\n",
       "      <td>2016</td>\n",
       "      <td>12</td>\n",
       "      <td>30</td>\n",
       "      <td>403.0</td>\n",
       "      <td>STOP-SIGNED HIGHWAY-RUSH HOUR</td>\n",
       "      <td>150</td>\n",
       "      <td>777 QUEEN ST W, TORONTO, ON, CANADA</td>\n",
       "      <td>ON</td>\n",
       "      <td>43.646259</td>\n",
       "      <td>-79.408080</td>\n",
       "      <td>0</td>\n",
       "      <td>0</td>\n",
       "      <td>0</td>\n",
       "      <td>0</td>\n",
       "      <td>0</td>\n",
       "      <td>0</td>\n",
       "      <td>0</td>\n",
       "      <td>0</td>\n",
       "    </tr>\n",
       "    <tr>\n",
       "      <th>3</th>\n",
       "      <td>2016-12-30 16:37:00</td>\n",
       "      <td>16:37:00</td>\n",
       "      <td>2016</td>\n",
       "      <td>12</td>\n",
       "      <td>30</td>\n",
       "      <td>403.0</td>\n",
       "      <td>STOP-SIGNED HIGHWAY-RUSH HOUR</td>\n",
       "      <td>150</td>\n",
       "      <td>747 QUEEN ST E, TORONTO, ON, CANADA</td>\n",
       "      <td>ON</td>\n",
       "      <td>43.659131</td>\n",
       "      <td>-79.348080</td>\n",
       "      <td>0</td>\n",
       "      <td>0</td>\n",
       "      <td>0</td>\n",
       "      <td>0</td>\n",
       "      <td>0</td>\n",
       "      <td>0</td>\n",
       "      <td>0</td>\n",
       "      <td>0</td>\n",
       "    </tr>\n",
       "    <tr>\n",
       "      <th>4</th>\n",
       "      <td>2016-12-30 16:37:00</td>\n",
       "      <td>16:37:00</td>\n",
       "      <td>2016</td>\n",
       "      <td>12</td>\n",
       "      <td>30</td>\n",
       "      <td>403.0</td>\n",
       "      <td>STOP-SIGNED HIGHWAY-RUSH HOUR</td>\n",
       "      <td>150</td>\n",
       "      <td>3042 DUNDAS ST W, TORONTO, ON, CANADA</td>\n",
       "      <td>ON</td>\n",
       "      <td>43.665651</td>\n",
       "      <td>-79.470785</td>\n",
       "      <td>0</td>\n",
       "      <td>0</td>\n",
       "      <td>0</td>\n",
       "      <td>0</td>\n",
       "      <td>0</td>\n",
       "      <td>0</td>\n",
       "      <td>0</td>\n",
       "      <td>0</td>\n",
       "    </tr>\n",
       "  </tbody>\n",
       "</table>\n",
       "</div>"
      ],
      "text/plain": [
       "  datetime_of_infraction time_of_infraction  year  month  day  \\\n",
       "0    2016-12-30 16:37:00           16:37:00  2016     12   30   \n",
       "1    2016-12-30 16:37:00           16:37:00  2016     12   30   \n",
       "2    2016-12-30 16:37:00           16:37:00  2016     12   30   \n",
       "3    2016-12-30 16:37:00           16:37:00  2016     12   30   \n",
       "4    2016-12-30 16:37:00           16:37:00  2016     12   30   \n",
       "\n",
       "   infraction_code         infraction_description  set_fine_amount  \\\n",
       "0            403.0  STOP-SIGNED HIGHWAY-RUSH HOUR              150   \n",
       "1            403.0  STOP-SIGNED HIGHWAY-RUSH HOUR              150   \n",
       "2            403.0  STOP-SIGNED HIGHWAY-RUSH HOUR              150   \n",
       "3            403.0  STOP-SIGNED HIGHWAY-RUSH HOUR              150   \n",
       "4            403.0  STOP-SIGNED HIGHWAY-RUSH HOUR              150   \n",
       "\n",
       "                               location2 province   latitude  longitude  \\\n",
       "0   1546 BLOOR ST W, TORONTO, ON, CANADA       ON  43.656337 -79.453142   \n",
       "1     5418 YONGE ST, TORONTO, ON, CANADA       ON  43.775587 -79.414671   \n",
       "2    777 QUEEN ST W, TORONTO, ON, CANADA       ON  43.646259 -79.408080   \n",
       "3    747 QUEEN ST E, TORONTO, ON, CANADA       ON  43.659131 -79.348080   \n",
       "4  3042 DUNDAS ST W, TORONTO, ON, CANADA       ON  43.665651 -79.470785   \n",
       "\n",
       "   permit_time_restrictions  fee_related  time_related  fire_route  \\\n",
       "0                         0            0             0           0   \n",
       "1                         0            0             0           0   \n",
       "2                         0            0             0           0   \n",
       "3                         0            0             0           0   \n",
       "4                         0            0             0           0   \n",
       "\n",
       "   accessible_related  commercial_related  obstruction_related  cycle_related  \n",
       "0                   0                   0                    0              0  \n",
       "1                   0                   0                    0              0  \n",
       "2                   0                   0                    0              0  \n",
       "3                   0                   0                    0              0  \n",
       "4                   0                   0                    0              0  "
      ]
     },
     "execution_count": 8,
     "metadata": {},
     "output_type": "execute_result"
    }
   ],
   "source": [
    "parking_df.head()"
   ]
  },
  {
   "cell_type": "code",
   "execution_count": 9,
   "id": "239e6978-a9b7-45db-9ba2-5110a1b8f58f",
   "metadata": {},
   "outputs": [],
   "source": [
    "parking_coord = parking_df[parking_df['latitude'] != 0.0]"
   ]
  },
  {
   "cell_type": "code",
   "execution_count": 48,
   "id": "2d88dada-117a-4c3b-8d51-7855a8f73b56",
   "metadata": {},
   "outputs": [],
   "source": [
    "df_numerical_copy = parking_coord[['latitude', 'longitude', 'permit_time_restrictions', 'fee_related', 'time_related', 'fire_route', 'accessible_related', 'commercial_related', 'obstruction_related', 'cycle_related']]\n",
    "\n",
    "X = df_numerical_copy[['latitude', 'longitude']]\n",
    "y = df_numerical_copy.drop(columns=['latitude', 'longitude'], axis=1)\n",
    "\n",
    "X_train, X_test, y_train, y_test = train_test_split(X, y, test_size=0.3, random_state=42)"
   ]
  },
  {
   "cell_type": "code",
   "execution_count": 26,
   "id": "4edd909b-2bbf-48f8-b69b-a244e972acab",
   "metadata": {},
   "outputs": [
    {
     "data": {
      "text/plain": [
       "Index(['permit_time_restrictions', 'fee_related', 'time_related', 'fire_route',\n",
       "       'accessible_related', 'commercial_related', 'obstruction_related',\n",
       "       'cycle_related'],\n",
       "      dtype='object')"
      ]
     },
     "execution_count": 26,
     "metadata": {},
     "output_type": "execute_result"
    }
   ],
   "source": [
    "y.columns"
   ]
  },
  {
   "cell_type": "code",
   "execution_count": 24,
   "id": "1b5045a5-f420-44f1-9dab-6bfc2396cfc1",
   "metadata": {},
   "outputs": [
    {
     "name": "stdout",
     "output_type": "stream",
     "text": [
      "Infraction: permit_time_restrictions, Accuracy: 0.7629070129829907\n",
      "Infraction: fee_related, Accuracy: 0.7810603582275614\n",
      "Infraction: time_related, Accuracy: 0.8876304445033769\n",
      "Infraction: fire_route, Accuracy: 0.9780119589855962\n",
      "Infraction: accessible_related, Accuracy: 0.9881319940611577\n",
      "Infraction: commercial_related, Accuracy: 0.9838036852568434\n",
      "Infraction: obstruction_related, Accuracy: 0.9914033902504651\n",
      "Infraction: cycle_related, Accuracy: 0.9972202811077838\n"
     ]
    }
   ],
   "source": [
    "models = {}\n",
    "\n",
    "for column in y.columns:\n",
    "    model = LogisticRegression()\n",
    "    model.fit(X_train, y_train[column])\n",
    "    \n",
    "    y_pred = model.predict(X_test)\n",
    "    accuracy = accuracy_score(y_test[column], y_pred)\n",
    "    \n",
    "    models[column] = {'model': model, 'accuracy': accuracy}\n",
    "\n",
    "for infraction, model_info in models.items():\n",
    "    print(f\"Infraction: {infraction}, Accuracy: {model_info['accuracy']}\")\n"
   ]
  },
  {
   "cell_type": "markdown",
   "id": "63178147-db29-41b4-a137-4d52a68ed6dd",
   "metadata": {},
   "source": [
    "Reference: https://calmcode.io/course/scikit-meta/multi-output#:~:text=Using%20the%20MultiOutputClassifier&text=Instead%20of%20making%20two%20pipelines,this%20by%20using%20a%20MultiOutputClassifier."
   ]
  },
  {
   "cell_type": "code",
   "execution_count": 70,
   "id": "d4535fba-693d-4d09-881d-94b2f1debcdc",
   "metadata": {},
   "outputs": [],
   "source": [
    "X_train, X_test, y_train, y_test = train_test_split(X, y, test_size=0.3, random_state=42)"
   ]
  },
  {
   "cell_type": "code",
   "execution_count": 66,
   "id": "84070e91-dff6-4171-b351-ee757cf0650e",
   "metadata": {},
   "outputs": [
    {
     "name": "stdout",
     "output_type": "stream",
     "text": [
      "              precision    recall  f1-score   support\n",
      "\n",
      "           0       0.77      0.63      0.69    122482\n",
      "           1       0.69      0.58      0.63    113104\n",
      "           2       0.77      0.67      0.72     58050\n",
      "           3       0.73      0.15      0.25     11359\n",
      "           4       0.65      0.53      0.58      6131\n",
      "           5       0.69      0.47      0.56      8367\n",
      "           6       0.74      0.03      0.06      4441\n",
      "           7       0.62      0.07      0.12      1436\n",
      "\n",
      "   micro avg       0.73      0.59      0.65    325370\n",
      "   macro avg       0.71      0.39      0.45    325370\n",
      "weighted avg       0.73      0.59      0.64    325370\n",
      " samples avg       0.30      0.30      0.30    325370\n",
      "\n"
     ]
    }
   ],
   "source": [
    "classifier = MultiOutputClassifier(RandomForestClassifier(random_state=42))\n",
    "\n",
    "classifier.fit(X_train, y_train)\n",
    "\n",
    "y_pred = classifier.predict(X_test)\n",
    "\n",
    "print(classification_report(y_test, y_pred))"
   ]
  },
  {
   "cell_type": "code",
   "execution_count": null,
   "id": "28cfda09-acdc-4ec6-8ff0-4c035db8c0c0",
   "metadata": {},
   "outputs": [],
   "source": [
    "forest = RandomForestClassifier(random_state=42)\n",
    "classifier = MultiOutputClassifier(forest)\n",
    "\n",
    "classifier.fit(X_train, y_train)\n",
    "\n",
    "y_pred = classifier.predict(X_test)\n",
    "\n",
    "print(classification_report(y_test, y_pred))"
   ]
  },
  {
   "cell_type": "markdown",
   "id": "74eaca08-2d9e-4afd-9301-de9bcada42c1",
   "metadata": {},
   "source": [
    "put rf or clf the same variable"
   ]
  },
  {
   "cell_type": "code",
   "execution_count": 83,
   "id": "f6cdf263-041d-4f65-a16a-e5c04d966d79",
   "metadata": {},
   "outputs": [
    {
     "data": {
      "text/plain": [
       "0.6879978474600222"
      ]
     },
     "execution_count": 83,
     "metadata": {},
     "output_type": "execute_result"
    }
   ],
   "source": [
    "rf = RandomForestClassifier(random_state=42)\n",
    "pipe = Pipeline(steps=[('clf', MultiOutputClassifier(rf))])\n",
    "param_grid = {\n",
    "    'clf__estimator__n_estimators': [100, 300],  #Number of trees in the forest\n",
    "    'clf__estimator__max_depth': [2, 15, 30],  #Maximum depth of the trees\n",
    "}\n",
    "\n",
    "\n",
    "#fit\n",
    "pipe.fit(X_train, y_train)\n",
    "\n",
    "#score\n",
    "pipe.score(X_test, y_test)"
   ]
  },
  {
   "cell_type": "code",
   "execution_count": 84,
   "id": "d1e3de8b-8144-4d5a-ae48-b80b28c8ab4c",
   "metadata": {},
   "outputs": [],
   "source": [
    "search = RandomizedSearchCV(\n",
    "    estimator=pipe,\n",
    "    param_distributions=param_grid,\n",
    "    scoring='accuracy',\n",
    "    refit='precision_micro',\n",
    "    cv = 3,\n",
    "    verbose= 2\n",
    ")"
   ]
  },
  {
   "cell_type": "markdown",
   "id": "6fc35638-f3e9-4e21-83ed-7938b83ca02e",
   "metadata": {},
   "source": []
  },
  {
   "cell_type": "code",
   "execution_count": null,
   "id": "633fb886-2e4c-4d6a-abbb-cb1c05759730",
   "metadata": {},
   "outputs": [
    {
     "name": "stdout",
     "output_type": "stream",
     "text": [
      "Fitting 3 folds for each of 6 candidates, totalling 18 fits\n",
      "[CV] END clf__estimator__max_depth=2, clf__estimator__n_estimators=100; total time= 2.7min\n",
      "[CV] END clf__estimator__max_depth=2, clf__estimator__n_estimators=100; total time= 2.7min\n",
      "[CV] END clf__estimator__max_depth=2, clf__estimator__n_estimators=100; total time= 2.7min\n",
      "[CV] END clf__estimator__max_depth=2, clf__estimator__n_estimators=300; total time= 7.8min\n",
      "[CV] END clf__estimator__max_depth=2, clf__estimator__n_estimators=300; total time= 7.8min\n",
      "[CV] END clf__estimator__max_depth=2, clf__estimator__n_estimators=300; total time= 7.9min\n",
      "[CV] END clf__estimator__max_depth=15, clf__estimator__n_estimators=100; total time= 7.9min\n",
      "[CV] END clf__estimator__max_depth=15, clf__estimator__n_estimators=100; total time= 7.9min\n",
      "[CV] END clf__estimator__max_depth=15, clf__estimator__n_estimators=100; total time= 7.9min\n",
      "[CV] END clf__estimator__max_depth=15, clf__estimator__n_estimators=300; total time=23.7min\n",
      "[CV] END clf__estimator__max_depth=15, clf__estimator__n_estimators=300; total time=23.5min\n",
      "[CV] END clf__estimator__max_depth=15, clf__estimator__n_estimators=300; total time=23.7min\n"
     ]
    }
   ],
   "source": [
    "#fit\n",
    "fittedgrid = search.fit(X_train, y_train)"
   ]
  },
  {
   "cell_type": "code",
   "execution_count": null,
   "id": "5c1392aa-438a-476d-a270-0027056dd69e",
   "metadata": {},
   "outputs": [],
   "source": [
    "fittedgrid.score(X_train, y_test)"
   ]
  },
  {
   "cell_type": "code",
   "execution_count": 52,
   "id": "de4f6965-31a5-48b7-a085-97ed768adaa3",
   "metadata": {},
   "outputs": [
    {
     "ename": "NameError",
     "evalue": "name 'fittedgrid' is not defined",
     "output_type": "error",
     "traceback": [
      "\u001b[0;31m---------------------------------------------------------------------------\u001b[0m",
      "\u001b[0;31mNameError\u001b[0m                                 Traceback (most recent call last)",
      "Cell \u001b[0;32mIn[52], line 1\u001b[0m\n\u001b[0;32m----> 1\u001b[0m fittedgrid\u001b[38;5;241m.\u001b[39mbest_estimator_\n",
      "\u001b[0;31mNameError\u001b[0m: name 'fittedgrid' is not defined"
     ]
    }
   ],
   "source": [
    "fittedgrid.best_estimator_"
   ]
  },
  {
   "cell_type": "code",
   "execution_count": null,
   "id": "b0301f8a-3a63-49b3-9ad9-32b12d4c2230",
   "metadata": {},
   "outputs": [],
   "source": [
    "fittedgrid.best_params_"
   ]
  }
 ],
 "metadata": {
  "kernelspec": {
   "display_name": "Python 3 (ipykernel)",
   "language": "python",
   "name": "python3"
  },
  "language_info": {
   "codemirror_mode": {
    "name": "ipython",
    "version": 3
   },
   "file_extension": ".py",
   "mimetype": "text/x-python",
   "name": "python",
   "nbconvert_exporter": "python",
   "pygments_lexer": "ipython3",
   "version": "3.11.8"
  }
 },
 "nbformat": 4,
 "nbformat_minor": 5
}
