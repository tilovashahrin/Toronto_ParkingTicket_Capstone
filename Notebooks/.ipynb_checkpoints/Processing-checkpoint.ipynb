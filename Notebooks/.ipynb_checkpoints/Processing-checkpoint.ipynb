{
 "cells": [
  {
   "cell_type": "markdown",
   "id": "c9f88348",
   "metadata": {},
   "source": [
    "# Processing\n",
    "\n",
    "## Author: Tilova Shahrin"
   ]
  },
  {
   "cell_type": "code",
   "execution_count": 2,
   "id": "ec75e47c",
   "metadata": {},
   "outputs": [],
   "source": [
    "import numpy as np\n",
    "import pandas as pd\n",
    "import matplotlib.pyplot as plt\n",
    "%matplotlib inline\n",
    "import statsmodels.api as sm\n",
    "from scipy import stats\n",
    "import seaborn as sns\n",
    "import os\n",
    "import glob\n",
    "import datetime"
   ]
  },
  {
   "cell_type": "markdown",
   "id": "a50f8666",
   "metadata": {},
   "source": [
    "Recall we downloaded a new csv file from our cleaning in the last file `Cleaning and EDA`. Let's upload the file into a dataframe."
   ]
  },
  {
   "cell_type": "code",
   "execution_count": 3,
   "id": "8a4af098",
   "metadata": {},
   "outputs": [],
   "source": [
    "parking_df = pd.read_csv('../data/parking_df.csv')"
   ]
  },
  {
   "cell_type": "code",
   "execution_count": 4,
   "id": "1fed15bc",
   "metadata": {},
   "outputs": [
    {
     "data": {
      "text/html": [
       "<div>\n",
       "<style scoped>\n",
       "    .dataframe tbody tr th:only-of-type {\n",
       "        vertical-align: middle;\n",
       "    }\n",
       "\n",
       "    .dataframe tbody tr th {\n",
       "        vertical-align: top;\n",
       "    }\n",
       "\n",
       "    .dataframe thead th {\n",
       "        text-align: right;\n",
       "    }\n",
       "</style>\n",
       "<table border=\"1\" class=\"dataframe\">\n",
       "  <thead>\n",
       "    <tr style=\"text-align: right;\">\n",
       "      <th></th>\n",
       "      <th>date_of_infraction</th>\n",
       "      <th>infraction_code</th>\n",
       "      <th>infraction_description</th>\n",
       "      <th>set_fine_amount</th>\n",
       "      <th>time_of_infraction</th>\n",
       "      <th>location1</th>\n",
       "      <th>location2</th>\n",
       "      <th>location3</th>\n",
       "      <th>location4</th>\n",
       "      <th>province</th>\n",
       "      <th>datetime_of_infraction</th>\n",
       "    </tr>\n",
       "  </thead>\n",
       "  <tbody>\n",
       "    <tr>\n",
       "      <th>0</th>\n",
       "      <td>2016-12-30</td>\n",
       "      <td>403.0</td>\n",
       "      <td>STOP-SIGNED HIGHWAY-RUSH HOUR</td>\n",
       "      <td>150</td>\n",
       "      <td>16:37:00</td>\n",
       "      <td>N/S</td>\n",
       "      <td>1546 BLOOR ST W</td>\n",
       "      <td>NaN</td>\n",
       "      <td>NaN</td>\n",
       "      <td>ON</td>\n",
       "      <td>2016-12-30 16:37:00</td>\n",
       "    </tr>\n",
       "    <tr>\n",
       "      <th>1</th>\n",
       "      <td>2016-12-30</td>\n",
       "      <td>403.0</td>\n",
       "      <td>STOP-SIGNED HIGHWAY-RUSH HOUR</td>\n",
       "      <td>150</td>\n",
       "      <td>16:37:00</td>\n",
       "      <td>N/S</td>\n",
       "      <td>5418 YONGE ST</td>\n",
       "      <td>NaN</td>\n",
       "      <td>NaN</td>\n",
       "      <td>ON</td>\n",
       "      <td>2016-12-30 16:37:00</td>\n",
       "    </tr>\n",
       "    <tr>\n",
       "      <th>2</th>\n",
       "      <td>2016-12-30</td>\n",
       "      <td>403.0</td>\n",
       "      <td>STOP-SIGNED HIGHWAY-RUSH HOUR</td>\n",
       "      <td>150</td>\n",
       "      <td>16:37:00</td>\n",
       "      <td>OPP</td>\n",
       "      <td>777 QUEEN ST W</td>\n",
       "      <td>NaN</td>\n",
       "      <td>NaN</td>\n",
       "      <td>ON</td>\n",
       "      <td>2016-12-30 16:37:00</td>\n",
       "    </tr>\n",
       "    <tr>\n",
       "      <th>3</th>\n",
       "      <td>2016-12-30</td>\n",
       "      <td>403.0</td>\n",
       "      <td>STOP-SIGNED HIGHWAY-RUSH HOUR</td>\n",
       "      <td>150</td>\n",
       "      <td>16:37:00</td>\n",
       "      <td>N/S</td>\n",
       "      <td>747 QUEEN ST E</td>\n",
       "      <td>NaN</td>\n",
       "      <td>NaN</td>\n",
       "      <td>ON</td>\n",
       "      <td>2016-12-30 16:37:00</td>\n",
       "    </tr>\n",
       "    <tr>\n",
       "      <th>4</th>\n",
       "      <td>2016-12-30</td>\n",
       "      <td>403.0</td>\n",
       "      <td>STOP-SIGNED HIGHWAY-RUSH HOUR</td>\n",
       "      <td>150</td>\n",
       "      <td>16:37:00</td>\n",
       "      <td>N/S</td>\n",
       "      <td>3042 DUNDAS ST W</td>\n",
       "      <td>NaN</td>\n",
       "      <td>NaN</td>\n",
       "      <td>ON</td>\n",
       "      <td>2016-12-30 16:37:00</td>\n",
       "    </tr>\n",
       "  </tbody>\n",
       "</table>\n",
       "</div>"
      ],
      "text/plain": [
       "  date_of_infraction  infraction_code         infraction_description  \\\n",
       "0         2016-12-30            403.0  STOP-SIGNED HIGHWAY-RUSH HOUR   \n",
       "1         2016-12-30            403.0  STOP-SIGNED HIGHWAY-RUSH HOUR   \n",
       "2         2016-12-30            403.0  STOP-SIGNED HIGHWAY-RUSH HOUR   \n",
       "3         2016-12-30            403.0  STOP-SIGNED HIGHWAY-RUSH HOUR   \n",
       "4         2016-12-30            403.0  STOP-SIGNED HIGHWAY-RUSH HOUR   \n",
       "\n",
       "   set_fine_amount time_of_infraction location1         location2 location3  \\\n",
       "0              150           16:37:00       N/S   1546 BLOOR ST W       NaN   \n",
       "1              150           16:37:00       N/S     5418 YONGE ST       NaN   \n",
       "2              150           16:37:00       OPP    777 QUEEN ST W       NaN   \n",
       "3              150           16:37:00       N/S    747 QUEEN ST E       NaN   \n",
       "4              150           16:37:00       N/S  3042 DUNDAS ST W       NaN   \n",
       "\n",
       "  location4 province datetime_of_infraction  \n",
       "0       NaN       ON    2016-12-30 16:37:00  \n",
       "1       NaN       ON    2016-12-30 16:37:00  \n",
       "2       NaN       ON    2016-12-30 16:37:00  \n",
       "3       NaN       ON    2016-12-30 16:37:00  \n",
       "4       NaN       ON    2016-12-30 16:37:00  "
      ]
     },
     "execution_count": 4,
     "metadata": {},
     "output_type": "execute_result"
    }
   ],
   "source": [
    "parking_df.head()"
   ]
  },
  {
   "cell_type": "code",
   "execution_count": 5,
   "id": "4cbc49c7",
   "metadata": {},
   "outputs": [
    {
     "name": "stdout",
     "output_type": "stream",
     "text": [
      "<class 'pandas.core.frame.DataFrame'>\n",
      "RangeIndex: 13353939 entries, 0 to 13353938\n",
      "Data columns (total 11 columns):\n",
      " #   Column                  Dtype  \n",
      "---  ------                  -----  \n",
      " 0   date_of_infraction      object \n",
      " 1   infraction_code         float64\n",
      " 2   infraction_description  object \n",
      " 3   set_fine_amount         int64  \n",
      " 4   time_of_infraction      object \n",
      " 5   location1               object \n",
      " 6   location2               object \n",
      " 7   location3               object \n",
      " 8   location4               object \n",
      " 9   province                object \n",
      " 10  datetime_of_infraction  object \n",
      "dtypes: float64(1), int64(1), object(9)\n",
      "memory usage: 1.1+ GB\n"
     ]
    }
   ],
   "source": [
    "parking_df.info()"
   ]
  },
  {
   "cell_type": "code",
   "execution_count": 7,
   "id": "b60ef3af",
   "metadata": {},
   "outputs": [
    {
     "data": {
      "text/plain": [
       "date_of_infraction               0\n",
       "infraction_code                  2\n",
       "infraction_description           0\n",
       "set_fine_amount                  0\n",
       "time_of_infraction               0\n",
       "location1                        0\n",
       "location2                        0\n",
       "location3                 12376426\n",
       "location4                 12374286\n",
       "province                         3\n",
       "datetime_of_infraction           0\n",
       "dtype: int64"
      ]
     },
     "execution_count": 7,
     "metadata": {},
     "output_type": "execute_result"
    }
   ],
   "source": [
    "parking_df.isna().sum()"
   ]
  },
  {
   "cell_type": "markdown",
   "id": "0b96023a",
   "metadata": {},
   "source": [
    "I want to find a way to produce geospatial analysis for my machine learning models. With that, I need geo coordinates `latitude` and `longitude`. "
   ]
  },
  {
   "cell_type": "markdown",
   "id": "450969e1",
   "metadata": {},
   "source": [
    "We're going to use this code snippet to change address to a coordinate. However, we need to run this geolocator a lot of times.  "
   ]
  },
  {
   "cell_type": "code",
   "execution_count": null,
   "id": "04e7f299",
   "metadata": {},
   "outputs": [],
   "source": [
    "import pandas as pd\n",
    "from geopy.geocoders import Nominatim\n",
    "\n",
    "geolocator = Nominatim(user_agent=\"toronto-parking-application\")\n",
    "location = geolocator.geocode(\"Edward St Toronto ON Canada\")\n",
    "print(location.address)\n",
    "print((location.latitude, location.longitude))"
   ]
  },
  {
   "cell_type": "markdown",
   "id": "b0dc3071",
   "metadata": {},
   "source": [
    "Recall the shape. That is a lot of rows to process, even after cleaning this is going to take a while. We need to find a way to reduce the amount of API calls!"
   ]
  },
  {
   "cell_type": "code",
   "execution_count": null,
   "id": "10df9fbc",
   "metadata": {},
   "outputs": [],
   "source": [
    "df_parking.shape"
   ]
  },
  {
   "cell_type": "markdown",
   "id": "8ab2a9b7",
   "metadata": {},
   "source": [
    "Let's get the unique values of the addresses, and apply those addresses onto any duplicate addresses. Recall the addresses with the most tickets. Some have about 30 thousand tickets. To reduce, we get the unique value, add to dictionary and find a way to use that same address after getting the coordinate. "
   ]
  },
  {
   "cell_type": "code",
   "execution_count": null,
   "id": "4a5df9dd",
   "metadata": {},
   "outputs": [],
   "source": [
    "df_merged['location2'].value_counts().sum()"
   ]
  },
  {
   "cell_type": "markdown",
   "id": "47cf2e44",
   "metadata": {},
   "source": [
    "That is a lot less than the number of rows. We can use these addresses and process them onto the API. "
   ]
  },
  {
   "cell_type": "code",
   "execution_count": null,
   "id": "bd3107cf",
   "metadata": {},
   "outputs": [],
   "source": [
    "df_merged['location2'].value_counts().head(20)"
   ]
  },
  {
   "cell_type": "markdown",
   "id": "20c2efc6",
   "metadata": {},
   "source": [
    "Let's apply the code snippet from before to get the coordinates of these unique values. "
   ]
  },
  {
   "cell_type": "code",
   "execution_count": null,
   "id": "24aff9d3",
   "metadata": {},
   "outputs": [],
   "source": [
    "from geopy.geocoders import Nominatim\n",
    "import time\n",
    "import json\n",
    "from functools import lru_cache\n",
    "\n",
    "@lru_cache(maxsize=None)\n",
    "# Function to geocode address\n",
    "def geocode_address(address):\n",
    "    geolocator = Nominatim(user_agent=\"toronto-parking-application\")\n",
    "    location = geolocator.geocode(address, timeout=10)\n",
    "    if location:\n",
    "        return location.latitude, location.longitude\n",
    "    else:\n",
    "        return None, None\n",
    "    \n",
    "# get the unique values of locations\n",
    "unique_addresses = df_merged['location2'].str.lower().unique()\n",
    "\n",
    "# create dict\n",
    "try:\n",
    "    with open('address_data.json', 'r') as json_file:\n",
    "        address_dict = json.load(json_file)\n",
    "except FileNotFoundError:\n",
    "    # if the file does not exist, initialize an empty dictionary\n",
    "    address_dict = {}\n",
    "    \n",
    "counter = 0 \n",
    "# loop through addresses\n",
    "for address in unique_addresses:\n",
    "    # check if address is not already in the dictionary\n",
    "    if address not in address_dict.keys():\n",
    "        try:\n",
    "            # add the address to the dictionary \n",
    "            address += ', toronto, on, canada'\n",
    "            address_dict[address] = geocode_address(address)\n",
    "            counter += 1\n",
    "\n",
    "            # keep a counter, if counter at 100, save dict to json and counter to 0, otherwise increase counter\n",
    "            if counter == 100:\n",
    "                # Save the dictionary to a JSON file\n",
    "                with open('address_data.json', 'w') as json_file:\n",
    "                    json.dump(address_dict, json_file)\n",
    "\n",
    "                # Reset the counter\n",
    "                counter = 0\n",
    "\n",
    "                #sleep for second \n",
    "                time.sleep(1)\n",
    "        except Exception as e:\n",
    "            print(f\"An error occurred: {e}\")\n",
    "            print(\"Saving the collected data to a JSON file.\")\n",
    "            with open('address_data.json', 'w') as json_file:\n",
    "                json.dump(address_dict, json_file)\n",
    "            raise"
   ]
  },
  {
   "cell_type": "code",
   "execution_count": null,
   "id": "9ad6e28e",
   "metadata": {},
   "outputs": [],
   "source": []
  },
  {
   "cell_type": "code",
   "execution_count": null,
   "id": "0ec153d1",
   "metadata": {},
   "outputs": [],
   "source": []
  }
 ],
 "metadata": {
  "kernelspec": {
   "display_name": "Python 3 (ipykernel)",
   "language": "python",
   "name": "python3"
  },
  "language_info": {
   "codemirror_mode": {
    "name": "ipython",
    "version": 3
   },
   "file_extension": ".py",
   "mimetype": "text/x-python",
   "name": "python",
   "nbconvert_exporter": "python",
   "pygments_lexer": "ipython3",
   "version": "3.11.8"
  }
 },
 "nbformat": 4,
 "nbformat_minor": 5
}
