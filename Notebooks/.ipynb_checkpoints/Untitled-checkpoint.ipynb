{
 "cells": [
  {
   "cell_type": "code",
   "execution_count": 3,
   "id": "8089e7b3",
   "metadata": {},
   "outputs": [
    {
     "name": "stdout",
     "output_type": "stream",
     "text": [
      "Toronto Style!, 1546, Bloor Street West, High Park North, Parkdale—High Park, Old Toronto, Toronto, Golden Horseshoe, Ontario, M6P, Canada\n",
      "(43.656337, -79.4531425)\n"
     ]
    }
   ],
   "source": [
    "import pandas as pd\n",
    "from geopy.geocoders import Nominatim\n",
    "\n",
    "geolocator = Nominatim(user_agent=\"toronto-parking-application\")\n",
    "location = geolocator.geocode(\"1546 BLOOR ST W, Toronto, Ontario, Canada\")\n",
    "print(location.address)\n",
    "print((location.latitude, location.longitude))"
   ]
  },
  {
   "cell_type": "code",
   "execution_count": 58,
   "id": "50b6e041",
   "metadata": {},
   "outputs": [
    {
     "data": {
      "text/html": [
       "<div>\n",
       "<style scoped>\n",
       "    .dataframe tbody tr th:only-of-type {\n",
       "        vertical-align: middle;\n",
       "    }\n",
       "\n",
       "    .dataframe tbody tr th {\n",
       "        vertical-align: top;\n",
       "    }\n",
       "\n",
       "    .dataframe thead th {\n",
       "        text-align: right;\n",
       "    }\n",
       "</style>\n",
       "<table border=\"1\" class=\"dataframe\">\n",
       "  <thead>\n",
       "    <tr style=\"text-align: right;\">\n",
       "      <th></th>\n",
       "      <th>location1</th>\n",
       "      <th>location2</th>\n",
       "      <th>location3</th>\n",
       "      <th>location4</th>\n",
       "      <th>Address1</th>\n",
       "      <th>Coordinates1</th>\n",
       "    </tr>\n",
       "  </thead>\n",
       "  <tbody>\n",
       "    <tr>\n",
       "      <th>0</th>\n",
       "      <td>0.1</td>\n",
       "      <td>Edward St</td>\n",
       "      <td>None</td>\n",
       "      <td>None</td>\n",
       "      <td>Edward St, Toronto, ON, Canada</td>\n",
       "      <td>(43.6566007, -79.3831637)</td>\n",
       "    </tr>\n",
       "    <tr>\n",
       "      <th>1</th>\n",
       "      <td>N/S</td>\n",
       "      <td>3042 DUNDAS ST W</td>\n",
       "      <td>S/S</td>\n",
       "      <td>3042 DUNDAS ST W</td>\n",
       "      <td>3042 DUNDAS ST W, Toronto, ON, Canada</td>\n",
       "      <td>(43.66565085, -79.47078452139219)</td>\n",
       "    </tr>\n",
       "    <tr>\n",
       "      <th>2</th>\n",
       "      <td>W/S</td>\n",
       "      <td>LEADER LANE</td>\n",
       "      <td>55</td>\n",
       "      <td>KING ST E</td>\n",
       "      <td>LEADER LANE, Toronto, ON, Canada</td>\n",
       "      <td>(43.648711, -79.3753237)</td>\n",
       "    </tr>\n",
       "    <tr>\n",
       "      <th>3</th>\n",
       "      <td>747</td>\n",
       "      <td>QUEEN ST E</td>\n",
       "      <td>0</td>\n",
       "      <td>777 QUEEN ST W</td>\n",
       "      <td>747 QUEEN ST E, Toronto, ON, Canada</td>\n",
       "      <td>(43.659131, -79.3480803)</td>\n",
       "    </tr>\n",
       "  </tbody>\n",
       "</table>\n",
       "</div>"
      ],
      "text/plain": [
       "  location1         location2 location3         location4  \\\n",
       "0       0.1         Edward St      None              None   \n",
       "1       N/S  3042 DUNDAS ST W       S/S  3042 DUNDAS ST W   \n",
       "2       W/S       LEADER LANE        55         KING ST E   \n",
       "3       747        QUEEN ST E         0    777 QUEEN ST W   \n",
       "\n",
       "                                Address1                       Coordinates1  \n",
       "0         Edward St, Toronto, ON, Canada          (43.6566007, -79.3831637)  \n",
       "1  3042 DUNDAS ST W, Toronto, ON, Canada  (43.66565085, -79.47078452139219)  \n",
       "2       LEADER LANE, Toronto, ON, Canada           (43.648711, -79.3753237)  \n",
       "3    747 QUEEN ST E, Toronto, ON, Canada           (43.659131, -79.3480803)  "
      ]
     },
     "execution_count": 58,
     "metadata": {},
     "output_type": "execute_result"
    }
   ],
   "source": [
    "import pandas as pd\n",
    "import numpy as np\n",
    "from geopy.geocoders import Nominatim\n",
    "\n",
    "\n",
    "data = {\n",
    "    'location1': ['0.1', 'N/S', 'W/S', '747'],\n",
    "    'location2': ['Edward St', '3042 DUNDAS ST W', 'LEADER LANE', 'QUEEN ST E'],\n",
    "    'location3': [None, 'S/S', '55', '0'],\n",
    "    'location4': [None, '3042 DUNDAS ST W', 'KING ST E', '777 QUEEN ST W']\n",
    "}\n",
    "df = pd.DataFrame(data)\n",
    "\n",
    "\n",
    "def geocode_address(address):\n",
    "    geolocator = Nominatim(user_agent=\"toronto-parking-application\")\n",
    "    location = geolocator.geocode(address, timeout=10)\n",
    "    if location:\n",
    "        return location.latitude, location.longitude\n",
    "    else:\n",
    "        return None, None\n",
    "\n",
    "def combine_address(row, columns):\n",
    "    if row[columns[0]] is None and row[columns[1]] is None:\n",
    "        return ''\n",
    "    if str(row[columns[0]]).isdigit() and int(row[columns[0]]) != 0:\n",
    "        add = str(row[columns[0]]) + ' ' + str(row[columns[1]]) + ', Toronto, ON, Canada'\n",
    "        return add\n",
    "    else:\n",
    "        return str(row[columns[1]]) + ', Toronto, ON, Canada'\n",
    "    \n",
    "\n",
    "#combine addresses from location1 & location2 into a single string column\n",
    "df['Address1'] = df.apply(lambda row: combine_address(row, ['location1', 'location2']), axis=1)\n",
    "\n",
    "#location3 & location4\n",
    "#df['Address2'] = df.apply(lambda row: combine_address(row, ['location3', 'location4']), axis=1)\n",
    "\n",
    "\n",
    "#obtain coordinates\n",
    "df['Coordinates1'] = df['Address1'].apply(geocode_address)\n",
    "#df['Coordinates2'] = df['Address2'].apply(geocode_address)\n",
    "\n",
    "# Find intersection of coordinates\n",
    "#df['Intersection'] = df.apply(lambda row: set(row['Coordinates1']).intersection(set(row['Coordinates2'])), axis=1)\n",
    "\n",
    "\n",
    "df.head()"
   ]
  },
  {
   "cell_type": "code",
   "execution_count": 64,
   "id": "9d2ed218",
   "metadata": {},
   "outputs": [
    {
     "data": {
      "text/plain": [
       "array(['0.1', 'N/S', 'W/S', '747'], dtype=object)"
      ]
     },
     "execution_count": 64,
     "metadata": {},
     "output_type": "execute_result"
    }
   ],
   "source": [
    "df['location1'].unique()"
   ]
  },
  {
   "cell_type": "code",
   "execution_count": null,
   "id": "6f21d9d3",
   "metadata": {},
   "outputs": [],
   "source": [
    "from geopy.geocoders import Nominatim\n",
    "from functools import lru_cache\n",
    "\n",
    "# get the unique values of locations\n",
    "unique_address = df_merged['location2'].str.lower().unique()\n",
    "\n",
    "# create empty dict\n",
    "address = {}\n",
    "\n",
    "# loop through addresses\n",
    "for (columnName, columnData) in df_merged.iteritems():\n",
    "# check if address is in the dict already, if yes skip, if not look at API and save in dict\n",
    "\n",
    "# keep a counter, if counter at 100, save dict to json and counter to 0, otherwise increase counter\n",
    "\n",
    "#sleep for second \n",
    "\n",
    "# have some prints logging the progress\n",
    "\n",
    "# continue"
   ]
  }
 ],
 "metadata": {
  "kernelspec": {
   "display_name": "parking_capstone",
   "language": "python",
   "name": "parking_capstone"
  },
  "language_info": {
   "codemirror_mode": {
    "name": "ipython",
    "version": 3
   },
   "file_extension": ".py",
   "mimetype": "text/x-python",
   "name": "python",
   "nbconvert_exporter": "python",
   "pygments_lexer": "ipython3",
   "version": "3.9.18"
  }
 },
 "nbformat": 4,
 "nbformat_minor": 5
}
