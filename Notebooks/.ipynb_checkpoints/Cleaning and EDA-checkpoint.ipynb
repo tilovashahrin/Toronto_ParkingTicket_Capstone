{
 "cells": [
  {
   "cell_type": "code",
   "execution_count": 1,
   "id": "58c0d700",
   "metadata": {},
   "outputs": [],
   "source": [
    "import numpy as np\n",
    "import pandas as pd\n",
    "import matplotlib.pyplot as plt\n",
    "%matplotlib inline\n",
    "import statsmodels.api as sm\n",
    "from scipy import stats\n",
    "import seaborn as sns\n",
    "import os\n",
    "import glob\n",
    "import datetime"
   ]
  },
  {
   "cell_type": "markdown",
   "id": "202c1fca",
   "metadata": {},
   "source": [
    "### Combining 2016 Data"
   ]
  },
  {
   "cell_type": "code",
   "execution_count": 2,
   "id": "37b5039f",
   "metadata": {},
   "outputs": [],
   "source": [
    "#read the path\n",
    "file_path_2016 = \"../data/parking-tickets-2016\"\n",
    "#list all the files from the directory\n",
    "file_list_2016 = os.listdir(file_path_2016)"
   ]
  },
  {
   "cell_type": "code",
   "execution_count": 3,
   "id": "17c34a90",
   "metadata": {},
   "outputs": [],
   "source": [
    "df_2016 = pd.DataFrame()\n",
    "\n",
    "# Append all files together\n",
    "for file in file_list_2016:\n",
    "    df_temp = pd.read_csv(f'../data/parking-tickets-2016/{file}')\n",
    "    df_2016 = pd.concat([df_2016, df_temp], ignore_index=True)"
   ]
  },
  {
   "cell_type": "markdown",
   "id": "39e5bb5e",
   "metadata": {},
   "source": [
    "### Combining 2017 Data"
   ]
  },
  {
   "cell_type": "code",
   "execution_count": 4,
   "id": "0f6c4d61",
   "metadata": {},
   "outputs": [],
   "source": [
    "#read the path\n",
    "file_path_2017 = \"../data/parking-tickets-2017\"\n",
    "#list all the files from the directory\n",
    "file_list_2017 = os.listdir(file_path_2017)"
   ]
  },
  {
   "cell_type": "code",
   "execution_count": 5,
   "id": "75ea0044",
   "metadata": {
    "scrolled": true
   },
   "outputs": [],
   "source": [
    "df_2017 = pd.DataFrame()\n",
    "\n",
    "# Append all files together\n",
    "for file in file_list_2017:\n",
    "    df_temp = pd.read_csv(f'../data/parking-tickets-2017/{file}')\n",
    "    df_2017 = pd.concat([df_2017, df_temp], ignore_index=True)"
   ]
  },
  {
   "cell_type": "markdown",
   "id": "40805e07",
   "metadata": {},
   "source": [
    "### Combining 2018 Data"
   ]
  },
  {
   "cell_type": "code",
   "execution_count": 6,
   "id": "5e67459f",
   "metadata": {},
   "outputs": [],
   "source": [
    "#read the path\n",
    "file_path_2018 = \"../data/parking-tickets-2018\"\n",
    "#list all the files from the directory\n",
    "file_list_2018 = os.listdir(file_path_2018)"
   ]
  },
  {
   "cell_type": "code",
   "execution_count": 7,
   "id": "410f509e",
   "metadata": {
    "scrolled": true
   },
   "outputs": [],
   "source": [
    "df_2018 = pd.DataFrame()\n",
    "\n",
    "# Append all files together\n",
    "for file in file_list_2018:\n",
    "    df_temp = pd.read_csv(f'../data/parking-tickets-2018/{file}')\n",
    "    df_2018 = pd.concat([df_2018, df_temp], ignore_index=True)"
   ]
  },
  {
   "cell_type": "markdown",
   "id": "9f34e28a",
   "metadata": {},
   "source": [
    "### Combining 2019 Data"
   ]
  },
  {
   "cell_type": "code",
   "execution_count": 8,
   "id": "107b8259",
   "metadata": {},
   "outputs": [],
   "source": [
    "#read the path\n",
    "file_path_2019 = \"../data/parking-tickets-2019\"\n",
    "#list all the files from the directory\n",
    "file_list_2019 = os.listdir(file_path_2019)"
   ]
  },
  {
   "cell_type": "code",
   "execution_count": 9,
   "id": "bdd15608",
   "metadata": {},
   "outputs": [],
   "source": [
    "df_2019 = pd.DataFrame()\n",
    "\n",
    "# Append all files together\n",
    "for file in file_list_2019:\n",
    "    df_temp = pd.read_csv(f'../data/parking-tickets-2019/{file}')\n",
    "    df_2019 = pd.concat([df_2019, df_temp], ignore_index=True)"
   ]
  },
  {
   "cell_type": "markdown",
   "id": "10cddc35",
   "metadata": {},
   "source": [
    "### Combining 2020 Data"
   ]
  },
  {
   "cell_type": "code",
   "execution_count": 10,
   "id": "273b9b76",
   "metadata": {},
   "outputs": [],
   "source": [
    "#read the path\n",
    "file_path_2020 = \"../data/parking-tickets-2020\"\n",
    "#list all the files from the directory\n",
    "file_list_2020 = os.listdir(file_path_2020)"
   ]
  },
  {
   "cell_type": "code",
   "execution_count": 11,
   "id": "2380d544",
   "metadata": {},
   "outputs": [],
   "source": [
    "df_2020 = pd.DataFrame()\n",
    "\n",
    "# Append all files together\n",
    "for file in file_list_2020:\n",
    "    df_temp = pd.read_csv(f'../data/parking-tickets-2020/{file}')\n",
    "    df_2020 = pd.concat([df_2020, df_temp], ignore_index=True)"
   ]
  },
  {
   "cell_type": "markdown",
   "id": "1f775d7e",
   "metadata": {},
   "source": [
    "### Combining 2021 Data"
   ]
  },
  {
   "cell_type": "code",
   "execution_count": 12,
   "id": "9a7cab97",
   "metadata": {},
   "outputs": [],
   "source": [
    "#read the path\n",
    "file_path_2021 = \"../data/parking-tickets-2021\"\n",
    "#list all the files from the directory\n",
    "file_list_2021 = os.listdir(file_path_2021)"
   ]
  },
  {
   "cell_type": "code",
   "execution_count": 13,
   "id": "40446f8e",
   "metadata": {
    "scrolled": true
   },
   "outputs": [],
   "source": [
    "df_2021 = pd.DataFrame()\n",
    "\n",
    "# Append all files together\n",
    "for file in file_list_2021:\n",
    "    df_temp = pd.read_csv(f'../data/parking-tickets-2021/{file}')\n",
    "    df_2021 = pd.concat([df_2021, df_temp], ignore_index=True)"
   ]
  },
  {
   "cell_type": "markdown",
   "id": "b5993ada",
   "metadata": {},
   "source": [
    "### Combining 2022 Data"
   ]
  },
  {
   "cell_type": "code",
   "execution_count": 14,
   "id": "723e28be",
   "metadata": {},
   "outputs": [],
   "source": [
    "#read the path\n",
    "file_path_2022 = \"../data/parking-tickets-2022\"\n",
    "#list all the files from the directory\n",
    "file_list_2022 = os.listdir(file_path_2022)"
   ]
  },
  {
   "cell_type": "code",
   "execution_count": 15,
   "id": "a1a41ee1",
   "metadata": {},
   "outputs": [],
   "source": [
    "df_2022 = pd.DataFrame()\n",
    "\n",
    "# Append all files together\n",
    "for file in file_list_2022:\n",
    "    df_temp = pd.read_csv(f'../data/parking-tickets-2022/{file}')\n",
    "    df_2022 = pd.concat([df_2022, df_temp], ignore_index=True)"
   ]
  },
  {
   "cell_type": "markdown",
   "id": "5b4e1e93",
   "metadata": {},
   "source": [
    "### Merging Data Frames"
   ]
  },
  {
   "cell_type": "code",
   "execution_count": 16,
   "id": "9d0f3d1a",
   "metadata": {},
   "outputs": [],
   "source": [
    "frames = [df_2016, df_2017, df_2018, df_2019, df_2020, df_2021, df_2022]\n",
    "df_merged = pd.concat(frames)"
   ]
  },
  {
   "cell_type": "code",
   "execution_count": 17,
   "id": "ae01b63a",
   "metadata": {},
   "outputs": [
    {
     "name": "stdout",
     "output_type": "stream",
     "text": [
      "<class 'pandas.core.frame.DataFrame'>\n",
      "Index: 13364473 entries, 0 to 1821886\n",
      "Data columns (total 11 columns):\n",
      " #   Column                  Dtype  \n",
      "---  ------                  -----  \n",
      " 0   tag_number_masked       object \n",
      " 1   date_of_infraction      int64  \n",
      " 2   infraction_code         float64\n",
      " 3   infraction_description  object \n",
      " 4   set_fine_amount         int64  \n",
      " 5   time_of_infraction      float64\n",
      " 6   location1               object \n",
      " 7   location2               object \n",
      " 8   location3               object \n",
      " 9   location4               object \n",
      " 10  province                object \n",
      "dtypes: float64(2), int64(2), object(7)\n",
      "memory usage: 1.2+ GB\n"
     ]
    }
   ],
   "source": [
    "df_merged.info()"
   ]
  },
  {
   "cell_type": "code",
   "execution_count": 18,
   "id": "0722c609",
   "metadata": {},
   "outputs": [
    {
     "data": {
      "text/plain": [
       "(13364473, 11)"
      ]
     },
     "execution_count": 18,
     "metadata": {},
     "output_type": "execute_result"
    }
   ],
   "source": [
    "df_merged.shape"
   ]
  },
  {
   "cell_type": "markdown",
   "id": "74c68c2c",
   "metadata": {},
   "source": [
    "#### Going to check what each column means, starting with `tag_number_masked`. Seems like they are the id number for each ticket made. Let's see if there are any unique values."
   ]
  },
  {
   "cell_type": "code",
   "execution_count": 19,
   "id": "50666ebc",
   "metadata": {},
   "outputs": [
    {
     "data": {
      "text/plain": [
       "100022"
      ]
     },
     "execution_count": 19,
     "metadata": {},
     "output_type": "execute_result"
    }
   ],
   "source": [
    "df_merged['tag_number_masked'].nunique()"
   ]
  },
  {
   "cell_type": "code",
   "execution_count": 20,
   "id": "2e550ff1",
   "metadata": {},
   "outputs": [
    {
     "data": {
      "text/plain": [
       "0.7484170905953418"
      ]
     },
     "execution_count": 20,
     "metadata": {},
     "output_type": "execute_result"
    }
   ],
   "source": [
    "df_merged['tag_number_masked'].nunique()/df_merged.shape[0]*100"
   ]
  },
  {
   "cell_type": "markdown",
   "id": "37bb3bec",
   "metadata": {},
   "source": [
    "#### There's 100k unique values of almost 13 million entries. Not sure how this column can help us, or what findings I may have, but it is best to leave it alone until I find out the best use for this column."
   ]
  },
  {
   "cell_type": "markdown",
   "id": "5e08aed2",
   "metadata": {},
   "source": [
    "#### Next is `date_of_infraction`, we can change this to a datetime64[ns] format. But I noticed another column that gives me the time, `time_of_infraction` displayed in minutes. We can change both of these into datetime by combining them together into a new column. "
   ]
  },
  {
   "cell_type": "markdown",
   "id": "2e62ed40-6e0b-4403-abe2-7ba3b7ec30a1",
   "metadata": {},
   "source": [
    "Checking for info or null values first. "
   ]
  },
  {
   "cell_type": "code",
   "execution_count": 21,
   "id": "55c0ec1f-0393-4704-a827-2d8222d7295c",
   "metadata": {},
   "outputs": [
    {
     "data": {
      "text/plain": [
       "0"
      ]
     },
     "execution_count": 21,
     "metadata": {},
     "output_type": "execute_result"
    }
   ],
   "source": [
    "df_merged['date_of_infraction'].isna().sum()"
   ]
  },
  {
   "cell_type": "markdown",
   "id": "6e3ed149-5664-4e91-85e2-8f36c3f7e6f7",
   "metadata": {},
   "source": [
    "We have no null values for `date_of_infraction` but we do for `time_of_infraction`. So once we combine them we will get 9337 null values. Let's get the average time for each day of the year and use that value to fill in the null values. Let's move on to changing its `dtype`."
   ]
  },
  {
   "cell_type": "code",
   "execution_count": 22,
   "id": "16ebe39c",
   "metadata": {},
   "outputs": [
    {
     "data": {
      "text/plain": [
       "0    20161230\n",
       "1    20161230\n",
       "2    20161230\n",
       "3    20161230\n",
       "4    20161230\n",
       "Name: date_of_infraction, dtype: int64"
      ]
     },
     "execution_count": 22,
     "metadata": {},
     "output_type": "execute_result"
    }
   ],
   "source": [
    "df_merged['date_of_infraction'].head()"
   ]
  },
  {
   "cell_type": "code",
   "execution_count": 23,
   "id": "a4d5aa9b",
   "metadata": {},
   "outputs": [
    {
     "data": {
      "text/plain": [
       "0   2016-12-30\n",
       "1   2016-12-30\n",
       "2   2016-12-30\n",
       "3   2016-12-30\n",
       "4   2016-12-30\n",
       "Name: date_of_infraction, dtype: datetime64[ns]"
      ]
     },
     "execution_count": 23,
     "metadata": {},
     "output_type": "execute_result"
    }
   ],
   "source": [
    "df_merged['date_of_infraction'] = pd.to_datetime(df_merged['date_of_infraction'], format='%Y%m%d')\n",
    "df_merged['date_of_infraction'].head()"
   ]
  },
  {
   "cell_type": "code",
   "execution_count": 24,
   "id": "590f5200",
   "metadata": {},
   "outputs": [
    {
     "data": {
      "text/plain": [
       "0    1637.0\n",
       "1    1637.0\n",
       "2    1637.0\n",
       "3    1637.0\n",
       "4    1637.0\n",
       "Name: time_of_infraction, dtype: float64"
      ]
     },
     "execution_count": 24,
     "metadata": {},
     "output_type": "execute_result"
    }
   ],
   "source": [
    "df_merged['time_of_infraction'].head()"
   ]
  },
  {
   "cell_type": "markdown",
   "id": "495ab52a",
   "metadata": {},
   "source": [
    "I cannot just change this by making unit into minutes, otherwise 1637 will give me a combination of minutes instead of separating hours and minutes into 16:37:00, \n",
    "let's do a format by breaking it down to hours and minutes."
   ]
  },
  {
   "cell_type": "code",
   "execution_count": 25,
   "id": "5e1bcfad",
   "metadata": {},
   "outputs": [],
   "source": [
    "df_merged['hours'] = df_merged['time_of_infraction'] // 100\n",
    "df_merged['minutes'] = df_merged['time_of_infraction'] % 100"
   ]
  },
  {
   "cell_type": "code",
   "execution_count": 26,
   "id": "53f3558a",
   "metadata": {},
   "outputs": [],
   "source": [
    "df_merged['hours'] = pd.to_timedelta(df_merged['hours'], unit='h')\n",
    "df_merged['minutes'] = pd.to_timedelta(df_merged['minutes'], unit='m')"
   ]
  },
  {
   "cell_type": "code",
   "execution_count": 27,
   "id": "3967d74f",
   "metadata": {},
   "outputs": [],
   "source": [
    "# Combine date and time columns into a single datetime column\n",
    "df_merged['time_of_infraction'] = (df_merged['hours'] + df_merged['minutes']).astype(str)\n",
    "df_merged['time_of_infraction'] = df_merged['time_of_infraction'].astype(str).str.split().str[-1]"
   ]
  },
  {
   "cell_type": "code",
   "execution_count": 28,
   "id": "4b7f22ce",
   "metadata": {},
   "outputs": [
    {
     "data": {
      "text/plain": [
       "0          16:37:00\n",
       "1          16:37:00\n",
       "2          16:37:00\n",
       "3          16:37:00\n",
       "4          16:37:00\n",
       "             ...   \n",
       "1821882    09:46:00\n",
       "1821883    09:47:00\n",
       "1821884    09:47:00\n",
       "1821885    09:47:00\n",
       "1821886    09:47:00\n",
       "Name: time_of_infraction, Length: 13364473, dtype: object"
      ]
     },
     "execution_count": 28,
     "metadata": {},
     "output_type": "execute_result"
    }
   ],
   "source": [
    "df_merged['time_of_infraction']"
   ]
  },
  {
   "cell_type": "markdown",
   "id": "7d8186b2",
   "metadata": {},
   "source": [
    "#### Since I have date and time, I don't think I need a necessary datetime of both, so I shall leave that separate for now, unless necessary. "
   ]
  },
  {
   "cell_type": "code",
   "execution_count": 29,
   "id": "a4eac8f9",
   "metadata": {},
   "outputs": [],
   "source": [
    "#not running, non existent\n",
    "df_merged['datetime_of_infraction'] = df_merged['date_of_infraction'] + df_merged['hours'] + df_merged['minutes']"
   ]
  },
  {
   "cell_type": "markdown",
   "id": "4ade198f",
   "metadata": {},
   "source": [
    "Now we can see this as its own column. Best to remove `hours` and `minutes` columns."
   ]
  },
  {
   "cell_type": "code",
   "execution_count": 30,
   "id": "1ada019a",
   "metadata": {},
   "outputs": [],
   "source": [
    "df_merged.drop(columns = ['hours', 'minutes', 'tag_number_masked'], inplace=True)"
   ]
  },
  {
   "cell_type": "markdown",
   "id": "3c4d220b",
   "metadata": {},
   "source": [
    "As mentioned before, we'll have some null values in `time_of_infraction` we'd have to look into. 9337 time entries. Let's see if we can get average time by day. "
   ]
  },
  {
   "cell_type": "code",
   "execution_count": 31,
   "id": "72a42f12",
   "metadata": {},
   "outputs": [
    {
     "data": {
      "text/plain": [
       "date_of_infraction        2996\n",
       "infraction_code           2996\n",
       "infraction_description    2996\n",
       "set_fine_amount           2996\n",
       "time_of_infraction        2996\n",
       "location1                 2621\n",
       "location2                 2995\n",
       "location3                  248\n",
       "location4                  250\n",
       "province                  2996\n",
       "datetime_of_infraction    2996\n",
       "dtype: int64"
      ]
     },
     "execution_count": 31,
     "metadata": {},
     "output_type": "execute_result"
    }
   ],
   "source": [
    "df_merged[df_merged['time_of_infraction'].astype(str) == '00:00:00'].count()"
   ]
  },
  {
   "cell_type": "markdown",
   "id": "86cfb17c",
   "metadata": {},
   "source": [
    "This gives us the NaT values that we need to fill, which is different from the '00:00:00' entries we've seen. This is good because we don't need to worry if the conversion changed null values changed to 0, they simply changed to NaT."
   ]
  },
  {
   "cell_type": "code",
   "execution_count": 32,
   "id": "331a4302",
   "metadata": {},
   "outputs": [
    {
     "data": {
      "text/plain": [
       "date_of_infraction        9337\n",
       "infraction_code           9337\n",
       "infraction_description    9337\n",
       "set_fine_amount           9337\n",
       "time_of_infraction        9337\n",
       "location1                 1525\n",
       "location2                 9185\n",
       "location3                  107\n",
       "location4                  465\n",
       "province                  9337\n",
       "datetime_of_infraction       0\n",
       "dtype: int64"
      ]
     },
     "execution_count": 32,
     "metadata": {},
     "output_type": "execute_result"
    }
   ],
   "source": [
    "df_merged[df_merged['time_of_infraction'].str.contains('NaT') == True].count()"
   ]
  },
  {
   "cell_type": "markdown",
   "id": "bc2c08d7",
   "metadata": {},
   "source": [
    "Now that I know there's NaT values to look out for and not the 0 times. I can fill the NaT values with the average of each offence. \n",
    "\n",
    "Let's look into `infraction_description` and group by that with NaT values."
   ]
  },
  {
   "cell_type": "code",
   "execution_count": 33,
   "id": "9eb44c28-d8d3-4637-a4ba-1227aef7b869",
   "metadata": {},
   "outputs": [
    {
     "data": {
      "text/plain": [
       "291"
      ]
     },
     "execution_count": 33,
     "metadata": {},
     "output_type": "execute_result"
    }
   ],
   "source": [
    "df_merged['infraction_description'].nunique()"
   ]
  },
  {
   "cell_type": "code",
   "execution_count": 34,
   "id": "d35f34db-0ca7-4c32-a385-450b87633c76",
   "metadata": {},
   "outputs": [
    {
     "data": {
      "text/plain": [
       "infraction_description\n",
       "ANGLE PARK-METERED SPACE-FRONT                                 [17:55:00, 14:56:00]\n",
       "ANGLE PARK-TOO FAR FROM METER                                  [11:23:00, 10:23:00]\n",
       "ANGLE PARK-TOO FAR FROM METER                                            [11:33:00]\n",
       "FAIL ANGLE PARK/STOP AT 45 DEG    [08:59:00, 08:59:00, 21:00:00, 21:02:00, 16:01...\n",
       "FAIL PARK/STOP PAR RT HAND LTD                                           [14:43:00]\n",
       "                                                        ...                        \n",
       "STOP/STAND/PARK - NO VEND ZONE                                 [13:39:00, 20:37:00]\n",
       "STOP/STAND/PARK DESIGNATE AREA                                 [23:19:00, 08:20:00]\n",
       "STOP/STAND/PARK NOT DESIG AREA                                           [04:26:00]\n",
       "STOP/STAND/PARK VEND CONT ZONE                                           [20:06:00]\n",
       "STOP/STAND/PARK VEND NO PERMIT    [14:30:00, 15:30:00, 15:40:00, 17:07:00, 16:48...\n",
       "Name: time_of_infraction, Length: 291, dtype: object"
      ]
     },
     "execution_count": 34,
     "metadata": {},
     "output_type": "execute_result"
    }
   ],
   "source": [
    "times_per_infraction = df_merged.groupby('infraction_description')['time_of_infraction'].apply(lambda x: np.array(x))\n",
    "descriptions = times_per_infraction.index\n",
    "times_per_infraction"
   ]
  },
  {
   "cell_type": "markdown",
   "id": "e59afa0a-9262-42b7-ad66-3c3868482d67",
   "metadata": {},
   "source": [
    "### Test for Normality"
   ]
  },
  {
   "cell_type": "markdown",
   "id": "734e0e62-7d78-448f-a5e7-e8db9ee291a7",
   "metadata": {},
   "source": [
    "I am not sure if I need to get the mean or median of the times based on distribution. Therefore, I need to check the time's histogram to see if it's normally distributed or skewed. The issue is, I cannot go through every infraction, they have 291 unique values. Let's see if I can do a statistical test and depending on the p-value, I can take the mean or the median of the values. "
   ]
  },
  {
   "cell_type": "markdown",
   "id": "df337cc4-8dea-4991-9644-1dd55ea1d28a",
   "metadata": {},
   "source": [
    "Let's get mean for now. "
   ]
  },
  {
   "cell_type": "code",
   "execution_count": 35,
   "id": "cb98ff8c",
   "metadata": {},
   "outputs": [
    {
     "name": "stderr",
     "output_type": "stream",
     "text": [
      "/var/folders/88/fzmg9qys41g9cpc25qvl9dwr0000gn/T/ipykernel_61713/1867060712.py:1: UserWarning: Could not infer format, so each element will be parsed individually, falling back to `dateutil`. To ensure parsing is consistent and as-expected, please specify a format.\n",
      "  df_merged['time_of_infraction'] = pd.to_datetime(df_merged['time_of_infraction'])\n"
     ]
    },
    {
     "name": "stdout",
     "output_type": "stream",
     "text": [
      "             infraction_description  time_of_infraction\n",
      "0    ANGLE PARK-METERED SPACE-FRONT 2024-03-07 16:26:00\n",
      "1     ANGLE PARK-TOO FAR FROM METER 2024-03-07 10:53:00\n",
      "2    ANGLE PARK-TOO FAR FROM METER  2024-03-07 11:33:00\n",
      "3    FAIL ANGLE PARK/STOP AT 45 DEG 2024-03-07 13:47:00\n",
      "4    FAIL PARK/STOP PAR RT HAND LTD 2024-03-07 14:43:00\n",
      "..                              ...                 ...\n",
      "286  STOP/STAND/PARK - NO VEND ZONE 2024-03-07 17:08:00\n",
      "287  STOP/STAND/PARK DESIGNATE AREA 2024-03-07 15:50:00\n",
      "288  STOP/STAND/PARK NOT DESIG AREA 2024-03-07 04:26:00\n",
      "289  STOP/STAND/PARK VEND CONT ZONE 2024-03-07 20:06:00\n",
      "290  STOP/STAND/PARK VEND NO PERMIT 2024-03-07 15:00:00\n",
      "\n",
      "[291 rows x 2 columns]\n"
     ]
    }
   ],
   "source": [
    "df_merged['time_of_infraction'] = pd.to_datetime(df_merged['time_of_infraction'])\n",
    "\n",
    "# Group by infraction_description and calculate the mean time\n",
    "average_times = df_merged.groupby('infraction_description')['time_of_infraction'].apply(lambda x: np.mean(x)).reset_index()\n",
    "\n",
    "average_times['time_of_infraction'] = average_times['time_of_infraction'].apply(lambda x: x.round('T'))\n",
    "\n",
    "print(average_times)"
   ]
  },
  {
   "cell_type": "markdown",
   "id": "022d78a6",
   "metadata": {},
   "source": [
    "#### Now let's apply these times to the NaT values based on the infraction description. "
   ]
  },
  {
   "cell_type": "code",
   "execution_count": 36,
   "id": "f16b033b",
   "metadata": {},
   "outputs": [
    {
     "data": {
      "text/plain": [
       "0          False\n",
       "1          False\n",
       "2          False\n",
       "3          False\n",
       "4          False\n",
       "           ...  \n",
       "1821882    False\n",
       "1821883    False\n",
       "1821884    False\n",
       "1821885    False\n",
       "1821886    False\n",
       "Name: time_of_infraction, Length: 13364473, dtype: bool"
      ]
     },
     "execution_count": 36,
     "metadata": {},
     "output_type": "execute_result"
    }
   ],
   "source": [
    "nat_counts = df_merged['time_of_infraction'].isna()\n",
    "nat_counts"
   ]
  },
  {
   "cell_type": "code",
   "execution_count": 37,
   "id": "ea68f054",
   "metadata": {},
   "outputs": [],
   "source": [
    "#info on itterrows - https://pandas.pydata.org/pandas-docs/stable/reference/api/pandas.DataFrame.iterrows.html\n",
    "\n",
    "for index, row in df_merged[nat_counts].iterrows():\n",
    "    infraction_description = row['infraction_description']\n",
    "        \n",
    "    average_time = average_times[average_times['infraction_description'] == infraction_description]['time_of_infraction'].values[0]\n",
    "    \n",
    "    df_merged.at[index, 'time_of_infraction'] = average_time\n",
    "    df_merged.at[index, 'datetime_of_infraction'] = average_time"
   ]
  },
  {
   "cell_type": "code",
   "execution_count": 38,
   "id": "07519755",
   "metadata": {},
   "outputs": [
    {
     "name": "stdout",
     "output_type": "stream",
     "text": [
      "<class 'pandas.core.series.Series'>\n",
      "Index: 13364473 entries, 0 to 1821886\n",
      "Series name: time_of_infraction\n",
      "Non-Null Count     Dtype         \n",
      "--------------     -----         \n",
      "13364458 non-null  datetime64[ns]\n",
      "dtypes: datetime64[ns](1)\n",
      "memory usage: 268.4 MB\n"
     ]
    }
   ],
   "source": [
    "df_merged['time_of_infraction'].info()"
   ]
  },
  {
   "cell_type": "code",
   "execution_count": 39,
   "id": "122cb804",
   "metadata": {},
   "outputs": [
    {
     "name": "stdout",
     "output_type": "stream",
     "text": [
      "<class 'pandas.core.series.Series'>\n",
      "Index: 13364473 entries, 0 to 1821886\n",
      "Series name: datetime_of_infraction\n",
      "Non-Null Count     Dtype         \n",
      "--------------     -----         \n",
      "13364458 non-null  datetime64[ns]\n",
      "dtypes: datetime64[ns](1)\n",
      "memory usage: 268.4 MB\n"
     ]
    }
   ],
   "source": [
    "df_merged['datetime_of_infraction'].info()"
   ]
  },
  {
   "cell_type": "markdown",
   "id": "89ca4ff5",
   "metadata": {},
   "source": [
    "### Let's get the histogram of infraction date."
   ]
  },
  {
   "cell_type": "code",
   "execution_count": 66,
   "id": "325ea909",
   "metadata": {},
   "outputs": [],
   "source": [
    "df_year_2022 = df_merged[df_merged['datetime_of_infraction'].dt.year == 2022]"
   ]
  },
  {
   "cell_type": "code",
   "execution_count": 67,
   "id": "43440dc6",
   "metadata": {},
   "outputs": [
    {
     "data": {
      "image/png": "[encoded data removed]",
      "text/plain": [
       "<Figure size 640x480 with 1 Axes>"
      ]
     },
     "metadata": {},
     "output_type": "display_data"
    }
   ],
   "source": [
    "infraction_month = df_year_2022.groupby(df_year_2022['datetime_of_infraction'].dt.month).size()\n",
    "\n",
    "# Plot histogram\n",
    "plt.bar(infraction_month.index, infraction_month, color='skyblue')\n",
    "plt.xlabel('Month')\n",
    "plt.ylabel('Number of Infractions')\n",
    "plt.title('Histogram of Infractions by Month (2022)')\n",
    "plt.xticks(range(1, 13))  # Set ticks for all months\n",
    "plt.show()"
   ]
  },
  {
   "cell_type": "markdown",
   "id": "6ca837ab",
   "metadata": {},
   "source": [
    "Looks like spring and summer gets the most tickets from March-July. There's a bounce in October, is it from holidays? We'll find out later through our analysis. "
   ]
  },
  {
   "cell_type": "markdown",
   "id": "1a8b9f32",
   "metadata": {},
   "source": [
    "### Let's get histogram of infraction time in 2022"
   ]
  },
  {
   "cell_type": "code",
   "execution_count": 68,
   "id": "06752b2d",
   "metadata": {
    "scrolled": true
   },
   "outputs": [
    {
     "data": {
      "image/png": "[encoded data removed]",
      "text/plain": [
       "<Figure size 640x480 with 1 Axes>"
      ]
     },
     "metadata": {},
     "output_type": "display_data"
    }
   ],
   "source": [
    "infraction_hour = df_year_2022.groupby(df_year_2022['datetime_of_infraction'].dt.hour).size()\n",
    "\n",
    "# Plot histogram\n",
    "plt.bar(infraction_hour.index, infraction_hour, color='skyblue')\n",
    "plt.xlabel('Time of Day')\n",
    "plt.ylabel('Number of Infractions')\n",
    "plt.title('Histogram of Infractions by time (2022)')\n",
    "plt.xticks(range(0,24))  # Set ticks for all months\n",
    "plt.show()"
   ]
  },
  {
   "cell_type": "markdown",
   "id": "cafa5b79",
   "metadata": {},
   "source": [
    "Seems most tickets are received between 11 and 12 with a whopping 140k tickets issued around that time in total. "
   ]
  },
  {
   "cell_type": "code",
   "execution_count": 86,
   "id": "5f5dd816",
   "metadata": {},
   "outputs": [
    {
     "data": {
      "text/plain": [
       "location2\n",
       "4700 KEELE ST          34952\n",
       "2075 BAYVIEW AVE       31211\n",
       "20 EDWARD ST           22373\n",
       "15 MARINE PARADE DR    21728\n",
       "4001 LESLIE ST         18575\n",
       "Name: count, dtype: int64"
      ]
     },
     "execution_count": 86,
     "metadata": {},
     "output_type": "execute_result"
    }
   ],
   "source": [
    "#top 5 addresses and their violations\n",
    "df_merged['location2'].value_counts().head(5)"
   ]
  },
  {
   "cell_type": "code",
   "execution_count": 81,
   "id": "265eb42e",
   "metadata": {},
   "outputs": [
    {
     "data": {
      "text/plain": [
       "infraction_description\n",
       "PARK ON PRIVATE PROPERTY          2625372\n",
       "PARK-SIGNED HWY-PROHIBIT DY/TM    2114947\n",
       "PARK PROHIBITED TIME NO PERMIT    1861235\n",
       "PARK MACHINE-REQD FEE NOT PAID    1582581\n",
       "STOP-SIGNED HWY-PROHIBIT TM/DY     694547\n",
       "                                   ...   \n",
       "PARK/STAND/STOP NO PERMIT               1\n",
       "PARK ON BOULEVARD                       1\n",
       "ANGLE PARK-TOO FAR FROM METER           1\n",
       "PARK-OBS DRIVEWAY/LANEWAY/RAMP          1\n",
       "PARK LT 0.3M FROM BOTTOM STEP           1\n",
       "Name: count, Length: 291, dtype: int64"
      ]
     },
     "execution_count": 81,
     "metadata": {},
     "output_type": "execute_result"
    }
   ],
   "source": [
    "df_merged['infraction_description'].value_counts()"
   ]
  },
  {
   "cell_type": "code",
   "execution_count": 77,
   "id": "62411bb0",
   "metadata": {},
   "outputs": [
    {
     "data": {
      "image/png": "[encoded data removed]",
      "text/plain": [
       "<Figure size 640x480 with 1 Axes>"
      ]
     },
     "metadata": {},
     "output_type": "display_data"
    }
   ],
   "source": [
    "infraction_day = df_year_2022.groupby(df_year_2022['datetime_of_infraction'].dt.dayofweek).size()\n",
    "\n",
    "# Plot histogram\n",
    "plt.bar(infraction_day.index, infraction_day, color='skyblue')\n",
    "plt.xlabel('Day of the week')\n",
    "plt.ylabel('Number of Infractions')\n",
    "plt.title('Histogram of Infractions by Day (2022)')\n",
    "plt.xticks(range(0,7))\n",
    "plt.show()"
   ]
  },
  {
   "cell_type": "markdown",
   "id": "ba2edf80",
   "metadata": {},
   "source": [
    "Looks like Tuesday gets the most tickets with Wednesday right after. "
   ]
  },
  {
   "cell_type": "code",
   "execution_count": 40,
   "id": "bacd0631",
   "metadata": {},
   "outputs": [
    {
     "data": {
      "text/plain": [
       "date_of_infraction               0\n",
       "infraction_code                  2\n",
       "infraction_description           0\n",
       "set_fine_amount                  0\n",
       "time_of_infraction              15\n",
       "location1                  1392113\n",
       "location2                     1349\n",
       "location3                 12386850\n",
       "location4                 12384345\n",
       "province                         3\n",
       "datetime_of_infraction          15\n",
       "dtype: int64"
      ]
     },
     "execution_count": 40,
     "metadata": {},
     "output_type": "execute_result"
    }
   ],
   "source": [
    "df_merged.isna().sum()"
   ]
  },
  {
   "cell_type": "markdown",
   "id": "965efe16",
   "metadata": {},
   "source": [
    "Let's fill na values, we know they're empty because it didn't need specification. To fill using one of the top value counts, let's fill with 'AT'. That way it is specified that it's address specified and there's no na values. "
   ]
  },
  {
   "cell_type": "code",
   "execution_count": 41,
   "id": "26a6c5c2",
   "metadata": {},
   "outputs": [],
   "source": [
    "df_merged['location1'].fillna('AT', inplace = True)"
   ]
  },
  {
   "cell_type": "code",
   "execution_count": 42,
   "id": "5602b11a",
   "metadata": {},
   "outputs": [
    {
     "data": {
      "text/plain": [
       "date_of_infraction               0\n",
       "infraction_code                  2\n",
       "infraction_description           0\n",
       "set_fine_amount                  0\n",
       "time_of_infraction              15\n",
       "location1                        0\n",
       "location2                     1349\n",
       "location3                 12386850\n",
       "location4                 12384345\n",
       "province                         3\n",
       "datetime_of_infraction          15\n",
       "dtype: int64"
      ]
     },
     "execution_count": 42,
     "metadata": {},
     "output_type": "execute_result"
    }
   ],
   "source": [
    "df_merged.isna().sum()"
   ]
  },
  {
   "cell_type": "code",
   "execution_count": 43,
   "id": "e9fa4b35",
   "metadata": {},
   "outputs": [
    {
     "data": {
      "text/plain": [
       "location1\n",
       "NR          7409157\n",
       "AT          3203305\n",
       "OPP         1701073\n",
       "E/S          253686\n",
       "S/S          242613\n",
       "N/S          234823\n",
       "W/S          229310\n",
       "R/O           63650\n",
       "N/O            5291\n",
       "S/O            4457\n",
       "E/O            4173\n",
       "NEAR           2862\n",
       "W/O            2636\n",
       "REAR            827\n",
       "O/F             825\n",
       "N/R             569\n",
       "REAR OF         317\n",
       "ON              290\n",
       "OPPOSITE        204\n",
       "NS OF           136\n",
       "Name: count, dtype: int64"
      ]
     },
     "execution_count": 43,
     "metadata": {},
     "output_type": "execute_result"
    }
   ],
   "source": [
    "df_merged['location1'].value_counts().head(20)"
   ]
  },
  {
   "cell_type": "markdown",
   "id": "82442684",
   "metadata": {},
   "source": [
    "Let's combine rear and rear of by replacing anything that starts with rear using regex. "
   ]
  },
  {
   "cell_type": "code",
   "execution_count": 45,
   "id": "581dc639",
   "metadata": {},
   "outputs": [
    {
     "data": {
      "text/html": [
       "<div>\n",
       "<style scoped>\n",
       "    .dataframe tbody tr th:only-of-type {\n",
       "        vertical-align: middle;\n",
       "    }\n",
       "\n",
       "    .dataframe tbody tr th {\n",
       "        vertical-align: top;\n",
       "    }\n",
       "\n",
       "    .dataframe thead th {\n",
       "        text-align: right;\n",
       "    }\n",
       "</style>\n",
       "<table border=\"1\" class=\"dataframe\">\n",
       "  <thead>\n",
       "    <tr style=\"text-align: right;\">\n",
       "      <th></th>\n",
       "      <th>date_of_infraction</th>\n",
       "      <th>infraction_code</th>\n",
       "      <th>infraction_description</th>\n",
       "      <th>set_fine_amount</th>\n",
       "      <th>time_of_infraction</th>\n",
       "      <th>location1</th>\n",
       "      <th>location2</th>\n",
       "      <th>location3</th>\n",
       "      <th>location4</th>\n",
       "      <th>province</th>\n",
       "      <th>datetime_of_infraction</th>\n",
       "    </tr>\n",
       "  </thead>\n",
       "  <tbody>\n",
       "    <tr>\n",
       "      <th>123246</th>\n",
       "      <td>2016-09-14</td>\n",
       "      <td>312.0</td>\n",
       "      <td>PARKING MACH-NOT USED/NO FEE</td>\n",
       "      <td>30</td>\n",
       "      <td>2024-03-07 17:48:00</td>\n",
       "      <td>REAR OF</td>\n",
       "      <td>5124 DUNDAS ST W</td>\n",
       "      <td>NaN</td>\n",
       "      <td>NaN</td>\n",
       "      <td>ON</td>\n",
       "      <td>2016-09-14 17:48:00</td>\n",
       "    </tr>\n",
       "    <tr>\n",
       "      <th>130982</th>\n",
       "      <td>2016-09-15</td>\n",
       "      <td>347.0</td>\n",
       "      <td>PARK IN A FIRE ROUTE</td>\n",
       "      <td>250</td>\n",
       "      <td>2024-03-07 22:45:00</td>\n",
       "      <td>REAR OF</td>\n",
       "      <td>128 WILLOW AVE</td>\n",
       "      <td>NaN</td>\n",
       "      <td>NaN</td>\n",
       "      <td>ON</td>\n",
       "      <td>2016-09-15 22:45:00</td>\n",
       "    </tr>\n",
       "    <tr>\n",
       "      <th>205348</th>\n",
       "      <td>2016-09-27</td>\n",
       "      <td>312.0</td>\n",
       "      <td>PARKING MACH-NOT USED/NO FEE</td>\n",
       "      <td>30</td>\n",
       "      <td>2024-03-07 19:21:00</td>\n",
       "      <td>REAR OF</td>\n",
       "      <td>2990 LAKE SHORE BLVD WEST</td>\n",
       "      <td>NaN</td>\n",
       "      <td>NaN</td>\n",
       "      <td>ON</td>\n",
       "      <td>2016-09-27 19:21:00</td>\n",
       "    </tr>\n",
       "    <tr>\n",
       "      <th>212956</th>\n",
       "      <td>2016-09-28</td>\n",
       "      <td>312.0</td>\n",
       "      <td>PARKING MACH-NOT USED/NO FEE</td>\n",
       "      <td>30</td>\n",
       "      <td>2024-03-07 19:33:00</td>\n",
       "      <td>REAR OF</td>\n",
       "      <td>5124 DUNDAS ST W</td>\n",
       "      <td>NaN</td>\n",
       "      <td>NaN</td>\n",
       "      <td>ON</td>\n",
       "      <td>2016-09-28 19:33:00</td>\n",
       "    </tr>\n",
       "    <tr>\n",
       "      <th>212969</th>\n",
       "      <td>2016-09-28</td>\n",
       "      <td>312.0</td>\n",
       "      <td>PARKING MACH-NOT USED/NO FEE</td>\n",
       "      <td>30</td>\n",
       "      <td>2024-03-07 19:36:00</td>\n",
       "      <td>REAR OF</td>\n",
       "      <td>5124 DUNDAS ST W</td>\n",
       "      <td>NaN</td>\n",
       "      <td>NaN</td>\n",
       "      <td>ON</td>\n",
       "      <td>2016-09-28 19:36:00</td>\n",
       "    </tr>\n",
       "    <tr>\n",
       "      <th>...</th>\n",
       "      <td>...</td>\n",
       "      <td>...</td>\n",
       "      <td>...</td>\n",
       "      <td>...</td>\n",
       "      <td>...</td>\n",
       "      <td>...</td>\n",
       "      <td>...</td>\n",
       "      <td>...</td>\n",
       "      <td>...</td>\n",
       "      <td>...</td>\n",
       "      <td>...</td>\n",
       "    </tr>\n",
       "    <tr>\n",
       "      <th>720918</th>\n",
       "      <td>2021-11-27</td>\n",
       "      <td>3.0</td>\n",
       "      <td>PARK ON PRIVATE PROPERTY</td>\n",
       "      <td>30</td>\n",
       "      <td>2024-03-07 13:34:00</td>\n",
       "      <td>REAR OF</td>\n",
       "      <td>400 MCCOWAN RD</td>\n",
       "      <td>NaN</td>\n",
       "      <td>NaN</td>\n",
       "      <td>ON</td>\n",
       "      <td>2021-11-27 13:34:00</td>\n",
       "    </tr>\n",
       "    <tr>\n",
       "      <th>720931</th>\n",
       "      <td>2021-11-27</td>\n",
       "      <td>3.0</td>\n",
       "      <td>PARK ON PRIVATE PROPERTY</td>\n",
       "      <td>30</td>\n",
       "      <td>2024-03-07 13:39:00</td>\n",
       "      <td>REAR OF</td>\n",
       "      <td>400 MCCOWAN RD</td>\n",
       "      <td>NaN</td>\n",
       "      <td>NaN</td>\n",
       "      <td>ON</td>\n",
       "      <td>2021-11-27 13:39:00</td>\n",
       "    </tr>\n",
       "    <tr>\n",
       "      <th>720953</th>\n",
       "      <td>2021-11-27</td>\n",
       "      <td>3.0</td>\n",
       "      <td>PARK ON PRIVATE PROPERTY</td>\n",
       "      <td>30</td>\n",
       "      <td>2024-03-07 13:44:00</td>\n",
       "      <td>REAR OF</td>\n",
       "      <td>400 MCCOWAN ROAD</td>\n",
       "      <td>NaN</td>\n",
       "      <td>NaN</td>\n",
       "      <td>ON</td>\n",
       "      <td>2021-11-27 13:44:00</td>\n",
       "    </tr>\n",
       "    <tr>\n",
       "      <th>918993</th>\n",
       "      <td>2021-05-24</td>\n",
       "      <td>347.0</td>\n",
       "      <td>PARK IN A FIRE ROUTE</td>\n",
       "      <td>250</td>\n",
       "      <td>2024-03-07 19:30:00</td>\n",
       "      <td>REAR OF</td>\n",
       "      <td>3400 EGLINTON AVE E</td>\n",
       "      <td>NaN</td>\n",
       "      <td>NaN</td>\n",
       "      <td>ON</td>\n",
       "      <td>2021-05-24 19:30:00</td>\n",
       "    </tr>\n",
       "    <tr>\n",
       "      <th>1242674</th>\n",
       "      <td>2021-04-24</td>\n",
       "      <td>134.0</td>\n",
       "      <td>PARK-SIGNED HWY-PUBLIC LANE</td>\n",
       "      <td>40</td>\n",
       "      <td>2024-03-07 17:45:00</td>\n",
       "      <td>REAR/OF</td>\n",
       "      <td>2599 KEELE ST</td>\n",
       "      <td>NaN</td>\n",
       "      <td>NaN</td>\n",
       "      <td>ON</td>\n",
       "      <td>2021-04-24 17:45:00</td>\n",
       "    </tr>\n",
       "  </tbody>\n",
       "</table>\n",
       "<p>343 rows × 11 columns</p>\n",
       "</div>"
      ],
      "text/plain": [
       "        date_of_infraction  infraction_code          infraction_description  \\\n",
       "123246          2016-09-14            312.0  PARKING MACH-NOT USED/NO FEE     \n",
       "130982          2016-09-15            347.0            PARK IN A FIRE ROUTE   \n",
       "205348          2016-09-27            312.0  PARKING MACH-NOT USED/NO FEE     \n",
       "212956          2016-09-28            312.0  PARKING MACH-NOT USED/NO FEE     \n",
       "212969          2016-09-28            312.0  PARKING MACH-NOT USED/NO FEE     \n",
       "...                    ...              ...                             ...   \n",
       "720918          2021-11-27              3.0        PARK ON PRIVATE PROPERTY   \n",
       "720931          2021-11-27              3.0        PARK ON PRIVATE PROPERTY   \n",
       "720953          2021-11-27              3.0        PARK ON PRIVATE PROPERTY   \n",
       "918993          2021-05-24            347.0            PARK IN A FIRE ROUTE   \n",
       "1242674         2021-04-24            134.0     PARK-SIGNED HWY-PUBLIC LANE   \n",
       "\n",
       "         set_fine_amount  time_of_infraction location1  \\\n",
       "123246                30 2024-03-07 17:48:00   REAR OF   \n",
       "130982               250 2024-03-07 22:45:00   REAR OF   \n",
       "205348                30 2024-03-07 19:21:00   REAR OF   \n",
       "212956                30 2024-03-07 19:33:00   REAR OF   \n",
       "212969                30 2024-03-07 19:36:00   REAR OF   \n",
       "...                  ...                 ...       ...   \n",
       "720918                30 2024-03-07 13:34:00   REAR OF   \n",
       "720931                30 2024-03-07 13:39:00   REAR OF   \n",
       "720953                30 2024-03-07 13:44:00   REAR OF   \n",
       "918993               250 2024-03-07 19:30:00   REAR OF   \n",
       "1242674               40 2024-03-07 17:45:00   REAR/OF   \n",
       "\n",
       "                         location2 location3 location4 province  \\\n",
       "123246            5124 DUNDAS ST W       NaN       NaN       ON   \n",
       "130982              128 WILLOW AVE       NaN       NaN       ON   \n",
       "205348   2990 LAKE SHORE BLVD WEST       NaN       NaN       ON   \n",
       "212956            5124 DUNDAS ST W       NaN       NaN       ON   \n",
       "212969            5124 DUNDAS ST W       NaN       NaN       ON   \n",
       "...                            ...       ...       ...      ...   \n",
       "720918              400 MCCOWAN RD       NaN       NaN       ON   \n",
       "720931              400 MCCOWAN RD       NaN       NaN       ON   \n",
       "720953            400 MCCOWAN ROAD       NaN       NaN       ON   \n",
       "918993         3400 EGLINTON AVE E       NaN       NaN       ON   \n",
       "1242674              2599 KEELE ST       NaN       NaN       ON   \n",
       "\n",
       "        datetime_of_infraction  \n",
       "123246     2016-09-14 17:48:00  \n",
       "130982     2016-09-15 22:45:00  \n",
       "205348     2016-09-27 19:21:00  \n",
       "212956     2016-09-28 19:33:00  \n",
       "212969     2016-09-28 19:36:00  \n",
       "...                        ...  \n",
       "720918     2021-11-27 13:34:00  \n",
       "720931     2021-11-27 13:39:00  \n",
       "720953     2021-11-27 13:44:00  \n",
       "918993     2021-05-24 19:30:00  \n",
       "1242674    2021-04-24 17:45:00  \n",
       "\n",
       "[343 rows x 11 columns]"
      ]
     },
     "execution_count": 45,
     "metadata": {},
     "output_type": "execute_result"
    }
   ],
   "source": [
    "df_merged.loc[df_merged.iloc[:,5].str.contains(r'^REAR.+$', regex=True)]"
   ]
  },
  {
   "cell_type": "code",
   "execution_count": 46,
   "id": "ea63923f",
   "metadata": {},
   "outputs": [],
   "source": [
    "df_merged['location1'] = df_merged['location1'].str.replace(r'^REAR.+$', 'REAR', regex=True)"
   ]
  },
  {
   "cell_type": "code",
   "execution_count": 47,
   "id": "c9215b75",
   "metadata": {},
   "outputs": [
    {
     "data": {
      "text/plain": [
       "location1\n",
       "NR          7409157\n",
       "AT          3203305\n",
       "OPP         1701073\n",
       "E/S          253686\n",
       "S/S          242613\n",
       "N/S          234823\n",
       "W/S          229310\n",
       "R/O           63650\n",
       "N/O            5291\n",
       "S/O            4457\n",
       "E/O            4173\n",
       "NEAR           2862\n",
       "W/O            2636\n",
       "REAR           1170\n",
       "O/F             825\n",
       "N/R             569\n",
       "ON              290\n",
       "OPPOSITE        204\n",
       "NS OF           136\n",
       "RR              111\n",
       "Name: count, dtype: int64"
      ]
     },
     "execution_count": 47,
     "metadata": {},
     "output_type": "execute_result"
    }
   ],
   "source": [
    "df_merged['location1'].value_counts().head(20)"
   ]
  },
  {
   "cell_type": "code",
   "execution_count": 48,
   "id": "68d2e043",
   "metadata": {},
   "outputs": [],
   "source": [
    "df_merged['location1'] = df_merged['location1'].str.replace(r'^OPP.+$', 'OPP', regex=True)\n",
    "\n",
    "df_merged['location1'] = df_merged['location1'].str.replace(r'^NS.+$', 'N/S', regex=True)\n",
    "\n",
    "df_merged['location1'] = df_merged['location1'].str.replace(r'^E/?S.*$', 'E/S', regex=True)\n",
    "\n",
    "df_merged['location1'] = df_merged['location1'].str.replace(r'^REAR*+$', 'R/O', regex=True)\n",
    "\n",
    "df_merged['location1'] = df_merged['location1'].str.replace(r'^WS.+$', 'W/S', regex=True)\n",
    "\n",
    "df_merged['location1'] = df_merged['location1'].str.replace(r'^ON$', 'AT', regex=True)\n",
    "\n",
    "df_merged['location1'] = df_merged['location1'].str.replace(r'^N.?$', 'N/S', regex=True)\n",
    "\n",
    "df_merged['location1'] = df_merged['location1'].str.replace(r'^N.+\\sOF$', 'N/S', regex=True)\n",
    "\n",
    "df_merged['location1'] = df_merged['location1'].str.replace(r'^WS$', 'W/S', regex=True)\n",
    "\n",
    "df_merged['location1'] = df_merged['location1'].str.replace(r'^OP$', 'OPP', regex=True)\n",
    "\n",
    "df_merged['location1'] = df_merged['location1'].str.replace(r'^N/B$', 'N/S', regex=True)\n",
    "\n",
    "df_merged['location1'] = df_merged['location1'].str.replace(r'^E/B$', 'E/S', regex=True)\n",
    "\n",
    "df_merged['location1'] = df_merged['location1'].str.replace(r'^W/B$', 'W/S', regex=True)\n",
    "\n",
    "df_merged['location1'] = df_merged['location1'].str.replace(r'^S/?S.*$', 'S/S', regex=True)\n",
    "\n",
    "df_merged['location1'] = df_merged['location1'].str.replace(r'^N/R$', 'NEAR', regex=True)\n",
    "\n",
    "df_merged['location1'] = df_merged['location1'].str.replace(r'^.*AT.*$', 'AT', regex=True)\n",
    "\n",
    "df_merged['location1'] = df_merged['location1'].str.replace(r'^NEAR$', 'AT', regex=True)\n",
    "\n",
    "df_merged['location1'] = df_merged['location1'].str.replace(r'^ACROSS$', 'OPP', regex=True)\n",
    "\n",
    "df_merged['location1'] = df_merged['location1'].str.replace(r'^NEAR.?E/?B$', 'E/B', regex=True)\n",
    "\n",
    "df_merged['location1'] = df_merged['location1'].str.replace(r'^`$', 'AT', regex=True)\n",
    "\n",
    "df_merged['location1'] = df_merged['location1'].str.replace(r'^O(UT)? F(RONT)?$', 'AT', regex=True)\n",
    "\n",
    "df_merged['location1'] = df_merged['location1'].str.replace(r'^E/B$', 'E/S', regex=True)\n",
    "\n",
    "df_merged['location1'] = df_merged['location1'].str.replace(r'^S/B$', 'S/S', regex=True)\n",
    "\n",
    "df_merged['location1'] = df_merged['location1'].str.replace(r'^NR.+$', 'AT', regex=True)\n",
    "\n",
    "df_merged['location1'] = df_merged['location1'].str.replace(r'^.+W/B$', 'W/S', regex=True)"
   ]
  },
  {
   "cell_type": "code",
   "execution_count": 49,
   "id": "52c047a4",
   "metadata": {},
   "outputs": [
    {
     "data": {
      "text/plain": [
       "location1\n",
       "N/S           7644563\n",
       "AT            3207449\n",
       "OPP           1701482\n",
       "E/S            254011\n",
       "S/S            242813\n",
       "W/S            229459\n",
       "R/O             64820\n",
       "N/O              5291\n",
       "S/O              4457\n",
       "E/O              4173\n",
       "W/O              2636\n",
       "O/F               825\n",
       "RR                111\n",
       "OF                 91\n",
       "I/F                75\n",
       "2075               39\n",
       "1                  33\n",
       "BR                 32\n",
       "UGTNTPRK           31\n",
       "18                 30\n",
       "4001               24\n",
       "T                  24\n",
       "AR                 23\n",
       "2                  22\n",
       "20                 20\n",
       "1000               19\n",
       "10                 18\n",
       "9                  17\n",
       "P1 VST PKG         17\n",
       "4700               16\n",
       "Name: count, dtype: int64"
      ]
     },
     "execution_count": 49,
     "metadata": {},
     "output_type": "execute_result"
    }
   ],
   "source": [
    "df_merged['location1'].value_counts().head(30)"
   ]
  },
  {
   "cell_type": "code",
   "execution_count": 50,
   "id": "1c709dea",
   "metadata": {},
   "outputs": [
    {
     "data": {
      "text/html": [
       "<div>\n",
       "<style scoped>\n",
       "    .dataframe tbody tr th:only-of-type {\n",
       "        vertical-align: middle;\n",
       "    }\n",
       "\n",
       "    .dataframe tbody tr th {\n",
       "        vertical-align: top;\n",
       "    }\n",
       "\n",
       "    .dataframe thead th {\n",
       "        text-align: right;\n",
       "    }\n",
       "</style>\n",
       "<table border=\"1\" class=\"dataframe\">\n",
       "  <thead>\n",
       "    <tr style=\"text-align: right;\">\n",
       "      <th></th>\n",
       "      <th>date_of_infraction</th>\n",
       "      <th>infraction_code</th>\n",
       "      <th>infraction_description</th>\n",
       "      <th>set_fine_amount</th>\n",
       "      <th>time_of_infraction</th>\n",
       "      <th>location1</th>\n",
       "      <th>location2</th>\n",
       "      <th>location3</th>\n",
       "      <th>location4</th>\n",
       "      <th>province</th>\n",
       "      <th>datetime_of_infraction</th>\n",
       "    </tr>\n",
       "  </thead>\n",
       "  <tbody>\n",
       "    <tr>\n",
       "      <th>156747</th>\n",
       "      <td>2016-09-20</td>\n",
       "      <td>3.0</td>\n",
       "      <td>PARK ON PRIVATE PROPERTY</td>\n",
       "      <td>30</td>\n",
       "      <td>2024-03-07 09:50:00</td>\n",
       "      <td>1</td>\n",
       "      <td>1340 DANFORTH RD</td>\n",
       "      <td>NaN</td>\n",
       "      <td>NaN</td>\n",
       "      <td>PQ</td>\n",
       "      <td>2016-09-20 09:50:00</td>\n",
       "    </tr>\n",
       "    <tr>\n",
       "      <th>1183898</th>\n",
       "      <td>2016-07-05</td>\n",
       "      <td>3.0</td>\n",
       "      <td>PARK ON PRIVATE PROPERTY</td>\n",
       "      <td>30</td>\n",
       "      <td>2024-03-07 00:50:00</td>\n",
       "      <td>1</td>\n",
       "      <td>120 TWENTY FORTH ST</td>\n",
       "      <td>NaN</td>\n",
       "      <td>NaN</td>\n",
       "      <td>ON</td>\n",
       "      <td>2016-07-05 00:50:00</td>\n",
       "    </tr>\n",
       "    <tr>\n",
       "      <th>1258451</th>\n",
       "      <td>2016-07-17</td>\n",
       "      <td>3.0</td>\n",
       "      <td>PARK ON PRIVATE PROPERTY</td>\n",
       "      <td>30</td>\n",
       "      <td>2024-03-07 00:27:00</td>\n",
       "      <td>7</td>\n",
       "      <td>CRESCENT PL</td>\n",
       "      <td>NaN</td>\n",
       "      <td>NaN</td>\n",
       "      <td>ON</td>\n",
       "      <td>2016-07-17 00:27:00</td>\n",
       "    </tr>\n",
       "    <tr>\n",
       "      <th>1313015</th>\n",
       "      <td>2016-07-25</td>\n",
       "      <td>3.0</td>\n",
       "      <td>PARK ON PRIVATE PROPERTY</td>\n",
       "      <td>30</td>\n",
       "      <td>2024-03-07 23:26:00</td>\n",
       "      <td>1</td>\n",
       "      <td>30 GILDER DR</td>\n",
       "      <td>NaN</td>\n",
       "      <td>NaN</td>\n",
       "      <td>ON</td>\n",
       "      <td>2016-07-25 23:26:00</td>\n",
       "    </tr>\n",
       "    <tr>\n",
       "      <th>1394295</th>\n",
       "      <td>2016-08-08</td>\n",
       "      <td>4.0</td>\n",
       "      <td>PARK ON MUNICIPAL PROPERTY</td>\n",
       "      <td>30</td>\n",
       "      <td>2024-03-07 14:00:00</td>\n",
       "      <td>1</td>\n",
       "      <td>18 HENDON AVE</td>\n",
       "      <td>NaN</td>\n",
       "      <td>NaN</td>\n",
       "      <td>ON</td>\n",
       "      <td>2016-08-08 14:00:00</td>\n",
       "    </tr>\n",
       "    <tr>\n",
       "      <th>...</th>\n",
       "      <td>...</td>\n",
       "      <td>...</td>\n",
       "      <td>...</td>\n",
       "      <td>...</td>\n",
       "      <td>...</td>\n",
       "      <td>...</td>\n",
       "      <td>...</td>\n",
       "      <td>...</td>\n",
       "      <td>...</td>\n",
       "      <td>...</td>\n",
       "      <td>...</td>\n",
       "    </tr>\n",
       "    <tr>\n",
       "      <th>1125493</th>\n",
       "      <td>2022-08-15</td>\n",
       "      <td>3.0</td>\n",
       "      <td>PARK ON PRIVATE PROPERTY</td>\n",
       "      <td>30</td>\n",
       "      <td>2024-03-07 02:00:00</td>\n",
       "      <td>3</td>\n",
       "      <td>0 MEADOWGLEN PL</td>\n",
       "      <td>NaN</td>\n",
       "      <td>NaN</td>\n",
       "      <td>ON</td>\n",
       "      <td>2022-08-15 02:00:00</td>\n",
       "    </tr>\n",
       "    <tr>\n",
       "      <th>1307188</th>\n",
       "      <td>2022-09-19</td>\n",
       "      <td>3.0</td>\n",
       "      <td>PARK ON PRIVATE PROPERTY</td>\n",
       "      <td>30</td>\n",
       "      <td>2024-03-07 02:05:00</td>\n",
       "      <td>3</td>\n",
       "      <td>0 MEADOWGLEN PL</td>\n",
       "      <td>NaN</td>\n",
       "      <td>NaN</td>\n",
       "      <td>ON</td>\n",
       "      <td>2022-09-19 02:05:00</td>\n",
       "    </tr>\n",
       "    <tr>\n",
       "      <th>1463749</th>\n",
       "      <td>2022-10-18</td>\n",
       "      <td>3.0</td>\n",
       "      <td>PARK ON PRIVATE PROPERTY</td>\n",
       "      <td>30</td>\n",
       "      <td>2024-03-07 09:20:00</td>\n",
       "      <td>9</td>\n",
       "      <td>BOGERT AVENUE</td>\n",
       "      <td>NaN</td>\n",
       "      <td>NaN</td>\n",
       "      <td>ON</td>\n",
       "      <td>2022-10-18 09:20:00</td>\n",
       "    </tr>\n",
       "    <tr>\n",
       "      <th>1572442</th>\n",
       "      <td>2022-10-24</td>\n",
       "      <td>3.0</td>\n",
       "      <td>PARK ON PRIVATE PROPERTY</td>\n",
       "      <td>30</td>\n",
       "      <td>2024-03-07 20:17:00</td>\n",
       "      <td>5</td>\n",
       "      <td>BELLEVUE GROVE</td>\n",
       "      <td>NaN</td>\n",
       "      <td>NaN</td>\n",
       "      <td>ON</td>\n",
       "      <td>2022-10-24 20:17:00</td>\n",
       "    </tr>\n",
       "    <tr>\n",
       "      <th>1667205</th>\n",
       "      <td>2022-11-11</td>\n",
       "      <td>3.0</td>\n",
       "      <td>PARK ON PRIVATE PROPERTY</td>\n",
       "      <td>30</td>\n",
       "      <td>2024-03-07 00:58:00</td>\n",
       "      <td>2</td>\n",
       "      <td>0 FALSTAFF AVE</td>\n",
       "      <td>NaN</td>\n",
       "      <td>NaN</td>\n",
       "      <td>ON</td>\n",
       "      <td>2022-11-11 00:58:00</td>\n",
       "    </tr>\n",
       "  </tbody>\n",
       "</table>\n",
       "<p>122 rows × 11 columns</p>\n",
       "</div>"
      ],
      "text/plain": [
       "        date_of_infraction  infraction_code      infraction_description  \\\n",
       "156747          2016-09-20              3.0    PARK ON PRIVATE PROPERTY   \n",
       "1183898         2016-07-05              3.0    PARK ON PRIVATE PROPERTY   \n",
       "1258451         2016-07-17              3.0    PARK ON PRIVATE PROPERTY   \n",
       "1313015         2016-07-25              3.0    PARK ON PRIVATE PROPERTY   \n",
       "1394295         2016-08-08              4.0  PARK ON MUNICIPAL PROPERTY   \n",
       "...                    ...              ...                         ...   \n",
       "1125493         2022-08-15              3.0    PARK ON PRIVATE PROPERTY   \n",
       "1307188         2022-09-19              3.0    PARK ON PRIVATE PROPERTY   \n",
       "1463749         2022-10-18              3.0    PARK ON PRIVATE PROPERTY   \n",
       "1572442         2022-10-24              3.0    PARK ON PRIVATE PROPERTY   \n",
       "1667205         2022-11-11              3.0    PARK ON PRIVATE PROPERTY   \n",
       "\n",
       "         set_fine_amount  time_of_infraction location1            location2  \\\n",
       "156747                30 2024-03-07 09:50:00         1     1340 DANFORTH RD   \n",
       "1183898               30 2024-03-07 00:50:00         1  120 TWENTY FORTH ST   \n",
       "1258451               30 2024-03-07 00:27:00         7          CRESCENT PL   \n",
       "1313015               30 2024-03-07 23:26:00         1         30 GILDER DR   \n",
       "1394295               30 2024-03-07 14:00:00         1        18 HENDON AVE   \n",
       "...                  ...                 ...       ...                  ...   \n",
       "1125493               30 2024-03-07 02:00:00         3      0 MEADOWGLEN PL   \n",
       "1307188               30 2024-03-07 02:05:00         3      0 MEADOWGLEN PL   \n",
       "1463749               30 2024-03-07 09:20:00         9        BOGERT AVENUE   \n",
       "1572442               30 2024-03-07 20:17:00         5       BELLEVUE GROVE   \n",
       "1667205               30 2024-03-07 00:58:00         2       0 FALSTAFF AVE   \n",
       "\n",
       "        location3 location4 province datetime_of_infraction  \n",
       "156747        NaN       NaN       PQ    2016-09-20 09:50:00  \n",
       "1183898       NaN       NaN       ON    2016-07-05 00:50:00  \n",
       "1258451       NaN       NaN       ON    2016-07-17 00:27:00  \n",
       "1313015       NaN       NaN       ON    2016-07-25 23:26:00  \n",
       "1394295       NaN       NaN       ON    2016-08-08 14:00:00  \n",
       "...           ...       ...      ...                    ...  \n",
       "1125493       NaN       NaN       ON    2022-08-15 02:00:00  \n",
       "1307188       NaN       NaN       ON    2022-09-19 02:05:00  \n",
       "1463749       NaN       NaN       ON    2022-10-18 09:20:00  \n",
       "1572442       NaN       NaN       ON    2022-10-24 20:17:00  \n",
       "1667205       NaN       NaN       ON    2022-11-11 00:58:00  \n",
       "\n",
       "[122 rows x 11 columns]"
      ]
     },
     "execution_count": 50,
     "metadata": {},
     "output_type": "execute_result"
    }
   ],
   "source": [
    "#remove 0 from location 2 and merge any numbers from location 1 onto location 2 \n",
    "#and set the value for location 1 to AT\n",
    "\n",
    "df_merged[df_merged['location1'].str.contains(r'^[0-9]$', regex=True)]"
   ]
  },
  {
   "cell_type": "code",
   "execution_count": 51,
   "id": "4b1a4162",
   "metadata": {},
   "outputs": [
    {
     "data": {
      "text/html": [
       "<div>\n",
       "<style scoped>\n",
       "    .dataframe tbody tr th:only-of-type {\n",
       "        vertical-align: middle;\n",
       "    }\n",
       "\n",
       "    .dataframe tbody tr th {\n",
       "        vertical-align: top;\n",
       "    }\n",
       "\n",
       "    .dataframe thead th {\n",
       "        text-align: right;\n",
       "    }\n",
       "</style>\n",
       "<table border=\"1\" class=\"dataframe\">\n",
       "  <thead>\n",
       "    <tr style=\"text-align: right;\">\n",
       "      <th></th>\n",
       "      <th>date_of_infraction</th>\n",
       "      <th>infraction_code</th>\n",
       "      <th>infraction_description</th>\n",
       "      <th>set_fine_amount</th>\n",
       "      <th>time_of_infraction</th>\n",
       "      <th>location1</th>\n",
       "      <th>location2</th>\n",
       "      <th>location3</th>\n",
       "      <th>location4</th>\n",
       "      <th>province</th>\n",
       "      <th>datetime_of_infraction</th>\n",
       "    </tr>\n",
       "  </thead>\n",
       "  <tbody>\n",
       "    <tr>\n",
       "      <th>13667</th>\n",
       "      <td>2016-08-28</td>\n",
       "      <td>3.0</td>\n",
       "      <td>PARK ON PRIVATE PROPERTY</td>\n",
       "      <td>30</td>\n",
       "      <td>2024-03-07 05:56:00</td>\n",
       "      <td>AT</td>\n",
       "      <td>NaN</td>\n",
       "      <td>NaN</td>\n",
       "      <td>NaN</td>\n",
       "      <td>ON</td>\n",
       "      <td>2016-08-28 05:56:00</td>\n",
       "    </tr>\n",
       "    <tr>\n",
       "      <th>39798</th>\n",
       "      <td>2016-09-01</td>\n",
       "      <td>3.0</td>\n",
       "      <td>PARK ON PRIVATE PROPERTY</td>\n",
       "      <td>30</td>\n",
       "      <td>2024-03-07 09:59:00</td>\n",
       "      <td>AT</td>\n",
       "      <td>NaN</td>\n",
       "      <td>NaN</td>\n",
       "      <td>NaN</td>\n",
       "      <td>ON</td>\n",
       "      <td>2016-09-01 09:59:00</td>\n",
       "    </tr>\n",
       "    <tr>\n",
       "      <th>46252</th>\n",
       "      <td>2016-09-02</td>\n",
       "      <td>3.0</td>\n",
       "      <td>PARK ON PRIVATE PROPERTY</td>\n",
       "      <td>30</td>\n",
       "      <td>2024-03-07 03:42:00</td>\n",
       "      <td>AT</td>\n",
       "      <td>NaN</td>\n",
       "      <td>NaN</td>\n",
       "      <td>NaN</td>\n",
       "      <td>ON</td>\n",
       "      <td>2016-09-02 03:42:00</td>\n",
       "    </tr>\n",
       "    <tr>\n",
       "      <th>52533</th>\n",
       "      <td>2016-09-02</td>\n",
       "      <td>6.0</td>\n",
       "      <td>PARK-SIGNED HWY-EXC PERMT TIME</td>\n",
       "      <td>40</td>\n",
       "      <td>2024-03-07 23:29:00</td>\n",
       "      <td>AT</td>\n",
       "      <td>NaN</td>\n",
       "      <td>NaN</td>\n",
       "      <td>NaN</td>\n",
       "      <td>ON</td>\n",
       "      <td>2016-09-02 23:29:00</td>\n",
       "    </tr>\n",
       "    <tr>\n",
       "      <th>52598</th>\n",
       "      <td>2016-09-02</td>\n",
       "      <td>3.0</td>\n",
       "      <td>PARK ON PRIVATE PROPERTY</td>\n",
       "      <td>30</td>\n",
       "      <td>2024-03-07 09:46:00</td>\n",
       "      <td>AT</td>\n",
       "      <td>NaN</td>\n",
       "      <td>NaN</td>\n",
       "      <td>NaN</td>\n",
       "      <td>ON</td>\n",
       "      <td>2024-03-07 09:46:00</td>\n",
       "    </tr>\n",
       "    <tr>\n",
       "      <th>...</th>\n",
       "      <td>...</td>\n",
       "      <td>...</td>\n",
       "      <td>...</td>\n",
       "      <td>...</td>\n",
       "      <td>...</td>\n",
       "      <td>...</td>\n",
       "      <td>...</td>\n",
       "      <td>...</td>\n",
       "      <td>...</td>\n",
       "      <td>...</td>\n",
       "      <td>...</td>\n",
       "    </tr>\n",
       "    <tr>\n",
       "      <th>1681044</th>\n",
       "      <td>2022-11-14</td>\n",
       "      <td>3.0</td>\n",
       "      <td>PARK ON PRIVATE PROPERTY</td>\n",
       "      <td>30</td>\n",
       "      <td>2024-03-07 00:05:00</td>\n",
       "      <td>AT</td>\n",
       "      <td>NaN</td>\n",
       "      <td>NaN</td>\n",
       "      <td>NaN</td>\n",
       "      <td>ON</td>\n",
       "      <td>2022-11-14 00:05:00</td>\n",
       "    </tr>\n",
       "    <tr>\n",
       "      <th>1707684</th>\n",
       "      <td>2022-11-18</td>\n",
       "      <td>347.0</td>\n",
       "      <td>PARK IN A FIRE ROUTE</td>\n",
       "      <td>250</td>\n",
       "      <td>2024-03-07 14:23:00</td>\n",
       "      <td>FIRE ROUTE</td>\n",
       "      <td>NaN</td>\n",
       "      <td>NaN</td>\n",
       "      <td>NaN</td>\n",
       "      <td>ON</td>\n",
       "      <td>2024-03-07 14:23:00</td>\n",
       "    </tr>\n",
       "    <tr>\n",
       "      <th>1765660</th>\n",
       "      <td>2022-12-01</td>\n",
       "      <td>3.0</td>\n",
       "      <td>PARK ON PRIVATE PROPERTY</td>\n",
       "      <td>30</td>\n",
       "      <td>2024-03-07 01:57:00</td>\n",
       "      <td>AT</td>\n",
       "      <td>NaN</td>\n",
       "      <td>NaN</td>\n",
       "      <td>NaN</td>\n",
       "      <td>ON</td>\n",
       "      <td>2022-12-01 01:57:00</td>\n",
       "    </tr>\n",
       "    <tr>\n",
       "      <th>1780322</th>\n",
       "      <td>2022-12-03</td>\n",
       "      <td>8.0</td>\n",
       "      <td>STAND VEH.-PROHIBIT TIME/DAY</td>\n",
       "      <td>100</td>\n",
       "      <td>2024-03-07 18:43:00</td>\n",
       "      <td>AT</td>\n",
       "      <td>NaN</td>\n",
       "      <td>NaN</td>\n",
       "      <td>NaN</td>\n",
       "      <td>ON</td>\n",
       "      <td>2022-12-03 18:43:00</td>\n",
       "    </tr>\n",
       "    <tr>\n",
       "      <th>1791573</th>\n",
       "      <td>2022-12-06</td>\n",
       "      <td>3.0</td>\n",
       "      <td>PARK ON PRIVATE PROPERTY</td>\n",
       "      <td>30</td>\n",
       "      <td>2024-03-07 07:45:00</td>\n",
       "      <td>AT</td>\n",
       "      <td>NaN</td>\n",
       "      <td>NaN</td>\n",
       "      <td>NaN</td>\n",
       "      <td>ON</td>\n",
       "      <td>2022-12-06 07:45:00</td>\n",
       "    </tr>\n",
       "  </tbody>\n",
       "</table>\n",
       "<p>1349 rows × 11 columns</p>\n",
       "</div>"
      ],
      "text/plain": [
       "        date_of_infraction  infraction_code          infraction_description  \\\n",
       "13667           2016-08-28              3.0        PARK ON PRIVATE PROPERTY   \n",
       "39798           2016-09-01              3.0        PARK ON PRIVATE PROPERTY   \n",
       "46252           2016-09-02              3.0        PARK ON PRIVATE PROPERTY   \n",
       "52533           2016-09-02              6.0  PARK-SIGNED HWY-EXC PERMT TIME   \n",
       "52598           2016-09-02              3.0        PARK ON PRIVATE PROPERTY   \n",
       "...                    ...              ...                             ...   \n",
       "1681044         2022-11-14              3.0        PARK ON PRIVATE PROPERTY   \n",
       "1707684         2022-11-18            347.0            PARK IN A FIRE ROUTE   \n",
       "1765660         2022-12-01              3.0        PARK ON PRIVATE PROPERTY   \n",
       "1780322         2022-12-03              8.0    STAND VEH.-PROHIBIT TIME/DAY   \n",
       "1791573         2022-12-06              3.0        PARK ON PRIVATE PROPERTY   \n",
       "\n",
       "         set_fine_amount  time_of_infraction   location1 location2 location3  \\\n",
       "13667                 30 2024-03-07 05:56:00          AT       NaN       NaN   \n",
       "39798                 30 2024-03-07 09:59:00          AT       NaN       NaN   \n",
       "46252                 30 2024-03-07 03:42:00          AT       NaN       NaN   \n",
       "52533                 40 2024-03-07 23:29:00          AT       NaN       NaN   \n",
       "52598                 30 2024-03-07 09:46:00          AT       NaN       NaN   \n",
       "...                  ...                 ...         ...       ...       ...   \n",
       "1681044               30 2024-03-07 00:05:00          AT       NaN       NaN   \n",
       "1707684              250 2024-03-07 14:23:00  FIRE ROUTE       NaN       NaN   \n",
       "1765660               30 2024-03-07 01:57:00          AT       NaN       NaN   \n",
       "1780322              100 2024-03-07 18:43:00          AT       NaN       NaN   \n",
       "1791573               30 2024-03-07 07:45:00          AT       NaN       NaN   \n",
       "\n",
       "        location4 province datetime_of_infraction  \n",
       "13667         NaN       ON    2016-08-28 05:56:00  \n",
       "39798         NaN       ON    2016-09-01 09:59:00  \n",
       "46252         NaN       ON    2016-09-02 03:42:00  \n",
       "52533         NaN       ON    2016-09-02 23:29:00  \n",
       "52598         NaN       ON    2024-03-07 09:46:00  \n",
       "...           ...      ...                    ...  \n",
       "1681044       NaN       ON    2022-11-14 00:05:00  \n",
       "1707684       NaN       ON    2024-03-07 14:23:00  \n",
       "1765660       NaN       ON    2022-12-01 01:57:00  \n",
       "1780322       NaN       ON    2022-12-03 18:43:00  \n",
       "1791573       NaN       ON    2022-12-06 07:45:00  \n",
       "\n",
       "[1349 rows x 11 columns]"
      ]
     },
     "execution_count": 51,
     "metadata": {},
     "output_type": "execute_result"
    }
   ],
   "source": [
    "df_merged[df_merged['location2'].isna()]"
   ]
  },
  {
   "cell_type": "code",
   "execution_count": 52,
   "id": "57480169",
   "metadata": {
    "scrolled": true
   },
   "outputs": [
    {
     "data": {
      "text/plain": [
       "0.00010093925888435706"
      ]
     },
     "execution_count": 52,
     "metadata": {},
     "output_type": "execute_result"
    }
   ],
   "source": [
    "df_merged[df_merged['location2'].isna()].shape[0]/df_merged.shape[0]"
   ]
  },
  {
   "cell_type": "markdown",
   "id": "7c6f209d",
   "metadata": {},
   "source": [
    "Very low percentage of rows with no address, so we can remove these rows. "
   ]
  },
  {
   "cell_type": "code",
   "execution_count": 53,
   "id": "6c716f2c",
   "metadata": {},
   "outputs": [],
   "source": [
    "df_merged.dropna(subset=[\"location2\"], inplace=True)"
   ]
  },
  {
   "cell_type": "code",
   "execution_count": 54,
   "id": "a9aaa847",
   "metadata": {},
   "outputs": [
    {
     "data": {
      "text/plain": [
       "0"
      ]
     },
     "execution_count": 54,
     "metadata": {},
     "output_type": "execute_result"
    }
   ],
   "source": [
    "df_merged['location2'].isna().sum()"
   ]
  },
  {
   "cell_type": "code",
   "execution_count": 55,
   "id": "23676732",
   "metadata": {},
   "outputs": [
    {
     "data": {
      "text/html": [
       "<div>\n",
       "<style scoped>\n",
       "    .dataframe tbody tr th:only-of-type {\n",
       "        vertical-align: middle;\n",
       "    }\n",
       "\n",
       "    .dataframe tbody tr th {\n",
       "        vertical-align: top;\n",
       "    }\n",
       "\n",
       "    .dataframe thead th {\n",
       "        text-align: right;\n",
       "    }\n",
       "</style>\n",
       "<table border=\"1\" class=\"dataframe\">\n",
       "  <thead>\n",
       "    <tr style=\"text-align: right;\">\n",
       "      <th></th>\n",
       "      <th>date_of_infraction</th>\n",
       "      <th>infraction_code</th>\n",
       "      <th>infraction_description</th>\n",
       "      <th>set_fine_amount</th>\n",
       "      <th>time_of_infraction</th>\n",
       "      <th>location1</th>\n",
       "      <th>location2</th>\n",
       "      <th>location3</th>\n",
       "      <th>location4</th>\n",
       "      <th>province</th>\n",
       "      <th>datetime_of_infraction</th>\n",
       "    </tr>\n",
       "  </thead>\n",
       "  <tbody>\n",
       "    <tr>\n",
       "      <th>86537</th>\n",
       "      <td>2016-09-09</td>\n",
       "      <td>2.0</td>\n",
       "      <td>PARK - LONGER THAN 3 HOURS</td>\n",
       "      <td>15</td>\n",
       "      <td>2024-03-07 03:54:00</td>\n",
       "      <td>N/S</td>\n",
       "      <td>0 NORTH WOODROW BLVD</td>\n",
       "      <td>NaN</td>\n",
       "      <td>NaN</td>\n",
       "      <td>ON</td>\n",
       "      <td>2016-09-09 03:54:00</td>\n",
       "    </tr>\n",
       "    <tr>\n",
       "      <th>100494</th>\n",
       "      <td>2016-09-11</td>\n",
       "      <td>9.0</td>\n",
       "      <td>STOP-SIGNED HWY-PROHIBIT TM/DY</td>\n",
       "      <td>60</td>\n",
       "      <td>2024-03-07 12:25:00</td>\n",
       "      <td>N/S</td>\n",
       "      <td>03 REAN DR</td>\n",
       "      <td>NaN</td>\n",
       "      <td>NaN</td>\n",
       "      <td>ON</td>\n",
       "      <td>2016-09-11 12:25:00</td>\n",
       "    </tr>\n",
       "    <tr>\n",
       "      <th>112190</th>\n",
       "      <td>2016-09-13</td>\n",
       "      <td>8.0</td>\n",
       "      <td>STAND VEH.-PROHIBIT TIME/DAY</td>\n",
       "      <td>60</td>\n",
       "      <td>2024-03-07 10:30:00</td>\n",
       "      <td>N/S</td>\n",
       "      <td>0 PRINCE ARTHUR AVE</td>\n",
       "      <td>NaN</td>\n",
       "      <td>NaN</td>\n",
       "      <td>ON</td>\n",
       "      <td>2016-09-13 10:30:00</td>\n",
       "    </tr>\n",
       "    <tr>\n",
       "      <th>113109</th>\n",
       "      <td>2016-09-13</td>\n",
       "      <td>5.0</td>\n",
       "      <td>PARK-SIGNED HWY-PROHIBIT DY/TM</td>\n",
       "      <td>50</td>\n",
       "      <td>2024-03-07 12:07:00</td>\n",
       "      <td>N/S</td>\n",
       "      <td>05 MARCELLINE CRES</td>\n",
       "      <td>NaN</td>\n",
       "      <td>NaN</td>\n",
       "      <td>ON</td>\n",
       "      <td>2016-09-13 12:07:00</td>\n",
       "    </tr>\n",
       "    <tr>\n",
       "      <th>113462</th>\n",
       "      <td>2016-09-13</td>\n",
       "      <td>5.0</td>\n",
       "      <td>PARK-SIGNED HWY-PROHIBIT DY/TM</td>\n",
       "      <td>50</td>\n",
       "      <td>2024-03-07 12:41:00</td>\n",
       "      <td>N/S</td>\n",
       "      <td>03 REAN DR</td>\n",
       "      <td>NaN</td>\n",
       "      <td>NaN</td>\n",
       "      <td>ON</td>\n",
       "      <td>2016-09-13 12:41:00</td>\n",
       "    </tr>\n",
       "    <tr>\n",
       "      <th>...</th>\n",
       "      <td>...</td>\n",
       "      <td>...</td>\n",
       "      <td>...</td>\n",
       "      <td>...</td>\n",
       "      <td>...</td>\n",
       "      <td>...</td>\n",
       "      <td>...</td>\n",
       "      <td>...</td>\n",
       "      <td>...</td>\n",
       "      <td>...</td>\n",
       "      <td>...</td>\n",
       "    </tr>\n",
       "    <tr>\n",
       "      <th>1257917</th>\n",
       "      <td>2022-09-09</td>\n",
       "      <td>3.0</td>\n",
       "      <td>PARK ON PRIVATE PROPERTY</td>\n",
       "      <td>30</td>\n",
       "      <td>2024-03-07 15:34:00</td>\n",
       "      <td>AT</td>\n",
       "      <td>00. HURON ST</td>\n",
       "      <td>NaN</td>\n",
       "      <td>NaN</td>\n",
       "      <td>ON</td>\n",
       "      <td>2022-09-09 15:34:00</td>\n",
       "    </tr>\n",
       "    <tr>\n",
       "      <th>1307188</th>\n",
       "      <td>2022-09-19</td>\n",
       "      <td>3.0</td>\n",
       "      <td>PARK ON PRIVATE PROPERTY</td>\n",
       "      <td>30</td>\n",
       "      <td>2024-03-07 02:05:00</td>\n",
       "      <td>3</td>\n",
       "      <td>0 MEADOWGLEN PL</td>\n",
       "      <td>NaN</td>\n",
       "      <td>NaN</td>\n",
       "      <td>ON</td>\n",
       "      <td>2022-09-19 02:05:00</td>\n",
       "    </tr>\n",
       "    <tr>\n",
       "      <th>1427389</th>\n",
       "      <td>2022-10-11</td>\n",
       "      <td>5.0</td>\n",
       "      <td>PARK-SIGNED HWY-PROHIBIT DY/TM</td>\n",
       "      <td>50</td>\n",
       "      <td>2024-03-07 14:07:00</td>\n",
       "      <td>N/S</td>\n",
       "      <td>0 THOMPSON ST</td>\n",
       "      <td>NaN</td>\n",
       "      <td>NaN</td>\n",
       "      <td>ON</td>\n",
       "      <td>2022-10-11 14:07:00</td>\n",
       "    </tr>\n",
       "    <tr>\n",
       "      <th>1502972</th>\n",
       "      <td>2022-12-12</td>\n",
       "      <td>3.0</td>\n",
       "      <td>PARK ON PRIVATE PROPERTY</td>\n",
       "      <td>30</td>\n",
       "      <td>2024-03-07 20:15:00</td>\n",
       "      <td>AT</td>\n",
       "      <td>0 DRIFTWOOD AVE</td>\n",
       "      <td>NaN</td>\n",
       "      <td>NaN</td>\n",
       "      <td>ON</td>\n",
       "      <td>2022-12-12 20:15:00</td>\n",
       "    </tr>\n",
       "    <tr>\n",
       "      <th>1667205</th>\n",
       "      <td>2022-11-11</td>\n",
       "      <td>3.0</td>\n",
       "      <td>PARK ON PRIVATE PROPERTY</td>\n",
       "      <td>30</td>\n",
       "      <td>2024-03-07 00:58:00</td>\n",
       "      <td>2</td>\n",
       "      <td>0 FALSTAFF AVE</td>\n",
       "      <td>NaN</td>\n",
       "      <td>NaN</td>\n",
       "      <td>ON</td>\n",
       "      <td>2022-11-11 00:58:00</td>\n",
       "    </tr>\n",
       "  </tbody>\n",
       "</table>\n",
       "<p>1220 rows × 11 columns</p>\n",
       "</div>"
      ],
      "text/plain": [
       "        date_of_infraction  infraction_code          infraction_description  \\\n",
       "86537           2016-09-09              2.0     PARK - LONGER THAN 3 HOURS    \n",
       "100494          2016-09-11              9.0  STOP-SIGNED HWY-PROHIBIT TM/DY   \n",
       "112190          2016-09-13              8.0    STAND VEH.-PROHIBIT TIME/DAY   \n",
       "113109          2016-09-13              5.0  PARK-SIGNED HWY-PROHIBIT DY/TM   \n",
       "113462          2016-09-13              5.0  PARK-SIGNED HWY-PROHIBIT DY/TM   \n",
       "...                    ...              ...                             ...   \n",
       "1257917         2022-09-09              3.0        PARK ON PRIVATE PROPERTY   \n",
       "1307188         2022-09-19              3.0        PARK ON PRIVATE PROPERTY   \n",
       "1427389         2022-10-11              5.0  PARK-SIGNED HWY-PROHIBIT DY/TM   \n",
       "1502972         2022-12-12              3.0        PARK ON PRIVATE PROPERTY   \n",
       "1667205         2022-11-11              3.0        PARK ON PRIVATE PROPERTY   \n",
       "\n",
       "         set_fine_amount  time_of_infraction location1             location2  \\\n",
       "86537                 15 2024-03-07 03:54:00       N/S  0 NORTH WOODROW BLVD   \n",
       "100494                60 2024-03-07 12:25:00       N/S            03 REAN DR   \n",
       "112190                60 2024-03-07 10:30:00       N/S   0 PRINCE ARTHUR AVE   \n",
       "113109                50 2024-03-07 12:07:00       N/S    05 MARCELLINE CRES   \n",
       "113462                50 2024-03-07 12:41:00       N/S            03 REAN DR   \n",
       "...                  ...                 ...       ...                   ...   \n",
       "1257917               30 2024-03-07 15:34:00        AT          00. HURON ST   \n",
       "1307188               30 2024-03-07 02:05:00         3       0 MEADOWGLEN PL   \n",
       "1427389               50 2024-03-07 14:07:00       N/S         0 THOMPSON ST   \n",
       "1502972               30 2024-03-07 20:15:00        AT       0 DRIFTWOOD AVE   \n",
       "1667205               30 2024-03-07 00:58:00         2        0 FALSTAFF AVE   \n",
       "\n",
       "        location3 location4 province datetime_of_infraction  \n",
       "86537         NaN       NaN       ON    2016-09-09 03:54:00  \n",
       "100494        NaN       NaN       ON    2016-09-11 12:25:00  \n",
       "112190        NaN       NaN       ON    2016-09-13 10:30:00  \n",
       "113109        NaN       NaN       ON    2016-09-13 12:07:00  \n",
       "113462        NaN       NaN       ON    2016-09-13 12:41:00  \n",
       "...           ...       ...      ...                    ...  \n",
       "1257917       NaN       NaN       ON    2022-09-09 15:34:00  \n",
       "1307188       NaN       NaN       ON    2022-09-19 02:05:00  \n",
       "1427389       NaN       NaN       ON    2022-10-11 14:07:00  \n",
       "1502972       NaN       NaN       ON    2022-12-12 20:15:00  \n",
       "1667205       NaN       NaN       ON    2022-11-11 00:58:00  \n",
       "\n",
       "[1220 rows x 11 columns]"
      ]
     },
     "execution_count": 55,
     "metadata": {},
     "output_type": "execute_result"
    }
   ],
   "source": [
    "df_merged[df_merged['location2'].str.contains(r'^[0].+$', regex=True)]"
   ]
  },
  {
   "cell_type": "code",
   "execution_count": 56,
   "id": "8f72033d",
   "metadata": {},
   "outputs": [],
   "source": [
    "df_merged['location2'] = df_merged['location2'].str.replace(r'^0+(.+)$', r'\\1', regex=True)"
   ]
  },
  {
   "cell_type": "code",
   "execution_count": 57,
   "id": "3b99f9ea",
   "metadata": {},
   "outputs": [
    {
     "data": {
      "text/html": [
       "<div>\n",
       "<style scoped>\n",
       "    .dataframe tbody tr th:only-of-type {\n",
       "        vertical-align: middle;\n",
       "    }\n",
       "\n",
       "    .dataframe tbody tr th {\n",
       "        vertical-align: top;\n",
       "    }\n",
       "\n",
       "    .dataframe thead th {\n",
       "        text-align: right;\n",
       "    }\n",
       "</style>\n",
       "<table border=\"1\" class=\"dataframe\">\n",
       "  <thead>\n",
       "    <tr style=\"text-align: right;\">\n",
       "      <th></th>\n",
       "      <th>date_of_infraction</th>\n",
       "      <th>infraction_code</th>\n",
       "      <th>infraction_description</th>\n",
       "      <th>set_fine_amount</th>\n",
       "      <th>time_of_infraction</th>\n",
       "      <th>location1</th>\n",
       "      <th>location2</th>\n",
       "      <th>location3</th>\n",
       "      <th>location4</th>\n",
       "      <th>province</th>\n",
       "      <th>datetime_of_infraction</th>\n",
       "    </tr>\n",
       "  </thead>\n",
       "  <tbody>\n",
       "  </tbody>\n",
       "</table>\n",
       "</div>"
      ],
      "text/plain": [
       "Empty DataFrame\n",
       "Columns: [date_of_infraction, infraction_code, infraction_description, set_fine_amount, time_of_infraction, location1, location2, location3, location4, province, datetime_of_infraction]\n",
       "Index: []"
      ]
     },
     "execution_count": 57,
     "metadata": {},
     "output_type": "execute_result"
    }
   ],
   "source": [
    "df_merged[df_merged['location2'].str.contains(r'^[0].+$', regex=True)]"
   ]
  },
  {
   "cell_type": "code",
   "execution_count": 58,
   "id": "330613af",
   "metadata": {},
   "outputs": [],
   "source": [
    "# num_in_location1 = df_merged['location1'].str.contains(r'^[0-9]+$', regex=True)\n",
    "# filtered_df = df_merged[num_in_location1]  # Filter rows where 'location1' starts with a number\n",
    "\n",
    "# df_merged.loc[num_in_location1, 'location2'] = df_merged['location1'].astype(str).str.cat(df_merged['location2'].astype(str), sep=' ')\n",
    "\n",
    "# print(filtered_df)"
   ]
  },
  {
   "cell_type": "code",
   "execution_count": null,
   "id": "cf00ac2b",
   "metadata": {},
   "outputs": [],
   "source": []
  }
 ],
 "metadata": {
  "kernelspec": {
   "display_name": "Python 3 (ipykernel)",
   "language": "python",
   "name": "python3"
  },
  "language_info": {
   "codemirror_mode": {
    "name": "ipython",
    "version": 3
   },
   "file_extension": ".py",
   "mimetype": "text/x-python",
   "name": "python",
   "nbconvert_exporter": "python",
   "pygments_lexer": "ipython3",
   "version": "3.11.8"
  }
 },
 "nbformat": 4,
 "nbformat_minor": 5
}
