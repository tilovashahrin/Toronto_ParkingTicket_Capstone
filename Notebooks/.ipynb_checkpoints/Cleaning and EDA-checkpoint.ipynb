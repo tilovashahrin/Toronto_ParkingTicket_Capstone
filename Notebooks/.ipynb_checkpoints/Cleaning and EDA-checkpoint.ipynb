{
 "cells": [
  {
   "cell_type": "markdown",
   "id": "503bf2e2",
   "metadata": {},
   "source": [
    "# Toronto Parking Ticket Data Analysis from 2016 - 2022\n",
    "\n",
    "## Author: Tilova Shahrin"
   ]
  },
  {
   "cell_type": "markdown",
   "id": "18f2fef9",
   "metadata": {},
   "source": [
    "### **Table of contents**\n",
    "\n",
    "- Combining DataFrames\n",
    "- Time and Date of infraction cleaning\n",
    "- Histogram of infraction by Month\n",
    "- Histogram of infraction by Time\n",
    "- Histogram of infraction by Day \n",
    "- Top 5 infractions by count\n",
    "- Location 1 cleaning\n",
    "- Location 2 cleaning\n",
    "- Total fines by year"
   ]
  },
  {
   "cell_type": "code",
   "execution_count": 1,
   "id": "58c0d700",
   "metadata": {},
   "outputs": [],
   "source": [
    "import numpy as np\n",
    "import pandas as pd\n",
    "import matplotlib.pyplot as plt\n",
    "%matplotlib inline\n",
    "import statsmodels.api as sm\n",
    "from scipy import stats\n",
    "import seaborn as sns\n",
    "import os\n",
    "import glob\n",
    "import datetime"
   ]
  },
  {
   "cell_type": "markdown",
   "id": "202c1fca",
   "metadata": {},
   "source": [
    "### Combining 2016 Data"
   ]
  },
  {
   "cell_type": "code",
   "execution_count": 2,
   "id": "37b5039f",
   "metadata": {},
   "outputs": [],
   "source": [
    "#read the path\n",
    "file_path_2016 = \"../data/parking-tickets-2016\"\n",
    "#list all the files from the directory\n",
    "file_list_2016 = os.listdir(file_path_2016)"
   ]
  },
  {
   "cell_type": "code",
   "execution_count": 3,
   "id": "17c34a90",
   "metadata": {},
   "outputs": [],
   "source": [
    "df_2016 = pd.DataFrame()\n",
    "\n",
    "# Append all files together\n",
    "for file in file_list_2016:\n",
    "    df_temp = pd.read_csv(f'../data/parking-tickets-2016/{file}')\n",
    "    df_2016 = pd.concat([df_2016, df_temp], ignore_index=True)"
   ]
  },
  {
   "cell_type": "markdown",
   "id": "39e5bb5e",
   "metadata": {},
   "source": [
    "### Combining 2017 Data"
   ]
  },
  {
   "cell_type": "code",
   "execution_count": 4,
   "id": "0f6c4d61",
   "metadata": {},
   "outputs": [],
   "source": [
    "#read the path\n",
    "file_path_2017 = \"../data/parking-tickets-2017\"\n",
    "#list all the files from the directory\n",
    "file_list_2017 = os.listdir(file_path_2017)"
   ]
  },
  {
   "cell_type": "code",
   "execution_count": 5,
   "id": "75ea0044",
   "metadata": {
    "scrolled": true
   },
   "outputs": [],
   "source": [
    "df_2017 = pd.DataFrame()\n",
    "\n",
    "# Append all files together\n",
    "for file in file_list_2017:\n",
    "    df_temp = pd.read_csv(f'../data/parking-tickets-2017/{file}')\n",
    "    df_2017 = pd.concat([df_2017, df_temp], ignore_index=True)"
   ]
  },
  {
   "cell_type": "markdown",
   "id": "40805e07",
   "metadata": {},
   "source": [
    "### Combining 2018 Data"
   ]
  },
  {
   "cell_type": "code",
   "execution_count": 6,
   "id": "5e67459f",
   "metadata": {},
   "outputs": [],
   "source": [
    "#read the path\n",
    "file_path_2018 = \"../data/parking-tickets-2018\"\n",
    "#list all the files from the directory\n",
    "file_list_2018 = os.listdir(file_path_2018)"
   ]
  },
  {
   "cell_type": "code",
   "execution_count": 7,
   "id": "410f509e",
   "metadata": {
    "scrolled": true
   },
   "outputs": [],
   "source": [
    "df_2018 = pd.DataFrame()\n",
    "\n",
    "# Append all files together\n",
    "for file in file_list_2018:\n",
    "    df_temp = pd.read_csv(f'../data/parking-tickets-2018/{file}')\n",
    "    df_2018 = pd.concat([df_2018, df_temp], ignore_index=True)"
   ]
  },
  {
   "cell_type": "markdown",
   "id": "9f34e28a",
   "metadata": {},
   "source": [
    "### Combining 2019 Data"
   ]
  },
  {
   "cell_type": "code",
   "execution_count": 8,
   "id": "107b8259",
   "metadata": {},
   "outputs": [],
   "source": [
    "#read the path\n",
    "file_path_2019 = \"../data/parking-tickets-2019\"\n",
    "#list all the files from the directory\n",
    "file_list_2019 = os.listdir(file_path_2019)"
   ]
  },
  {
   "cell_type": "code",
   "execution_count": 9,
   "id": "bdd15608",
   "metadata": {},
   "outputs": [],
   "source": [
    "df_2019 = pd.DataFrame()\n",
    "\n",
    "# Append all files together\n",
    "for file in file_list_2019:\n",
    "    df_temp = pd.read_csv(f'../data/parking-tickets-2019/{file}')\n",
    "    df_2019 = pd.concat([df_2019, df_temp], ignore_index=True)"
   ]
  },
  {
   "cell_type": "markdown",
   "id": "10cddc35",
   "metadata": {},
   "source": [
    "### Combining 2020 Data"
   ]
  },
  {
   "cell_type": "code",
   "execution_count": 10,
   "id": "273b9b76",
   "metadata": {},
   "outputs": [],
   "source": [
    "#read the path\n",
    "file_path_2020 = \"../data/parking-tickets-2020\"\n",
    "#list all the files from the directory\n",
    "file_list_2020 = os.listdir(file_path_2020)"
   ]
  },
  {
   "cell_type": "code",
   "execution_count": 11,
   "id": "2380d544",
   "metadata": {},
   "outputs": [],
   "source": [
    "df_2020 = pd.DataFrame()\n",
    "\n",
    "# Append all files together\n",
    "for file in file_list_2020:\n",
    "    df_temp = pd.read_csv(f'../data/parking-tickets-2020/{file}')\n",
    "    df_2020 = pd.concat([df_2020, df_temp], ignore_index=True)"
   ]
  },
  {
   "cell_type": "markdown",
   "id": "1f775d7e",
   "metadata": {},
   "source": [
    "### Combining 2021 Data"
   ]
  },
  {
   "cell_type": "code",
   "execution_count": 12,
   "id": "9a7cab97",
   "metadata": {},
   "outputs": [],
   "source": [
    "#read the path\n",
    "file_path_2021 = \"../data/parking-tickets-2021\"\n",
    "#list all the files from the directory\n",
    "file_list_2021 = os.listdir(file_path_2021)"
   ]
  },
  {
   "cell_type": "code",
   "execution_count": 13,
   "id": "40446f8e",
   "metadata": {
    "scrolled": true
   },
   "outputs": [],
   "source": [
    "df_2021 = pd.DataFrame()\n",
    "\n",
    "# Append all files together\n",
    "for file in file_list_2021:\n",
    "    df_temp = pd.read_csv(f'../data/parking-tickets-2021/{file}')\n",
    "    df_2021 = pd.concat([df_2021, df_temp], ignore_index=True)"
   ]
  },
  {
   "cell_type": "markdown",
   "id": "b5993ada",
   "metadata": {},
   "source": [
    "### Combining 2022 Data"
   ]
  },
  {
   "cell_type": "code",
   "execution_count": 14,
   "id": "723e28be",
   "metadata": {},
   "outputs": [],
   "source": [
    "#read the path\n",
    "file_path_2022 = \"../data/parking-tickets-2022\"\n",
    "#list all the files from the directory\n",
    "file_list_2022 = os.listdir(file_path_2022)"
   ]
  },
  {
   "cell_type": "code",
   "execution_count": 15,
   "id": "a1a41ee1",
   "metadata": {},
   "outputs": [],
   "source": [
    "df_2022 = pd.DataFrame()\n",
    "\n",
    "# Append all files together\n",
    "for file in file_list_2022:\n",
    "    df_temp = pd.read_csv(f'../data/parking-tickets-2022/{file}')\n",
    "    df_2022 = pd.concat([df_2022, df_temp], ignore_index=True)"
   ]
  },
  {
   "cell_type": "markdown",
   "id": "5b4e1e93",
   "metadata": {},
   "source": [
    "### Merging Data Frames"
   ]
  },
  {
   "cell_type": "code",
   "execution_count": 16,
   "id": "9d0f3d1a",
   "metadata": {},
   "outputs": [],
   "source": [
    "frames = [df_2016, df_2017, df_2018, df_2019, df_2020, df_2021, df_2022]\n",
    "df_merged = pd.concat(frames)"
   ]
  },
  {
   "cell_type": "code",
   "execution_count": 17,
   "id": "ae01b63a",
   "metadata": {},
   "outputs": [
    {
     "name": "stdout",
     "output_type": "stream",
     "text": [
      "<class 'pandas.core.frame.DataFrame'>\n",
      "Index: 13364473 entries, 0 to 1821886\n",
      "Data columns (total 11 columns):\n",
      " #   Column                  Dtype  \n",
      "---  ------                  -----  \n",
      " 0   tag_number_masked       object \n",
      " 1   date_of_infraction      int64  \n",
      " 2   infraction_code         float64\n",
      " 3   infraction_description  object \n",
      " 4   set_fine_amount         int64  \n",
      " 5   time_of_infraction      float64\n",
      " 6   location1               object \n",
      " 7   location2               object \n",
      " 8   location3               object \n",
      " 9   location4               object \n",
      " 10  province                object \n",
      "dtypes: float64(2), int64(2), object(7)\n",
      "memory usage: 1.2+ GB\n"
     ]
    }
   ],
   "source": [
    "df_merged.info()"
   ]
  },
  {
   "cell_type": "code",
   "execution_count": 18,
   "id": "0722c609",
   "metadata": {},
   "outputs": [
    {
     "data": {
      "text/plain": [
       "(13364473, 11)"
      ]
     },
     "execution_count": 18,
     "metadata": {},
     "output_type": "execute_result"
    }
   ],
   "source": [
    "df_merged.shape"
   ]
  },
  {
   "cell_type": "markdown",
   "id": "74c68c2c",
   "metadata": {},
   "source": [
    "#### Going to check what each column means, starting with `tag_number_masked`. Seems like they are the id number for each ticket made. Let's see if there are any unique values."
   ]
  },
  {
   "cell_type": "code",
   "execution_count": 19,
   "id": "50666ebc",
   "metadata": {},
   "outputs": [
    {
     "data": {
      "text/plain": [
       "100022"
      ]
     },
     "execution_count": 19,
     "metadata": {},
     "output_type": "execute_result"
    }
   ],
   "source": [
    "df_merged['tag_number_masked'].nunique()"
   ]
  },
  {
   "cell_type": "code",
   "execution_count": 20,
   "id": "2e550ff1",
   "metadata": {},
   "outputs": [
    {
     "data": {
      "text/plain": [
       "0.7484170905953418"
      ]
     },
     "execution_count": 20,
     "metadata": {},
     "output_type": "execute_result"
    }
   ],
   "source": [
    "df_merged['tag_number_masked'].nunique()/df_merged.shape[0]*100"
   ]
  },
  {
   "cell_type": "markdown",
   "id": "37bb3bec",
   "metadata": {},
   "source": [
    "#### There's 100k unique values of almost 13 million entries. Not sure how this column can help us, or what findings I may have, but it is best to leave it alone until I find out the best use for this column."
   ]
  },
  {
   "cell_type": "markdown",
   "id": "5e08aed2",
   "metadata": {},
   "source": [
    "#### Next is `date_of_infraction`, we can change this to a datetime64[ns] format. But I noticed another column that gives me the time, `time_of_infraction` displayed in minutes. We can change both of these into datetime by combining them together into a new column. "
   ]
  },
  {
   "cell_type": "markdown",
   "id": "2e62ed40-6e0b-4403-abe2-7ba3b7ec30a1",
   "metadata": {},
   "source": [
    "Checking for info or null values first. "
   ]
  },
  {
   "cell_type": "code",
   "execution_count": 21,
   "id": "55c0ec1f-0393-4704-a827-2d8222d7295c",
   "metadata": {},
   "outputs": [
    {
     "data": {
      "text/plain": [
       "0"
      ]
     },
     "execution_count": 21,
     "metadata": {},
     "output_type": "execute_result"
    }
   ],
   "source": [
    "df_merged['date_of_infraction'].isna().sum()"
   ]
  },
  {
   "cell_type": "markdown",
   "id": "6e3ed149-5664-4e91-85e2-8f36c3f7e6f7",
   "metadata": {},
   "source": [
    "We have no null values for `date_of_infraction` but we do for `time_of_infraction`. So once we combine them we will get 9337 null values. Let's get the average time for each day of the year and use that value to fill in the null values. Let's move on to changing its `dtype`."
   ]
  },
  {
   "cell_type": "code",
   "execution_count": 22,
   "id": "16ebe39c",
   "metadata": {},
   "outputs": [
    {
     "data": {
      "text/plain": [
       "0    20161230\n",
       "1    20161230\n",
       "2    20161230\n",
       "3    20161230\n",
       "4    20161230\n",
       "Name: date_of_infraction, dtype: int64"
      ]
     },
     "execution_count": 22,
     "metadata": {},
     "output_type": "execute_result"
    }
   ],
   "source": [
    "df_merged['date_of_infraction'].head()"
   ]
  },
  {
   "cell_type": "code",
   "execution_count": 23,
   "id": "a4d5aa9b",
   "metadata": {},
   "outputs": [
    {
     "data": {
      "text/plain": [
       "0   2016-12-30\n",
       "1   2016-12-30\n",
       "2   2016-12-30\n",
       "3   2016-12-30\n",
       "4   2016-12-30\n",
       "Name: date_of_infraction, dtype: datetime64[ns]"
      ]
     },
     "execution_count": 23,
     "metadata": {},
     "output_type": "execute_result"
    }
   ],
   "source": [
    "df_merged['date_of_infraction'] = pd.to_datetime(df_merged['date_of_infraction'], format='%Y%m%d')\n",
    "df_merged['date_of_infraction'].head()"
   ]
  },
  {
   "cell_type": "code",
   "execution_count": 24,
   "id": "590f5200",
   "metadata": {},
   "outputs": [
    {
     "data": {
      "text/plain": [
       "0    1637.0\n",
       "1    1637.0\n",
       "2    1637.0\n",
       "3    1637.0\n",
       "4    1637.0\n",
       "Name: time_of_infraction, dtype: float64"
      ]
     },
     "execution_count": 24,
     "metadata": {},
     "output_type": "execute_result"
    }
   ],
   "source": [
    "df_merged['time_of_infraction'].head()"
   ]
  },
  {
   "cell_type": "code",
   "execution_count": 25,
   "id": "92314f50",
   "metadata": {
    "scrolled": true
   },
   "outputs": [
    {
     "data": {
      "text/plain": [
       "tag_number_masked          0.000000\n",
       "date_of_infraction         0.000000\n",
       "infraction_code            0.000015\n",
       "infraction_description     0.000000\n",
       "set_fine_amount            0.000000\n",
       "time_of_infraction         0.069864\n",
       "location1                 10.416520\n",
       "location2                  0.010094\n",
       "location3                 92.684912\n",
       "location4                 92.666168\n",
       "province                   0.000022\n",
       "dtype: float64"
      ]
     },
     "execution_count": 25,
     "metadata": {},
     "output_type": "execute_result"
    }
   ],
   "source": [
    "(df_merged.isna().sum()/df_merged.shape[0])*100"
   ]
  },
  {
   "cell_type": "markdown",
   "id": "36ca6946",
   "metadata": {},
   "source": [
    "`time_of_infraction` only has 0.07% of missing data. So without needing to find a way to fill the data, we can remove them."
   ]
  },
  {
   "cell_type": "code",
   "execution_count": 26,
   "id": "ff82e1ca",
   "metadata": {},
   "outputs": [],
   "source": [
    "df_merged.dropna(subset=['time_of_infraction'],inplace=True)"
   ]
  },
  {
   "cell_type": "code",
   "execution_count": 27,
   "id": "ad12d114",
   "metadata": {},
   "outputs": [
    {
     "data": {
      "text/plain": [
       "0"
      ]
     },
     "execution_count": 27,
     "metadata": {},
     "output_type": "execute_result"
    }
   ],
   "source": [
    "df_merged['time_of_infraction'].isna().sum()"
   ]
  },
  {
   "cell_type": "markdown",
   "id": "495ab52a",
   "metadata": {},
   "source": [
    "I cannot just change this by making unit into minutes, otherwise 1637 will give me a combination of minutes instead of separating hours and minutes into 16:37:00, \n",
    "let's do a format by breaking it down to hours and minutes."
   ]
  },
  {
   "cell_type": "code",
   "execution_count": 28,
   "id": "5e1bcfad",
   "metadata": {},
   "outputs": [],
   "source": [
    "df_merged['hours'] = df_merged['time_of_infraction'] // 100\n",
    "df_merged['minutes'] = df_merged['time_of_infraction'] % 100"
   ]
  },
  {
   "cell_type": "code",
   "execution_count": 29,
   "id": "53f3558a",
   "metadata": {},
   "outputs": [],
   "source": [
    "df_merged['hours'] = pd.to_timedelta(df_merged['hours'], unit='h')\n",
    "df_merged['minutes'] = pd.to_timedelta(df_merged['minutes'], unit='m')"
   ]
  },
  {
   "cell_type": "code",
   "execution_count": 30,
   "id": "3967d74f",
   "metadata": {},
   "outputs": [],
   "source": [
    "# Combine date and time columns into a single datetime column\n",
    "df_merged['time_of_infraction'] = (df_merged['hours'] + df_merged['minutes']).astype(str)\n",
    "df_merged['time_of_infraction'] = df_merged['time_of_infraction'].astype(str).str.split().str[-1]"
   ]
  },
  {
   "cell_type": "code",
   "execution_count": 31,
   "id": "4b7f22ce",
   "metadata": {},
   "outputs": [
    {
     "data": {
      "text/plain": [
       "0          16:37:00\n",
       "1          16:37:00\n",
       "2          16:37:00\n",
       "3          16:37:00\n",
       "4          16:37:00\n",
       "             ...   \n",
       "1821882    09:46:00\n",
       "1821883    09:47:00\n",
       "1821884    09:47:00\n",
       "1821885    09:47:00\n",
       "1821886    09:47:00\n",
       "Name: time_of_infraction, Length: 13355136, dtype: object"
      ]
     },
     "execution_count": 31,
     "metadata": {},
     "output_type": "execute_result"
    }
   ],
   "source": [
    "df_merged['time_of_infraction']"
   ]
  },
  {
   "cell_type": "markdown",
   "id": "7d8186b2",
   "metadata": {},
   "source": [
    "#### Since I have date and time, I don't think I need a necessary datetime of both, so I shall leave that separate for now, unless necessary. "
   ]
  },
  {
   "cell_type": "code",
   "execution_count": 32,
   "id": "a4eac8f9",
   "metadata": {},
   "outputs": [
    {
     "data": {
      "text/plain": [
       "0   2016-12-30 16:37:00\n",
       "1   2016-12-30 16:37:00\n",
       "2   2016-12-30 16:37:00\n",
       "3   2016-12-30 16:37:00\n",
       "4   2016-12-30 16:37:00\n",
       "Name: datetime_of_infraction, dtype: datetime64[ns]"
      ]
     },
     "execution_count": 32,
     "metadata": {},
     "output_type": "execute_result"
    }
   ],
   "source": [
    "df_merged['datetime_of_infraction']=pd.to_datetime(df_merged['date_of_infraction'].astype(str) +  df_merged['time_of_infraction'],format='%Y-%m-%d%H:%M:%S')\n",
    "df_merged['datetime_of_infraction'].head()"
   ]
  },
  {
   "cell_type": "markdown",
   "id": "4ade198f",
   "metadata": {},
   "source": [
    "Now we can see this as its own column. Best to remove `hours` and `minutes` columns."
   ]
  },
  {
   "cell_type": "code",
   "execution_count": 33,
   "id": "1ada019a",
   "metadata": {},
   "outputs": [],
   "source": [
    "df_merged.drop(columns = ['hours', 'minutes', 'tag_number_masked'], inplace=True)"
   ]
  },
  {
   "cell_type": "markdown",
   "id": "bc2c08d7",
   "metadata": {},
   "source": [
    "Now that I know there's NaT values to look out for and not the 0 times. I can fill the NaT values with the average of each offence. \n",
    "\n",
    "Let's look into `infraction_description` and group by that with NaT values."
   ]
  },
  {
   "cell_type": "code",
   "execution_count": 34,
   "id": "9eb44c28-d8d3-4637-a4ba-1227aef7b869",
   "metadata": {},
   "outputs": [
    {
     "data": {
      "text/plain": [
       "288"
      ]
     },
     "execution_count": 34,
     "metadata": {},
     "output_type": "execute_result"
    }
   ],
   "source": [
    "df_merged['infraction_description'].nunique()"
   ]
  },
  {
   "cell_type": "markdown",
   "id": "df337cc4-8dea-4991-9644-1dd55ea1d28a",
   "metadata": {},
   "source": [
    "Let's get mean of each list. "
   ]
  },
  {
   "cell_type": "markdown",
   "id": "7df6b4d1",
   "metadata": {},
   "source": [
    "### Let's get the histogram of infraction date."
   ]
  },
  {
   "cell_type": "code",
   "execution_count": 35,
   "id": "0fc32828",
   "metadata": {},
   "outputs": [],
   "source": [
    "df_year_2022 = df_merged[df_merged['datetime_of_infraction'].dt.year == 2022]"
   ]
  },
  {
   "cell_type": "code",
   "execution_count": 36,
   "id": "cbfd8562",
   "metadata": {},
   "outputs": [
    {
     "data": {
      "image/png": "[encoded data removed]",
      "text/plain": [
       "<Figure size 640x480 with 1 Axes>"
      ]
     },
     "metadata": {},
     "output_type": "display_data"
    }
   ],
   "source": [
    "infraction_month = df_year_2022.groupby(df_year_2022['datetime_of_infraction'].dt.month).size()\n",
    "\n",
    "# Plot histogram\n",
    "plt.bar(infraction_month.index, infraction_month, color='skyblue')\n",
    "plt.xlabel('Month')\n",
    "plt.ylabel('Number of Infractions')\n",
    "plt.title('Histogram of Infractions by Month (2022)')\n",
    "plt.xticks(range(1, 13))  # Set ticks for all months\n",
    "plt.show()"
   ]
  },
  {
   "cell_type": "markdown",
   "id": "b7f9b5e4",
   "metadata": {},
   "source": [
    "Looks like spring and summer gets the most tickets from March-July. There's a bounce in October, is it from holidays? We'll find out later through our analysis. "
   ]
  },
  {
   "cell_type": "markdown",
   "id": "df7c70cf",
   "metadata": {},
   "source": [
    "### Let's get histogram of infraction time in 2022"
   ]
  },
  {
   "cell_type": "code",
   "execution_count": 37,
   "id": "8c8dea0c",
   "metadata": {
    "scrolled": true
   },
   "outputs": [
    {
     "data": {
      "image/png": "[encoded data removed]",
      "text/plain": [
       "<Figure size 640x480 with 1 Axes>"
      ]
     },
     "metadata": {},
     "output_type": "display_data"
    }
   ],
   "source": [
    "infraction_hour = df_year_2022.groupby(df_year_2022['datetime_of_infraction'].dt.hour).size()\n",
    "\n",
    "# Plot histogram\n",
    "plt.bar(infraction_hour.index, infraction_hour, color='skyblue')\n",
    "plt.xlabel('Time of Day')\n",
    "plt.ylabel('Number of Infractions')\n",
    "plt.title('Histogram of Infractions by time (2022)')\n",
    "plt.xticks(range(0,24))  # Set ticks for all months\n",
    "plt.show()"
   ]
  },
  {
   "cell_type": "markdown",
   "id": "34ea8ed8",
   "metadata": {},
   "source": [
    "Seems most tickets are received between 11 and 12 with a whopping 140k tickets issued around that time in total. "
   ]
  },
  {
   "cell_type": "code",
   "execution_count": 38,
   "id": "c1ab0b08",
   "metadata": {},
   "outputs": [
    {
     "data": {
      "text/plain": [
       "location2\n",
       "4700 KEELE ST          34744\n",
       "2075 BAYVIEW AVE       31002\n",
       "20 EDWARD ST           22372\n",
       "15 MARINE PARADE DR    21727\n",
       "4001 LESLIE ST         18511\n",
       "Name: count, dtype: int64"
      ]
     },
     "execution_count": 38,
     "metadata": {},
     "output_type": "execute_result"
    }
   ],
   "source": [
    "#top 5 addresses and their violations\n",
    "df_merged['location2'].value_counts().head(5)"
   ]
  },
  {
   "cell_type": "code",
   "execution_count": 39,
   "id": "321b36f7",
   "metadata": {},
   "outputs": [
    {
     "data": {
      "text/plain": [
       "infraction_description\n",
       "PARK ON PRIVATE PROPERTY          2619550\n",
       "PARK-SIGNED HWY-PROHIBIT DY/TM    2114756\n",
       "PARK PROHIBITED TIME NO PERMIT    1861173\n",
       "PARK MACHINE-REQD FEE NOT PAID    1582575\n",
       "STOP-SIGNED HWY-PROHIBIT TM/DY     694472\n",
       "Name: count, dtype: int64"
      ]
     },
     "execution_count": 39,
     "metadata": {},
     "output_type": "execute_result"
    }
   ],
   "source": [
    "#top 5 infractions by count\n",
    "df_merged['infraction_description'].value_counts().head(5)"
   ]
  },
  {
   "cell_type": "code",
   "execution_count": 40,
   "id": "4735780c",
   "metadata": {},
   "outputs": [
    {
     "data": {
      "image/png": "[encoded data removed]",
      "text/plain": [
       "<Figure size 640x480 with 1 Axes>"
      ]
     },
     "metadata": {},
     "output_type": "display_data"
    }
   ],
   "source": [
    "infraction_day = df_year_2022.groupby(df_year_2022['datetime_of_infraction'].dt.dayofweek).size()\n",
    "\n",
    "# Plot histogram\n",
    "plt.bar(infraction_day.index, infraction_day, color='skyblue')\n",
    "plt.xlabel('Day of the week')\n",
    "plt.ylabel('Number of Infractions')\n",
    "plt.title('Histogram of Infractions by Day (2022)')\n",
    "plt.xticks(range(0,7))\n",
    "plt.show()"
   ]
  },
  {
   "cell_type": "markdown",
   "id": "5abba263",
   "metadata": {},
   "source": [
    "Looks like Tuesday gets the most tickets with Wednesday right after. "
   ]
  },
  {
   "cell_type": "code",
   "execution_count": 41,
   "id": "bacd0631",
   "metadata": {},
   "outputs": [
    {
     "data": {
      "text/plain": [
       "date_of_infraction               0\n",
       "infraction_code                  2\n",
       "infraction_description           0\n",
       "set_fine_amount                  0\n",
       "time_of_infraction               0\n",
       "location1                  1384301\n",
       "location2                     1197\n",
       "location3                 12377620\n",
       "location4                 12375473\n",
       "province                         3\n",
       "datetime_of_infraction           0\n",
       "dtype: int64"
      ]
     },
     "execution_count": 41,
     "metadata": {},
     "output_type": "execute_result"
    }
   ],
   "source": [
    "df_merged.isna().sum()"
   ]
  },
  {
   "cell_type": "markdown",
   "id": "965efe16",
   "metadata": {},
   "source": [
    "Let's fill na values, we know they're empty because it didn't need specification. To fill using one of the top value counts, let's fill with 'AT'. That way it is specified that it's address specified and there's no na values. "
   ]
  },
  {
   "cell_type": "code",
   "execution_count": 42,
   "id": "26a6c5c2",
   "metadata": {},
   "outputs": [],
   "source": [
    "df_merged['location1'].fillna('AT', inplace = True)"
   ]
  },
  {
   "cell_type": "code",
   "execution_count": 43,
   "id": "5602b11a",
   "metadata": {},
   "outputs": [
    {
     "data": {
      "text/plain": [
       "date_of_infraction               0\n",
       "infraction_code                  2\n",
       "infraction_description           0\n",
       "set_fine_amount                  0\n",
       "time_of_infraction               0\n",
       "location1                        0\n",
       "location2                     1197\n",
       "location3                 12377620\n",
       "location4                 12375473\n",
       "province                         3\n",
       "datetime_of_infraction           0\n",
       "dtype: int64"
      ]
     },
     "execution_count": 43,
     "metadata": {},
     "output_type": "execute_result"
    }
   ],
   "source": [
    "df_merged.isna().sum()"
   ]
  },
  {
   "cell_type": "code",
   "execution_count": 44,
   "id": "e9fa4b35",
   "metadata": {},
   "outputs": [
    {
     "data": {
      "text/plain": [
       "location1\n",
       "NR          7408863\n",
       "AT          3194754\n",
       "OPP         1701014\n",
       "E/S          253678\n",
       "S/S          242604\n",
       "N/S          234813\n",
       "W/S          229300\n",
       "R/O           63647\n",
       "N/O            5289\n",
       "S/O            4456\n",
       "E/O            4173\n",
       "NEAR           2811\n",
       "W/O            2636\n",
       "REAR            819\n",
       "O/F             811\n",
       "N/R             553\n",
       "REAR OF         316\n",
       "OPPOSITE        204\n",
       "NS OF           136\n",
       "N               109\n",
       "Name: count, dtype: int64"
      ]
     },
     "execution_count": 44,
     "metadata": {},
     "output_type": "execute_result"
    }
   ],
   "source": [
    "df_merged['location1'].value_counts().head(20)"
   ]
  },
  {
   "cell_type": "markdown",
   "id": "82442684",
   "metadata": {},
   "source": [
    "Let's combine rear and rear of by replacing anything that starts with rear using regex. "
   ]
  },
  {
   "cell_type": "code",
   "execution_count": 45,
   "id": "581dc639",
   "metadata": {},
   "outputs": [
    {
     "data": {
      "text/html": [
       "<div>\n",
       "<style scoped>\n",
       "    .dataframe tbody tr th:only-of-type {\n",
       "        vertical-align: middle;\n",
       "    }\n",
       "\n",
       "    .dataframe tbody tr th {\n",
       "        vertical-align: top;\n",
       "    }\n",
       "\n",
       "    .dataframe thead th {\n",
       "        text-align: right;\n",
       "    }\n",
       "</style>\n",
       "<table border=\"1\" class=\"dataframe\">\n",
       "  <thead>\n",
       "    <tr style=\"text-align: right;\">\n",
       "      <th></th>\n",
       "      <th>date_of_infraction</th>\n",
       "      <th>infraction_code</th>\n",
       "      <th>infraction_description</th>\n",
       "      <th>set_fine_amount</th>\n",
       "      <th>time_of_infraction</th>\n",
       "      <th>location1</th>\n",
       "      <th>location2</th>\n",
       "      <th>location3</th>\n",
       "      <th>location4</th>\n",
       "      <th>province</th>\n",
       "      <th>datetime_of_infraction</th>\n",
       "    </tr>\n",
       "  </thead>\n",
       "  <tbody>\n",
       "    <tr>\n",
       "      <th>123246</th>\n",
       "      <td>2016-09-14</td>\n",
       "      <td>312.0</td>\n",
       "      <td>PARKING MACH-NOT USED/NO FEE</td>\n",
       "      <td>30</td>\n",
       "      <td>17:48:00</td>\n",
       "      <td>REAR OF</td>\n",
       "      <td>5124 DUNDAS ST W</td>\n",
       "      <td>NaN</td>\n",
       "      <td>NaN</td>\n",
       "      <td>ON</td>\n",
       "      <td>2016-09-14 17:48:00</td>\n",
       "    </tr>\n",
       "    <tr>\n",
       "      <th>130982</th>\n",
       "      <td>2016-09-15</td>\n",
       "      <td>347.0</td>\n",
       "      <td>PARK IN A FIRE ROUTE</td>\n",
       "      <td>250</td>\n",
       "      <td>22:45:00</td>\n",
       "      <td>REAR OF</td>\n",
       "      <td>128 WILLOW AVE</td>\n",
       "      <td>NaN</td>\n",
       "      <td>NaN</td>\n",
       "      <td>ON</td>\n",
       "      <td>2016-09-15 22:45:00</td>\n",
       "    </tr>\n",
       "    <tr>\n",
       "      <th>205348</th>\n",
       "      <td>2016-09-27</td>\n",
       "      <td>312.0</td>\n",
       "      <td>PARKING MACH-NOT USED/NO FEE</td>\n",
       "      <td>30</td>\n",
       "      <td>19:21:00</td>\n",
       "      <td>REAR OF</td>\n",
       "      <td>2990 LAKE SHORE BLVD WEST</td>\n",
       "      <td>NaN</td>\n",
       "      <td>NaN</td>\n",
       "      <td>ON</td>\n",
       "      <td>2016-09-27 19:21:00</td>\n",
       "    </tr>\n",
       "    <tr>\n",
       "      <th>212956</th>\n",
       "      <td>2016-09-28</td>\n",
       "      <td>312.0</td>\n",
       "      <td>PARKING MACH-NOT USED/NO FEE</td>\n",
       "      <td>30</td>\n",
       "      <td>19:33:00</td>\n",
       "      <td>REAR OF</td>\n",
       "      <td>5124 DUNDAS ST W</td>\n",
       "      <td>NaN</td>\n",
       "      <td>NaN</td>\n",
       "      <td>ON</td>\n",
       "      <td>2016-09-28 19:33:00</td>\n",
       "    </tr>\n",
       "    <tr>\n",
       "      <th>212969</th>\n",
       "      <td>2016-09-28</td>\n",
       "      <td>312.0</td>\n",
       "      <td>PARKING MACH-NOT USED/NO FEE</td>\n",
       "      <td>30</td>\n",
       "      <td>19:36:00</td>\n",
       "      <td>REAR OF</td>\n",
       "      <td>5124 DUNDAS ST W</td>\n",
       "      <td>NaN</td>\n",
       "      <td>NaN</td>\n",
       "      <td>ON</td>\n",
       "      <td>2016-09-28 19:36:00</td>\n",
       "    </tr>\n",
       "    <tr>\n",
       "      <th>...</th>\n",
       "      <td>...</td>\n",
       "      <td>...</td>\n",
       "      <td>...</td>\n",
       "      <td>...</td>\n",
       "      <td>...</td>\n",
       "      <td>...</td>\n",
       "      <td>...</td>\n",
       "      <td>...</td>\n",
       "      <td>...</td>\n",
       "      <td>...</td>\n",
       "      <td>...</td>\n",
       "    </tr>\n",
       "    <tr>\n",
       "      <th>720918</th>\n",
       "      <td>2021-11-27</td>\n",
       "      <td>3.0</td>\n",
       "      <td>PARK ON PRIVATE PROPERTY</td>\n",
       "      <td>30</td>\n",
       "      <td>13:34:00</td>\n",
       "      <td>REAR OF</td>\n",
       "      <td>400 MCCOWAN RD</td>\n",
       "      <td>NaN</td>\n",
       "      <td>NaN</td>\n",
       "      <td>ON</td>\n",
       "      <td>2021-11-27 13:34:00</td>\n",
       "    </tr>\n",
       "    <tr>\n",
       "      <th>720931</th>\n",
       "      <td>2021-11-27</td>\n",
       "      <td>3.0</td>\n",
       "      <td>PARK ON PRIVATE PROPERTY</td>\n",
       "      <td>30</td>\n",
       "      <td>13:39:00</td>\n",
       "      <td>REAR OF</td>\n",
       "      <td>400 MCCOWAN RD</td>\n",
       "      <td>NaN</td>\n",
       "      <td>NaN</td>\n",
       "      <td>ON</td>\n",
       "      <td>2021-11-27 13:39:00</td>\n",
       "    </tr>\n",
       "    <tr>\n",
       "      <th>720953</th>\n",
       "      <td>2021-11-27</td>\n",
       "      <td>3.0</td>\n",
       "      <td>PARK ON PRIVATE PROPERTY</td>\n",
       "      <td>30</td>\n",
       "      <td>13:44:00</td>\n",
       "      <td>REAR OF</td>\n",
       "      <td>400 MCCOWAN ROAD</td>\n",
       "      <td>NaN</td>\n",
       "      <td>NaN</td>\n",
       "      <td>ON</td>\n",
       "      <td>2021-11-27 13:44:00</td>\n",
       "    </tr>\n",
       "    <tr>\n",
       "      <th>918993</th>\n",
       "      <td>2021-05-24</td>\n",
       "      <td>347.0</td>\n",
       "      <td>PARK IN A FIRE ROUTE</td>\n",
       "      <td>250</td>\n",
       "      <td>19:30:00</td>\n",
       "      <td>REAR OF</td>\n",
       "      <td>3400 EGLINTON AVE E</td>\n",
       "      <td>NaN</td>\n",
       "      <td>NaN</td>\n",
       "      <td>ON</td>\n",
       "      <td>2021-05-24 19:30:00</td>\n",
       "    </tr>\n",
       "    <tr>\n",
       "      <th>1242674</th>\n",
       "      <td>2021-04-24</td>\n",
       "      <td>134.0</td>\n",
       "      <td>PARK-SIGNED HWY-PUBLIC LANE</td>\n",
       "      <td>40</td>\n",
       "      <td>17:45:00</td>\n",
       "      <td>REAR/OF</td>\n",
       "      <td>2599 KEELE ST</td>\n",
       "      <td>NaN</td>\n",
       "      <td>NaN</td>\n",
       "      <td>ON</td>\n",
       "      <td>2021-04-24 17:45:00</td>\n",
       "    </tr>\n",
       "  </tbody>\n",
       "</table>\n",
       "<p>342 rows × 11 columns</p>\n",
       "</div>"
      ],
      "text/plain": [
       "        date_of_infraction  infraction_code          infraction_description  \\\n",
       "123246          2016-09-14            312.0  PARKING MACH-NOT USED/NO FEE     \n",
       "130982          2016-09-15            347.0            PARK IN A FIRE ROUTE   \n",
       "205348          2016-09-27            312.0  PARKING MACH-NOT USED/NO FEE     \n",
       "212956          2016-09-28            312.0  PARKING MACH-NOT USED/NO FEE     \n",
       "212969          2016-09-28            312.0  PARKING MACH-NOT USED/NO FEE     \n",
       "...                    ...              ...                             ...   \n",
       "720918          2021-11-27              3.0        PARK ON PRIVATE PROPERTY   \n",
       "720931          2021-11-27              3.0        PARK ON PRIVATE PROPERTY   \n",
       "720953          2021-11-27              3.0        PARK ON PRIVATE PROPERTY   \n",
       "918993          2021-05-24            347.0            PARK IN A FIRE ROUTE   \n",
       "1242674         2021-04-24            134.0     PARK-SIGNED HWY-PUBLIC LANE   \n",
       "\n",
       "         set_fine_amount time_of_infraction location1  \\\n",
       "123246                30           17:48:00   REAR OF   \n",
       "130982               250           22:45:00   REAR OF   \n",
       "205348                30           19:21:00   REAR OF   \n",
       "212956                30           19:33:00   REAR OF   \n",
       "212969                30           19:36:00   REAR OF   \n",
       "...                  ...                ...       ...   \n",
       "720918                30           13:34:00   REAR OF   \n",
       "720931                30           13:39:00   REAR OF   \n",
       "720953                30           13:44:00   REAR OF   \n",
       "918993               250           19:30:00   REAR OF   \n",
       "1242674               40           17:45:00   REAR/OF   \n",
       "\n",
       "                         location2 location3 location4 province  \\\n",
       "123246            5124 DUNDAS ST W       NaN       NaN       ON   \n",
       "130982              128 WILLOW AVE       NaN       NaN       ON   \n",
       "205348   2990 LAKE SHORE BLVD WEST       NaN       NaN       ON   \n",
       "212956            5124 DUNDAS ST W       NaN       NaN       ON   \n",
       "212969            5124 DUNDAS ST W       NaN       NaN       ON   \n",
       "...                            ...       ...       ...      ...   \n",
       "720918              400 MCCOWAN RD       NaN       NaN       ON   \n",
       "720931              400 MCCOWAN RD       NaN       NaN       ON   \n",
       "720953            400 MCCOWAN ROAD       NaN       NaN       ON   \n",
       "918993         3400 EGLINTON AVE E       NaN       NaN       ON   \n",
       "1242674              2599 KEELE ST       NaN       NaN       ON   \n",
       "\n",
       "        datetime_of_infraction  \n",
       "123246     2016-09-14 17:48:00  \n",
       "130982     2016-09-15 22:45:00  \n",
       "205348     2016-09-27 19:21:00  \n",
       "212956     2016-09-28 19:33:00  \n",
       "212969     2016-09-28 19:36:00  \n",
       "...                        ...  \n",
       "720918     2021-11-27 13:34:00  \n",
       "720931     2021-11-27 13:39:00  \n",
       "720953     2021-11-27 13:44:00  \n",
       "918993     2021-05-24 19:30:00  \n",
       "1242674    2021-04-24 17:45:00  \n",
       "\n",
       "[342 rows x 11 columns]"
      ]
     },
     "execution_count": 45,
     "metadata": {},
     "output_type": "execute_result"
    }
   ],
   "source": [
    "df_merged.loc[df_merged.iloc[:,5].str.contains(r'^REAR.+$', regex=True)]"
   ]
  },
  {
   "cell_type": "code",
   "execution_count": 46,
   "id": "ea63923f",
   "metadata": {},
   "outputs": [],
   "source": [
    "df_merged['location1'] = df_merged['location1'].str.replace(r'^REAR.+$', 'REAR', regex=True)"
   ]
  },
  {
   "cell_type": "code",
   "execution_count": 47,
   "id": "c9215b75",
   "metadata": {},
   "outputs": [
    {
     "data": {
      "text/plain": [
       "location1\n",
       "NR          7408863\n",
       "AT          3194754\n",
       "OPP         1701014\n",
       "E/S          253678\n",
       "S/S          242604\n",
       "N/S          234813\n",
       "W/S          229300\n",
       "R/O           63647\n",
       "N/O            5289\n",
       "S/O            4456\n",
       "E/O            4173\n",
       "NEAR           2811\n",
       "W/O            2636\n",
       "REAR           1161\n",
       "O/F             811\n",
       "N/R             553\n",
       "OPPOSITE        204\n",
       "NS OF           136\n",
       "N               109\n",
       "RR              109\n",
       "Name: count, dtype: int64"
      ]
     },
     "execution_count": 47,
     "metadata": {},
     "output_type": "execute_result"
    }
   ],
   "source": [
    "df_merged['location1'].value_counts().head(20)"
   ]
  },
  {
   "cell_type": "code",
   "execution_count": 48,
   "id": "68d2e043",
   "metadata": {
    "scrolled": true
   },
   "outputs": [],
   "source": [
    "df_merged['location1'] = df_merged['location1'].str.replace(r'^OPP.+$', 'OPP', regex=True)\n",
    "\n",
    "df_merged['location1'] = df_merged['location1'].str.replace(r'^NS.+$', 'N/S', regex=True)\n",
    "\n",
    "df_merged['location1'] = df_merged['location1'].str.replace(r'^E/?S.*$', 'E/S', regex=True)\n",
    "\n",
    "#df_merged['location1'] = df_merged['location1'].str.replace(r'^REAR*+$', 'R/O', regex=True)\n",
    "\n",
    "df_merged['location1'] = df_merged['location1'].str.replace(r'^WS.+$', 'W/S', regex=True)\n",
    "\n",
    "df_merged['location1'] = df_merged['location1'].str.replace(r'^ON$', 'AT', regex=True)\n",
    "\n",
    "df_merged['location1'] = df_merged['location1'].str.replace(r'^N.?$', 'N/S', regex=True)\n",
    "\n",
    "df_merged['location1'] = df_merged['location1'].str.replace(r'^N.+\\sOF$', 'N/S', regex=True)\n",
    "\n",
    "df_merged['location1'] = df_merged['location1'].str.replace(r'^WS$', 'W/S', regex=True)\n",
    "\n",
    "df_merged['location1'] = df_merged['location1'].str.replace(r'^OP$', 'OPP', regex=True)\n",
    "\n",
    "df_merged['location1'] = df_merged['location1'].str.replace(r'^N/B$', 'N/S', regex=True)\n",
    "\n",
    "df_merged['location1'] = df_merged['location1'].str.replace(r'^E/B$', 'E/S', regex=True)\n",
    "\n",
    "df_merged['location1'] = df_merged['location1'].str.replace(r'^W/B$', 'W/S', regex=True)\n",
    "\n",
    "df_merged['location1'] = df_merged['location1'].str.replace(r'^S/?S.*$', 'S/S', regex=True)\n",
    "\n",
    "df_merged['location1'] = df_merged['location1'].str.replace(r'^N/R$', 'NEAR', regex=True)\n",
    "\n",
    "df_merged['location1'] = df_merged['location1'].str.replace(r'^.*AT.*$', 'AT', regex=True)\n",
    "\n",
    "df_merged['location1'] = df_merged['location1'].str.replace(r'^NEAR$', 'AT', regex=True)\n",
    "\n",
    "df_merged['location1'] = df_merged['location1'].str.replace(r'^ACROSS$', 'OPP', regex=True)\n",
    "\n",
    "df_merged['location1'] = df_merged['location1'].str.replace(r'^NEAR.?E/?B$', 'E/B', regex=True)\n",
    "\n",
    "df_merged['location1'] = df_merged['location1'].str.replace(r'^`$', 'AT', regex=True)\n",
    "\n",
    "df_merged['location1'] = df_merged['location1'].str.replace(r'^O(UT)? F(RONT)?$', 'AT', regex=True)\n",
    "\n",
    "df_merged['location1'] = df_merged['location1'].str.replace(r'^E/B$', 'E/S', regex=True)\n",
    "\n",
    "df_merged['location1'] = df_merged['location1'].str.replace(r'^S/B$', 'S/S', regex=True)\n",
    "\n",
    "df_merged['location1'] = df_merged['location1'].str.replace(r'^NR.+$', 'AT', regex=True)\n",
    "\n",
    "df_merged['location1'] = df_merged['location1'].str.replace(r'^.+W/B$', 'W/S', regex=True)"
   ]
  },
  {
   "cell_type": "code",
   "execution_count": 49,
   "id": "52c047a4",
   "metadata": {},
   "outputs": [
    {
     "data": {
      "text/plain": [
       "location1\n",
       "N/S           7644252\n",
       "AT            3198577\n",
       "OPP           1701419\n",
       "E/S            253994\n",
       "S/S            242804\n",
       "W/S            229447\n",
       "R/O             63647\n",
       "N/O              5289\n",
       "S/O              4456\n",
       "E/O              4173\n",
       "W/O              2636\n",
       "REAR             1161\n",
       "O/F               811\n",
       "RR                109\n",
       "OF                 91\n",
       "I/F                74\n",
       "2075               39\n",
       "1                  33\n",
       "BR                 32\n",
       "UGTNTPRK           31\n",
       "18                 30\n",
       "4001               24\n",
       "T                  24\n",
       "AR                 22\n",
       "2                  22\n",
       "20                 20\n",
       "1000               19\n",
       "10                 18\n",
       "9                  17\n",
       "P1 VST PKG         17\n",
       "Name: count, dtype: int64"
      ]
     },
     "execution_count": 49,
     "metadata": {},
     "output_type": "execute_result"
    }
   ],
   "source": [
    "df_merged['location1'].value_counts().head(30)"
   ]
  },
  {
   "cell_type": "code",
   "execution_count": 50,
   "id": "1c709dea",
   "metadata": {},
   "outputs": [
    {
     "data": {
      "text/html": [
       "<div>\n",
       "<style scoped>\n",
       "    .dataframe tbody tr th:only-of-type {\n",
       "        vertical-align: middle;\n",
       "    }\n",
       "\n",
       "    .dataframe tbody tr th {\n",
       "        vertical-align: top;\n",
       "    }\n",
       "\n",
       "    .dataframe thead th {\n",
       "        text-align: right;\n",
       "    }\n",
       "</style>\n",
       "<table border=\"1\" class=\"dataframe\">\n",
       "  <thead>\n",
       "    <tr style=\"text-align: right;\">\n",
       "      <th></th>\n",
       "      <th>date_of_infraction</th>\n",
       "      <th>infraction_code</th>\n",
       "      <th>infraction_description</th>\n",
       "      <th>set_fine_amount</th>\n",
       "      <th>time_of_infraction</th>\n",
       "      <th>location1</th>\n",
       "      <th>location2</th>\n",
       "      <th>location3</th>\n",
       "      <th>location4</th>\n",
       "      <th>province</th>\n",
       "      <th>datetime_of_infraction</th>\n",
       "    </tr>\n",
       "  </thead>\n",
       "  <tbody>\n",
       "    <tr>\n",
       "      <th>156747</th>\n",
       "      <td>2016-09-20</td>\n",
       "      <td>3.0</td>\n",
       "      <td>PARK ON PRIVATE PROPERTY</td>\n",
       "      <td>30</td>\n",
       "      <td>09:50:00</td>\n",
       "      <td>1</td>\n",
       "      <td>1340 DANFORTH RD</td>\n",
       "      <td>NaN</td>\n",
       "      <td>NaN</td>\n",
       "      <td>PQ</td>\n",
       "      <td>2016-09-20 09:50:00</td>\n",
       "    </tr>\n",
       "    <tr>\n",
       "      <th>1183898</th>\n",
       "      <td>2016-07-05</td>\n",
       "      <td>3.0</td>\n",
       "      <td>PARK ON PRIVATE PROPERTY</td>\n",
       "      <td>30</td>\n",
       "      <td>00:50:00</td>\n",
       "      <td>1</td>\n",
       "      <td>120 TWENTY FORTH ST</td>\n",
       "      <td>NaN</td>\n",
       "      <td>NaN</td>\n",
       "      <td>ON</td>\n",
       "      <td>2016-07-05 00:50:00</td>\n",
       "    </tr>\n",
       "    <tr>\n",
       "      <th>1258451</th>\n",
       "      <td>2016-07-17</td>\n",
       "      <td>3.0</td>\n",
       "      <td>PARK ON PRIVATE PROPERTY</td>\n",
       "      <td>30</td>\n",
       "      <td>00:27:00</td>\n",
       "      <td>7</td>\n",
       "      <td>CRESCENT PL</td>\n",
       "      <td>NaN</td>\n",
       "      <td>NaN</td>\n",
       "      <td>ON</td>\n",
       "      <td>2016-07-17 00:27:00</td>\n",
       "    </tr>\n",
       "    <tr>\n",
       "      <th>1313015</th>\n",
       "      <td>2016-07-25</td>\n",
       "      <td>3.0</td>\n",
       "      <td>PARK ON PRIVATE PROPERTY</td>\n",
       "      <td>30</td>\n",
       "      <td>23:26:00</td>\n",
       "      <td>1</td>\n",
       "      <td>30 GILDER DR</td>\n",
       "      <td>NaN</td>\n",
       "      <td>NaN</td>\n",
       "      <td>ON</td>\n",
       "      <td>2016-07-25 23:26:00</td>\n",
       "    </tr>\n",
       "    <tr>\n",
       "      <th>1394295</th>\n",
       "      <td>2016-08-08</td>\n",
       "      <td>4.0</td>\n",
       "      <td>PARK ON MUNICIPAL PROPERTY</td>\n",
       "      <td>30</td>\n",
       "      <td>14:00:00</td>\n",
       "      <td>1</td>\n",
       "      <td>18 HENDON AVE</td>\n",
       "      <td>NaN</td>\n",
       "      <td>NaN</td>\n",
       "      <td>ON</td>\n",
       "      <td>2016-08-08 14:00:00</td>\n",
       "    </tr>\n",
       "    <tr>\n",
       "      <th>...</th>\n",
       "      <td>...</td>\n",
       "      <td>...</td>\n",
       "      <td>...</td>\n",
       "      <td>...</td>\n",
       "      <td>...</td>\n",
       "      <td>...</td>\n",
       "      <td>...</td>\n",
       "      <td>...</td>\n",
       "      <td>...</td>\n",
       "      <td>...</td>\n",
       "      <td>...</td>\n",
       "    </tr>\n",
       "    <tr>\n",
       "      <th>1125493</th>\n",
       "      <td>2022-08-15</td>\n",
       "      <td>3.0</td>\n",
       "      <td>PARK ON PRIVATE PROPERTY</td>\n",
       "      <td>30</td>\n",
       "      <td>02:00:00</td>\n",
       "      <td>3</td>\n",
       "      <td>0 MEADOWGLEN PL</td>\n",
       "      <td>NaN</td>\n",
       "      <td>NaN</td>\n",
       "      <td>ON</td>\n",
       "      <td>2022-08-15 02:00:00</td>\n",
       "    </tr>\n",
       "    <tr>\n",
       "      <th>1307188</th>\n",
       "      <td>2022-09-19</td>\n",
       "      <td>3.0</td>\n",
       "      <td>PARK ON PRIVATE PROPERTY</td>\n",
       "      <td>30</td>\n",
       "      <td>02:05:00</td>\n",
       "      <td>3</td>\n",
       "      <td>0 MEADOWGLEN PL</td>\n",
       "      <td>NaN</td>\n",
       "      <td>NaN</td>\n",
       "      <td>ON</td>\n",
       "      <td>2022-09-19 02:05:00</td>\n",
       "    </tr>\n",
       "    <tr>\n",
       "      <th>1463749</th>\n",
       "      <td>2022-10-18</td>\n",
       "      <td>3.0</td>\n",
       "      <td>PARK ON PRIVATE PROPERTY</td>\n",
       "      <td>30</td>\n",
       "      <td>09:20:00</td>\n",
       "      <td>9</td>\n",
       "      <td>BOGERT AVENUE</td>\n",
       "      <td>NaN</td>\n",
       "      <td>NaN</td>\n",
       "      <td>ON</td>\n",
       "      <td>2022-10-18 09:20:00</td>\n",
       "    </tr>\n",
       "    <tr>\n",
       "      <th>1572442</th>\n",
       "      <td>2022-10-24</td>\n",
       "      <td>3.0</td>\n",
       "      <td>PARK ON PRIVATE PROPERTY</td>\n",
       "      <td>30</td>\n",
       "      <td>20:17:00</td>\n",
       "      <td>5</td>\n",
       "      <td>BELLEVUE GROVE</td>\n",
       "      <td>NaN</td>\n",
       "      <td>NaN</td>\n",
       "      <td>ON</td>\n",
       "      <td>2022-10-24 20:17:00</td>\n",
       "    </tr>\n",
       "    <tr>\n",
       "      <th>1667205</th>\n",
       "      <td>2022-11-11</td>\n",
       "      <td>3.0</td>\n",
       "      <td>PARK ON PRIVATE PROPERTY</td>\n",
       "      <td>30</td>\n",
       "      <td>00:58:00</td>\n",
       "      <td>2</td>\n",
       "      <td>0 FALSTAFF AVE</td>\n",
       "      <td>NaN</td>\n",
       "      <td>NaN</td>\n",
       "      <td>ON</td>\n",
       "      <td>2022-11-11 00:58:00</td>\n",
       "    </tr>\n",
       "  </tbody>\n",
       "</table>\n",
       "<p>122 rows × 11 columns</p>\n",
       "</div>"
      ],
      "text/plain": [
       "        date_of_infraction  infraction_code      infraction_description  \\\n",
       "156747          2016-09-20              3.0    PARK ON PRIVATE PROPERTY   \n",
       "1183898         2016-07-05              3.0    PARK ON PRIVATE PROPERTY   \n",
       "1258451         2016-07-17              3.0    PARK ON PRIVATE PROPERTY   \n",
       "1313015         2016-07-25              3.0    PARK ON PRIVATE PROPERTY   \n",
       "1394295         2016-08-08              4.0  PARK ON MUNICIPAL PROPERTY   \n",
       "...                    ...              ...                         ...   \n",
       "1125493         2022-08-15              3.0    PARK ON PRIVATE PROPERTY   \n",
       "1307188         2022-09-19              3.0    PARK ON PRIVATE PROPERTY   \n",
       "1463749         2022-10-18              3.0    PARK ON PRIVATE PROPERTY   \n",
       "1572442         2022-10-24              3.0    PARK ON PRIVATE PROPERTY   \n",
       "1667205         2022-11-11              3.0    PARK ON PRIVATE PROPERTY   \n",
       "\n",
       "         set_fine_amount time_of_infraction location1            location2  \\\n",
       "156747                30           09:50:00         1     1340 DANFORTH RD   \n",
       "1183898               30           00:50:00         1  120 TWENTY FORTH ST   \n",
       "1258451               30           00:27:00         7          CRESCENT PL   \n",
       "1313015               30           23:26:00         1         30 GILDER DR   \n",
       "1394295               30           14:00:00         1        18 HENDON AVE   \n",
       "...                  ...                ...       ...                  ...   \n",
       "1125493               30           02:00:00         3      0 MEADOWGLEN PL   \n",
       "1307188               30           02:05:00         3      0 MEADOWGLEN PL   \n",
       "1463749               30           09:20:00         9        BOGERT AVENUE   \n",
       "1572442               30           20:17:00         5       BELLEVUE GROVE   \n",
       "1667205               30           00:58:00         2       0 FALSTAFF AVE   \n",
       "\n",
       "        location3 location4 province datetime_of_infraction  \n",
       "156747        NaN       NaN       PQ    2016-09-20 09:50:00  \n",
       "1183898       NaN       NaN       ON    2016-07-05 00:50:00  \n",
       "1258451       NaN       NaN       ON    2016-07-17 00:27:00  \n",
       "1313015       NaN       NaN       ON    2016-07-25 23:26:00  \n",
       "1394295       NaN       NaN       ON    2016-08-08 14:00:00  \n",
       "...           ...       ...      ...                    ...  \n",
       "1125493       NaN       NaN       ON    2022-08-15 02:00:00  \n",
       "1307188       NaN       NaN       ON    2022-09-19 02:05:00  \n",
       "1463749       NaN       NaN       ON    2022-10-18 09:20:00  \n",
       "1572442       NaN       NaN       ON    2022-10-24 20:17:00  \n",
       "1667205       NaN       NaN       ON    2022-11-11 00:58:00  \n",
       "\n",
       "[122 rows x 11 columns]"
      ]
     },
     "execution_count": 50,
     "metadata": {},
     "output_type": "execute_result"
    }
   ],
   "source": [
    "#remove 0 from location 2 and merge any numbers from location 1 onto location 2 \n",
    "#and set the value for location 1 to AT\n",
    "\n",
    "df_merged[df_merged['location1'].str.contains(r'^[0-9]$', regex=True)]"
   ]
  },
  {
   "cell_type": "code",
   "execution_count": 51,
   "id": "4b1a4162",
   "metadata": {},
   "outputs": [
    {
     "data": {
      "text/html": [
       "<div>\n",
       "<style scoped>\n",
       "    .dataframe tbody tr th:only-of-type {\n",
       "        vertical-align: middle;\n",
       "    }\n",
       "\n",
       "    .dataframe tbody tr th {\n",
       "        vertical-align: top;\n",
       "    }\n",
       "\n",
       "    .dataframe thead th {\n",
       "        text-align: right;\n",
       "    }\n",
       "</style>\n",
       "<table border=\"1\" class=\"dataframe\">\n",
       "  <thead>\n",
       "    <tr style=\"text-align: right;\">\n",
       "      <th></th>\n",
       "      <th>date_of_infraction</th>\n",
       "      <th>infraction_code</th>\n",
       "      <th>infraction_description</th>\n",
       "      <th>set_fine_amount</th>\n",
       "      <th>time_of_infraction</th>\n",
       "      <th>location1</th>\n",
       "      <th>location2</th>\n",
       "      <th>location3</th>\n",
       "      <th>location4</th>\n",
       "      <th>province</th>\n",
       "      <th>datetime_of_infraction</th>\n",
       "    </tr>\n",
       "  </thead>\n",
       "  <tbody>\n",
       "    <tr>\n",
       "      <th>13667</th>\n",
       "      <td>2016-08-28</td>\n",
       "      <td>3.0</td>\n",
       "      <td>PARK ON PRIVATE PROPERTY</td>\n",
       "      <td>30</td>\n",
       "      <td>05:56:00</td>\n",
       "      <td>AT</td>\n",
       "      <td>NaN</td>\n",
       "      <td>NaN</td>\n",
       "      <td>NaN</td>\n",
       "      <td>ON</td>\n",
       "      <td>2016-08-28 05:56:00</td>\n",
       "    </tr>\n",
       "    <tr>\n",
       "      <th>39798</th>\n",
       "      <td>2016-09-01</td>\n",
       "      <td>3.0</td>\n",
       "      <td>PARK ON PRIVATE PROPERTY</td>\n",
       "      <td>30</td>\n",
       "      <td>09:59:00</td>\n",
       "      <td>AT</td>\n",
       "      <td>NaN</td>\n",
       "      <td>NaN</td>\n",
       "      <td>NaN</td>\n",
       "      <td>ON</td>\n",
       "      <td>2016-09-01 09:59:00</td>\n",
       "    </tr>\n",
       "    <tr>\n",
       "      <th>46252</th>\n",
       "      <td>2016-09-02</td>\n",
       "      <td>3.0</td>\n",
       "      <td>PARK ON PRIVATE PROPERTY</td>\n",
       "      <td>30</td>\n",
       "      <td>03:42:00</td>\n",
       "      <td>AT</td>\n",
       "      <td>NaN</td>\n",
       "      <td>NaN</td>\n",
       "      <td>NaN</td>\n",
       "      <td>ON</td>\n",
       "      <td>2016-09-02 03:42:00</td>\n",
       "    </tr>\n",
       "    <tr>\n",
       "      <th>52533</th>\n",
       "      <td>2016-09-02</td>\n",
       "      <td>6.0</td>\n",
       "      <td>PARK-SIGNED HWY-EXC PERMT TIME</td>\n",
       "      <td>40</td>\n",
       "      <td>23:29:00</td>\n",
       "      <td>AT</td>\n",
       "      <td>NaN</td>\n",
       "      <td>NaN</td>\n",
       "      <td>NaN</td>\n",
       "      <td>ON</td>\n",
       "      <td>2016-09-02 23:29:00</td>\n",
       "    </tr>\n",
       "    <tr>\n",
       "      <th>63929</th>\n",
       "      <td>2016-09-05</td>\n",
       "      <td>8.0</td>\n",
       "      <td>STAND VEH.-PROHIBIT TIME/DAY</td>\n",
       "      <td>60</td>\n",
       "      <td>15:45:00</td>\n",
       "      <td>AT</td>\n",
       "      <td>NaN</td>\n",
       "      <td>NaN</td>\n",
       "      <td>NaN</td>\n",
       "      <td>ON</td>\n",
       "      <td>2016-09-05 15:45:00</td>\n",
       "    </tr>\n",
       "    <tr>\n",
       "      <th>...</th>\n",
       "      <td>...</td>\n",
       "      <td>...</td>\n",
       "      <td>...</td>\n",
       "      <td>...</td>\n",
       "      <td>...</td>\n",
       "      <td>...</td>\n",
       "      <td>...</td>\n",
       "      <td>...</td>\n",
       "      <td>...</td>\n",
       "      <td>...</td>\n",
       "      <td>...</td>\n",
       "    </tr>\n",
       "    <tr>\n",
       "      <th>1664833</th>\n",
       "      <td>2022-11-10</td>\n",
       "      <td>3.0</td>\n",
       "      <td>PARK ON PRIVATE PROPERTY</td>\n",
       "      <td>30</td>\n",
       "      <td>13:51:00</td>\n",
       "      <td>AT</td>\n",
       "      <td>NaN</td>\n",
       "      <td>NaN</td>\n",
       "      <td>NaN</td>\n",
       "      <td>ON</td>\n",
       "      <td>2022-11-10 13:51:00</td>\n",
       "    </tr>\n",
       "    <tr>\n",
       "      <th>1681044</th>\n",
       "      <td>2022-11-14</td>\n",
       "      <td>3.0</td>\n",
       "      <td>PARK ON PRIVATE PROPERTY</td>\n",
       "      <td>30</td>\n",
       "      <td>00:05:00</td>\n",
       "      <td>AT</td>\n",
       "      <td>NaN</td>\n",
       "      <td>NaN</td>\n",
       "      <td>NaN</td>\n",
       "      <td>ON</td>\n",
       "      <td>2022-11-14 00:05:00</td>\n",
       "    </tr>\n",
       "    <tr>\n",
       "      <th>1765660</th>\n",
       "      <td>2022-12-01</td>\n",
       "      <td>3.0</td>\n",
       "      <td>PARK ON PRIVATE PROPERTY</td>\n",
       "      <td>30</td>\n",
       "      <td>01:57:00</td>\n",
       "      <td>AT</td>\n",
       "      <td>NaN</td>\n",
       "      <td>NaN</td>\n",
       "      <td>NaN</td>\n",
       "      <td>ON</td>\n",
       "      <td>2022-12-01 01:57:00</td>\n",
       "    </tr>\n",
       "    <tr>\n",
       "      <th>1780322</th>\n",
       "      <td>2022-12-03</td>\n",
       "      <td>8.0</td>\n",
       "      <td>STAND VEH.-PROHIBIT TIME/DAY</td>\n",
       "      <td>100</td>\n",
       "      <td>18:43:00</td>\n",
       "      <td>AT</td>\n",
       "      <td>NaN</td>\n",
       "      <td>NaN</td>\n",
       "      <td>NaN</td>\n",
       "      <td>ON</td>\n",
       "      <td>2022-12-03 18:43:00</td>\n",
       "    </tr>\n",
       "    <tr>\n",
       "      <th>1791573</th>\n",
       "      <td>2022-12-06</td>\n",
       "      <td>3.0</td>\n",
       "      <td>PARK ON PRIVATE PROPERTY</td>\n",
       "      <td>30</td>\n",
       "      <td>07:45:00</td>\n",
       "      <td>AT</td>\n",
       "      <td>NaN</td>\n",
       "      <td>NaN</td>\n",
       "      <td>NaN</td>\n",
       "      <td>ON</td>\n",
       "      <td>2022-12-06 07:45:00</td>\n",
       "    </tr>\n",
       "  </tbody>\n",
       "</table>\n",
       "<p>1197 rows × 11 columns</p>\n",
       "</div>"
      ],
      "text/plain": [
       "        date_of_infraction  infraction_code          infraction_description  \\\n",
       "13667           2016-08-28              3.0        PARK ON PRIVATE PROPERTY   \n",
       "39798           2016-09-01              3.0        PARK ON PRIVATE PROPERTY   \n",
       "46252           2016-09-02              3.0        PARK ON PRIVATE PROPERTY   \n",
       "52533           2016-09-02              6.0  PARK-SIGNED HWY-EXC PERMT TIME   \n",
       "63929           2016-09-05              8.0    STAND VEH.-PROHIBIT TIME/DAY   \n",
       "...                    ...              ...                             ...   \n",
       "1664833         2022-11-10              3.0        PARK ON PRIVATE PROPERTY   \n",
       "1681044         2022-11-14              3.0        PARK ON PRIVATE PROPERTY   \n",
       "1765660         2022-12-01              3.0        PARK ON PRIVATE PROPERTY   \n",
       "1780322         2022-12-03              8.0    STAND VEH.-PROHIBIT TIME/DAY   \n",
       "1791573         2022-12-06              3.0        PARK ON PRIVATE PROPERTY   \n",
       "\n",
       "         set_fine_amount time_of_infraction location1 location2 location3  \\\n",
       "13667                 30           05:56:00        AT       NaN       NaN   \n",
       "39798                 30           09:59:00        AT       NaN       NaN   \n",
       "46252                 30           03:42:00        AT       NaN       NaN   \n",
       "52533                 40           23:29:00        AT       NaN       NaN   \n",
       "63929                 60           15:45:00        AT       NaN       NaN   \n",
       "...                  ...                ...       ...       ...       ...   \n",
       "1664833               30           13:51:00        AT       NaN       NaN   \n",
       "1681044               30           00:05:00        AT       NaN       NaN   \n",
       "1765660               30           01:57:00        AT       NaN       NaN   \n",
       "1780322              100           18:43:00        AT       NaN       NaN   \n",
       "1791573               30           07:45:00        AT       NaN       NaN   \n",
       "\n",
       "        location4 province datetime_of_infraction  \n",
       "13667         NaN       ON    2016-08-28 05:56:00  \n",
       "39798         NaN       ON    2016-09-01 09:59:00  \n",
       "46252         NaN       ON    2016-09-02 03:42:00  \n",
       "52533         NaN       ON    2016-09-02 23:29:00  \n",
       "63929         NaN       ON    2016-09-05 15:45:00  \n",
       "...           ...      ...                    ...  \n",
       "1664833       NaN       ON    2022-11-10 13:51:00  \n",
       "1681044       NaN       ON    2022-11-14 00:05:00  \n",
       "1765660       NaN       ON    2022-12-01 01:57:00  \n",
       "1780322       NaN       ON    2022-12-03 18:43:00  \n",
       "1791573       NaN       ON    2022-12-06 07:45:00  \n",
       "\n",
       "[1197 rows x 11 columns]"
      ]
     },
     "execution_count": 51,
     "metadata": {},
     "output_type": "execute_result"
    }
   ],
   "source": [
    "df_merged[df_merged['location2'].isna()]"
   ]
  },
  {
   "cell_type": "code",
   "execution_count": 52,
   "id": "57480169",
   "metadata": {
    "scrolled": true
   },
   "outputs": [
    {
     "data": {
      "text/plain": [
       "0.008962843957560597"
      ]
     },
     "execution_count": 52,
     "metadata": {},
     "output_type": "execute_result"
    }
   ],
   "source": [
    "df_merged[df_merged['location2'].isna()].shape[0]/df_merged.shape[0]*100"
   ]
  },
  {
   "cell_type": "markdown",
   "id": "7c6f209d",
   "metadata": {},
   "source": [
    "Very low percentage of rows with no address, so we can remove these rows. "
   ]
  },
  {
   "cell_type": "code",
   "execution_count": 53,
   "id": "6c716f2c",
   "metadata": {},
   "outputs": [],
   "source": [
    "df_merged.dropna(subset=[\"location2\"], inplace=True)"
   ]
  },
  {
   "cell_type": "code",
   "execution_count": 54,
   "id": "a9aaa847",
   "metadata": {},
   "outputs": [
    {
     "data": {
      "text/plain": [
       "0"
      ]
     },
     "execution_count": 54,
     "metadata": {},
     "output_type": "execute_result"
    }
   ],
   "source": [
    "df_merged['location2'].isna().sum()"
   ]
  },
  {
   "cell_type": "code",
   "execution_count": 55,
   "id": "23676732",
   "metadata": {},
   "outputs": [
    {
     "data": {
      "text/html": [
       "<div>\n",
       "<style scoped>\n",
       "    .dataframe tbody tr th:only-of-type {\n",
       "        vertical-align: middle;\n",
       "    }\n",
       "\n",
       "    .dataframe tbody tr th {\n",
       "        vertical-align: top;\n",
       "    }\n",
       "\n",
       "    .dataframe thead th {\n",
       "        text-align: right;\n",
       "    }\n",
       "</style>\n",
       "<table border=\"1\" class=\"dataframe\">\n",
       "  <thead>\n",
       "    <tr style=\"text-align: right;\">\n",
       "      <th></th>\n",
       "      <th>date_of_infraction</th>\n",
       "      <th>infraction_code</th>\n",
       "      <th>infraction_description</th>\n",
       "      <th>set_fine_amount</th>\n",
       "      <th>time_of_infraction</th>\n",
       "      <th>location1</th>\n",
       "      <th>location2</th>\n",
       "      <th>location3</th>\n",
       "      <th>location4</th>\n",
       "      <th>province</th>\n",
       "      <th>datetime_of_infraction</th>\n",
       "    </tr>\n",
       "  </thead>\n",
       "  <tbody>\n",
       "    <tr>\n",
       "      <th>86537</th>\n",
       "      <td>2016-09-09</td>\n",
       "      <td>2.0</td>\n",
       "      <td>PARK - LONGER THAN 3 HOURS</td>\n",
       "      <td>15</td>\n",
       "      <td>03:54:00</td>\n",
       "      <td>N/S</td>\n",
       "      <td>0 NORTH WOODROW BLVD</td>\n",
       "      <td>NaN</td>\n",
       "      <td>NaN</td>\n",
       "      <td>ON</td>\n",
       "      <td>2016-09-09 03:54:00</td>\n",
       "    </tr>\n",
       "    <tr>\n",
       "      <th>100494</th>\n",
       "      <td>2016-09-11</td>\n",
       "      <td>9.0</td>\n",
       "      <td>STOP-SIGNED HWY-PROHIBIT TM/DY</td>\n",
       "      <td>60</td>\n",
       "      <td>12:25:00</td>\n",
       "      <td>N/S</td>\n",
       "      <td>03 REAN DR</td>\n",
       "      <td>NaN</td>\n",
       "      <td>NaN</td>\n",
       "      <td>ON</td>\n",
       "      <td>2016-09-11 12:25:00</td>\n",
       "    </tr>\n",
       "    <tr>\n",
       "      <th>112190</th>\n",
       "      <td>2016-09-13</td>\n",
       "      <td>8.0</td>\n",
       "      <td>STAND VEH.-PROHIBIT TIME/DAY</td>\n",
       "      <td>60</td>\n",
       "      <td>10:30:00</td>\n",
       "      <td>N/S</td>\n",
       "      <td>0 PRINCE ARTHUR AVE</td>\n",
       "      <td>NaN</td>\n",
       "      <td>NaN</td>\n",
       "      <td>ON</td>\n",
       "      <td>2016-09-13 10:30:00</td>\n",
       "    </tr>\n",
       "    <tr>\n",
       "      <th>113109</th>\n",
       "      <td>2016-09-13</td>\n",
       "      <td>5.0</td>\n",
       "      <td>PARK-SIGNED HWY-PROHIBIT DY/TM</td>\n",
       "      <td>50</td>\n",
       "      <td>12:07:00</td>\n",
       "      <td>N/S</td>\n",
       "      <td>05 MARCELLINE CRES</td>\n",
       "      <td>NaN</td>\n",
       "      <td>NaN</td>\n",
       "      <td>ON</td>\n",
       "      <td>2016-09-13 12:07:00</td>\n",
       "    </tr>\n",
       "    <tr>\n",
       "      <th>113462</th>\n",
       "      <td>2016-09-13</td>\n",
       "      <td>5.0</td>\n",
       "      <td>PARK-SIGNED HWY-PROHIBIT DY/TM</td>\n",
       "      <td>50</td>\n",
       "      <td>12:41:00</td>\n",
       "      <td>N/S</td>\n",
       "      <td>03 REAN DR</td>\n",
       "      <td>NaN</td>\n",
       "      <td>NaN</td>\n",
       "      <td>ON</td>\n",
       "      <td>2016-09-13 12:41:00</td>\n",
       "    </tr>\n",
       "    <tr>\n",
       "      <th>...</th>\n",
       "      <td>...</td>\n",
       "      <td>...</td>\n",
       "      <td>...</td>\n",
       "      <td>...</td>\n",
       "      <td>...</td>\n",
       "      <td>...</td>\n",
       "      <td>...</td>\n",
       "      <td>...</td>\n",
       "      <td>...</td>\n",
       "      <td>...</td>\n",
       "      <td>...</td>\n",
       "    </tr>\n",
       "    <tr>\n",
       "      <th>1257917</th>\n",
       "      <td>2022-09-09</td>\n",
       "      <td>3.0</td>\n",
       "      <td>PARK ON PRIVATE PROPERTY</td>\n",
       "      <td>30</td>\n",
       "      <td>15:34:00</td>\n",
       "      <td>AT</td>\n",
       "      <td>00. HURON ST</td>\n",
       "      <td>NaN</td>\n",
       "      <td>NaN</td>\n",
       "      <td>ON</td>\n",
       "      <td>2022-09-09 15:34:00</td>\n",
       "    </tr>\n",
       "    <tr>\n",
       "      <th>1307188</th>\n",
       "      <td>2022-09-19</td>\n",
       "      <td>3.0</td>\n",
       "      <td>PARK ON PRIVATE PROPERTY</td>\n",
       "      <td>30</td>\n",
       "      <td>02:05:00</td>\n",
       "      <td>3</td>\n",
       "      <td>0 MEADOWGLEN PL</td>\n",
       "      <td>NaN</td>\n",
       "      <td>NaN</td>\n",
       "      <td>ON</td>\n",
       "      <td>2022-09-19 02:05:00</td>\n",
       "    </tr>\n",
       "    <tr>\n",
       "      <th>1427389</th>\n",
       "      <td>2022-10-11</td>\n",
       "      <td>5.0</td>\n",
       "      <td>PARK-SIGNED HWY-PROHIBIT DY/TM</td>\n",
       "      <td>50</td>\n",
       "      <td>14:07:00</td>\n",
       "      <td>N/S</td>\n",
       "      <td>0 THOMPSON ST</td>\n",
       "      <td>NaN</td>\n",
       "      <td>NaN</td>\n",
       "      <td>ON</td>\n",
       "      <td>2022-10-11 14:07:00</td>\n",
       "    </tr>\n",
       "    <tr>\n",
       "      <th>1502972</th>\n",
       "      <td>2022-12-12</td>\n",
       "      <td>3.0</td>\n",
       "      <td>PARK ON PRIVATE PROPERTY</td>\n",
       "      <td>30</td>\n",
       "      <td>20:15:00</td>\n",
       "      <td>AT</td>\n",
       "      <td>0 DRIFTWOOD AVE</td>\n",
       "      <td>NaN</td>\n",
       "      <td>NaN</td>\n",
       "      <td>ON</td>\n",
       "      <td>2022-12-12 20:15:00</td>\n",
       "    </tr>\n",
       "    <tr>\n",
       "      <th>1667205</th>\n",
       "      <td>2022-11-11</td>\n",
       "      <td>3.0</td>\n",
       "      <td>PARK ON PRIVATE PROPERTY</td>\n",
       "      <td>30</td>\n",
       "      <td>00:58:00</td>\n",
       "      <td>2</td>\n",
       "      <td>0 FALSTAFF AVE</td>\n",
       "      <td>NaN</td>\n",
       "      <td>NaN</td>\n",
       "      <td>ON</td>\n",
       "      <td>2022-11-11 00:58:00</td>\n",
       "    </tr>\n",
       "  </tbody>\n",
       "</table>\n",
       "<p>1218 rows × 11 columns</p>\n",
       "</div>"
      ],
      "text/plain": [
       "        date_of_infraction  infraction_code          infraction_description  \\\n",
       "86537           2016-09-09              2.0     PARK - LONGER THAN 3 HOURS    \n",
       "100494          2016-09-11              9.0  STOP-SIGNED HWY-PROHIBIT TM/DY   \n",
       "112190          2016-09-13              8.0    STAND VEH.-PROHIBIT TIME/DAY   \n",
       "113109          2016-09-13              5.0  PARK-SIGNED HWY-PROHIBIT DY/TM   \n",
       "113462          2016-09-13              5.0  PARK-SIGNED HWY-PROHIBIT DY/TM   \n",
       "...                    ...              ...                             ...   \n",
       "1257917         2022-09-09              3.0        PARK ON PRIVATE PROPERTY   \n",
       "1307188         2022-09-19              3.0        PARK ON PRIVATE PROPERTY   \n",
       "1427389         2022-10-11              5.0  PARK-SIGNED HWY-PROHIBIT DY/TM   \n",
       "1502972         2022-12-12              3.0        PARK ON PRIVATE PROPERTY   \n",
       "1667205         2022-11-11              3.0        PARK ON PRIVATE PROPERTY   \n",
       "\n",
       "         set_fine_amount time_of_infraction location1             location2  \\\n",
       "86537                 15           03:54:00       N/S  0 NORTH WOODROW BLVD   \n",
       "100494                60           12:25:00       N/S            03 REAN DR   \n",
       "112190                60           10:30:00       N/S   0 PRINCE ARTHUR AVE   \n",
       "113109                50           12:07:00       N/S    05 MARCELLINE CRES   \n",
       "113462                50           12:41:00       N/S            03 REAN DR   \n",
       "...                  ...                ...       ...                   ...   \n",
       "1257917               30           15:34:00        AT          00. HURON ST   \n",
       "1307188               30           02:05:00         3       0 MEADOWGLEN PL   \n",
       "1427389               50           14:07:00       N/S         0 THOMPSON ST   \n",
       "1502972               30           20:15:00        AT       0 DRIFTWOOD AVE   \n",
       "1667205               30           00:58:00         2        0 FALSTAFF AVE   \n",
       "\n",
       "        location3 location4 province datetime_of_infraction  \n",
       "86537         NaN       NaN       ON    2016-09-09 03:54:00  \n",
       "100494        NaN       NaN       ON    2016-09-11 12:25:00  \n",
       "112190        NaN       NaN       ON    2016-09-13 10:30:00  \n",
       "113109        NaN       NaN       ON    2016-09-13 12:07:00  \n",
       "113462        NaN       NaN       ON    2016-09-13 12:41:00  \n",
       "...           ...       ...      ...                    ...  \n",
       "1257917       NaN       NaN       ON    2022-09-09 15:34:00  \n",
       "1307188       NaN       NaN       ON    2022-09-19 02:05:00  \n",
       "1427389       NaN       NaN       ON    2022-10-11 14:07:00  \n",
       "1502972       NaN       NaN       ON    2022-12-12 20:15:00  \n",
       "1667205       NaN       NaN       ON    2022-11-11 00:58:00  \n",
       "\n",
       "[1218 rows x 11 columns]"
      ]
     },
     "execution_count": 55,
     "metadata": {},
     "output_type": "execute_result"
    }
   ],
   "source": [
    "df_merged[df_merged['location2'].str.contains(r'^[0].+$', regex=True)]"
   ]
  },
  {
   "cell_type": "code",
   "execution_count": 56,
   "id": "8f72033d",
   "metadata": {},
   "outputs": [],
   "source": [
    "df_merged['location2'] = df_merged['location2'].str.replace(r'^0+(.+)$', r'\\1', regex=True)"
   ]
  },
  {
   "cell_type": "code",
   "execution_count": 57,
   "id": "3b99f9ea",
   "metadata": {},
   "outputs": [
    {
     "data": {
      "text/html": [
       "<div>\n",
       "<style scoped>\n",
       "    .dataframe tbody tr th:only-of-type {\n",
       "        vertical-align: middle;\n",
       "    }\n",
       "\n",
       "    .dataframe tbody tr th {\n",
       "        vertical-align: top;\n",
       "    }\n",
       "\n",
       "    .dataframe thead th {\n",
       "        text-align: right;\n",
       "    }\n",
       "</style>\n",
       "<table border=\"1\" class=\"dataframe\">\n",
       "  <thead>\n",
       "    <tr style=\"text-align: right;\">\n",
       "      <th></th>\n",
       "      <th>date_of_infraction</th>\n",
       "      <th>infraction_code</th>\n",
       "      <th>infraction_description</th>\n",
       "      <th>set_fine_amount</th>\n",
       "      <th>time_of_infraction</th>\n",
       "      <th>location1</th>\n",
       "      <th>location2</th>\n",
       "      <th>location3</th>\n",
       "      <th>location4</th>\n",
       "      <th>province</th>\n",
       "      <th>datetime_of_infraction</th>\n",
       "    </tr>\n",
       "  </thead>\n",
       "  <tbody>\n",
       "  </tbody>\n",
       "</table>\n",
       "</div>"
      ],
      "text/plain": [
       "Empty DataFrame\n",
       "Columns: [date_of_infraction, infraction_code, infraction_description, set_fine_amount, time_of_infraction, location1, location2, location3, location4, province, datetime_of_infraction]\n",
       "Index: []"
      ]
     },
     "execution_count": 57,
     "metadata": {},
     "output_type": "execute_result"
    }
   ],
   "source": [
    "df_merged[df_merged['location2'].str.contains(r'^[0].+$', regex=True)]"
   ]
  },
  {
   "cell_type": "code",
   "execution_count": 58,
   "id": "330613af",
   "metadata": {},
   "outputs": [],
   "source": [
    "# num_in_location1 = df_merged['location1'].str.contains(r'^[0-9]+$', regex=True)\n",
    "# filtered_df = df_merged[num_in_location1]  # Filter rows where 'location1' starts with a number\n",
    "\n",
    "# df_merged.loc[num_in_location1, 'location2'] = df_merged['location1'].astype(str).str.cat(df_merged['location2'].astype(str), sep=' ')\n",
    "\n",
    "# print(filtered_df)"
   ]
  },
  {
   "cell_type": "code",
   "execution_count": 59,
   "id": "6a14924b",
   "metadata": {},
   "outputs": [],
   "source": [
    "df_year_2022 = df_merged[df_merged['date_of_infraction'].dt.year == 2022]\n",
    "\n",
    "total_fine_2022 = df_year_2022['set_fine_amount'].sum()"
   ]
  },
  {
   "cell_type": "code",
   "execution_count": 60,
   "id": "d788b112",
   "metadata": {},
   "outputs": [
    {
     "data": {
      "text/plain": [
       "96300530"
      ]
     },
     "execution_count": 60,
     "metadata": {},
     "output_type": "execute_result"
    }
   ],
   "source": [
    "total_fine_2022"
   ]
  },
  {
   "cell_type": "code",
   "execution_count": 61,
   "id": "9688e2e9",
   "metadata": {},
   "outputs": [
    {
     "data": {
      "text/plain": [
       "date_of_infraction\n",
       "2016    48.644683\n",
       "2017    49.528544\n",
       "2018    49.020389\n",
       "2019    48.981233\n",
       "2020    50.274798\n",
       "2021    55.137215\n",
       "2022    52.888231\n",
       "Name: set_fine_amount, dtype: float64"
      ]
     },
     "execution_count": 61,
     "metadata": {},
     "output_type": "execute_result"
    }
   ],
   "source": [
    "df_merged.groupby(df_merged['date_of_infraction'].dt.year)['set_fine_amount'].mean()"
   ]
  },
  {
   "cell_type": "markdown",
   "id": "0b09f3d5",
   "metadata": {},
   "source": [
    "This is the average fine given by infraction every year. It seems that the average fine went up by $3 after covid-19. "
   ]
  },
  {
   "cell_type": "code",
   "execution_count": 62,
   "id": "18df195c",
   "metadata": {},
   "outputs": [
    {
     "data": {
      "text/plain": [
       "date_of_infraction\n",
       "2016    109601335\n",
       "2017    106118125\n",
       "2018    100129095\n",
       "2019    108338405\n",
       "2020     70498690\n",
       "2021     81643880\n",
       "2022     96300530\n",
       "Name: set_fine_amount, dtype: int64"
      ]
     },
     "execution_count": 62,
     "metadata": {},
     "output_type": "execute_result"
    }
   ],
   "source": [
    "df_merged.groupby(df_merged['date_of_infraction'].dt.year)['set_fine_amount'].sum()"
   ]
  },
  {
   "cell_type": "code",
   "execution_count": 63,
   "id": "7223bd7d",
   "metadata": {},
   "outputs": [
    {
     "data": {
      "image/png": "[encoded data removed]",
      "text/plain": [
       "<Figure size 640x480 with 1 Axes>"
      ]
     },
     "metadata": {},
     "output_type": "display_data"
    }
   ],
   "source": [
    "total_fine_yearly = df_merged.groupby(df_merged['date_of_infraction'].dt.year)['set_fine_amount'].sum()\n",
    "plt.figure()\n",
    "plt.bar(total_fine_yearly.index, total_fine_yearly)\n",
    "plt.xlabel('Year')\n",
    "plt.ylabel('Fine in dollars')\n",
    "plt.title('Total fine by year')\n",
    "plt.show()"
   ]
  },
  {
   "cell_type": "markdown",
   "id": "d56af550",
   "metadata": {},
   "source": [
    "Assuming the drop in 2020 is because of covid-19, it's only gone up by a little over the years because most people work remotely now and there were still some restrictions by 2022. "
   ]
  },
  {
   "cell_type": "code",
   "execution_count": 64,
   "id": "1aeb8a48",
   "metadata": {},
   "outputs": [
    {
     "data": {
      "text/plain": [
       "date_of_infraction         0.000000\n",
       "infraction_code            0.000015\n",
       "infraction_description     0.000000\n",
       "set_fine_amount            0.000000\n",
       "time_of_infraction         0.000000\n",
       "location1                  0.000000\n",
       "location2                  0.000000\n",
       "location3                 92.679965\n",
       "location4                 92.663940\n",
       "province                   0.000022\n",
       "datetime_of_infraction     0.000000\n",
       "dtype: float64"
      ]
     },
     "execution_count": 64,
     "metadata": {},
     "output_type": "execute_result"
    }
   ],
   "source": [
    "(df_merged.isna().sum()/df_merged.shape[0])*100"
   ]
  },
  {
   "cell_type": "markdown",
   "id": "b604164c",
   "metadata": {},
   "source": [
    "Moving onto location 1 proximity into address and coordinate. "
   ]
  },
  {
   "cell_type": "markdown",
   "id": "a65002d1",
   "metadata": {},
   "source": [
    "We're going to use this code snippet to change address to a coordinate. However, we have proximity codes from location 1 that specifies the area of which the address is pointed exactly. "
   ]
  },
  {
   "cell_type": "code",
   "execution_count": 67,
   "id": "465eb1f2",
   "metadata": {},
   "outputs": [
    {
     "name": "stdout",
     "output_type": "stream",
     "text": [
      "Edward Street, Discovery District, University—Rosedale, Old Toronto, Toronto, Golden Horseshoe, Ontario, M5B 1R7, Canada\n",
      "(43.6566007, -79.3831637)\n"
     ]
    }
   ],
   "source": [
    "import pandas as pd\n",
    "from geopy.geocoders import Nominatim\n",
    "\n",
    "geolocator = Nominatim(user_agent=\"toronto-parking-application\")\n",
    "location = geolocator.geocode(\"Edward St Toronto ON Canada\")\n",
    "print(location.address)\n",
    "print((location.latitude, location.longitude))"
   ]
  },
  {
   "cell_type": "markdown",
   "id": "7071cc1f",
   "metadata": {},
   "source": [
    "Here is the proximity. "
   ]
  },
  {
   "cell_type": "code",
   "execution_count": 68,
   "id": "9e53b908",
   "metadata": {},
   "outputs": [
    {
     "data": {
      "text/plain": [
       "location1\n",
       "N/S         7644220\n",
       "AT          3197422\n",
       "OPP         1701417\n",
       "E/S          253994\n",
       "S/S          242804\n",
       "W/S          229447\n",
       "R/O           63647\n",
       "N/O            5289\n",
       "S/O            4456\n",
       "E/O            4173\n",
       "W/O            2636\n",
       "REAR           1161\n",
       "O/F             808\n",
       "RR              109\n",
       "OF               90\n",
       "I/F              74\n",
       "2075             39\n",
       "1                33\n",
       "BR               32\n",
       "UGTNTPRK         31\n",
       "Name: count, dtype: int64"
      ]
     },
     "execution_count": 68,
     "metadata": {},
     "output_type": "execute_result"
    }
   ],
   "source": [
    "df_merged['location1'].value_counts().head(20)"
   ]
  },
  {
   "cell_type": "markdown",
   "id": "da5666b0",
   "metadata": {},
   "source": [
    "Here are the addresses. Some addresses don't have the building number! They're either not existant or they're applied in the `location1`. We don't want to work with separate columns to find coordinates. Let's combine these 4 columns (location1-location4) together and apply them onto the API. "
   ]
  },
  {
   "cell_type": "code",
   "execution_count": 69,
   "id": "537e5ad4",
   "metadata": {},
   "outputs": [
    {
     "data": {
      "text/plain": [
       "location2\n",
       "4700 KEELE ST          34744\n",
       "2075 BAYVIEW AVE       31003\n",
       "20 EDWARD ST           22372\n",
       "15 MARINE PARADE DR    21727\n",
       "4001 LESLIE ST         18511\n",
       "1265 MILITARY TRL      17937\n",
       "1 BRIMLEY RD S         16579\n",
       "LA PLANTE AVE          16368\n",
       "JAMES ST               15530\n",
       "19 GRAND TRUNK CRES    15107\n",
       "199 RICHMOND ST W      14796\n",
       "103 THE QUEENSWAY      14390\n",
       "EDWARD ST              13720\n",
       "WELLINGTON ST W        12989\n",
       "273 BLOOR ST W         12197\n",
       "150 DAN LECKIE WAY     12068\n",
       "150 GERRARD ST W       11719\n",
       "2 COOPER ST            11512\n",
       "2075 BAYVIEW AV        10865\n",
       "1000 FINCH AVE W       10625\n",
       "Name: count, dtype: int64"
      ]
     },
     "execution_count": 69,
     "metadata": {},
     "output_type": "execute_result"
    }
   ],
   "source": [
    "df_merged['location2'].value_counts().head(20)"
   ]
  },
  {
   "cell_type": "code",
   "execution_count": 70,
   "id": "0e6b172c",
   "metadata": {},
   "outputs": [
    {
     "data": {
      "text/plain": [
       "location2\n",
       "4700 KEELE ST            0.260178\n",
       "2075 BAYVIEW AVE         0.492342\n",
       "20 EDWARD ST             0.659873\n",
       "15 MARINE PARADE DR      0.822574\n",
       "4001 LESLIE ST           0.961192\n",
       "                          ...    \n",
       "150 WOODINGTON AVE      61.506369\n",
       "17 ALBANY AVE           61.507949\n",
       "99 RONCESVALLES AVE     61.509529\n",
       "389 RONCESVALLES AVE    61.511109\n",
       "131 MOUNTJOY AVE        61.512689\n",
       "Name: count, Length: 10000, dtype: float64"
      ]
     },
     "execution_count": 70,
     "metadata": {},
     "output_type": "execute_result"
    }
   ],
   "source": [
    "(df_merged['location2'].value_counts().cumsum()/df_merged['location2'].shape[0]*100).head(10000)"
   ]
  },
  {
   "cell_type": "markdown",
   "id": "d1f5abf7",
   "metadata": {},
   "source": [
    "EDWARD ST has about 13720 entries, let's see what location1 say. "
   ]
  },
  {
   "cell_type": "code",
   "execution_count": 71,
   "id": "c678e567",
   "metadata": {},
   "outputs": [
    {
     "data": {
      "text/html": [
       "<div>\n",
       "<style scoped>\n",
       "    .dataframe tbody tr th:only-of-type {\n",
       "        vertical-align: middle;\n",
       "    }\n",
       "\n",
       "    .dataframe tbody tr th {\n",
       "        vertical-align: top;\n",
       "    }\n",
       "\n",
       "    .dataframe thead th {\n",
       "        text-align: right;\n",
       "    }\n",
       "</style>\n",
       "<table border=\"1\" class=\"dataframe\">\n",
       "  <thead>\n",
       "    <tr style=\"text-align: right;\">\n",
       "      <th></th>\n",
       "      <th>date_of_infraction</th>\n",
       "      <th>infraction_code</th>\n",
       "      <th>infraction_description</th>\n",
       "      <th>set_fine_amount</th>\n",
       "      <th>time_of_infraction</th>\n",
       "      <th>location1</th>\n",
       "      <th>location2</th>\n",
       "      <th>location3</th>\n",
       "      <th>location4</th>\n",
       "      <th>province</th>\n",
       "      <th>datetime_of_infraction</th>\n",
       "    </tr>\n",
       "  </thead>\n",
       "  <tbody>\n",
       "    <tr>\n",
       "      <th>772</th>\n",
       "      <td>2016-12-30</td>\n",
       "      <td>5.0</td>\n",
       "      <td>PARK-SIGNED HWY-PROHIBIT DY/TM</td>\n",
       "      <td>50</td>\n",
       "      <td>19:54:00</td>\n",
       "      <td>N/S</td>\n",
       "      <td>EDWARD ST</td>\n",
       "      <td>W/O</td>\n",
       "      <td>YONGE ST</td>\n",
       "      <td>NY</td>\n",
       "      <td>2016-12-30 19:54:00</td>\n",
       "    </tr>\n",
       "    <tr>\n",
       "      <th>781</th>\n",
       "      <td>2016-12-30</td>\n",
       "      <td>5.0</td>\n",
       "      <td>PARK-SIGNED HWY-PROHIBIT DY/TM</td>\n",
       "      <td>50</td>\n",
       "      <td>19:56:00</td>\n",
       "      <td>N/S</td>\n",
       "      <td>EDWARD ST</td>\n",
       "      <td>W/O</td>\n",
       "      <td>YONGE ST</td>\n",
       "      <td>ON</td>\n",
       "      <td>2016-12-30 19:56:00</td>\n",
       "    </tr>\n",
       "  </tbody>\n",
       "</table>\n",
       "</div>"
      ],
      "text/plain": [
       "    date_of_infraction  infraction_code          infraction_description  \\\n",
       "772         2016-12-30              5.0  PARK-SIGNED HWY-PROHIBIT DY/TM   \n",
       "781         2016-12-30              5.0  PARK-SIGNED HWY-PROHIBIT DY/TM   \n",
       "\n",
       "     set_fine_amount time_of_infraction location1  location2 location3  \\\n",
       "772               50           19:54:00       N/S  EDWARD ST       W/O   \n",
       "781               50           19:56:00       N/S  EDWARD ST       W/O   \n",
       "\n",
       "    location4 province datetime_of_infraction  \n",
       "772  YONGE ST       NY    2016-12-30 19:54:00  \n",
       "781  YONGE ST       ON    2016-12-30 19:56:00  "
      ]
     },
     "execution_count": 71,
     "metadata": {},
     "output_type": "execute_result"
    }
   ],
   "source": [
    "df_merged[df_merged['location2']== 'EDWARD ST'].head(2)"
   ]
  },
  {
   "cell_type": "code",
   "execution_count": 72,
   "id": "b1d2e1c1",
   "metadata": {},
   "outputs": [
    {
     "data": {
      "text/plain": [
       "date_of_infraction               0\n",
       "infraction_code                  2\n",
       "infraction_description           0\n",
       "set_fine_amount                  0\n",
       "time_of_infraction               0\n",
       "location1                        0\n",
       "location2                        0\n",
       "location3                 12376426\n",
       "location4                 12374286\n",
       "province                         3\n",
       "datetime_of_infraction           0\n",
       "dtype: int64"
      ]
     },
     "execution_count": 72,
     "metadata": {},
     "output_type": "execute_result"
    }
   ],
   "source": [
    "df_merged.isna().sum()"
   ]
  },
  {
   "cell_type": "markdown",
   "id": "42768c09",
   "metadata": {},
   "source": [
    "Let's combine columns for location1 and location2 first and get it's coordinates. "
   ]
  },
  {
   "cell_type": "code",
   "execution_count": 94,
   "id": "25079029",
   "metadata": {},
   "outputs": [
    {
     "data": {
      "text/plain": [
       "array(['1546 bloor st w', '5418 yonge st', '777 queen st w', ...,\n",
       "       '28 lamberton blvd', '30151 glendale ave', '576 forman ave'],\n",
       "      dtype=object)"
      ]
     },
     "execution_count": 94,
     "metadata": {},
     "output_type": "execute_result"
    }
   ],
   "source": [
    "df_merged['location2'].str.lower().unique()"
   ]
  },
  {
   "cell_type": "code",
   "execution_count": 101,
   "id": "f19bf984",
   "metadata": {},
   "outputs": [
    {
     "ename": "KeyboardInterrupt",
     "evalue": "",
     "output_type": "error",
     "traceback": [
      "\u001b[0;31m---------------------------------------------------------------------------\u001b[0m",
      "\u001b[0;31mKeyboardInterrupt\u001b[0m                         Traceback (most recent call last)",
      "Cell \u001b[0;32mIn[101], line 35\u001b[0m\n\u001b[1;32m     32\u001b[0m \u001b[38;5;28;01mtry\u001b[39;00m:\n\u001b[1;32m     33\u001b[0m     \u001b[38;5;66;03m# add the address to the dictionary \u001b[39;00m\n\u001b[1;32m     34\u001b[0m     address \u001b[38;5;241m+\u001b[39m\u001b[38;5;241m=\u001b[39m \u001b[38;5;124m'\u001b[39m\u001b[38;5;124m, toronto, on, canada\u001b[39m\u001b[38;5;124m'\u001b[39m\n\u001b[0;32m---> 35\u001b[0m     address_dict[address] \u001b[38;5;241m=\u001b[39m geocode_address(address)\n\u001b[1;32m     36\u001b[0m     counter \u001b[38;5;241m+\u001b[39m\u001b[38;5;241m=\u001b[39m \u001b[38;5;241m1\u001b[39m\n\u001b[1;32m     38\u001b[0m     \u001b[38;5;66;03m# keep a counter, if counter at 100, save dict to json and counter to 0, otherwise increase counter\u001b[39;00m\n",
      "Cell \u001b[0;32mIn[101], line 10\u001b[0m, in \u001b[0;36mgeocode_address\u001b[0;34m(address)\u001b[0m\n\u001b[1;32m      6\u001b[0m \u001b[38;5;129m@lru_cache\u001b[39m(maxsize\u001b[38;5;241m=\u001b[39m\u001b[38;5;28;01mNone\u001b[39;00m)\n\u001b[1;32m      7\u001b[0m \u001b[38;5;66;03m# Function to geocode address\u001b[39;00m\n\u001b[1;32m      8\u001b[0m \u001b[38;5;28;01mdef\u001b[39;00m \u001b[38;5;21mgeocode_address\u001b[39m(address):\n\u001b[1;32m      9\u001b[0m     geolocator \u001b[38;5;241m=\u001b[39m Nominatim(user_agent\u001b[38;5;241m=\u001b[39m\u001b[38;5;124m\"\u001b[39m\u001b[38;5;124mtoronto-parking-application\u001b[39m\u001b[38;5;124m\"\u001b[39m)\n\u001b[0;32m---> 10\u001b[0m     location \u001b[38;5;241m=\u001b[39m geolocator\u001b[38;5;241m.\u001b[39mgeocode(address, timeout\u001b[38;5;241m=\u001b[39m\u001b[38;5;241m10\u001b[39m)\n\u001b[1;32m     11\u001b[0m     \u001b[38;5;28;01mif\u001b[39;00m location:\n\u001b[1;32m     12\u001b[0m         \u001b[38;5;28;01mreturn\u001b[39;00m location\u001b[38;5;241m.\u001b[39mlatitude, location\u001b[38;5;241m.\u001b[39mlongitude\n",
      "File \u001b[0;32m~/anaconda3/lib/python3.11/site-packages/geopy/geocoders/nominatim.py:297\u001b[0m, in \u001b[0;36mNominatim.geocode\u001b[0;34m(self, query, exactly_one, timeout, limit, addressdetails, language, geometry, extratags, country_codes, viewbox, bounded, featuretype, namedetails)\u001b[0m\n\u001b[1;32m    295\u001b[0m logger\u001b[38;5;241m.\u001b[39mdebug(\u001b[38;5;124m\"\u001b[39m\u001b[38;5;132;01m%s\u001b[39;00m\u001b[38;5;124m.geocode: \u001b[39m\u001b[38;5;132;01m%s\u001b[39;00m\u001b[38;5;124m\"\u001b[39m, \u001b[38;5;28mself\u001b[39m\u001b[38;5;241m.\u001b[39m\u001b[38;5;18m__class__\u001b[39m\u001b[38;5;241m.\u001b[39m\u001b[38;5;18m__name__\u001b[39m, url)\n\u001b[1;32m    296\u001b[0m callback \u001b[38;5;241m=\u001b[39m partial(\u001b[38;5;28mself\u001b[39m\u001b[38;5;241m.\u001b[39m_parse_json, exactly_one\u001b[38;5;241m=\u001b[39mexactly_one)\n\u001b[0;32m--> 297\u001b[0m \u001b[38;5;28;01mreturn\u001b[39;00m \u001b[38;5;28mself\u001b[39m\u001b[38;5;241m.\u001b[39m_call_geocoder(url, callback, timeout\u001b[38;5;241m=\u001b[39mtimeout)\n",
      "File \u001b[0;32m~/anaconda3/lib/python3.11/site-packages/geopy/geocoders/base.py:368\u001b[0m, in \u001b[0;36mGeocoder._call_geocoder\u001b[0;34m(self, url, callback, timeout, is_json, headers)\u001b[0m\n\u001b[1;32m    366\u001b[0m \u001b[38;5;28;01mtry\u001b[39;00m:\n\u001b[1;32m    367\u001b[0m     \u001b[38;5;28;01mif\u001b[39;00m is_json:\n\u001b[0;32m--> 368\u001b[0m         result \u001b[38;5;241m=\u001b[39m \u001b[38;5;28mself\u001b[39m\u001b[38;5;241m.\u001b[39madapter\u001b[38;5;241m.\u001b[39mget_json(url, timeout\u001b[38;5;241m=\u001b[39mtimeout, headers\u001b[38;5;241m=\u001b[39mreq_headers)\n\u001b[1;32m    369\u001b[0m     \u001b[38;5;28;01melse\u001b[39;00m:\n\u001b[1;32m    370\u001b[0m         result \u001b[38;5;241m=\u001b[39m \u001b[38;5;28mself\u001b[39m\u001b[38;5;241m.\u001b[39madapter\u001b[38;5;241m.\u001b[39mget_text(url, timeout\u001b[38;5;241m=\u001b[39mtimeout, headers\u001b[38;5;241m=\u001b[39mreq_headers)\n",
      "File \u001b[0;32m~/anaconda3/lib/python3.11/site-packages/geopy/adapters.py:472\u001b[0m, in \u001b[0;36mRequestsAdapter.get_json\u001b[0;34m(self, url, timeout, headers)\u001b[0m\n\u001b[1;32m    471\u001b[0m \u001b[38;5;28;01mdef\u001b[39;00m \u001b[38;5;21mget_json\u001b[39m(\u001b[38;5;28mself\u001b[39m, url, \u001b[38;5;241m*\u001b[39m, timeout, headers):\n\u001b[0;32m--> 472\u001b[0m     resp \u001b[38;5;241m=\u001b[39m \u001b[38;5;28mself\u001b[39m\u001b[38;5;241m.\u001b[39m_request(url, timeout\u001b[38;5;241m=\u001b[39mtimeout, headers\u001b[38;5;241m=\u001b[39mheaders)\n\u001b[1;32m    473\u001b[0m     \u001b[38;5;28;01mtry\u001b[39;00m:\n\u001b[1;32m    474\u001b[0m         \u001b[38;5;28;01mreturn\u001b[39;00m resp\u001b[38;5;241m.\u001b[39mjson()\n",
      "File \u001b[0;32m~/anaconda3/lib/python3.11/site-packages/geopy/adapters.py:482\u001b[0m, in \u001b[0;36mRequestsAdapter._request\u001b[0;34m(self, url, timeout, headers)\u001b[0m\n\u001b[1;32m    480\u001b[0m \u001b[38;5;28;01mdef\u001b[39;00m \u001b[38;5;21m_request\u001b[39m(\u001b[38;5;28mself\u001b[39m, url, \u001b[38;5;241m*\u001b[39m, timeout, headers):\n\u001b[1;32m    481\u001b[0m     \u001b[38;5;28;01mtry\u001b[39;00m:\n\u001b[0;32m--> 482\u001b[0m         resp \u001b[38;5;241m=\u001b[39m \u001b[38;5;28mself\u001b[39m\u001b[38;5;241m.\u001b[39msession\u001b[38;5;241m.\u001b[39mget(url, timeout\u001b[38;5;241m=\u001b[39mtimeout, headers\u001b[38;5;241m=\u001b[39mheaders)\n\u001b[1;32m    483\u001b[0m     \u001b[38;5;28;01mexcept\u001b[39;00m \u001b[38;5;167;01mException\u001b[39;00m \u001b[38;5;28;01mas\u001b[39;00m error:\n\u001b[1;32m    484\u001b[0m         message \u001b[38;5;241m=\u001b[39m \u001b[38;5;28mstr\u001b[39m(error)\n",
      "File \u001b[0;32m~/anaconda3/lib/python3.11/site-packages/requests/sessions.py:602\u001b[0m, in \u001b[0;36mSession.get\u001b[0;34m(self, url, **kwargs)\u001b[0m\n\u001b[1;32m    594\u001b[0m \u001b[38;5;250m\u001b[39m\u001b[38;5;124mr\u001b[39m\u001b[38;5;124;03m\"\"\"Sends a GET request. Returns :class:`Response` object.\u001b[39;00m\n\u001b[1;32m    595\u001b[0m \n\u001b[1;32m    596\u001b[0m \u001b[38;5;124;03m:param url: URL for the new :class:`Request` object.\u001b[39;00m\n\u001b[1;32m    597\u001b[0m \u001b[38;5;124;03m:param \\*\\*kwargs: Optional arguments that ``request`` takes.\u001b[39;00m\n\u001b[1;32m    598\u001b[0m \u001b[38;5;124;03m:rtype: requests.Response\u001b[39;00m\n\u001b[1;32m    599\u001b[0m \u001b[38;5;124;03m\"\"\"\u001b[39;00m\n\u001b[1;32m    601\u001b[0m kwargs\u001b[38;5;241m.\u001b[39msetdefault(\u001b[38;5;124m\"\u001b[39m\u001b[38;5;124mallow_redirects\u001b[39m\u001b[38;5;124m\"\u001b[39m, \u001b[38;5;28;01mTrue\u001b[39;00m)\n\u001b[0;32m--> 602\u001b[0m \u001b[38;5;28;01mreturn\u001b[39;00m \u001b[38;5;28mself\u001b[39m\u001b[38;5;241m.\u001b[39mrequest(\u001b[38;5;124m\"\u001b[39m\u001b[38;5;124mGET\u001b[39m\u001b[38;5;124m\"\u001b[39m, url, \u001b[38;5;241m*\u001b[39m\u001b[38;5;241m*\u001b[39mkwargs)\n",
      "File \u001b[0;32m~/anaconda3/lib/python3.11/site-packages/requests/sessions.py:589\u001b[0m, in \u001b[0;36mSession.request\u001b[0;34m(self, method, url, params, data, headers, cookies, files, auth, timeout, allow_redirects, proxies, hooks, stream, verify, cert, json)\u001b[0m\n\u001b[1;32m    584\u001b[0m send_kwargs \u001b[38;5;241m=\u001b[39m {\n\u001b[1;32m    585\u001b[0m     \u001b[38;5;124m\"\u001b[39m\u001b[38;5;124mtimeout\u001b[39m\u001b[38;5;124m\"\u001b[39m: timeout,\n\u001b[1;32m    586\u001b[0m     \u001b[38;5;124m\"\u001b[39m\u001b[38;5;124mallow_redirects\u001b[39m\u001b[38;5;124m\"\u001b[39m: allow_redirects,\n\u001b[1;32m    587\u001b[0m }\n\u001b[1;32m    588\u001b[0m send_kwargs\u001b[38;5;241m.\u001b[39mupdate(settings)\n\u001b[0;32m--> 589\u001b[0m resp \u001b[38;5;241m=\u001b[39m \u001b[38;5;28mself\u001b[39m\u001b[38;5;241m.\u001b[39msend(prep, \u001b[38;5;241m*\u001b[39m\u001b[38;5;241m*\u001b[39msend_kwargs)\n\u001b[1;32m    591\u001b[0m \u001b[38;5;28;01mreturn\u001b[39;00m resp\n",
      "File \u001b[0;32m~/anaconda3/lib/python3.11/site-packages/requests/sessions.py:703\u001b[0m, in \u001b[0;36mSession.send\u001b[0;34m(self, request, **kwargs)\u001b[0m\n\u001b[1;32m    700\u001b[0m start \u001b[38;5;241m=\u001b[39m preferred_clock()\n\u001b[1;32m    702\u001b[0m \u001b[38;5;66;03m# Send the request\u001b[39;00m\n\u001b[0;32m--> 703\u001b[0m r \u001b[38;5;241m=\u001b[39m adapter\u001b[38;5;241m.\u001b[39msend(request, \u001b[38;5;241m*\u001b[39m\u001b[38;5;241m*\u001b[39mkwargs)\n\u001b[1;32m    705\u001b[0m \u001b[38;5;66;03m# Total elapsed time of the request (approximately)\u001b[39;00m\n\u001b[1;32m    706\u001b[0m elapsed \u001b[38;5;241m=\u001b[39m preferred_clock() \u001b[38;5;241m-\u001b[39m start\n",
      "File \u001b[0;32m~/anaconda3/lib/python3.11/site-packages/requests/adapters.py:486\u001b[0m, in \u001b[0;36mHTTPAdapter.send\u001b[0;34m(self, request, stream, timeout, verify, cert, proxies)\u001b[0m\n\u001b[1;32m    483\u001b[0m     timeout \u001b[38;5;241m=\u001b[39m TimeoutSauce(connect\u001b[38;5;241m=\u001b[39mtimeout, read\u001b[38;5;241m=\u001b[39mtimeout)\n\u001b[1;32m    485\u001b[0m \u001b[38;5;28;01mtry\u001b[39;00m:\n\u001b[0;32m--> 486\u001b[0m     resp \u001b[38;5;241m=\u001b[39m conn\u001b[38;5;241m.\u001b[39murlopen(\n\u001b[1;32m    487\u001b[0m         method\u001b[38;5;241m=\u001b[39mrequest\u001b[38;5;241m.\u001b[39mmethod,\n\u001b[1;32m    488\u001b[0m         url\u001b[38;5;241m=\u001b[39murl,\n\u001b[1;32m    489\u001b[0m         body\u001b[38;5;241m=\u001b[39mrequest\u001b[38;5;241m.\u001b[39mbody,\n\u001b[1;32m    490\u001b[0m         headers\u001b[38;5;241m=\u001b[39mrequest\u001b[38;5;241m.\u001b[39mheaders,\n\u001b[1;32m    491\u001b[0m         redirect\u001b[38;5;241m=\u001b[39m\u001b[38;5;28;01mFalse\u001b[39;00m,\n\u001b[1;32m    492\u001b[0m         assert_same_host\u001b[38;5;241m=\u001b[39m\u001b[38;5;28;01mFalse\u001b[39;00m,\n\u001b[1;32m    493\u001b[0m         preload_content\u001b[38;5;241m=\u001b[39m\u001b[38;5;28;01mFalse\u001b[39;00m,\n\u001b[1;32m    494\u001b[0m         decode_content\u001b[38;5;241m=\u001b[39m\u001b[38;5;28;01mFalse\u001b[39;00m,\n\u001b[1;32m    495\u001b[0m         retries\u001b[38;5;241m=\u001b[39m\u001b[38;5;28mself\u001b[39m\u001b[38;5;241m.\u001b[39mmax_retries,\n\u001b[1;32m    496\u001b[0m         timeout\u001b[38;5;241m=\u001b[39mtimeout,\n\u001b[1;32m    497\u001b[0m         chunked\u001b[38;5;241m=\u001b[39mchunked,\n\u001b[1;32m    498\u001b[0m     )\n\u001b[1;32m    500\u001b[0m \u001b[38;5;28;01mexcept\u001b[39;00m (ProtocolError, \u001b[38;5;167;01mOSError\u001b[39;00m) \u001b[38;5;28;01mas\u001b[39;00m err:\n\u001b[1;32m    501\u001b[0m     \u001b[38;5;28;01mraise\u001b[39;00m \u001b[38;5;167;01mConnectionError\u001b[39;00m(err, request\u001b[38;5;241m=\u001b[39mrequest)\n",
      "File \u001b[0;32m~/anaconda3/lib/python3.11/site-packages/urllib3/connectionpool.py:791\u001b[0m, in \u001b[0;36mHTTPConnectionPool.urlopen\u001b[0;34m(self, method, url, body, headers, retries, redirect, assert_same_host, timeout, pool_timeout, release_conn, chunked, body_pos, preload_content, decode_content, **response_kw)\u001b[0m\n\u001b[1;32m    788\u001b[0m response_conn \u001b[38;5;241m=\u001b[39m conn \u001b[38;5;28;01mif\u001b[39;00m \u001b[38;5;129;01mnot\u001b[39;00m release_conn \u001b[38;5;28;01melse\u001b[39;00m \u001b[38;5;28;01mNone\u001b[39;00m\n\u001b[1;32m    790\u001b[0m \u001b[38;5;66;03m# Make the request on the HTTPConnection object\u001b[39;00m\n\u001b[0;32m--> 791\u001b[0m response \u001b[38;5;241m=\u001b[39m \u001b[38;5;28mself\u001b[39m\u001b[38;5;241m.\u001b[39m_make_request(\n\u001b[1;32m    792\u001b[0m     conn,\n\u001b[1;32m    793\u001b[0m     method,\n\u001b[1;32m    794\u001b[0m     url,\n\u001b[1;32m    795\u001b[0m     timeout\u001b[38;5;241m=\u001b[39mtimeout_obj,\n\u001b[1;32m    796\u001b[0m     body\u001b[38;5;241m=\u001b[39mbody,\n\u001b[1;32m    797\u001b[0m     headers\u001b[38;5;241m=\u001b[39mheaders,\n\u001b[1;32m    798\u001b[0m     chunked\u001b[38;5;241m=\u001b[39mchunked,\n\u001b[1;32m    799\u001b[0m     retries\u001b[38;5;241m=\u001b[39mretries,\n\u001b[1;32m    800\u001b[0m     response_conn\u001b[38;5;241m=\u001b[39mresponse_conn,\n\u001b[1;32m    801\u001b[0m     preload_content\u001b[38;5;241m=\u001b[39mpreload_content,\n\u001b[1;32m    802\u001b[0m     decode_content\u001b[38;5;241m=\u001b[39mdecode_content,\n\u001b[1;32m    803\u001b[0m     \u001b[38;5;241m*\u001b[39m\u001b[38;5;241m*\u001b[39mresponse_kw,\n\u001b[1;32m    804\u001b[0m )\n\u001b[1;32m    806\u001b[0m \u001b[38;5;66;03m# Everything went great!\u001b[39;00m\n\u001b[1;32m    807\u001b[0m clean_exit \u001b[38;5;241m=\u001b[39m \u001b[38;5;28;01mTrue\u001b[39;00m\n",
      "File \u001b[0;32m~/anaconda3/lib/python3.11/site-packages/urllib3/connectionpool.py:537\u001b[0m, in \u001b[0;36mHTTPConnectionPool._make_request\u001b[0;34m(self, conn, method, url, body, headers, retries, timeout, chunked, response_conn, preload_content, decode_content, enforce_content_length)\u001b[0m\n\u001b[1;32m    535\u001b[0m \u001b[38;5;66;03m# Receive the response from the server\u001b[39;00m\n\u001b[1;32m    536\u001b[0m \u001b[38;5;28;01mtry\u001b[39;00m:\n\u001b[0;32m--> 537\u001b[0m     response \u001b[38;5;241m=\u001b[39m conn\u001b[38;5;241m.\u001b[39mgetresponse()\n\u001b[1;32m    538\u001b[0m \u001b[38;5;28;01mexcept\u001b[39;00m (BaseSSLError, \u001b[38;5;167;01mOSError\u001b[39;00m) \u001b[38;5;28;01mas\u001b[39;00m e:\n\u001b[1;32m    539\u001b[0m     \u001b[38;5;28mself\u001b[39m\u001b[38;5;241m.\u001b[39m_raise_timeout(err\u001b[38;5;241m=\u001b[39me, url\u001b[38;5;241m=\u001b[39murl, timeout_value\u001b[38;5;241m=\u001b[39mread_timeout)\n",
      "File \u001b[0;32m~/anaconda3/lib/python3.11/site-packages/urllib3/connection.py:461\u001b[0m, in \u001b[0;36mHTTPConnection.getresponse\u001b[0;34m(self)\u001b[0m\n\u001b[1;32m    458\u001b[0m \u001b[38;5;28;01mfrom\u001b[39;00m \u001b[38;5;21;01m.\u001b[39;00m\u001b[38;5;21;01mresponse\u001b[39;00m \u001b[38;5;28;01mimport\u001b[39;00m HTTPResponse\n\u001b[1;32m    460\u001b[0m \u001b[38;5;66;03m# Get the response from http.client.HTTPConnection\u001b[39;00m\n\u001b[0;32m--> 461\u001b[0m httplib_response \u001b[38;5;241m=\u001b[39m \u001b[38;5;28msuper\u001b[39m()\u001b[38;5;241m.\u001b[39mgetresponse()\n\u001b[1;32m    463\u001b[0m \u001b[38;5;28;01mtry\u001b[39;00m:\n\u001b[1;32m    464\u001b[0m     assert_header_parsing(httplib_response\u001b[38;5;241m.\u001b[39mmsg)\n",
      "File \u001b[0;32m~/anaconda3/lib/python3.11/http/client.py:1390\u001b[0m, in \u001b[0;36mHTTPConnection.getresponse\u001b[0;34m(self)\u001b[0m\n\u001b[1;32m   1388\u001b[0m \u001b[38;5;28;01mtry\u001b[39;00m:\n\u001b[1;32m   1389\u001b[0m     \u001b[38;5;28;01mtry\u001b[39;00m:\n\u001b[0;32m-> 1390\u001b[0m         response\u001b[38;5;241m.\u001b[39mbegin()\n\u001b[1;32m   1391\u001b[0m     \u001b[38;5;28;01mexcept\u001b[39;00m \u001b[38;5;167;01mConnectionError\u001b[39;00m:\n\u001b[1;32m   1392\u001b[0m         \u001b[38;5;28mself\u001b[39m\u001b[38;5;241m.\u001b[39mclose()\n",
      "File \u001b[0;32m~/anaconda3/lib/python3.11/http/client.py:325\u001b[0m, in \u001b[0;36mHTTPResponse.begin\u001b[0;34m(self)\u001b[0m\n\u001b[1;32m    323\u001b[0m \u001b[38;5;66;03m# read until we get a non-100 response\u001b[39;00m\n\u001b[1;32m    324\u001b[0m \u001b[38;5;28;01mwhile\u001b[39;00m \u001b[38;5;28;01mTrue\u001b[39;00m:\n\u001b[0;32m--> 325\u001b[0m     version, status, reason \u001b[38;5;241m=\u001b[39m \u001b[38;5;28mself\u001b[39m\u001b[38;5;241m.\u001b[39m_read_status()\n\u001b[1;32m    326\u001b[0m     \u001b[38;5;28;01mif\u001b[39;00m status \u001b[38;5;241m!=\u001b[39m CONTINUE:\n\u001b[1;32m    327\u001b[0m         \u001b[38;5;28;01mbreak\u001b[39;00m\n",
      "File \u001b[0;32m~/anaconda3/lib/python3.11/http/client.py:286\u001b[0m, in \u001b[0;36mHTTPResponse._read_status\u001b[0;34m(self)\u001b[0m\n\u001b[1;32m    285\u001b[0m \u001b[38;5;28;01mdef\u001b[39;00m \u001b[38;5;21m_read_status\u001b[39m(\u001b[38;5;28mself\u001b[39m):\n\u001b[0;32m--> 286\u001b[0m     line \u001b[38;5;241m=\u001b[39m \u001b[38;5;28mstr\u001b[39m(\u001b[38;5;28mself\u001b[39m\u001b[38;5;241m.\u001b[39mfp\u001b[38;5;241m.\u001b[39mreadline(_MAXLINE \u001b[38;5;241m+\u001b[39m \u001b[38;5;241m1\u001b[39m), \u001b[38;5;124m\"\u001b[39m\u001b[38;5;124miso-8859-1\u001b[39m\u001b[38;5;124m\"\u001b[39m)\n\u001b[1;32m    287\u001b[0m     \u001b[38;5;28;01mif\u001b[39;00m \u001b[38;5;28mlen\u001b[39m(line) \u001b[38;5;241m>\u001b[39m _MAXLINE:\n\u001b[1;32m    288\u001b[0m         \u001b[38;5;28;01mraise\u001b[39;00m LineTooLong(\u001b[38;5;124m\"\u001b[39m\u001b[38;5;124mstatus line\u001b[39m\u001b[38;5;124m\"\u001b[39m)\n",
      "File \u001b[0;32m~/anaconda3/lib/python3.11/socket.py:706\u001b[0m, in \u001b[0;36mSocketIO.readinto\u001b[0;34m(self, b)\u001b[0m\n\u001b[1;32m    704\u001b[0m \u001b[38;5;28;01mwhile\u001b[39;00m \u001b[38;5;28;01mTrue\u001b[39;00m:\n\u001b[1;32m    705\u001b[0m     \u001b[38;5;28;01mtry\u001b[39;00m:\n\u001b[0;32m--> 706\u001b[0m         \u001b[38;5;28;01mreturn\u001b[39;00m \u001b[38;5;28mself\u001b[39m\u001b[38;5;241m.\u001b[39m_sock\u001b[38;5;241m.\u001b[39mrecv_into(b)\n\u001b[1;32m    707\u001b[0m     \u001b[38;5;28;01mexcept\u001b[39;00m timeout:\n\u001b[1;32m    708\u001b[0m         \u001b[38;5;28mself\u001b[39m\u001b[38;5;241m.\u001b[39m_timeout_occurred \u001b[38;5;241m=\u001b[39m \u001b[38;5;28;01mTrue\u001b[39;00m\n",
      "File \u001b[0;32m~/anaconda3/lib/python3.11/ssl.py:1314\u001b[0m, in \u001b[0;36mSSLSocket.recv_into\u001b[0;34m(self, buffer, nbytes, flags)\u001b[0m\n\u001b[1;32m   1310\u001b[0m     \u001b[38;5;28;01mif\u001b[39;00m flags \u001b[38;5;241m!=\u001b[39m \u001b[38;5;241m0\u001b[39m:\n\u001b[1;32m   1311\u001b[0m         \u001b[38;5;28;01mraise\u001b[39;00m \u001b[38;5;167;01mValueError\u001b[39;00m(\n\u001b[1;32m   1312\u001b[0m           \u001b[38;5;124m\"\u001b[39m\u001b[38;5;124mnon-zero flags not allowed in calls to recv_into() on \u001b[39m\u001b[38;5;132;01m%s\u001b[39;00m\u001b[38;5;124m\"\u001b[39m \u001b[38;5;241m%\u001b[39m\n\u001b[1;32m   1313\u001b[0m           \u001b[38;5;28mself\u001b[39m\u001b[38;5;241m.\u001b[39m\u001b[38;5;18m__class__\u001b[39m)\n\u001b[0;32m-> 1314\u001b[0m     \u001b[38;5;28;01mreturn\u001b[39;00m \u001b[38;5;28mself\u001b[39m\u001b[38;5;241m.\u001b[39mread(nbytes, buffer)\n\u001b[1;32m   1315\u001b[0m \u001b[38;5;28;01melse\u001b[39;00m:\n\u001b[1;32m   1316\u001b[0m     \u001b[38;5;28;01mreturn\u001b[39;00m \u001b[38;5;28msuper\u001b[39m()\u001b[38;5;241m.\u001b[39mrecv_into(buffer, nbytes, flags)\n",
      "File \u001b[0;32m~/anaconda3/lib/python3.11/ssl.py:1166\u001b[0m, in \u001b[0;36mSSLSocket.read\u001b[0;34m(self, len, buffer)\u001b[0m\n\u001b[1;32m   1164\u001b[0m \u001b[38;5;28;01mtry\u001b[39;00m:\n\u001b[1;32m   1165\u001b[0m     \u001b[38;5;28;01mif\u001b[39;00m buffer \u001b[38;5;129;01mis\u001b[39;00m \u001b[38;5;129;01mnot\u001b[39;00m \u001b[38;5;28;01mNone\u001b[39;00m:\n\u001b[0;32m-> 1166\u001b[0m         \u001b[38;5;28;01mreturn\u001b[39;00m \u001b[38;5;28mself\u001b[39m\u001b[38;5;241m.\u001b[39m_sslobj\u001b[38;5;241m.\u001b[39mread(\u001b[38;5;28mlen\u001b[39m, buffer)\n\u001b[1;32m   1167\u001b[0m     \u001b[38;5;28;01melse\u001b[39;00m:\n\u001b[1;32m   1168\u001b[0m         \u001b[38;5;28;01mreturn\u001b[39;00m \u001b[38;5;28mself\u001b[39m\u001b[38;5;241m.\u001b[39m_sslobj\u001b[38;5;241m.\u001b[39mread(\u001b[38;5;28mlen\u001b[39m)\n",
      "\u001b[0;31mKeyboardInterrupt\u001b[0m: "
     ]
    }
   ],
   "source": [
    "from geopy.geocoders import Nominatim\n",
    "import time\n",
    "import json\n",
    "from functools import lru_cache\n",
    "\n",
    "@lru_cache(maxsize=None)\n",
    "# Function to geocode address\n",
    "def geocode_address(address):\n",
    "    geolocator = Nominatim(user_agent=\"toronto-parking-application\")\n",
    "    location = geolocator.geocode(address, timeout=10)\n",
    "    if location:\n",
    "        return location.latitude, location.longitude\n",
    "    else:\n",
    "        return None, None\n",
    "    \n",
    "# get the unique values of locations\n",
    "unique_addresses = df_merged['location2'].str.lower().unique()\n",
    "\n",
    "# create dict\n",
    "try:\n",
    "    with open('address_data.json', 'r') as json_file:\n",
    "        address_dict = json.load(json_file)\n",
    "except FileNotFoundError:\n",
    "    # if the file does not exist, initialize an empty dictionary\n",
    "    address_dict = {}\n",
    "    \n",
    "counter = 0 \n",
    "# loop through addresses\n",
    "for address in unique_addresses:\n",
    "    # check if address is not already in the dictionary\n",
    "    if address not in address_dict.keys():\n",
    "        try:\n",
    "            # add the address to the dictionary \n",
    "            address += ', toronto, on, canada'\n",
    "            address_dict[address] = geocode_address(address)\n",
    "            counter += 1\n",
    "\n",
    "            # keep a counter, if counter at 100, save dict to json and counter to 0, otherwise increase counter\n",
    "            if counter == 100:\n",
    "                # Save the dictionary to a JSON file\n",
    "                with open('address_data.json', 'w') as json_file:\n",
    "                    json.dump(address_dict, json_file)\n",
    "\n",
    "                # Reset the counter\n",
    "                counter = 0\n",
    "\n",
    "                #sleep for second \n",
    "                time.sleep(1)\n",
    "        except Exception as e:\n",
    "            print(f\"An error occurred: {e}\")\n",
    "            print(\"Saving the collected data to a JSON file.\")\n",
    "            with open('address_data.json', 'w') as json_file:\n",
    "                json.dump(address_dict, json_file)\n",
    "            raise  "
   ]
  },
  {
   "cell_type": "code",
   "execution_count": null,
   "id": "9d8c218f",
   "metadata": {},
   "outputs": [],
   "source": []
  }
 ],
 "metadata": {
  "kernelspec": {
   "display_name": "Python 3 (ipykernel)",
   "language": "python",
   "name": "python3"
  },
  "language_info": {
   "codemirror_mode": {
    "name": "ipython",
    "version": 3
   },
   "file_extension": ".py",
   "mimetype": "text/x-python",
   "name": "python",
   "nbconvert_exporter": "python",
   "pygments_lexer": "ipython3",
   "version": "3.11.8"
  }
 },
 "nbformat": 4,
 "nbformat_minor": 5
}
