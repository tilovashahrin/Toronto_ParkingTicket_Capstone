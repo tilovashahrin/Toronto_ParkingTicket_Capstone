{
 "cells": [
  {
   "cell_type": "code",
   "execution_count": 3,
   "id": "58c0d700",
   "metadata": {},
   "outputs": [],
   "source": [
    "import numpy as np\n",
    "import pandas as pd\n",
    "import matplotlib.pyplot as plt\n",
    "%matplotlib inline\n",
    "import statsmodels.api as sm\n",
    "import seaborn as sns\n",
    "import os\n",
    "import glob"
   ]
  },
  {
   "cell_type": "code",
   "execution_count": 2,
   "id": "37b5039f",
   "metadata": {},
   "outputs": [
    {
     "data": {
      "text/plain": [
       "['Parking_Tags_Data_2016_4.csv',\n",
       " 'Parking_Tags_Data_2016_3.csv',\n",
       " 'Parking_Tags_Data_2016_2.csv',\n",
       " 'Parking_Tags_Data_2016_1.csv']"
      ]
     },
     "execution_count": 2,
     "metadata": {},
     "output_type": "execute_result"
    }
   ],
   "source": [
    "#read the path\n",
    "file_path_2016 = \"data/parking-tickets-2016\"\n",
    "#list all the files from the directory\n",
    "file_list_2016 = os.listdir(file_path_2016)\n",
    "file_list_2016"
   ]
  },
  {
   "cell_type": "code",
   "execution_count": 3,
   "id": "17c34a90",
   "metadata": {},
   "outputs": [
    {
     "data": {
      "text/plain": [
       "2254761"
      ]
     },
     "execution_count": 3,
     "metadata": {},
     "output_type": "execute_result"
    }
   ],
   "source": [
    "df_2016 = pd.DataFrame()\n",
    "\n",
    "# Append all files together\n",
    "for file in file_list_2016:\n",
    "    df_temp = pd.read_csv(f'data/parking-tickets-2016/{file}')\n",
    "    df_2016 = pd.concat([df_2016, df_temp], ignore_index=True)\n",
    "len(df_2016)"
   ]
  },
  {
   "cell_type": "code",
   "execution_count": 4,
   "id": "7f63aa1c",
   "metadata": {},
   "outputs": [
    {
     "data": {
      "text/plain": [
       "tag_number_masked               0\n",
       "date_of_infraction              0\n",
       "infraction_code                 1\n",
       "infraction_description          0\n",
       "set_fine_amount                 0\n",
       "time_of_infraction           1329\n",
       "location1                  185561\n",
       "location2                     383\n",
       "location3                 2102975\n",
       "location4                 2102583\n",
       "province                        2\n",
       "dtype: int64"
      ]
     },
     "execution_count": 4,
     "metadata": {},
     "output_type": "execute_result"
    }
   ],
   "source": [
    "df_2016.isnull().sum()"
   ]
  },
  {
   "cell_type": "code",
   "execution_count": 5,
   "id": "0f6c4d61",
   "metadata": {},
   "outputs": [],
   "source": [
    "#read the path\n",
    "file_path_2017 = \"data/parking-tickets-2017\"\n",
    "#list all the files from the directory\n",
    "file_list_2017 = os.listdir(file_path_2017)"
   ]
  },
  {
   "cell_type": "code",
   "execution_count": 6,
   "id": "75ea0044",
   "metadata": {
    "scrolled": true
   },
   "outputs": [
    {
     "data": {
      "text/html": [
       "<div>\n",
       "<style scoped>\n",
       "    .dataframe tbody tr th:only-of-type {\n",
       "        vertical-align: middle;\n",
       "    }\n",
       "\n",
       "    .dataframe tbody tr th {\n",
       "        vertical-align: top;\n",
       "    }\n",
       "\n",
       "    .dataframe thead th {\n",
       "        text-align: right;\n",
       "    }\n",
       "</style>\n",
       "<table border=\"1\" class=\"dataframe\">\n",
       "  <thead>\n",
       "    <tr style=\"text-align: right;\">\n",
       "      <th></th>\n",
       "      <th>tag_number_masked</th>\n",
       "      <th>date_of_infraction</th>\n",
       "      <th>infraction_code</th>\n",
       "      <th>infraction_description</th>\n",
       "      <th>set_fine_amount</th>\n",
       "      <th>time_of_infraction</th>\n",
       "      <th>location1</th>\n",
       "      <th>location2</th>\n",
       "      <th>location3</th>\n",
       "      <th>location4</th>\n",
       "      <th>province</th>\n",
       "    </tr>\n",
       "  </thead>\n",
       "  <tbody>\n",
       "    <tr>\n",
       "      <th>0</th>\n",
       "      <td>***39755</td>\n",
       "      <td>20170101</td>\n",
       "      <td>29.0</td>\n",
       "      <td>PARK PROHIBITED TIME NO PERMIT</td>\n",
       "      <td>30</td>\n",
       "      <td>0.0</td>\n",
       "      <td>NR</td>\n",
       "      <td>45 LEWIS ST</td>\n",
       "      <td>NaN</td>\n",
       "      <td>NaN</td>\n",
       "      <td>ON</td>\n",
       "    </tr>\n",
       "    <tr>\n",
       "      <th>1</th>\n",
       "      <td>***10593</td>\n",
       "      <td>20170101</td>\n",
       "      <td>9.0</td>\n",
       "      <td>STOP-SIGNED HWY-PROHIBIT TM/DY</td>\n",
       "      <td>60</td>\n",
       "      <td>1.0</td>\n",
       "      <td>OPP</td>\n",
       "      <td>5 MERCER ST</td>\n",
       "      <td>NaN</td>\n",
       "      <td>NaN</td>\n",
       "      <td>ON</td>\n",
       "    </tr>\n",
       "    <tr>\n",
       "      <th>2</th>\n",
       "      <td>***39756</td>\n",
       "      <td>20170101</td>\n",
       "      <td>29.0</td>\n",
       "      <td>PARK PROHIBITED TIME NO PERMIT</td>\n",
       "      <td>30</td>\n",
       "      <td>1.0</td>\n",
       "      <td>NR</td>\n",
       "      <td>55 LEWIS ST</td>\n",
       "      <td>NaN</td>\n",
       "      <td>NaN</td>\n",
       "      <td>ON</td>\n",
       "    </tr>\n",
       "    <tr>\n",
       "      <th>3</th>\n",
       "      <td>***92318</td>\n",
       "      <td>20170101</td>\n",
       "      <td>5.0</td>\n",
       "      <td>PARK-SIGNED HWY-PROHIBIT DY/TM</td>\n",
       "      <td>50</td>\n",
       "      <td>1.0</td>\n",
       "      <td>N/S</td>\n",
       "      <td>MAPLEWOOD AVE</td>\n",
       "      <td>W/O</td>\n",
       "      <td>VAUGHAN RD</td>\n",
       "      <td>ON</td>\n",
       "    </tr>\n",
       "    <tr>\n",
       "      <th>4</th>\n",
       "      <td>***39757</td>\n",
       "      <td>20170101</td>\n",
       "      <td>29.0</td>\n",
       "      <td>PARK PROHIBITED TIME NO PERMIT</td>\n",
       "      <td>30</td>\n",
       "      <td>2.0</td>\n",
       "      <td>NR</td>\n",
       "      <td>61 LEWIS ST</td>\n",
       "      <td>NaN</td>\n",
       "      <td>NaN</td>\n",
       "      <td>ON</td>\n",
       "    </tr>\n",
       "  </tbody>\n",
       "</table>\n",
       "</div>"
      ],
      "text/plain": [
       "  tag_number_masked  date_of_infraction  infraction_code  \\\n",
       "0          ***39755            20170101             29.0   \n",
       "1          ***10593            20170101              9.0   \n",
       "2          ***39756            20170101             29.0   \n",
       "3          ***92318            20170101              5.0   \n",
       "4          ***39757            20170101             29.0   \n",
       "\n",
       "           infraction_description  set_fine_amount  time_of_infraction  \\\n",
       "0  PARK PROHIBITED TIME NO PERMIT               30                 0.0   \n",
       "1  STOP-SIGNED HWY-PROHIBIT TM/DY               60                 1.0   \n",
       "2  PARK PROHIBITED TIME NO PERMIT               30                 1.0   \n",
       "3  PARK-SIGNED HWY-PROHIBIT DY/TM               50                 1.0   \n",
       "4  PARK PROHIBITED TIME NO PERMIT               30                 2.0   \n",
       "\n",
       "  location1      location2 location3   location4 province  \n",
       "0        NR    45 LEWIS ST       NaN         NaN       ON  \n",
       "1       OPP    5 MERCER ST       NaN         NaN       ON  \n",
       "2        NR    55 LEWIS ST       NaN         NaN       ON  \n",
       "3       N/S  MAPLEWOOD AVE       W/O  VAUGHAN RD       ON  \n",
       "4        NR    61 LEWIS ST       NaN         NaN       ON  "
      ]
     },
     "execution_count": 6,
     "metadata": {},
     "output_type": "execute_result"
    }
   ],
   "source": [
    "df_2017 = pd.DataFrame()\n",
    "\n",
    "# Append all files together\n",
    "for file in file_list_2017:\n",
    "    df_temp = pd.read_csv(f'data/parking-tickets-2017/{file}')\n",
    "    df_2017 = pd.concat([df_2017, df_temp], ignore_index=True)\n",
    "\n",
    "df_2017.head()"
   ]
  },
  {
   "cell_type": "code",
   "execution_count": 7,
   "id": "5e67459f",
   "metadata": {},
   "outputs": [],
   "source": [
    "#read the path\n",
    "file_path_2018 = \"data/parking-tickets-2018\"\n",
    "#list all the files from the directory\n",
    "file_list_2018 = os.listdir(file_path_2018)"
   ]
  },
  {
   "cell_type": "code",
   "execution_count": 8,
   "id": "410f509e",
   "metadata": {
    "scrolled": false
   },
   "outputs": [
    {
     "data": {
      "text/html": [
       "<div>\n",
       "<style scoped>\n",
       "    .dataframe tbody tr th:only-of-type {\n",
       "        vertical-align: middle;\n",
       "    }\n",
       "\n",
       "    .dataframe tbody tr th {\n",
       "        vertical-align: top;\n",
       "    }\n",
       "\n",
       "    .dataframe thead th {\n",
       "        text-align: right;\n",
       "    }\n",
       "</style>\n",
       "<table border=\"1\" class=\"dataframe\">\n",
       "  <thead>\n",
       "    <tr style=\"text-align: right;\">\n",
       "      <th></th>\n",
       "      <th>tag_number_masked</th>\n",
       "      <th>date_of_infraction</th>\n",
       "      <th>infraction_code</th>\n",
       "      <th>infraction_description</th>\n",
       "      <th>set_fine_amount</th>\n",
       "      <th>time_of_infraction</th>\n",
       "      <th>location1</th>\n",
       "      <th>location2</th>\n",
       "      <th>location3</th>\n",
       "      <th>location4</th>\n",
       "      <th>province</th>\n",
       "    </tr>\n",
       "  </thead>\n",
       "  <tbody>\n",
       "    <tr>\n",
       "      <th>0</th>\n",
       "      <td>***91886</td>\n",
       "      <td>20180929</td>\n",
       "      <td>2</td>\n",
       "      <td>PARK - LONGER THAN 3 HOURS</td>\n",
       "      <td>15</td>\n",
       "      <td>2233.0</td>\n",
       "      <td>W/S</td>\n",
       "      <td>RUMNEY RD</td>\n",
       "      <td>N/O</td>\n",
       "      <td>TRENTON AVE</td>\n",
       "      <td>ON</td>\n",
       "    </tr>\n",
       "    <tr>\n",
       "      <th>1</th>\n",
       "      <td>***18291</td>\n",
       "      <td>20180929</td>\n",
       "      <td>207</td>\n",
       "      <td>PARK MACHINE-REQD FEE NOT PAID</td>\n",
       "      <td>30</td>\n",
       "      <td>2233.0</td>\n",
       "      <td>NR</td>\n",
       "      <td>390 QUEEN ST W</td>\n",
       "      <td>NaN</td>\n",
       "      <td>NaN</td>\n",
       "      <td>ON</td>\n",
       "    </tr>\n",
       "    <tr>\n",
       "      <th>2</th>\n",
       "      <td>***26058</td>\n",
       "      <td>20180929</td>\n",
       "      <td>5</td>\n",
       "      <td>PARK-SIGNED HWY-PROHIBIT DY/TM</td>\n",
       "      <td>50</td>\n",
       "      <td>2233.0</td>\n",
       "      <td>NR</td>\n",
       "      <td>10 EDWARD ST</td>\n",
       "      <td>NaN</td>\n",
       "      <td>NaN</td>\n",
       "      <td>ON</td>\n",
       "    </tr>\n",
       "    <tr>\n",
       "      <th>3</th>\n",
       "      <td>***16679</td>\n",
       "      <td>20180929</td>\n",
       "      <td>29</td>\n",
       "      <td>PARK PROHIBITED TIME NO PERMIT</td>\n",
       "      <td>30</td>\n",
       "      <td>2234.0</td>\n",
       "      <td>NR</td>\n",
       "      <td>55 MAITLAND ST</td>\n",
       "      <td>NaN</td>\n",
       "      <td>NaN</td>\n",
       "      <td>ON</td>\n",
       "    </tr>\n",
       "    <tr>\n",
       "      <th>4</th>\n",
       "      <td>***18292</td>\n",
       "      <td>20180929</td>\n",
       "      <td>406</td>\n",
       "      <td>PARK-VEH. W/O VALID ONT PLATE</td>\n",
       "      <td>40</td>\n",
       "      <td>2234.0</td>\n",
       "      <td>NR</td>\n",
       "      <td>390 QUEEN ST W</td>\n",
       "      <td>NaN</td>\n",
       "      <td>NaN</td>\n",
       "      <td>ON</td>\n",
       "    </tr>\n",
       "  </tbody>\n",
       "</table>\n",
       "</div>"
      ],
      "text/plain": [
       "  tag_number_masked  date_of_infraction  infraction_code  \\\n",
       "0          ***91886            20180929                2   \n",
       "1          ***18291            20180929              207   \n",
       "2          ***26058            20180929                5   \n",
       "3          ***16679            20180929               29   \n",
       "4          ***18292            20180929              406   \n",
       "\n",
       "           infraction_description  set_fine_amount  time_of_infraction  \\\n",
       "0      PARK - LONGER THAN 3 HOURS               15              2233.0   \n",
       "1  PARK MACHINE-REQD FEE NOT PAID               30              2233.0   \n",
       "2  PARK-SIGNED HWY-PROHIBIT DY/TM               50              2233.0   \n",
       "3  PARK PROHIBITED TIME NO PERMIT               30              2234.0   \n",
       "4   PARK-VEH. W/O VALID ONT PLATE               40              2234.0   \n",
       "\n",
       "  location1       location2 location3    location4 province  \n",
       "0       W/S       RUMNEY RD       N/O  TRENTON AVE       ON  \n",
       "1        NR  390 QUEEN ST W       NaN          NaN       ON  \n",
       "2        NR    10 EDWARD ST       NaN          NaN       ON  \n",
       "3        NR  55 MAITLAND ST       NaN          NaN       ON  \n",
       "4        NR  390 QUEEN ST W       NaN          NaN       ON  "
      ]
     },
     "execution_count": 8,
     "metadata": {},
     "output_type": "execute_result"
    }
   ],
   "source": [
    "df_2018 = pd.DataFrame()\n",
    "\n",
    "# Append all files together\n",
    "for file in file_list_2018:\n",
    "    df_temp = pd.read_csv(f'data/parking-tickets-2018/{file}')\n",
    "    df_2018 = pd.concat([df_2018, df_temp], ignore_index=True)\n",
    "\n",
    "df_2018.head()"
   ]
  },
  {
   "cell_type": "code",
   "execution_count": 9,
   "id": "107b8259",
   "metadata": {},
   "outputs": [],
   "source": [
    "#read the path\n",
    "file_path_2019 = \"data/parking-tickets-2019\"\n",
    "#list all the files from the directory\n",
    "file_list_2019 = os.listdir(file_path_2019)"
   ]
  },
  {
   "cell_type": "code",
   "execution_count": 10,
   "id": "bdd15608",
   "metadata": {
    "scrolled": true
   },
   "outputs": [
    {
     "data": {
      "text/html": [
       "<div>\n",
       "<style scoped>\n",
       "    .dataframe tbody tr th:only-of-type {\n",
       "        vertical-align: middle;\n",
       "    }\n",
       "\n",
       "    .dataframe tbody tr th {\n",
       "        vertical-align: top;\n",
       "    }\n",
       "\n",
       "    .dataframe thead th {\n",
       "        text-align: right;\n",
       "    }\n",
       "</style>\n",
       "<table border=\"1\" class=\"dataframe\">\n",
       "  <thead>\n",
       "    <tr style=\"text-align: right;\">\n",
       "      <th></th>\n",
       "      <th>tag_number_masked</th>\n",
       "      <th>date_of_infraction</th>\n",
       "      <th>infraction_code</th>\n",
       "      <th>infraction_description</th>\n",
       "      <th>set_fine_amount</th>\n",
       "      <th>time_of_infraction</th>\n",
       "      <th>location1</th>\n",
       "      <th>location2</th>\n",
       "      <th>location3</th>\n",
       "      <th>location4</th>\n",
       "      <th>province</th>\n",
       "    </tr>\n",
       "  </thead>\n",
       "  <tbody>\n",
       "    <tr>\n",
       "      <th>0</th>\n",
       "      <td>***51471</td>\n",
       "      <td>20191124</td>\n",
       "      <td>207</td>\n",
       "      <td>PARK MACHINE-REQD FEE NOT PAID</td>\n",
       "      <td>30</td>\n",
       "      <td>2011.0</td>\n",
       "      <td>NR</td>\n",
       "      <td>548 DANFORTH AVE</td>\n",
       "      <td>NaN</td>\n",
       "      <td>NaN</td>\n",
       "      <td>ON</td>\n",
       "    </tr>\n",
       "    <tr>\n",
       "      <th>1</th>\n",
       "      <td>***61170</td>\n",
       "      <td>20191124</td>\n",
       "      <td>207</td>\n",
       "      <td>PARK MACHINE-REQD FEE NOT PAID</td>\n",
       "      <td>30</td>\n",
       "      <td>2011.0</td>\n",
       "      <td>NR</td>\n",
       "      <td>510 COLLEGE ST</td>\n",
       "      <td>NaN</td>\n",
       "      <td>NaN</td>\n",
       "      <td>ON</td>\n",
       "    </tr>\n",
       "    <tr>\n",
       "      <th>2</th>\n",
       "      <td>***92224</td>\n",
       "      <td>20191124</td>\n",
       "      <td>207</td>\n",
       "      <td>PARK MACHINE-REQD FEE NOT PAID</td>\n",
       "      <td>30</td>\n",
       "      <td>2011.0</td>\n",
       "      <td>NR</td>\n",
       "      <td>541 MOUNT PLEASANT RD</td>\n",
       "      <td>NaN</td>\n",
       "      <td>NaN</td>\n",
       "      <td>ON</td>\n",
       "    </tr>\n",
       "    <tr>\n",
       "      <th>3</th>\n",
       "      <td>***76780</td>\n",
       "      <td>20191124</td>\n",
       "      <td>29</td>\n",
       "      <td>PARK PROHIBITED TIME NO PERMIT</td>\n",
       "      <td>30</td>\n",
       "      <td>2012.0</td>\n",
       "      <td>E/S</td>\n",
       "      <td>PRINCESS ST</td>\n",
       "      <td>S/O</td>\n",
       "      <td>FRONT ST E</td>\n",
       "      <td>ON</td>\n",
       "    </tr>\n",
       "    <tr>\n",
       "      <th>4</th>\n",
       "      <td>***39600</td>\n",
       "      <td>20191124</td>\n",
       "      <td>2</td>\n",
       "      <td>PARK - LONGER THAN 3 HOURS</td>\n",
       "      <td>30</td>\n",
       "      <td>2012.0</td>\n",
       "      <td>NR</td>\n",
       "      <td>32 FIELDWOOD DR</td>\n",
       "      <td>NaN</td>\n",
       "      <td>NaN</td>\n",
       "      <td>ON</td>\n",
       "    </tr>\n",
       "  </tbody>\n",
       "</table>\n",
       "</div>"
      ],
      "text/plain": [
       "  tag_number_masked  date_of_infraction  infraction_code  \\\n",
       "0          ***51471            20191124              207   \n",
       "1          ***61170            20191124              207   \n",
       "2          ***92224            20191124              207   \n",
       "3          ***76780            20191124               29   \n",
       "4          ***39600            20191124                2   \n",
       "\n",
       "           infraction_description  set_fine_amount  time_of_infraction  \\\n",
       "0  PARK MACHINE-REQD FEE NOT PAID               30              2011.0   \n",
       "1  PARK MACHINE-REQD FEE NOT PAID               30              2011.0   \n",
       "2  PARK MACHINE-REQD FEE NOT PAID               30              2011.0   \n",
       "3  PARK PROHIBITED TIME NO PERMIT               30              2012.0   \n",
       "4      PARK - LONGER THAN 3 HOURS               30              2012.0   \n",
       "\n",
       "  location1              location2 location3   location4 province  \n",
       "0        NR       548 DANFORTH AVE       NaN         NaN       ON  \n",
       "1        NR         510 COLLEGE ST       NaN         NaN       ON  \n",
       "2        NR  541 MOUNT PLEASANT RD       NaN         NaN       ON  \n",
       "3       E/S            PRINCESS ST       S/O  FRONT ST E       ON  \n",
       "4        NR        32 FIELDWOOD DR       NaN         NaN       ON  "
      ]
     },
     "execution_count": 10,
     "metadata": {},
     "output_type": "execute_result"
    }
   ],
   "source": [
    "df_2019 = pd.DataFrame()\n",
    "\n",
    "# Append all files together\n",
    "for file in file_list_2019:\n",
    "    df_temp = pd.read_csv(f'data/parking-tickets-2019/{file}')\n",
    "    df_2019 = pd.concat([df_2019, df_temp], ignore_index=True)\n",
    "\n",
    "df_2019.head()"
   ]
  },
  {
   "cell_type": "code",
   "execution_count": 11,
   "id": "273b9b76",
   "metadata": {},
   "outputs": [],
   "source": [
    "#read the path\n",
    "file_path_2020 = \"data/parking-tickets-2020\"\n",
    "#list all the files from the directory\n",
    "file_list_2020 = os.listdir(file_path_2020)"
   ]
  },
  {
   "cell_type": "code",
   "execution_count": 12,
   "id": "2380d544",
   "metadata": {
    "scrolled": true
   },
   "outputs": [
    {
     "data": {
      "text/html": [
       "<div>\n",
       "<style scoped>\n",
       "    .dataframe tbody tr th:only-of-type {\n",
       "        vertical-align: middle;\n",
       "    }\n",
       "\n",
       "    .dataframe tbody tr th {\n",
       "        vertical-align: top;\n",
       "    }\n",
       "\n",
       "    .dataframe thead th {\n",
       "        text-align: right;\n",
       "    }\n",
       "</style>\n",
       "<table border=\"1\" class=\"dataframe\">\n",
       "  <thead>\n",
       "    <tr style=\"text-align: right;\">\n",
       "      <th></th>\n",
       "      <th>tag_number_masked</th>\n",
       "      <th>date_of_infraction</th>\n",
       "      <th>infraction_code</th>\n",
       "      <th>infraction_description</th>\n",
       "      <th>set_fine_amount</th>\n",
       "      <th>time_of_infraction</th>\n",
       "      <th>location1</th>\n",
       "      <th>location2</th>\n",
       "      <th>location3</th>\n",
       "      <th>location4</th>\n",
       "      <th>province</th>\n",
       "    </tr>\n",
       "  </thead>\n",
       "  <tbody>\n",
       "    <tr>\n",
       "      <th>0</th>\n",
       "      <td>***30108</td>\n",
       "      <td>20201005</td>\n",
       "      <td>29</td>\n",
       "      <td>PARK PROHIBITED TIME NO PERMIT</td>\n",
       "      <td>30</td>\n",
       "      <td>826.0</td>\n",
       "      <td>OPP</td>\n",
       "      <td>148 GLENDALE AVE</td>\n",
       "      <td>NaN</td>\n",
       "      <td>NaN</td>\n",
       "      <td>ON</td>\n",
       "    </tr>\n",
       "    <tr>\n",
       "      <th>1</th>\n",
       "      <td>***68109</td>\n",
       "      <td>20201005</td>\n",
       "      <td>3</td>\n",
       "      <td>PARK ON PRIVATE PROPERTY</td>\n",
       "      <td>30</td>\n",
       "      <td>826.0</td>\n",
       "      <td>AT</td>\n",
       "      <td>2580 KIPLING AVE</td>\n",
       "      <td>NaN</td>\n",
       "      <td>NaN</td>\n",
       "      <td>ON</td>\n",
       "    </tr>\n",
       "    <tr>\n",
       "      <th>2</th>\n",
       "      <td>***69402</td>\n",
       "      <td>20201005</td>\n",
       "      <td>29</td>\n",
       "      <td>PARK PROHIBITED TIME NO PERMIT</td>\n",
       "      <td>30</td>\n",
       "      <td>826.0</td>\n",
       "      <td>NR</td>\n",
       "      <td>50 ROXBOROUGH ST W</td>\n",
       "      <td>NaN</td>\n",
       "      <td>NaN</td>\n",
       "      <td>ON</td>\n",
       "    </tr>\n",
       "    <tr>\n",
       "      <th>3</th>\n",
       "      <td>***21316</td>\n",
       "      <td>20201005</td>\n",
       "      <td>5</td>\n",
       "      <td>PARK-SIGNED HWY-PROHIBIT DY/TM</td>\n",
       "      <td>50</td>\n",
       "      <td>827.0</td>\n",
       "      <td>NR</td>\n",
       "      <td>154 LASCELLES BLVD</td>\n",
       "      <td>NaN</td>\n",
       "      <td>NaN</td>\n",
       "      <td>ON</td>\n",
       "    </tr>\n",
       "    <tr>\n",
       "      <th>4</th>\n",
       "      <td>***64093</td>\n",
       "      <td>20201005</td>\n",
       "      <td>207</td>\n",
       "      <td>PARK MACHINE-REQD FEE NOT PAID</td>\n",
       "      <td>30</td>\n",
       "      <td>827.0</td>\n",
       "      <td>NR</td>\n",
       "      <td>66 ST PATRICK ST</td>\n",
       "      <td>NaN</td>\n",
       "      <td>NaN</td>\n",
       "      <td>ON</td>\n",
       "    </tr>\n",
       "  </tbody>\n",
       "</table>\n",
       "</div>"
      ],
      "text/plain": [
       "  tag_number_masked  date_of_infraction  infraction_code  \\\n",
       "0          ***30108            20201005               29   \n",
       "1          ***68109            20201005                3   \n",
       "2          ***69402            20201005               29   \n",
       "3          ***21316            20201005                5   \n",
       "4          ***64093            20201005              207   \n",
       "\n",
       "           infraction_description  set_fine_amount  time_of_infraction  \\\n",
       "0  PARK PROHIBITED TIME NO PERMIT               30               826.0   \n",
       "1        PARK ON PRIVATE PROPERTY               30               826.0   \n",
       "2  PARK PROHIBITED TIME NO PERMIT               30               826.0   \n",
       "3  PARK-SIGNED HWY-PROHIBIT DY/TM               50               827.0   \n",
       "4  PARK MACHINE-REQD FEE NOT PAID               30               827.0   \n",
       "\n",
       "  location1           location2 location3 location4 province  \n",
       "0       OPP    148 GLENDALE AVE       NaN       NaN       ON  \n",
       "1        AT    2580 KIPLING AVE       NaN       NaN       ON  \n",
       "2        NR  50 ROXBOROUGH ST W       NaN       NaN       ON  \n",
       "3        NR  154 LASCELLES BLVD       NaN       NaN       ON  \n",
       "4        NR    66 ST PATRICK ST       NaN       NaN       ON  "
      ]
     },
     "execution_count": 12,
     "metadata": {},
     "output_type": "execute_result"
    }
   ],
   "source": [
    "df_2020 = pd.DataFrame()\n",
    "\n",
    "# Append all files together\n",
    "for file in file_list_2020:\n",
    "    df_temp = pd.read_csv(f'data/parking-tickets-2020/{file}')\n",
    "    df_2020 = pd.concat([df_2020, df_temp], ignore_index=True)\n",
    "\n",
    "df_2020.head()"
   ]
  },
  {
   "cell_type": "code",
   "execution_count": 13,
   "id": "9a7cab97",
   "metadata": {},
   "outputs": [],
   "source": [
    "#read the path\n",
    "file_path_2021 = \"data/parking-tickets-2021\"\n",
    "#list all the files from the directory\n",
    "file_list_2021 = os.listdir(file_path_2021)"
   ]
  },
  {
   "cell_type": "code",
   "execution_count": 14,
   "id": "40446f8e",
   "metadata": {
    "scrolled": false
   },
   "outputs": [
    {
     "data": {
      "text/html": [
       "<div>\n",
       "<style scoped>\n",
       "    .dataframe tbody tr th:only-of-type {\n",
       "        vertical-align: middle;\n",
       "    }\n",
       "\n",
       "    .dataframe tbody tr th {\n",
       "        vertical-align: top;\n",
       "    }\n",
       "\n",
       "    .dataframe thead th {\n",
       "        text-align: right;\n",
       "    }\n",
       "</style>\n",
       "<table border=\"1\" class=\"dataframe\">\n",
       "  <thead>\n",
       "    <tr style=\"text-align: right;\">\n",
       "      <th></th>\n",
       "      <th>tag_number_masked</th>\n",
       "      <th>date_of_infraction</th>\n",
       "      <th>infraction_code</th>\n",
       "      <th>infraction_description</th>\n",
       "      <th>set_fine_amount</th>\n",
       "      <th>time_of_infraction</th>\n",
       "      <th>location1</th>\n",
       "      <th>location2</th>\n",
       "      <th>location3</th>\n",
       "      <th>location4</th>\n",
       "      <th>province</th>\n",
       "    </tr>\n",
       "  </thead>\n",
       "  <tbody>\n",
       "    <tr>\n",
       "      <th>0</th>\n",
       "      <td>***36338</td>\n",
       "      <td>20210915</td>\n",
       "      <td>2</td>\n",
       "      <td>PARK - LONGER THAN 3 HOURS</td>\n",
       "      <td>30</td>\n",
       "      <td>1117.0</td>\n",
       "      <td>OPP</td>\n",
       "      <td>16 HOPTREE AVE</td>\n",
       "      <td>NaN</td>\n",
       "      <td>NaN</td>\n",
       "      <td>ON</td>\n",
       "    </tr>\n",
       "    <tr>\n",
       "      <th>1</th>\n",
       "      <td>***48618</td>\n",
       "      <td>20210915</td>\n",
       "      <td>207</td>\n",
       "      <td>PARK MACHINE-REQD FEE NOT PAID</td>\n",
       "      <td>30</td>\n",
       "      <td>1117.0</td>\n",
       "      <td>NR</td>\n",
       "      <td>2 LINDEN ST</td>\n",
       "      <td>NaN</td>\n",
       "      <td>NaN</td>\n",
       "      <td>ON</td>\n",
       "    </tr>\n",
       "    <tr>\n",
       "      <th>2</th>\n",
       "      <td>***82420</td>\n",
       "      <td>20210915</td>\n",
       "      <td>312</td>\n",
       "      <td>PARKING MACH-NOT USED/NO FEE</td>\n",
       "      <td>75</td>\n",
       "      <td>1118.0</td>\n",
       "      <td>NaN</td>\n",
       "      <td>65 COLONEL SAMUEL SMITH PARK DR</td>\n",
       "      <td>NaN</td>\n",
       "      <td>NaN</td>\n",
       "      <td>ON</td>\n",
       "    </tr>\n",
       "    <tr>\n",
       "      <th>3</th>\n",
       "      <td>***80539</td>\n",
       "      <td>20210915</td>\n",
       "      <td>312</td>\n",
       "      <td>PARKING MACH-NOT USED/NO FEE</td>\n",
       "      <td>75</td>\n",
       "      <td>1118.0</td>\n",
       "      <td>NaN</td>\n",
       "      <td>1 SHORTT ST</td>\n",
       "      <td>NaN</td>\n",
       "      <td>NaN</td>\n",
       "      <td>ON</td>\n",
       "    </tr>\n",
       "    <tr>\n",
       "      <th>4</th>\n",
       "      <td>***92493</td>\n",
       "      <td>20210915</td>\n",
       "      <td>4</td>\n",
       "      <td>PARK ON MUNICIPAL PROPERTY</td>\n",
       "      <td>30</td>\n",
       "      <td>1118.0</td>\n",
       "      <td>NaN</td>\n",
       "      <td>400 MUNSTER AVE</td>\n",
       "      <td>NaN</td>\n",
       "      <td>NaN</td>\n",
       "      <td>ON</td>\n",
       "    </tr>\n",
       "  </tbody>\n",
       "</table>\n",
       "</div>"
      ],
      "text/plain": [
       "  tag_number_masked  date_of_infraction  infraction_code  \\\n",
       "0          ***36338            20210915                2   \n",
       "1          ***48618            20210915              207   \n",
       "2          ***82420            20210915              312   \n",
       "3          ***80539            20210915              312   \n",
       "4          ***92493            20210915                4   \n",
       "\n",
       "           infraction_description  set_fine_amount  time_of_infraction  \\\n",
       "0      PARK - LONGER THAN 3 HOURS               30              1117.0   \n",
       "1  PARK MACHINE-REQD FEE NOT PAID               30              1117.0   \n",
       "2    PARKING MACH-NOT USED/NO FEE               75              1118.0   \n",
       "3    PARKING MACH-NOT USED/NO FEE               75              1118.0   \n",
       "4      PARK ON MUNICIPAL PROPERTY               30              1118.0   \n",
       "\n",
       "  location1                        location2 location3 location4 province  \n",
       "0       OPP                   16 HOPTREE AVE       NaN       NaN       ON  \n",
       "1        NR                      2 LINDEN ST       NaN       NaN       ON  \n",
       "2       NaN  65 COLONEL SAMUEL SMITH PARK DR       NaN       NaN       ON  \n",
       "3       NaN                      1 SHORTT ST       NaN       NaN       ON  \n",
       "4       NaN                  400 MUNSTER AVE       NaN       NaN       ON  "
      ]
     },
     "execution_count": 14,
     "metadata": {},
     "output_type": "execute_result"
    }
   ],
   "source": [
    "df_2021 = pd.DataFrame()\n",
    "\n",
    "# Append all files together\n",
    "for file in file_list_2021:\n",
    "    df_temp = pd.read_csv(f'data/parking-tickets-2021/{file}')\n",
    "    df_2021 = pd.concat([df_2021, df_temp], ignore_index=True)\n",
    "\n",
    "df_2021.head()"
   ]
  },
  {
   "cell_type": "code",
   "execution_count": 6,
   "id": "723e28be",
   "metadata": {},
   "outputs": [],
   "source": [
    "#read the path\n",
    "file_path_2022 = \"../data/parking-tickets-2022\"\n",
    "#list all the files from the directory\n",
    "file_list_2022 = os.listdir(file_path_2022)"
   ]
  },
  {
   "cell_type": "code",
   "execution_count": 9,
   "id": "a1a41ee1",
   "metadata": {},
   "outputs": [
    {
     "data": {
      "text/plain": [
       "1821887"
      ]
     },
     "execution_count": 9,
     "metadata": {},
     "output_type": "execute_result"
    }
   ],
   "source": [
    "df_2022 = pd.DataFrame()\n",
    "\n",
    "# Append all files together\n",
    "for file in file_list_2022:\n",
    "    df_temp = pd.read_csv(f'../data/parking-tickets-2022/{file}')\n",
    "    df_2022 = pd.concat([df_2022, df_temp], ignore_index=True)\n",
    "\n",
    "len(df_2022)"
   ]
  },
  {
   "cell_type": "markdown",
   "id": "74c68c2c",
   "metadata": {},
   "source": [
    "Going to check what each column means, starting with `tag_number_masked`. Seems like they are the id number for each ticket made. Let's see if there are any unique values."
   ]
  },
  {
   "cell_type": "code",
   "execution_count": 10,
   "id": "50666ebc",
   "metadata": {},
   "outputs": [
    {
     "data": {
      "text/plain": [
       "100000"
      ]
     },
     "execution_count": 10,
     "metadata": {},
     "output_type": "execute_result"
    }
   ],
   "source": [
    "df_2022['tag_number_masked'].nunique()"
   ]
  },
  {
   "cell_type": "code",
   "execution_count": 11,
   "id": "2e550ff1",
   "metadata": {},
   "outputs": [
    {
     "data": {
      "text/plain": [
       "5.4888146191284095"
      ]
     },
     "execution_count": 11,
     "metadata": {},
     "output_type": "execute_result"
    }
   ],
   "source": [
    "df_2022['tag_number_masked'].nunique()/df_2022.shape[0]*100"
   ]
  },
  {
   "cell_type": "markdown",
   "id": "37bb3bec",
   "metadata": {},
   "source": [
    "There's 100k unique values of almost 2 million entries. Not sure how this column can help us, or what findings I may have, but it is best to leave it alone until I find out the best use for this column."
   ]
  },
  {
   "cell_type": "markdown",
   "id": "5e08aed2",
   "metadata": {},
   "source": [
    "Next is `date_of_infraction`, we can change this to a datetime64[ns] format. But I noticed another column that gives me the time, `time_of_infraction` displayed in minutes. We can change both of these into datetime by combining them together into a new column. "
   ]
  },
  {
   "cell_type": "code",
   "execution_count": 12,
   "id": "16ebe39c",
   "metadata": {},
   "outputs": [
    {
     "data": {
      "text/plain": [
       "0          20220422\n",
       "1          20220422\n",
       "2          20220422\n",
       "3          20220422\n",
       "4          20220422\n",
       "             ...   \n",
       "1821882    20221212\n",
       "1821883    20221212\n",
       "1821884    20221212\n",
       "1821885    20221212\n",
       "1821886    20221212\n",
       "Name: date_of_infraction, Length: 1821887, dtype: int64"
      ]
     },
     "execution_count": 12,
     "metadata": {},
     "output_type": "execute_result"
    }
   ],
   "source": [
    "df_2022['date_of_infraction']"
   ]
  },
  {
   "cell_type": "code",
   "execution_count": 13,
   "id": "a4d5aa9b",
   "metadata": {},
   "outputs": [
    {
     "data": {
      "text/plain": [
       "0   2022-04-22\n",
       "1   2022-04-22\n",
       "2   2022-04-22\n",
       "3   2022-04-22\n",
       "4   2022-04-22\n",
       "Name: date_of_infraction, dtype: datetime64[ns]"
      ]
     },
     "execution_count": 13,
     "metadata": {},
     "output_type": "execute_result"
    }
   ],
   "source": [
    "df_2022['date_of_infraction'] = pd.to_datetime(df_2022['date_of_infraction'], format='%Y%m%d')\n",
    "df_2022['date_of_infraction'].head()"
   ]
  },
  {
   "cell_type": "code",
   "execution_count": 14,
   "id": "590f5200",
   "metadata": {},
   "outputs": [
    {
     "data": {
      "text/plain": [
       "0    440.0\n",
       "1    441.0\n",
       "2    442.0\n",
       "3    442.0\n",
       "4    443.0\n",
       "Name: time_of_infraction, dtype: float64"
      ]
     },
     "execution_count": 14,
     "metadata": {},
     "output_type": "execute_result"
    }
   ],
   "source": [
    "df_2022['time_of_infraction'].head()"
   ]
  },
  {
   "cell_type": "markdown",
   "id": "495ab52a",
   "metadata": {},
   "source": [
    "I cannot just change this by making unit into minutes, otherwise 440 will give me 07:20:00 instead of 04:40:00, \n",
    "let's do a format by breaking it down to hours and minutes."
   ]
  },
  {
   "cell_type": "code",
   "execution_count": 15,
   "id": "5e1bcfad",
   "metadata": {},
   "outputs": [],
   "source": [
    "df_2022['hours'] = df_2022['time_of_infraction'] // 100\n",
    "df_2022['minutes'] = df_2022['time_of_infraction'] % 100"
   ]
  },
  {
   "cell_type": "code",
   "execution_count": 16,
   "id": "53f3558a",
   "metadata": {},
   "outputs": [],
   "source": [
    "df_2022['hours'] = pd.to_timedelta(df_2022['hours'], unit='h')\n",
    "df_2022['minutes'] = pd.to_timedelta(df_2022['minutes'], unit='m')"
   ]
  },
  {
   "cell_type": "code",
   "execution_count": 17,
   "id": "3967d74f",
   "metadata": {},
   "outputs": [
    {
     "data": {
      "text/plain": [
       "0         2022-04-22 04:40:00\n",
       "1         2022-04-22 04:41:00\n",
       "2         2022-04-22 04:42:00\n",
       "3         2022-04-22 04:42:00\n",
       "4         2022-04-22 04:43:00\n",
       "                  ...        \n",
       "1821882   2022-12-12 09:46:00\n",
       "1821883   2022-12-12 09:47:00\n",
       "1821884   2022-12-12 09:47:00\n",
       "1821885   2022-12-12 09:47:00\n",
       "1821886   2022-12-12 09:47:00\n",
       "Name: datetime_of_infraction, Length: 1821887, dtype: datetime64[ns]"
      ]
     },
     "execution_count": 17,
     "metadata": {},
     "output_type": "execute_result"
    }
   ],
   "source": [
    "# Combine date and time columns into a single datetime column\n",
    "df_2022['datetime_of_infraction'] = df_2022['date_of_infraction'] + df_2022['hours'] + df_2022['minutes']\n",
    "df_2022['datetime_of_infraction']"
   ]
  },
  {
   "cell_type": "markdown",
   "id": "4ade198f",
   "metadata": {},
   "source": [
    "Now we can see this as its own column. Best to remove `date_of_infraction` and `time_of_infraction` columns."
   ]
  },
  {
   "cell_type": "code",
   "execution_count": 18,
   "id": "4b3accd5",
   "metadata": {},
   "outputs": [
    {
     "data": {
      "text/html": [
       "<div>\n",
       "<style scoped>\n",
       "    .dataframe tbody tr th:only-of-type {\n",
       "        vertical-align: middle;\n",
       "    }\n",
       "\n",
       "    .dataframe tbody tr th {\n",
       "        vertical-align: top;\n",
       "    }\n",
       "\n",
       "    .dataframe thead th {\n",
       "        text-align: right;\n",
       "    }\n",
       "</style>\n",
       "<table border=\"1\" class=\"dataframe\">\n",
       "  <thead>\n",
       "    <tr style=\"text-align: right;\">\n",
       "      <th></th>\n",
       "      <th>tag_number_masked</th>\n",
       "      <th>date_of_infraction</th>\n",
       "      <th>infraction_code</th>\n",
       "      <th>infraction_description</th>\n",
       "      <th>set_fine_amount</th>\n",
       "      <th>time_of_infraction</th>\n",
       "      <th>location1</th>\n",
       "      <th>location2</th>\n",
       "      <th>location3</th>\n",
       "      <th>location4</th>\n",
       "      <th>province</th>\n",
       "      <th>hours</th>\n",
       "      <th>minutes</th>\n",
       "      <th>datetime_of_infraction</th>\n",
       "    </tr>\n",
       "  </thead>\n",
       "  <tbody>\n",
       "    <tr>\n",
       "      <th>0</th>\n",
       "      <td>***68523</td>\n",
       "      <td>2022-04-22</td>\n",
       "      <td>2</td>\n",
       "      <td>PARK - LONGER THAN 3 HOURS</td>\n",
       "      <td>30</td>\n",
       "      <td>440.0</td>\n",
       "      <td>OPP</td>\n",
       "      <td>470 RUSSELL HILL RD</td>\n",
       "      <td>NaN</td>\n",
       "      <td>NaN</td>\n",
       "      <td>ON</td>\n",
       "      <td>0 days 04:00:00</td>\n",
       "      <td>0 days 00:40:00</td>\n",
       "      <td>2022-04-22 04:40:00</td>\n",
       "    </tr>\n",
       "    <tr>\n",
       "      <th>1</th>\n",
       "      <td>***93490</td>\n",
       "      <td>2022-04-22</td>\n",
       "      <td>355</td>\n",
       "      <td>PARK IN ACCESSIBLE NO PERMIT</td>\n",
       "      <td>450</td>\n",
       "      <td>441.0</td>\n",
       "      <td>AT</td>\n",
       "      <td>2301 DANFORTH AVE</td>\n",
       "      <td>NaN</td>\n",
       "      <td>NaN</td>\n",
       "      <td>ON</td>\n",
       "      <td>0 days 04:00:00</td>\n",
       "      <td>0 days 00:41:00</td>\n",
       "      <td>2022-04-22 04:41:00</td>\n",
       "    </tr>\n",
       "    <tr>\n",
       "      <th>2</th>\n",
       "      <td>***68524</td>\n",
       "      <td>2022-04-22</td>\n",
       "      <td>2</td>\n",
       "      <td>PARK - LONGER THAN 3 HOURS</td>\n",
       "      <td>30</td>\n",
       "      <td>442.0</td>\n",
       "      <td>OPP</td>\n",
       "      <td>470 RUSSELL HILL RD</td>\n",
       "      <td>NaN</td>\n",
       "      <td>NaN</td>\n",
       "      <td>ON</td>\n",
       "      <td>0 days 04:00:00</td>\n",
       "      <td>0 days 00:42:00</td>\n",
       "      <td>2022-04-22 04:42:00</td>\n",
       "    </tr>\n",
       "    <tr>\n",
       "      <th>3</th>\n",
       "      <td>***87187</td>\n",
       "      <td>2022-04-22</td>\n",
       "      <td>3</td>\n",
       "      <td>PARK ON PRIVATE PROPERTY</td>\n",
       "      <td>30</td>\n",
       "      <td>442.0</td>\n",
       "      <td>AT</td>\n",
       "      <td>2 EVA RD</td>\n",
       "      <td>NaN</td>\n",
       "      <td>NaN</td>\n",
       "      <td>ON</td>\n",
       "      <td>0 days 04:00:00</td>\n",
       "      <td>0 days 00:42:00</td>\n",
       "      <td>2022-04-22 04:42:00</td>\n",
       "    </tr>\n",
       "    <tr>\n",
       "      <th>4</th>\n",
       "      <td>***68525</td>\n",
       "      <td>2022-04-22</td>\n",
       "      <td>2</td>\n",
       "      <td>PARK - LONGER THAN 3 HOURS</td>\n",
       "      <td>30</td>\n",
       "      <td>443.0</td>\n",
       "      <td>OPP</td>\n",
       "      <td>470 RUSSELL HILL RD</td>\n",
       "      <td>NaN</td>\n",
       "      <td>NaN</td>\n",
       "      <td>ON</td>\n",
       "      <td>0 days 04:00:00</td>\n",
       "      <td>0 days 00:43:00</td>\n",
       "      <td>2022-04-22 04:43:00</td>\n",
       "    </tr>\n",
       "  </tbody>\n",
       "</table>\n",
       "</div>"
      ],
      "text/plain": [
       "  tag_number_masked date_of_infraction  infraction_code  \\\n",
       "0          ***68523         2022-04-22                2   \n",
       "1          ***93490         2022-04-22              355   \n",
       "2          ***68524         2022-04-22                2   \n",
       "3          ***87187         2022-04-22                3   \n",
       "4          ***68525         2022-04-22                2   \n",
       "\n",
       "         infraction_description  set_fine_amount  time_of_infraction  \\\n",
       "0    PARK - LONGER THAN 3 HOURS               30               440.0   \n",
       "1  PARK IN ACCESSIBLE NO PERMIT              450               441.0   \n",
       "2    PARK - LONGER THAN 3 HOURS               30               442.0   \n",
       "3      PARK ON PRIVATE PROPERTY               30               442.0   \n",
       "4    PARK - LONGER THAN 3 HOURS               30               443.0   \n",
       "\n",
       "  location1            location2 location3 location4 province           hours  \\\n",
       "0       OPP  470 RUSSELL HILL RD       NaN       NaN       ON 0 days 04:00:00   \n",
       "1        AT    2301 DANFORTH AVE       NaN       NaN       ON 0 days 04:00:00   \n",
       "2       OPP  470 RUSSELL HILL RD       NaN       NaN       ON 0 days 04:00:00   \n",
       "3        AT             2 EVA RD       NaN       NaN       ON 0 days 04:00:00   \n",
       "4       OPP  470 RUSSELL HILL RD       NaN       NaN       ON 0 days 04:00:00   \n",
       "\n",
       "          minutes datetime_of_infraction  \n",
       "0 0 days 00:40:00    2022-04-22 04:40:00  \n",
       "1 0 days 00:41:00    2022-04-22 04:41:00  \n",
       "2 0 days 00:42:00    2022-04-22 04:42:00  \n",
       "3 0 days 00:42:00    2022-04-22 04:42:00  \n",
       "4 0 days 00:43:00    2022-04-22 04:43:00  "
      ]
     },
     "execution_count": 18,
     "metadata": {},
     "output_type": "execute_result"
    }
   ],
   "source": [
    "df_2022.head()"
   ]
  },
  {
   "cell_type": "code",
   "execution_count": 19,
   "id": "1ada019a",
   "metadata": {},
   "outputs": [],
   "source": [
    "df_2022.drop(columns = ['date_of_infraction', 'time_of_infraction', 'hours', 'minutes'], inplace=True)"
   ]
  },
  {
   "cell_type": "markdown",
   "id": "e349b61c",
   "metadata": {},
   "source": [
    "We can do a sanity check to make sure `datetime_of_infraction` is of dtype `datetime64[ns]`."
   ]
  },
  {
   "cell_type": "code",
   "execution_count": 21,
   "id": "7d4eabb8",
   "metadata": {
    "scrolled": true
   },
   "outputs": [
    {
     "name": "stdout",
     "output_type": "stream",
     "text": [
      "<class 'pandas.core.frame.DataFrame'>\n",
      "RangeIndex: 1821887 entries, 0 to 1821886\n",
      "Data columns (total 10 columns):\n",
      " #   Column                  Dtype         \n",
      "---  ------                  -----         \n",
      " 0   tag_number_masked       object        \n",
      " 1   infraction_code         int64         \n",
      " 2   infraction_description  object        \n",
      " 3   set_fine_amount         int64         \n",
      " 4   location1               object        \n",
      " 5   location2               object        \n",
      " 6   location3               object        \n",
      " 7   location4               object        \n",
      " 8   province                object        \n",
      " 9   datetime_of_infraction  datetime64[ns]\n",
      "dtypes: datetime64[ns](1), int64(2), object(7)\n",
      "memory usage: 139.0+ MB\n"
     ]
    }
   ],
   "source": [
    "df_2022.info()"
   ]
  },
  {
   "cell_type": "markdown",
   "id": "713a1eba",
   "metadata": {},
   "source": [
    "We can move onto `infraction_code` and `infraction_description`."
   ]
  },
  {
   "cell_type": "code",
   "execution_count": 22,
   "id": "a5fdcc8d",
   "metadata": {},
   "outputs": [
    {
     "data": {
      "text/plain": [
       "infraction_code\n",
       "3      378837\n",
       "207    284719\n",
       "29     263451\n",
       "5      258854\n",
       "9       98682\n",
       "        ...  \n",
       "32          1\n",
       "439         1\n",
       "437         1\n",
       "311         1\n",
       "342         1\n",
       "Name: count, Length: 160, dtype: int64"
      ]
     },
     "execution_count": 22,
     "metadata": {},
     "output_type": "execute_result"
    }
   ],
   "source": [
    "df_2022['infraction_code'].value_counts()"
   ]
  },
  {
   "cell_type": "code",
   "execution_count": 23,
   "id": "5bc97d01",
   "metadata": {
    "scrolled": true
   },
   "outputs": [
    {
     "data": {
      "text/plain": [
       "infraction_description\n",
       "PARK ON PRIVATE PROPERTY          378835\n",
       "PARK MACHINE-REQD FEE NOT PAID    284719\n",
       "PARK PROHIBITED TIME NO PERMIT    263450\n",
       "PARK-SIGNED HWY-PROHIBIT DY/TM    258854\n",
       "STOP-SIGNED HWY-PROHIBIT TM/DY     98681\n",
       "                                   ...  \n",
       "STOP SIGNED HWY PRO TIMES/DAYS         1\n",
       "PARK-FAIL TO DEPOSIT FEE METER         1\n",
       "PARK MOTORCYCLE-MCHNE LT 45DEG         1\n",
       "PARK-FEE NOT PD FOR TIME USED          1\n",
       "PARK LT 0.3M FROM SIDEWALK             1\n",
       "Name: count, Length: 163, dtype: int64"
      ]
     },
     "execution_count": 23,
     "metadata": {},
     "output_type": "execute_result"
    }
   ],
   "source": [
    "df_2022['infraction_description'].value_counts()"
   ]
  },
  {
   "cell_type": "code",
   "execution_count": null,
   "id": "e0da3e75",
   "metadata": {},
   "outputs": [],
   "source": []
  }
 ],
 "metadata": {
  "kernelspec": {
   "display_name": "Python 3 (ipykernel)",
   "language": "python",
   "name": "python3"
  },
  "language_info": {
   "codemirror_mode": {
    "name": "ipython",
    "version": 3
   },
   "file_extension": ".py",
   "mimetype": "text/x-python",
   "name": "python",
   "nbconvert_exporter": "python",
   "pygments_lexer": "ipython3",
   "version": "3.11.5"
  }
 },
 "nbformat": 4,
 "nbformat_minor": 5
}
