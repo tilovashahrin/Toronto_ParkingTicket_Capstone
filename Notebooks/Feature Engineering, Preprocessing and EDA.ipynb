{
 "cells": [
  {
   "cell_type": "markdown",
   "id": "4d253f8c",
   "metadata": {},
   "source": [
    "# Feature Engineering, Preprocessing and EDA\n",
    "\n",
    "## Author: Tilova Shahrin"
   ]
  },
  {
   "cell_type": "markdown",
   "id": "60412c63",
   "metadata": {},
   "source": [
    "### Modelling Ideas\n",
    "- Time Series Analysis: Perform time series analysis to forecast the number of infractions over time. This could involve using techniques like ARIMA or SARIMA models.\n",
    "\n",
    "- Infraction Frequency Analysis: Build a linear regression model to predict the frequency of infractions based on factors like time of day, day of the week, or month of the year."
   ]
  },
  {
   "cell_type": "markdown",
   "id": "6504735c",
   "metadata": {},
   "source": [
    "Table of Contents:\n",
    "- [Importing and Reading Dataframe](#reading)\n",
    "- [Coordinates API using Geopy](#geoapi)\n",
    "- [Separating Datetime](#datetime)\n",
    "- [Parking Infraction EDA](#infreda)\n",
    "- [Grouping Parking Infractions](#clusterinfr)"
   ]
  },
  {
   "cell_type": "markdown",
   "id": "919607be-1afe-4bff-be20-6193b40b1c33",
   "metadata": {},
   "source": [
    "<a id='reading'></a>\n",
    "### Importing and Reading Dataframe"
   ]
  },
  {
   "cell_type": "code",
   "execution_count": 2,
   "id": "e28ce1d4",
   "metadata": {},
   "outputs": [],
   "source": [
    "import numpy as np\n",
    "import pandas as pd\n",
    "import matplotlib.pyplot as plt\n",
    "%matplotlib inline\n",
    "import statsmodels.api as sm\n",
    "from scipy import stats\n",
    "import seaborn as sns\n",
    "import os\n",
    "import glob\n",
    "import datetime\n",
    "from geopy.geocoders import Nominatim\n",
    "import time"
   ]
  },
  {
   "cell_type": "markdown",
   "id": "c3e380a7",
   "metadata": {},
   "source": [
    "Recall we downloaded a new csv file from our cleaning in the last file `Cleaning and EDA`. Let's upload the file into a dataframe."
   ]
  },
  {
   "cell_type": "code",
   "execution_count": 3,
   "id": "262afd12",
   "metadata": {},
   "outputs": [],
   "source": [
    "parking_df = pd.read_csv('../data/parking_df.csv')"
   ]
  },
  {
   "cell_type": "code",
   "execution_count": 3,
   "id": "06db131b",
   "metadata": {},
   "outputs": [
    {
     "data": {
      "text/html": [
       "<div>\n",
       "<style scoped>\n",
       "    .dataframe tbody tr th:only-of-type {\n",
       "        vertical-align: middle;\n",
       "    }\n",
       "\n",
       "    .dataframe tbody tr th {\n",
       "        vertical-align: top;\n",
       "    }\n",
       "\n",
       "    .dataframe thead th {\n",
       "        text-align: right;\n",
       "    }\n",
       "</style>\n",
       "<table border=\"1\" class=\"dataframe\">\n",
       "  <thead>\n",
       "    <tr style=\"text-align: right;\">\n",
       "      <th></th>\n",
       "      <th>date_of_infraction</th>\n",
       "      <th>infraction_code</th>\n",
       "      <th>infraction_description</th>\n",
       "      <th>set_fine_amount</th>\n",
       "      <th>time_of_infraction</th>\n",
       "      <th>location1</th>\n",
       "      <th>location2</th>\n",
       "      <th>location3</th>\n",
       "      <th>location4</th>\n",
       "      <th>province</th>\n",
       "      <th>datetime_of_infraction</th>\n",
       "    </tr>\n",
       "  </thead>\n",
       "  <tbody>\n",
       "    <tr>\n",
       "      <th>0</th>\n",
       "      <td>2016-12-30</td>\n",
       "      <td>403.0</td>\n",
       "      <td>STOP-SIGNED HIGHWAY-RUSH HOUR</td>\n",
       "      <td>150</td>\n",
       "      <td>16:37:00</td>\n",
       "      <td>N/S</td>\n",
       "      <td>1546 BLOOR ST W</td>\n",
       "      <td>NaN</td>\n",
       "      <td>NaN</td>\n",
       "      <td>ON</td>\n",
       "      <td>2016-12-30 16:37:00</td>\n",
       "    </tr>\n",
       "    <tr>\n",
       "      <th>1</th>\n",
       "      <td>2016-12-30</td>\n",
       "      <td>403.0</td>\n",
       "      <td>STOP-SIGNED HIGHWAY-RUSH HOUR</td>\n",
       "      <td>150</td>\n",
       "      <td>16:37:00</td>\n",
       "      <td>N/S</td>\n",
       "      <td>5418 YONGE ST</td>\n",
       "      <td>NaN</td>\n",
       "      <td>NaN</td>\n",
       "      <td>ON</td>\n",
       "      <td>2016-12-30 16:37:00</td>\n",
       "    </tr>\n",
       "    <tr>\n",
       "      <th>2</th>\n",
       "      <td>2016-12-30</td>\n",
       "      <td>403.0</td>\n",
       "      <td>STOP-SIGNED HIGHWAY-RUSH HOUR</td>\n",
       "      <td>150</td>\n",
       "      <td>16:37:00</td>\n",
       "      <td>OPP</td>\n",
       "      <td>777 QUEEN ST W</td>\n",
       "      <td>NaN</td>\n",
       "      <td>NaN</td>\n",
       "      <td>ON</td>\n",
       "      <td>2016-12-30 16:37:00</td>\n",
       "    </tr>\n",
       "    <tr>\n",
       "      <th>3</th>\n",
       "      <td>2016-12-30</td>\n",
       "      <td>403.0</td>\n",
       "      <td>STOP-SIGNED HIGHWAY-RUSH HOUR</td>\n",
       "      <td>150</td>\n",
       "      <td>16:37:00</td>\n",
       "      <td>N/S</td>\n",
       "      <td>747 QUEEN ST E</td>\n",
       "      <td>NaN</td>\n",
       "      <td>NaN</td>\n",
       "      <td>ON</td>\n",
       "      <td>2016-12-30 16:37:00</td>\n",
       "    </tr>\n",
       "    <tr>\n",
       "      <th>4</th>\n",
       "      <td>2016-12-30</td>\n",
       "      <td>403.0</td>\n",
       "      <td>STOP-SIGNED HIGHWAY-RUSH HOUR</td>\n",
       "      <td>150</td>\n",
       "      <td>16:37:00</td>\n",
       "      <td>N/S</td>\n",
       "      <td>3042 DUNDAS ST W</td>\n",
       "      <td>NaN</td>\n",
       "      <td>NaN</td>\n",
       "      <td>ON</td>\n",
       "      <td>2016-12-30 16:37:00</td>\n",
       "    </tr>\n",
       "  </tbody>\n",
       "</table>\n",
       "</div>"
      ],
      "text/plain": [
       "  date_of_infraction  infraction_code         infraction_description  \\\n",
       "0         2016-12-30            403.0  STOP-SIGNED HIGHWAY-RUSH HOUR   \n",
       "1         2016-12-30            403.0  STOP-SIGNED HIGHWAY-RUSH HOUR   \n",
       "2         2016-12-30            403.0  STOP-SIGNED HIGHWAY-RUSH HOUR   \n",
       "3         2016-12-30            403.0  STOP-SIGNED HIGHWAY-RUSH HOUR   \n",
       "4         2016-12-30            403.0  STOP-SIGNED HIGHWAY-RUSH HOUR   \n",
       "\n",
       "   set_fine_amount time_of_infraction location1         location2 location3  \\\n",
       "0              150           16:37:00       N/S   1546 BLOOR ST W       NaN   \n",
       "1              150           16:37:00       N/S     5418 YONGE ST       NaN   \n",
       "2              150           16:37:00       OPP    777 QUEEN ST W       NaN   \n",
       "3              150           16:37:00       N/S    747 QUEEN ST E       NaN   \n",
       "4              150           16:37:00       N/S  3042 DUNDAS ST W       NaN   \n",
       "\n",
       "  location4 province datetime_of_infraction  \n",
       "0       NaN       ON    2016-12-30 16:37:00  \n",
       "1       NaN       ON    2016-12-30 16:37:00  \n",
       "2       NaN       ON    2016-12-30 16:37:00  \n",
       "3       NaN       ON    2016-12-30 16:37:00  \n",
       "4       NaN       ON    2016-12-30 16:37:00  "
      ]
     },
     "execution_count": 3,
     "metadata": {},
     "output_type": "execute_result"
    }
   ],
   "source": [
    "parking_df.head()"
   ]
  },
  {
   "cell_type": "code",
   "execution_count": 4,
   "id": "33a3a801",
   "metadata": {},
   "outputs": [
    {
     "name": "stdout",
     "output_type": "stream",
     "text": [
      "<class 'pandas.core.frame.DataFrame'>\n",
      "RangeIndex: 12960604 entries, 0 to 12960603\n",
      "Data columns (total 11 columns):\n",
      " #   Column                  Dtype  \n",
      "---  ------                  -----  \n",
      " 0   date_of_infraction      object \n",
      " 1   infraction_code         float64\n",
      " 2   infraction_description  object \n",
      " 3   set_fine_amount         int64  \n",
      " 4   time_of_infraction      object \n",
      " 5   location1               object \n",
      " 6   location2               object \n",
      " 7   location3               object \n",
      " 8   location4               object \n",
      " 9   province                object \n",
      " 10  datetime_of_infraction  object \n",
      "dtypes: float64(1), int64(1), object(9)\n",
      "memory usage: 1.1+ GB\n"
     ]
    }
   ],
   "source": [
    "parking_df.info()"
   ]
  },
  {
   "cell_type": "code",
   "execution_count": 5,
   "id": "b6766045",
   "metadata": {},
   "outputs": [
    {
     "data": {
      "text/plain": [
       "0"
      ]
     },
     "execution_count": 5,
     "metadata": {},
     "output_type": "execute_result"
    }
   ],
   "source": [
    "parking_df.duplicated().sum()"
   ]
  },
  {
   "cell_type": "code",
   "execution_count": 23,
   "id": "9955773f",
   "metadata": {},
   "outputs": [],
   "source": [
    "parking_df['datetime_of_infraction'] = parking_df['datetime_of_infraction'].astype('datetime64[ns]')"
   ]
  },
  {
   "cell_type": "markdown",
   "id": "b474b6f9",
   "metadata": {},
   "source": [
    "<a id='geoapi'></a>\n",
    "## Coordinates API using Geopy\n",
    "\n",
    "I want to find a way to produce geospatial analysis for my machine learning models. With that, I need geo coordinates `latitude` and `longitude`. "
   ]
  },
  {
   "cell_type": "markdown",
   "id": "29d4f974",
   "metadata": {},
   "source": [
    "We're going to use this code snippet to change address to a coordinate. However, we need to run this geolocator a lot of times.  "
   ]
  },
  {
   "cell_type": "code",
   "execution_count": 7,
   "id": "ee2e39c0",
   "metadata": {},
   "outputs": [
    {
     "name": "stdout",
     "output_type": "stream",
     "text": [
      "Edward Street, Discovery District, University—Rosedale, Old Toronto, Toronto, Golden Horseshoe, Ontario, M5B 1R7, Canada\n",
      "(43.6566007, -79.3831637)\n"
     ]
    }
   ],
   "source": [
    "import pandas as pd\n",
    "from geopy.geocoders import Nominatim\n",
    "\n",
    "geolocator = Nominatim(user_agent=\"toronto-parking-application\")\n",
    "location = geolocator.geocode(\"Edward St Toronto ON Canada\")\n",
    "print(location.address)\n",
    "print((location.latitude, location.longitude))"
   ]
  },
  {
   "cell_type": "markdown",
   "id": "73810981",
   "metadata": {},
   "source": [
    "Recall the shape. That is a lot of rows to process, about 13 million, even after cleaning this is going to take a while. We need to find a way to reduce the amount of API calls!"
   ]
  },
  {
   "cell_type": "code",
   "execution_count": 8,
   "id": "2fdd5531",
   "metadata": {},
   "outputs": [
    {
     "data": {
      "text/plain": [
       "(12960604, 11)"
      ]
     },
     "execution_count": 8,
     "metadata": {},
     "output_type": "execute_result"
    }
   ],
   "source": [
    "parking_df.shape"
   ]
  },
  {
   "cell_type": "markdown",
   "id": "8da013e7",
   "metadata": {},
   "source": [
    "Let's get the unique values of the addresses, and apply those addresses onto any duplicate addresses. Recall the addresses with the most tickets. Some have about 30 thousand tickets. To reduce, we get the unique value, add to dictionary and find a way to use that same address after getting the coordinate. "
   ]
  },
  {
   "cell_type": "code",
   "execution_count": 9,
   "id": "1096af3b",
   "metadata": {},
   "outputs": [
    {
     "data": {
      "text/plain": [
       "482566"
      ]
     },
     "execution_count": 9,
     "metadata": {},
     "output_type": "execute_result"
    }
   ],
   "source": [
    "parking_df['location2'].nunique()"
   ]
  },
  {
   "cell_type": "markdown",
   "id": "d76fccfd",
   "metadata": {},
   "source": [
    "About 400k unique values. That is a lot less than the number of rows. We can use these addresses and process them onto the API. "
   ]
  },
  {
   "cell_type": "code",
   "execution_count": 10,
   "id": "28021859",
   "metadata": {},
   "outputs": [
    {
     "data": {
      "text/plain": [
       "array(['1546 BLOOR ST W', '5418 YONGE ST', '777 QUEEN ST W', ...,\n",
       "       '28 LAMBERTON BLVD', '30151 GLENDALE AVE', '576 FORMAN AVE'],\n",
       "      dtype=object)"
      ]
     },
     "execution_count": 10,
     "metadata": {},
     "output_type": "execute_result"
    }
   ],
   "source": [
    "parking_df['location2'].unique()"
   ]
  },
  {
   "cell_type": "markdown",
   "id": "d2c30490",
   "metadata": {},
   "source": [
    "Since I've decided to keep location2 as the main column to find the coordinates, I won't need location3/4 and province. "
   ]
  },
  {
   "cell_type": "code",
   "execution_count": 18,
   "id": "4af1fe9b",
   "metadata": {},
   "outputs": [],
   "source": [
    "parking_df.drop(columns = ['location3', 'location4'], inplace=True)"
   ]
  },
  {
   "cell_type": "markdown",
   "id": "eb25476e",
   "metadata": {},
   "source": [
    "Let's write the code to call Geopy's Nominatim so that it may return the coordinates."
   ]
  },
  {
   "cell_type": "code",
   "execution_count": 9,
   "id": "caa7b07e",
   "metadata": {},
   "outputs": [],
   "source": [
    "def geocode_address(address):\n",
    "    geolocator = Nominatim(user_agent=\"toronto-parking-application\")\n",
    "    location = geolocator.geocode(address, timeout=10)\n",
    "    if location:\n",
    "        return location.latitude, location.longitude\n",
    "    else:\n",
    "        return None, None"
   ]
  },
  {
   "cell_type": "markdown",
   "id": "a5878e26-4de1-4a00-8be4-549fd35c93c7",
   "metadata": {},
   "source": [
    "The follwing code allows us to grab the unique addresses of the location2 column and grab the coordinates of each unique address. As mentioned before, we have 400k unique addresses. Going through this code will take a very long time, we not be able to go through everything, so in case it does not crash I will save addresses onto a json file, through every 100 iterations.  "
   ]
  },
  {
   "cell_type": "code",
   "execution_count": null,
   "id": "4cace0d1",
   "metadata": {},
   "outputs": [],
   "source": [
    "import json\n",
    "from IPython.display import clear_output\n",
    "\n",
    "#opens existing json file\n",
    "f = open('address_data.json')\n",
    "data = json.load(f)\n",
    "f.close()\n",
    "\n",
    "#initialize count\n",
    "count = 0\n",
    "\n",
    "#get all the unique addresses in lower case\n",
    "unique_addresses = parking_df['location2'].str.lower().unique()\n",
    "\n",
    "\n",
    "try:\n",
    "    for address in unique_addresses:\n",
    "        #add city, province and country to address to get an accurate coordinate\n",
    "        address += ', toronto, on, canada'\n",
    "        \n",
    "        #if address isn't in dictionary\n",
    "        if address not in data.keys():\n",
    "            clear_output(wait=True)\n",
    "            print(round(len(data.keys())/parking_df['location2'].nunique()*100, 4), flush=True)\n",
    "            \n",
    "            #add count\n",
    "            count += 1\n",
    "            \n",
    "            #get coordinates from api geocode_address\n",
    "            coord = geocode_address(address)\n",
    "            \n",
    "            #add to dictionary\n",
    "            data[address] = coord\n",
    "            \n",
    "            if count == 100:\n",
    "                #once we save 100 coordinates, write onto json file\n",
    "                with open('address_data.json', 'w') as json_file:\n",
    "                    json.dump(data, json_file)\n",
    "\n",
    "                # Reset the counter\n",
    "                counter = 0\n",
    "                \n",
    "#if I need to stop, dump coordinates from the dict into json              \n",
    "except KeyboardInterrupt:\n",
    "    print(\"Saving the collected data to a JSON file.\")\n",
    "    with open('address_data.json', 'w') as json_file:\n",
    "        json.dump(data, json_file)\n",
    "    raise"
   ]
  },
  {
   "cell_type": "markdown",
   "id": "fda449de",
   "metadata": {},
   "source": [
    "Since I cannot process everything. I will sample as much as I can. Let's see how much the length of our data dict equals to based on our dataframe. "
   ]
  },
  {
   "cell_type": "code",
   "execution_count": 4,
   "id": "810d6dca",
   "metadata": {},
   "outputs": [
    {
     "data": {
      "text/plain": [
       "26.773747010771583"
      ]
     },
     "execution_count": 4,
     "metadata": {},
     "output_type": "execute_result"
    }
   ],
   "source": [
    "import json\n",
    "f = open('address_data.json')\n",
    "data = json.load(f)\n",
    "len(data)/parking_df['location2'].nunique()*100"
   ]
  },
  {
   "cell_type": "markdown",
   "id": "b72d3245",
   "metadata": {},
   "source": [
    "Our dictionary has about ~26% of our dataframe. Thats a good amount of coordinates to have (including null values returned). If I had a faster way of processing these coordinates, I could. However, I can only process this much with the time and resources I have. "
   ]
  },
  {
   "cell_type": "markdown",
   "id": "9baa456d",
   "metadata": {},
   "source": [
    "We can create the new columns `latitude` and `longitude`. Also, specify the address so we can have an accurate coordinate by adding city, province, country in the cell. "
   ]
  },
  {
   "cell_type": "markdown",
   "id": "5b71c22c-eb23-405d-8a46-355f1443b625",
   "metadata": {},
   "source": [
    "Fill null coorindates with 0.0 firstly, so we may run the dictionary."
   ]
  },
  {
   "cell_type": "code",
   "execution_count": 19,
   "id": "5f3f6f15",
   "metadata": {},
   "outputs": [],
   "source": [
    "parking_df['latitude'] = 0.0\n",
    "parking_df['longitude'] = 0.0"
   ]
  },
  {
   "cell_type": "markdown",
   "id": "d481cd48-c756-423b-b860-d5ec01dbdcd7",
   "metadata": {},
   "source": [
    "Now specify the city, province and country for the api. "
   ]
  },
  {
   "cell_type": "code",
   "execution_count": null,
   "id": "37e41dc7-359c-41f4-839c-8781cc30a5a4",
   "metadata": {},
   "outputs": [],
   "source": [
    "parking_df['location2'] += ', TORONTO, ON, CANADA'"
   ]
  },
  {
   "cell_type": "markdown",
   "id": "cda80316",
   "metadata": {},
   "source": [
    "Now let's apply these coordinates onto the new columns in the dataframe. "
   ]
  },
  {
   "cell_type": "code",
   "execution_count": 39,
   "id": "694d4c19",
   "metadata": {
    "collapsed": true,
    "jupyter": {
     "outputs_hidden": true
    }
   },
   "outputs": [
    {
     "ename": "KeyboardInterrupt",
     "evalue": "",
     "output_type": "error",
     "traceback": [
      "\u001b[0;31m---------------------------------------------------------------------------\u001b[0m",
      "\u001b[0;31mKeyboardInterrupt\u001b[0m                         Traceback (most recent call last)",
      "Cell \u001b[0;32mIn[39], line 7\u001b[0m\n\u001b[1;32m      4\u001b[0m     data \u001b[38;5;241m=\u001b[39m json\u001b[38;5;241m.\u001b[39mload(json_file)\n\u001b[1;32m      6\u001b[0m \u001b[38;5;28;01mfor\u001b[39;00m address \u001b[38;5;129;01min\u001b[39;00m data\u001b[38;5;241m.\u001b[39mkeys():\n\u001b[0;32m----> 7\u001b[0m     \u001b[38;5;28;01mif\u001b[39;00m address \u001b[38;5;129;01min\u001b[39;00m parking_df[\u001b[38;5;124m'\u001b[39m\u001b[38;5;124mlocation2\u001b[39m\u001b[38;5;124m'\u001b[39m]\u001b[38;5;241m.\u001b[39mstr\u001b[38;5;241m.\u001b[39mlower()\u001b[38;5;241m.\u001b[39munique():\n\u001b[1;32m      8\u001b[0m         latitude, longitude \u001b[38;5;241m=\u001b[39m data[address]\n\u001b[1;32m     10\u001b[0m         row_index \u001b[38;5;241m=\u001b[39m parking_df\u001b[38;5;241m.\u001b[39mindex[parking_df[\u001b[38;5;124m'\u001b[39m\u001b[38;5;124mlocation2\u001b[39m\u001b[38;5;124m'\u001b[39m]\u001b[38;5;241m.\u001b[39mstr\u001b[38;5;241m.\u001b[39mlower() \u001b[38;5;241m==\u001b[39m address]\n",
      "File \u001b[0;32m~/anaconda3/lib/python3.11/site-packages/pandas/core/strings/accessor.py:136\u001b[0m, in \u001b[0;36mforbid_nonstring_types.<locals>._forbid_nonstring_types.<locals>.wrapper\u001b[0;34m(self, *args, **kwargs)\u001b[0m\n\u001b[1;32m    131\u001b[0m     msg \u001b[38;5;241m=\u001b[39m (\n\u001b[1;32m    132\u001b[0m         \u001b[38;5;124mf\u001b[39m\u001b[38;5;124m\"\u001b[39m\u001b[38;5;124mCannot use .str.\u001b[39m\u001b[38;5;132;01m{\u001b[39;00mfunc_name\u001b[38;5;132;01m}\u001b[39;00m\u001b[38;5;124m with values of \u001b[39m\u001b[38;5;124m\"\u001b[39m\n\u001b[1;32m    133\u001b[0m         \u001b[38;5;124mf\u001b[39m\u001b[38;5;124m\"\u001b[39m\u001b[38;5;124minferred dtype \u001b[39m\u001b[38;5;124m'\u001b[39m\u001b[38;5;132;01m{\u001b[39;00m\u001b[38;5;28mself\u001b[39m\u001b[38;5;241m.\u001b[39m_inferred_dtype\u001b[38;5;132;01m}\u001b[39;00m\u001b[38;5;124m'\u001b[39m\u001b[38;5;124m.\u001b[39m\u001b[38;5;124m\"\u001b[39m\n\u001b[1;32m    134\u001b[0m     )\n\u001b[1;32m    135\u001b[0m     \u001b[38;5;28;01mraise\u001b[39;00m \u001b[38;5;167;01mTypeError\u001b[39;00m(msg)\n\u001b[0;32m--> 136\u001b[0m \u001b[38;5;28;01mreturn\u001b[39;00m func(\u001b[38;5;28mself\u001b[39m, \u001b[38;5;241m*\u001b[39margs, \u001b[38;5;241m*\u001b[39m\u001b[38;5;241m*\u001b[39mkwargs)\n",
      "File \u001b[0;32m~/anaconda3/lib/python3.11/site-packages/pandas/core/strings/accessor.py:3170\u001b[0m, in \u001b[0;36mStringMethods.lower\u001b[0;34m(self)\u001b[0m\n\u001b[1;32m   3167\u001b[0m \u001b[38;5;129m@Appender\u001b[39m(_shared_docs[\u001b[38;5;124m\"\u001b[39m\u001b[38;5;124mcasemethods\u001b[39m\u001b[38;5;124m\"\u001b[39m] \u001b[38;5;241m%\u001b[39m _doc_args[\u001b[38;5;124m\"\u001b[39m\u001b[38;5;124mlower\u001b[39m\u001b[38;5;124m\"\u001b[39m])\n\u001b[1;32m   3168\u001b[0m \u001b[38;5;129m@forbid_nonstring_types\u001b[39m([\u001b[38;5;124m\"\u001b[39m\u001b[38;5;124mbytes\u001b[39m\u001b[38;5;124m\"\u001b[39m])\n\u001b[1;32m   3169\u001b[0m \u001b[38;5;28;01mdef\u001b[39;00m \u001b[38;5;21mlower\u001b[39m(\u001b[38;5;28mself\u001b[39m):\n\u001b[0;32m-> 3170\u001b[0m     result \u001b[38;5;241m=\u001b[39m \u001b[38;5;28mself\u001b[39m\u001b[38;5;241m.\u001b[39m_data\u001b[38;5;241m.\u001b[39marray\u001b[38;5;241m.\u001b[39m_str_lower()\n\u001b[1;32m   3171\u001b[0m     \u001b[38;5;28;01mreturn\u001b[39;00m \u001b[38;5;28mself\u001b[39m\u001b[38;5;241m.\u001b[39m_wrap_result(result)\n",
      "File \u001b[0;32m~/anaconda3/lib/python3.11/site-packages/pandas/core/strings/object_array.py:444\u001b[0m, in \u001b[0;36mObjectStringArrayMixin._str_lower\u001b[0;34m(self)\u001b[0m\n\u001b[1;32m    443\u001b[0m \u001b[38;5;28;01mdef\u001b[39;00m \u001b[38;5;21m_str_lower\u001b[39m(\u001b[38;5;28mself\u001b[39m):\n\u001b[0;32m--> 444\u001b[0m     \u001b[38;5;28;01mreturn\u001b[39;00m \u001b[38;5;28mself\u001b[39m\u001b[38;5;241m.\u001b[39m_str_map(\u001b[38;5;28mstr\u001b[39m\u001b[38;5;241m.\u001b[39mlower)\n",
      "File \u001b[0;32m~/anaconda3/lib/python3.11/site-packages/pandas/core/strings/object_array.py:78\u001b[0m, in \u001b[0;36mObjectStringArrayMixin._str_map\u001b[0;34m(self, f, na_value, dtype, convert)\u001b[0m\n\u001b[1;32m     76\u001b[0m map_convert \u001b[38;5;241m=\u001b[39m convert \u001b[38;5;129;01mand\u001b[39;00m \u001b[38;5;129;01mnot\u001b[39;00m np\u001b[38;5;241m.\u001b[39mall(mask)\n\u001b[1;32m     77\u001b[0m \u001b[38;5;28;01mtry\u001b[39;00m:\n\u001b[0;32m---> 78\u001b[0m     result \u001b[38;5;241m=\u001b[39m lib\u001b[38;5;241m.\u001b[39mmap_infer_mask(arr, f, mask\u001b[38;5;241m.\u001b[39mview(np\u001b[38;5;241m.\u001b[39muint8), map_convert)\n\u001b[1;32m     79\u001b[0m \u001b[38;5;28;01mexcept\u001b[39;00m (\u001b[38;5;167;01mTypeError\u001b[39;00m, \u001b[38;5;167;01mAttributeError\u001b[39;00m) \u001b[38;5;28;01mas\u001b[39;00m err:\n\u001b[1;32m     80\u001b[0m     \u001b[38;5;66;03m# Reraise the exception if callable `f` got wrong number of args.\u001b[39;00m\n\u001b[1;32m     81\u001b[0m     \u001b[38;5;66;03m# The user may want to be warned by this, instead of getting NaN\u001b[39;00m\n\u001b[1;32m     82\u001b[0m     p_err \u001b[38;5;241m=\u001b[39m (\n\u001b[1;32m     83\u001b[0m         \u001b[38;5;124mr\u001b[39m\u001b[38;5;124m\"\u001b[39m\u001b[38;5;124m((takes)|(missing)) (?(2)from \u001b[39m\u001b[38;5;124m\\\u001b[39m\u001b[38;5;124md+ to )?\u001b[39m\u001b[38;5;124m\\\u001b[39m\u001b[38;5;124md+ \u001b[39m\u001b[38;5;124m\"\u001b[39m\n\u001b[1;32m     84\u001b[0m         \u001b[38;5;124mr\u001b[39m\u001b[38;5;124m\"\u001b[39m\u001b[38;5;124m(?(3)required )positional arguments?\u001b[39m\u001b[38;5;124m\"\u001b[39m\n\u001b[1;32m     85\u001b[0m     )\n",
      "File \u001b[0;32mlib.pyx:2890\u001b[0m, in \u001b[0;36mpandas._libs.lib.map_infer_mask\u001b[0;34m()\u001b[0m\n",
      "File \u001b[0;32mlib.pyx:2525\u001b[0m, in \u001b[0;36mpandas._libs.lib.maybe_convert_objects\u001b[0;34m()\u001b[0m\n",
      "File \u001b[0;32m~/anaconda3/lib/python3.11/site-packages/numpy/core/numeric.py:274\u001b[0m, in \u001b[0;36mfull\u001b[0;34m(shape, fill_value, dtype, order, like)\u001b[0m\n\u001b[1;32m    270\u001b[0m \u001b[38;5;28;01mdef\u001b[39;00m \u001b[38;5;21m_full_dispatcher\u001b[39m(shape, fill_value, dtype\u001b[38;5;241m=\u001b[39m\u001b[38;5;28;01mNone\u001b[39;00m, order\u001b[38;5;241m=\u001b[39m\u001b[38;5;28;01mNone\u001b[39;00m, \u001b[38;5;241m*\u001b[39m, like\u001b[38;5;241m=\u001b[39m\u001b[38;5;28;01mNone\u001b[39;00m):\n\u001b[1;32m    271\u001b[0m     \u001b[38;5;28;01mreturn\u001b[39;00m(like,)\n\u001b[0;32m--> 274\u001b[0m \u001b[38;5;129m@set_array_function_like_doc\u001b[39m\n\u001b[1;32m    275\u001b[0m \u001b[38;5;129m@set_module\u001b[39m(\u001b[38;5;124m'\u001b[39m\u001b[38;5;124mnumpy\u001b[39m\u001b[38;5;124m'\u001b[39m)\n\u001b[1;32m    276\u001b[0m \u001b[38;5;28;01mdef\u001b[39;00m \u001b[38;5;21mfull\u001b[39m(shape, fill_value, dtype\u001b[38;5;241m=\u001b[39m\u001b[38;5;28;01mNone\u001b[39;00m, order\u001b[38;5;241m=\u001b[39m\u001b[38;5;124m'\u001b[39m\u001b[38;5;124mC\u001b[39m\u001b[38;5;124m'\u001b[39m, \u001b[38;5;241m*\u001b[39m, like\u001b[38;5;241m=\u001b[39m\u001b[38;5;28;01mNone\u001b[39;00m):\n\u001b[1;32m    277\u001b[0m \u001b[38;5;250m    \u001b[39m\u001b[38;5;124;03m\"\"\"\u001b[39;00m\n\u001b[1;32m    278\u001b[0m \u001b[38;5;124;03m    Return a new array of given shape and type, filled with `fill_value`.\u001b[39;00m\n\u001b[1;32m    279\u001b[0m \n\u001b[0;32m   (...)\u001b[0m\n\u001b[1;32m    320\u001b[0m \n\u001b[1;32m    321\u001b[0m \u001b[38;5;124;03m    \"\"\"\u001b[39;00m\n\u001b[1;32m    322\u001b[0m     \u001b[38;5;28;01mif\u001b[39;00m like \u001b[38;5;129;01mis\u001b[39;00m \u001b[38;5;129;01mnot\u001b[39;00m \u001b[38;5;28;01mNone\u001b[39;00m:\n",
      "\u001b[0;31mKeyboardInterrupt\u001b[0m: "
     ]
    }
   ],
   "source": [
    "import json\n",
    "\n",
    "with open('address_data.json', 'r') as json_file:\n",
    "    data = json.load(json_file)\n",
    "    \n",
    "for address in data.keys():\n",
    "    if address in parking_df['location2'].str.lower().unique():\n",
    "        latitude, longitude = data[address]\n",
    "        \n",
    "        row_index = parking_df.index[parking_df['location2'].str.lower() == address]\n",
    "    \n",
    "        parking_df.loc[row_index, 'latitude'] = latitude\n",
    "        parking_df.loc[row_index, 'longitude'] = longitude"
   ]
  },
  {
   "cell_type": "markdown",
   "id": "bf4c59ab",
   "metadata": {},
   "source": [
    "Let's save these coordinates onto our csv."
   ]
  },
  {
   "cell_type": "code",
   "execution_count": 40,
   "id": "c7eeffaa",
   "metadata": {},
   "outputs": [],
   "source": [
    "parking_df.to_csv('../data/parking_df.csv', index=False)"
   ]
  },
  {
   "cell_type": "code",
   "execution_count": 11,
   "id": "50564990",
   "metadata": {},
   "outputs": [
    {
     "data": {
      "text/plain": [
       "date_of_infraction        0\n",
       "infraction_code           0\n",
       "infraction_description    0\n",
       "set_fine_amount           0\n",
       "time_of_infraction        0\n",
       "location1                 0\n",
       "location2                 0\n",
       "province                  0\n",
       "datetime_of_infraction    0\n",
       "latitude                  0\n",
       "longitude                 0\n",
       "dtype: int64"
      ]
     },
     "execution_count": 11,
     "metadata": {},
     "output_type": "execute_result"
    }
   ],
   "source": [
    "parking_df.isna().sum()"
   ]
  },
  {
   "cell_type": "markdown",
   "id": "08044a2a",
   "metadata": {},
   "source": [
    "There are some null values that our Api could not find coordinates to, we can drop those rows as they are a pretty small amount."
   ]
  },
  {
   "cell_type": "code",
   "execution_count": 9,
   "id": "20de5591",
   "metadata": {},
   "outputs": [],
   "source": [
    "parking_df.dropna(subset=['latitude'],inplace=True)\n",
    "parking_df.dropna(subset=['longitude'],inplace=True)\n",
    "parking_df.dropna(subset=['infraction_code'],inplace=True)\n",
    "parking_df.dropna(subset=['province'],inplace=True)"
   ]
  },
  {
   "cell_type": "code",
   "execution_count": 10,
   "id": "e474eb4d",
   "metadata": {},
   "outputs": [],
   "source": [
    "parking_df.to_csv('../data/parking_df.csv', index=False)"
   ]
  },
  {
   "cell_type": "markdown",
   "id": "ae3da82a",
   "metadata": {},
   "source": [
    "<a id='datetime'></a>\n",
    "### Separating Datetime"
   ]
  },
  {
   "cell_type": "markdown",
   "id": "1b62cc74",
   "metadata": {},
   "source": [
    "Checking dtype of `datetime_of_infraction` and making sure its `datetime[ns]64`"
   ]
  },
  {
   "cell_type": "code",
   "execution_count": 25,
   "id": "67a1af20",
   "metadata": {},
   "outputs": [
    {
     "name": "stdout",
     "output_type": "stream",
     "text": [
      "<class 'pandas.core.frame.DataFrame'>\n",
      "RangeIndex: 12942258 entries, 0 to 12942257\n",
      "Data columns (total 11 columns):\n",
      " #   Column                  Dtype         \n",
      "---  ------                  -----         \n",
      " 0   date_of_infraction      object        \n",
      " 1   infraction_code         float64       \n",
      " 2   infraction_description  object        \n",
      " 3   set_fine_amount         int64         \n",
      " 4   time_of_infraction      object        \n",
      " 5   location1               object        \n",
      " 6   location2               object        \n",
      " 7   province                object        \n",
      " 8   datetime_of_infraction  datetime64[ns]\n",
      " 9   latitude                float64       \n",
      " 10  longitude               float64       \n",
      "dtypes: datetime64[ns](1), float64(3), int64(1), object(6)\n",
      "memory usage: 1.1+ GB\n"
     ]
    }
   ],
   "source": [
    "parking_df.info()"
   ]
  },
  {
   "cell_type": "markdown",
   "id": "a5d9ef3d",
   "metadata": {},
   "source": [
    "Extracting year, month, and day into separate columns."
   ]
  },
  {
   "cell_type": "code",
   "execution_count": 26,
   "id": "f4a77463",
   "metadata": {},
   "outputs": [],
   "source": [
    "parking_df['year'] = parking_df['datetime_of_infraction'].dt.year\n",
    "parking_df['month'] = parking_df['datetime_of_infraction'].dt.month\n",
    "parking_df['day'] = parking_df['datetime_of_infraction'].dt.day"
   ]
  },
  {
   "cell_type": "markdown",
   "id": "43db7585",
   "metadata": {},
   "source": [
    "Let's reorder this dataframe before saving. "
   ]
  },
  {
   "cell_type": "code",
   "execution_count": 27,
   "id": "dce48d7b",
   "metadata": {},
   "outputs": [],
   "source": [
    "parking_df = parking_df[['datetime_of_infraction', 'time_of_infraction', 'year', 'month', 'day', 'infraction_code', 'infraction_description', 'set_fine_amount', 'location2', 'province', 'latitude', 'longitude']]"
   ]
  },
  {
   "cell_type": "code",
   "execution_count": 28,
   "id": "baea285e",
   "metadata": {},
   "outputs": [
    {
     "data": {
      "text/html": [
       "<div>\n",
       "<style scoped>\n",
       "    .dataframe tbody tr th:only-of-type {\n",
       "        vertical-align: middle;\n",
       "    }\n",
       "\n",
       "    .dataframe tbody tr th {\n",
       "        vertical-align: top;\n",
       "    }\n",
       "\n",
       "    .dataframe thead th {\n",
       "        text-align: right;\n",
       "    }\n",
       "</style>\n",
       "<table border=\"1\" class=\"dataframe\">\n",
       "  <thead>\n",
       "    <tr style=\"text-align: right;\">\n",
       "      <th></th>\n",
       "      <th>datetime_of_infraction</th>\n",
       "      <th>time_of_infraction</th>\n",
       "      <th>year</th>\n",
       "      <th>month</th>\n",
       "      <th>day</th>\n",
       "      <th>infraction_code</th>\n",
       "      <th>infraction_description</th>\n",
       "      <th>set_fine_amount</th>\n",
       "      <th>location2</th>\n",
       "      <th>province</th>\n",
       "      <th>latitude</th>\n",
       "      <th>longitude</th>\n",
       "    </tr>\n",
       "  </thead>\n",
       "  <tbody>\n",
       "    <tr>\n",
       "      <th>0</th>\n",
       "      <td>2016-12-30 16:37:00</td>\n",
       "      <td>16:37:00</td>\n",
       "      <td>2016</td>\n",
       "      <td>12</td>\n",
       "      <td>30</td>\n",
       "      <td>403.0</td>\n",
       "      <td>STOP-SIGNED HIGHWAY-RUSH HOUR</td>\n",
       "      <td>150</td>\n",
       "      <td>1546 BLOOR ST W, TORONTO, ON, CANADA</td>\n",
       "      <td>ON</td>\n",
       "      <td>43.656337</td>\n",
       "      <td>-79.453142</td>\n",
       "    </tr>\n",
       "    <tr>\n",
       "      <th>1</th>\n",
       "      <td>2016-12-30 16:37:00</td>\n",
       "      <td>16:37:00</td>\n",
       "      <td>2016</td>\n",
       "      <td>12</td>\n",
       "      <td>30</td>\n",
       "      <td>403.0</td>\n",
       "      <td>STOP-SIGNED HIGHWAY-RUSH HOUR</td>\n",
       "      <td>150</td>\n",
       "      <td>5418 YONGE ST, TORONTO, ON, CANADA</td>\n",
       "      <td>ON</td>\n",
       "      <td>43.775587</td>\n",
       "      <td>-79.414671</td>\n",
       "    </tr>\n",
       "    <tr>\n",
       "      <th>2</th>\n",
       "      <td>2016-12-30 16:37:00</td>\n",
       "      <td>16:37:00</td>\n",
       "      <td>2016</td>\n",
       "      <td>12</td>\n",
       "      <td>30</td>\n",
       "      <td>403.0</td>\n",
       "      <td>STOP-SIGNED HIGHWAY-RUSH HOUR</td>\n",
       "      <td>150</td>\n",
       "      <td>777 QUEEN ST W, TORONTO, ON, CANADA</td>\n",
       "      <td>ON</td>\n",
       "      <td>43.646259</td>\n",
       "      <td>-79.408080</td>\n",
       "    </tr>\n",
       "    <tr>\n",
       "      <th>3</th>\n",
       "      <td>2016-12-30 16:37:00</td>\n",
       "      <td>16:37:00</td>\n",
       "      <td>2016</td>\n",
       "      <td>12</td>\n",
       "      <td>30</td>\n",
       "      <td>403.0</td>\n",
       "      <td>STOP-SIGNED HIGHWAY-RUSH HOUR</td>\n",
       "      <td>150</td>\n",
       "      <td>747 QUEEN ST E, TORONTO, ON, CANADA</td>\n",
       "      <td>ON</td>\n",
       "      <td>43.659131</td>\n",
       "      <td>-79.348080</td>\n",
       "    </tr>\n",
       "    <tr>\n",
       "      <th>4</th>\n",
       "      <td>2016-12-30 16:37:00</td>\n",
       "      <td>16:37:00</td>\n",
       "      <td>2016</td>\n",
       "      <td>12</td>\n",
       "      <td>30</td>\n",
       "      <td>403.0</td>\n",
       "      <td>STOP-SIGNED HIGHWAY-RUSH HOUR</td>\n",
       "      <td>150</td>\n",
       "      <td>3042 DUNDAS ST W, TORONTO, ON, CANADA</td>\n",
       "      <td>ON</td>\n",
       "      <td>43.665651</td>\n",
       "      <td>-79.470785</td>\n",
       "    </tr>\n",
       "  </tbody>\n",
       "</table>\n",
       "</div>"
      ],
      "text/plain": [
       "  datetime_of_infraction time_of_infraction  year  month  day  \\\n",
       "0    2016-12-30 16:37:00           16:37:00  2016     12   30   \n",
       "1    2016-12-30 16:37:00           16:37:00  2016     12   30   \n",
       "2    2016-12-30 16:37:00           16:37:00  2016     12   30   \n",
       "3    2016-12-30 16:37:00           16:37:00  2016     12   30   \n",
       "4    2016-12-30 16:37:00           16:37:00  2016     12   30   \n",
       "\n",
       "   infraction_code         infraction_description  set_fine_amount  \\\n",
       "0            403.0  STOP-SIGNED HIGHWAY-RUSH HOUR              150   \n",
       "1            403.0  STOP-SIGNED HIGHWAY-RUSH HOUR              150   \n",
       "2            403.0  STOP-SIGNED HIGHWAY-RUSH HOUR              150   \n",
       "3            403.0  STOP-SIGNED HIGHWAY-RUSH HOUR              150   \n",
       "4            403.0  STOP-SIGNED HIGHWAY-RUSH HOUR              150   \n",
       "\n",
       "                               location2 province   latitude  longitude  \n",
       "0   1546 BLOOR ST W, TORONTO, ON, CANADA       ON  43.656337 -79.453142  \n",
       "1     5418 YONGE ST, TORONTO, ON, CANADA       ON  43.775587 -79.414671  \n",
       "2    777 QUEEN ST W, TORONTO, ON, CANADA       ON  43.646259 -79.408080  \n",
       "3    747 QUEEN ST E, TORONTO, ON, CANADA       ON  43.659131 -79.348080  \n",
       "4  3042 DUNDAS ST W, TORONTO, ON, CANADA       ON  43.665651 -79.470785  "
      ]
     },
     "execution_count": 28,
     "metadata": {},
     "output_type": "execute_result"
    }
   ],
   "source": [
    "parking_df.head()"
   ]
  },
  {
   "cell_type": "markdown",
   "id": "1b9370f4",
   "metadata": {},
   "source": [
    "<a id='infreda'></a>\n",
    "### Parking Infractions EDA"
   ]
  },
  {
   "cell_type": "code",
   "execution_count": 5,
   "id": "5986323d",
   "metadata": {},
   "outputs": [
    {
     "data": {
      "text/html": [
       "<div>\n",
       "<style scoped>\n",
       "    .dataframe tbody tr th:only-of-type {\n",
       "        vertical-align: middle;\n",
       "    }\n",
       "\n",
       "    .dataframe tbody tr th {\n",
       "        vertical-align: top;\n",
       "    }\n",
       "\n",
       "    .dataframe thead th {\n",
       "        text-align: right;\n",
       "    }\n",
       "</style>\n",
       "<table border=\"1\" class=\"dataframe\">\n",
       "  <thead>\n",
       "    <tr style=\"text-align: right;\">\n",
       "      <th>col_0</th>\n",
       "      <th>count</th>\n",
       "    </tr>\n",
       "    <tr>\n",
       "      <th>infraction_description</th>\n",
       "      <th></th>\n",
       "    </tr>\n",
       "  </thead>\n",
       "  <tbody>\n",
       "    <tr>\n",
       "      <th>PARK ON PRIVATE PROPERTY</th>\n",
       "      <td>2474129</td>\n",
       "    </tr>\n",
       "    <tr>\n",
       "      <th>PARK-SIGNED HWY-PROHIBIT DY/TM</th>\n",
       "      <td>2056487</td>\n",
       "    </tr>\n",
       "    <tr>\n",
       "      <th>PARK PROHIBITED TIME NO PERMIT</th>\n",
       "      <td>1828730</td>\n",
       "    </tr>\n",
       "    <tr>\n",
       "      <th>PARK MACHINE-REQD FEE NOT PAID</th>\n",
       "      <td>1568246</td>\n",
       "    </tr>\n",
       "    <tr>\n",
       "      <th>STOP-SIGNED HWY-PROHIBIT TM/DY</th>\n",
       "      <td>677456</td>\n",
       "    </tr>\n",
       "    <tr>\n",
       "      <th>PARK - LONGER THAN 3 HOURS</th>\n",
       "      <td>582277</td>\n",
       "    </tr>\n",
       "    <tr>\n",
       "      <th>STAND VEH.-PROHIBIT TIME/DAY</th>\n",
       "      <td>454731</td>\n",
       "    </tr>\n",
       "    <tr>\n",
       "      <th>PARK-VEH. W/O VALID ONT PLATE</th>\n",
       "      <td>362811</td>\n",
       "    </tr>\n",
       "    <tr>\n",
       "      <th>PARK-SIGNED HWY-EXC PERMT TIME</th>\n",
       "      <td>349469</td>\n",
       "    </tr>\n",
       "    <tr>\n",
       "      <th>STOP-SIGNED HIGHWAY-RUSH HOUR</th>\n",
       "      <td>338093</td>\n",
       "    </tr>\n",
       "  </tbody>\n",
       "</table>\n",
       "</div>"
      ],
      "text/plain": [
       "col_0                             count\n",
       "infraction_description                 \n",
       "PARK ON PRIVATE PROPERTY        2474129\n",
       "PARK-SIGNED HWY-PROHIBIT DY/TM  2056487\n",
       "PARK PROHIBITED TIME NO PERMIT  1828730\n",
       "PARK MACHINE-REQD FEE NOT PAID  1568246\n",
       "STOP-SIGNED HWY-PROHIBIT TM/DY   677456\n",
       "PARK - LONGER THAN 3 HOURS       582277\n",
       "STAND VEH.-PROHIBIT TIME/DAY     454731\n",
       "PARK-VEH. W/O VALID ONT PLATE    362811\n",
       "PARK-SIGNED HWY-EXC PERMT TIME   349469\n",
       "STOP-SIGNED HIGHWAY-RUSH HOUR    338093"
      ]
     },
     "execution_count": 5,
     "metadata": {},
     "output_type": "execute_result"
    }
   ],
   "source": [
    "pd.crosstab(index=parking_df['infraction_description'], columns='count').nlargest(10,'count')"
   ]
  },
  {
   "cell_type": "code",
   "execution_count": 72,
   "id": "ca0cdec6",
   "metadata": {},
   "outputs": [
    {
     "data": {
      "image/png": "[encoded data removed]",
      "text/plain": [
       "<Figure size 1300x600 with 1 Axes>"
      ]
     },
     "metadata": {},
     "output_type": "display_data"
    }
   ],
   "source": [
    "parking_df['infraction_description'].value_counts().nlargest(10).plot(kind='barh',width = 0.75,figsize=(13,6))\n",
    "plt.title(\"Top 10 Count of Infractions by Category\")\n",
    "plt.ylabel(\"Infraction\")\n",
    "plt.xlabel(\"No. of infractions\")\n",
    "plt.show()"
   ]
  },
  {
   "cell_type": "code",
   "execution_count": 12,
   "id": "ec7a68b4",
   "metadata": {},
   "outputs": [
    {
     "data": {
      "text/plain": [
       "infraction_description\n",
       "PARK PRIVATE VEHICLE ON SITE      500.00000\n",
       "STAND ACCESSIBLE NOT DROP OFF     450.00000\n",
       "STAND IN ACCESSIBLE NO PERMIT     450.00000\n",
       "STND ACCESSIBLE LOAD NO PERMIT    450.00000\n",
       "STND ACCESSIBLE LOAD NOT DRP/O    450.00000\n",
       "STND ONSTRT ACCESSIBLE NO PRMT    450.00000\n",
       "STND ONSTRT ACCESSIBLE NOT D/O    450.00000\n",
       "STOP ONSTRT ACCESSIBLE NO PRMT    450.00000\n",
       "PARK IN ACCESSIBLE NO PERMIT      449.96337\n",
       "PARK ACCESSIBLE NOT DROP OFF      449.85000\n",
       "Name: set_fine_amount, dtype: float64"
      ]
     },
     "execution_count": 12,
     "metadata": {},
     "output_type": "execute_result"
    }
   ],
   "source": [
    "parking_df.groupby('infraction_description')['set_fine_amount'].mean().nlargest(10)"
   ]
  },
  {
   "cell_type": "markdown",
   "id": "4a929d2a",
   "metadata": {},
   "source": [
    "I want to know where exactly is this private property that everyone keeps getting ticketed at. "
   ]
  },
  {
   "cell_type": "code",
   "execution_count": 10,
   "id": "e0f42875",
   "metadata": {},
   "outputs": [
    {
     "data": {
      "text/plain": [
       "infraction_description\n",
       "PARK ON PRIVATE PROPERTY          2472387\n",
       "PARK-SIGNED HWY-PROHIBIT DY/TM    2054610\n",
       "PARK PROHIBITED TIME NO PERMIT    1825548\n",
       "PARK MACHINE-REQD FEE NOT PAID    1564515\n",
       "STOP-SIGNED HWY-PROHIBIT TM/DY     675892\n",
       "PARK - LONGER THAN 3 HOURS         582210\n",
       "STAND VEH.-PROHIBIT TIME/DAY       454491\n",
       "PARK-VEH. W/O VALID ONT PLATE      362221\n",
       "PARK-SIGNED HWY-EXC PERMT TIME     348982\n",
       "STOP-SIGNED HIGHWAY-RUSH HOUR      338093\n",
       "PARK FAIL TO DISPLAY RECEIPT       210637\n",
       "PARK-WITHIN 3M OF FIRE HYDRANT     190219\n",
       "PARK ON MUNICIPAL PROPERTY         183479\n",
       "PARKING MACH-NOT USED/NO FEE       181106\n",
       "PARK-N.YORK 2AM-6AM DEC1-MAR31     164744\n",
       "STAND SIGNED TRANSIT STOP          128166\n",
       "PARK - LONGER THAN 3 HOURS         109700\n",
       "PARK COMMERC LOAD ZONE NOT LDG     108757\n",
       "STOP-(ON/OVER) (SIDEWK/FTPATH)      89341\n",
       "PARK IN A FIRE ROUTE                83888\n",
       "PARK-SIGNED HWY-PUBLIC LANE         77402\n",
       "PARK-WITHIN 9M INTERSECT ROAD       59655\n",
       "PARK - ON BOULEVARD                 51222\n",
       "STOP VEH OTR THN BCYCL-BYCL LN      43258\n",
       "PARK-FAIL TO DISPLAY PERMIT         41815\n",
       "STND ONSTRT ACCESSIBLE NO PRMT      40353\n",
       "STAND NON-TAXI IN SIGNED STAND      37803\n",
       "PARK-OBSTRUCT (DRWAY/LANEWAY)       31759\n",
       "PARK NON-MTRCYCLE IN MTRCYC SP      30495\n",
       "PARK IN PARK NOT IN DESIG AREA      30006\n",
       "FAIL TO PARK/STOP PARALL. CURB      29660\n",
       "PARK CONTRARY POSTED CONDITION      29022\n",
       "PARK IN ACCESSIBLE NO PERMIT        24562\n",
       "PARKING MACH-NOT USED/NO FEE        21044\n",
       "FAIL TO PARK/STOP PARALL. RGHT      20985\n",
       "STAND VEH.-PSGR LD ZN LD/UNLD       19133\n",
       "PARK ONSTRT ACCESSIBLE NO PRMT      18624\n",
       "STOP NON-BICYCLE IN CYCLE TRCK      18003\n",
       "PARK NON-BUS-BUS PK ZNE DY/TM       16250\n",
       "PARK - BETWEEN ROAD & SIDEWALK      10996\n",
       "STOP-ROAD SIDE-STOP/PARK VEH.       10659\n",
       "STOP VEH.RESRVD/DESIG LN TM/DY       9448\n",
       "PARK - NOT WITHIN PERIOD             9415\n",
       "PARK/STAND UNAUTH VEH. CAR SHR       8702\n",
       "PARK FAIL TO DEPOSIT FEE METER       7076\n",
       "PARK VEH.-COMMERCIAL LOAD ZONE       6875\n",
       "PARK-W/O VALID NON-ONT PLATE         5676\n",
       "PARK VEHICLE OUTSIDE OF SPACE        5470\n",
       "STOP-9 M PEDESTRIAN X BEYOND         5465\n",
       "PARK HEAVY (TRUCK/VEH.) TM/DY        5348\n",
       "Name: count, dtype: int64"
      ]
     },
     "execution_count": 10,
     "metadata": {},
     "output_type": "execute_result"
    }
   ],
   "source": [
    "infr_df = parking_df[parking_df['infraction_description'] == 'PARK ON PRIVATE PROPERTY']\n",
    "\n",
    "parking_df['infraction_description'].value_counts().head(50)"
   ]
  },
  {
   "cell_type": "code",
   "execution_count": 7,
   "id": "704966aa",
   "metadata": {},
   "outputs": [
    {
     "data": {
      "text/plain": [
       "array([30])"
      ]
     },
     "execution_count": 7,
     "metadata": {},
     "output_type": "execute_result"
    }
   ],
   "source": [
    "infr_df['set_fine_amount'].unique()"
   ]
  },
  {
   "cell_type": "markdown",
   "id": "a54c709a",
   "metadata": {},
   "source": [
    "From what we know, 4700 Keele St is a bus loop for york university campus.\n",
    "\n",
    "2075 Bayview ave is a hostpital. These two are the most common tickets given based on the highest count of infraction named 'park on private property'. Charged with 30 dollars each time. "
   ]
  },
  {
   "cell_type": "markdown",
   "id": "41bf4e8f",
   "metadata": {},
   "source": [
    "I want to find a way to classify these infractions. Let's group them in a dictionary and use keywords to find the related infractions. "
   ]
  },
  {
   "cell_type": "markdown",
   "id": "3f1a305f-af87-49cf-8a62-208b189b2792",
   "metadata": {},
   "source": [
    "<a id='clusterinfr'></a>\n",
    "### Grouping Infractions"
   ]
  },
  {
   "cell_type": "code",
   "execution_count": 14,
   "id": "5ccbc96e",
   "metadata": {},
   "outputs": [],
   "source": [
    "infraction_groups = {\n",
    "    'permit_time_restrictions': [\n",
    "        \"PARK-SIGNED HWY-PROHIBIT DY/TM\",\n",
    "        \"PARK PROHIBITED TIME NO PERMIT\",\n",
    "        \"PARK-SIGNED HWY-EXC PERMT TIME\",\n",
    "        \"PARK-N.YORK 2AM-6AM DEC1-MAR31\",\n",
    "        \"PARK - NOT WITHIN PERIOD\"\n",
    "    ],\n",
    "    'fee_related': [\n",
    "        \"PARK MACHINE-REQD FEE NOT PAID\",\n",
    "        \"PARK FAIL TO DISPLAY RECEIPT\",\n",
    "        \"PARKING MACH-NOT USED/NO FEE\",\n",
    "        \"PARK FAIL TO DEPOSIT FEE METER\"\n",
    "    ],\n",
    "    'time_related': [\n",
    "        \"PARK - LONGER THAN 3 HOURS\",\n",
    "        \"STAND VEH.-PROHIBIT TIME/DAY\",\n",
    "        \"STOP-SIGNED HIGHWAY-RUSH HOUR\"\n",
    "    ],\n",
    "    'plate_related': [\n",
    "        \"PARK-VEH. W/O VALID ONT PLATE\",\n",
    "        \"PARK-W/O VALID NON-ONT PLATE\"\n",
    "    ],\n",
    "    'fire_route': [\n",
    "        \"PARK-WITHIN 3M OF FIRE HYDRANT\",\n",
    "        \"PARK IN A FIRE ROUTE\"\n",
    "    ],\n",
    "    'accessible_related': [\n",
    "        \"STND ONSTRT ACCESSIBLE NO PRMT\",\n",
    "        \"PARK ONSTRT ACCESSIBLE NO PRMT\",\n",
    "        \"PARK IN ACCESSIBLE NO PERMIT\"\n",
    "    ],\n",
    "    'commercial_related': [\n",
    "        \"PARK COMMERC LOAD ZONE NOT LDG\",\n",
    "        \"PARK VEH.-COMMERCIAL LOAD ZONE\"\n",
    "    ],\n",
    "    'obstruction_related': [\n",
    "        \"PARK-OBSTRUCT (DRWAY/LANEWAY)\",\n",
    "        \"PARK IN PARK NOT IN DESIG AREA\",\n",
    "        \"FAIL TO PARK/STOP PARALL. CURB\",\n",
    "        \"PARK CONTRARY POSTED CONDITION\",\n",
    "        \"PARK VEHICLE OUTSIDE OF SPACE\",\n",
    "        \"STOP-(ON/OVER) (SIDEWK/FTPATH)\"\n",
    "    ],\n",
    "    'cycle_related': [\n",
    "        \"STOP NON-BICYCLE IN CYCLE TRCK\",\n",
    "        \"STOP VEH OTR THN BCYCL-BYCL LN\"\n",
    "    ]\n",
    "}"
   ]
  },
  {
   "cell_type": "code",
   "execution_count": 13,
   "id": "27906020-6d7f-4359-ba10-bd259d85d9ec",
   "metadata": {},
   "outputs": [
    {
     "data": {
      "text/plain": [
       "dict_keys(['permit_time_restrictions', 'fee_related', 'time_related', 'plate_related', 'fire_route', 'accessible_related', 'commercial_related', 'obstruction_related', 'cycle_related'])"
      ]
     },
     "execution_count": 13,
     "metadata": {},
     "output_type": "execute_result"
    }
   ],
   "source": [
    "infraction_groups.keys()"
   ]
  },
  {
   "cell_type": "code",
   "execution_count": 15,
   "id": "ecaec493",
   "metadata": {},
   "outputs": [
    {
     "data": {
      "text/html": [
       "<div>\n",
       "<style scoped>\n",
       "    .dataframe tbody tr th:only-of-type {\n",
       "        vertical-align: middle;\n",
       "    }\n",
       "\n",
       "    .dataframe tbody tr th {\n",
       "        vertical-align: top;\n",
       "    }\n",
       "\n",
       "    .dataframe thead th {\n",
       "        text-align: right;\n",
       "    }\n",
       "</style>\n",
       "<table border=\"1\" class=\"dataframe\">\n",
       "  <thead>\n",
       "    <tr style=\"text-align: right;\">\n",
       "      <th></th>\n",
       "      <th>datetime_of_infraction</th>\n",
       "      <th>time_of_infraction</th>\n",
       "      <th>year</th>\n",
       "      <th>month</th>\n",
       "      <th>day</th>\n",
       "      <th>infraction_code</th>\n",
       "      <th>infraction_description</th>\n",
       "      <th>set_fine_amount</th>\n",
       "      <th>location2</th>\n",
       "      <th>province</th>\n",
       "      <th>...</th>\n",
       "      <th>longitude</th>\n",
       "      <th>permit_time_restrictions</th>\n",
       "      <th>fee_related</th>\n",
       "      <th>time_related</th>\n",
       "      <th>plate_related</th>\n",
       "      <th>fire_route</th>\n",
       "      <th>accessible_related</th>\n",
       "      <th>commercial_related</th>\n",
       "      <th>obstruction_related</th>\n",
       "      <th>cycle_related</th>\n",
       "    </tr>\n",
       "  </thead>\n",
       "  <tbody>\n",
       "    <tr>\n",
       "      <th>0</th>\n",
       "      <td>2016-12-30 16:37:00</td>\n",
       "      <td>16:37:00</td>\n",
       "      <td>2016</td>\n",
       "      <td>12</td>\n",
       "      <td>30</td>\n",
       "      <td>403.0</td>\n",
       "      <td>STOP-SIGNED HIGHWAY-RUSH HOUR</td>\n",
       "      <td>150</td>\n",
       "      <td>1546 BLOOR ST W, TORONTO, ON, CANADA</td>\n",
       "      <td>ON</td>\n",
       "      <td>...</td>\n",
       "      <td>-79.453142</td>\n",
       "      <td>0</td>\n",
       "      <td>0</td>\n",
       "      <td>1</td>\n",
       "      <td>0</td>\n",
       "      <td>0</td>\n",
       "      <td>0</td>\n",
       "      <td>0</td>\n",
       "      <td>0</td>\n",
       "      <td>0</td>\n",
       "    </tr>\n",
       "    <tr>\n",
       "      <th>1</th>\n",
       "      <td>2016-12-30 16:37:00</td>\n",
       "      <td>16:37:00</td>\n",
       "      <td>2016</td>\n",
       "      <td>12</td>\n",
       "      <td>30</td>\n",
       "      <td>403.0</td>\n",
       "      <td>STOP-SIGNED HIGHWAY-RUSH HOUR</td>\n",
       "      <td>150</td>\n",
       "      <td>5418 YONGE ST, TORONTO, ON, CANADA</td>\n",
       "      <td>ON</td>\n",
       "      <td>...</td>\n",
       "      <td>-79.414671</td>\n",
       "      <td>0</td>\n",
       "      <td>0</td>\n",
       "      <td>1</td>\n",
       "      <td>0</td>\n",
       "      <td>0</td>\n",
       "      <td>0</td>\n",
       "      <td>0</td>\n",
       "      <td>0</td>\n",
       "      <td>0</td>\n",
       "    </tr>\n",
       "    <tr>\n",
       "      <th>2</th>\n",
       "      <td>2016-12-30 16:37:00</td>\n",
       "      <td>16:37:00</td>\n",
       "      <td>2016</td>\n",
       "      <td>12</td>\n",
       "      <td>30</td>\n",
       "      <td>403.0</td>\n",
       "      <td>STOP-SIGNED HIGHWAY-RUSH HOUR</td>\n",
       "      <td>150</td>\n",
       "      <td>777 QUEEN ST W, TORONTO, ON, CANADA</td>\n",
       "      <td>ON</td>\n",
       "      <td>...</td>\n",
       "      <td>-79.408080</td>\n",
       "      <td>0</td>\n",
       "      <td>0</td>\n",
       "      <td>1</td>\n",
       "      <td>0</td>\n",
       "      <td>0</td>\n",
       "      <td>0</td>\n",
       "      <td>0</td>\n",
       "      <td>0</td>\n",
       "      <td>0</td>\n",
       "    </tr>\n",
       "    <tr>\n",
       "      <th>3</th>\n",
       "      <td>2016-12-30 16:37:00</td>\n",
       "      <td>16:37:00</td>\n",
       "      <td>2016</td>\n",
       "      <td>12</td>\n",
       "      <td>30</td>\n",
       "      <td>403.0</td>\n",
       "      <td>STOP-SIGNED HIGHWAY-RUSH HOUR</td>\n",
       "      <td>150</td>\n",
       "      <td>747 QUEEN ST E, TORONTO, ON, CANADA</td>\n",
       "      <td>ON</td>\n",
       "      <td>...</td>\n",
       "      <td>-79.348080</td>\n",
       "      <td>0</td>\n",
       "      <td>0</td>\n",
       "      <td>1</td>\n",
       "      <td>0</td>\n",
       "      <td>0</td>\n",
       "      <td>0</td>\n",
       "      <td>0</td>\n",
       "      <td>0</td>\n",
       "      <td>0</td>\n",
       "    </tr>\n",
       "    <tr>\n",
       "      <th>4</th>\n",
       "      <td>2016-12-30 16:37:00</td>\n",
       "      <td>16:37:00</td>\n",
       "      <td>2016</td>\n",
       "      <td>12</td>\n",
       "      <td>30</td>\n",
       "      <td>403.0</td>\n",
       "      <td>STOP-SIGNED HIGHWAY-RUSH HOUR</td>\n",
       "      <td>150</td>\n",
       "      <td>3042 DUNDAS ST W, TORONTO, ON, CANADA</td>\n",
       "      <td>ON</td>\n",
       "      <td>...</td>\n",
       "      <td>-79.470785</td>\n",
       "      <td>0</td>\n",
       "      <td>0</td>\n",
       "      <td>1</td>\n",
       "      <td>0</td>\n",
       "      <td>0</td>\n",
       "      <td>0</td>\n",
       "      <td>0</td>\n",
       "      <td>0</td>\n",
       "      <td>0</td>\n",
       "    </tr>\n",
       "  </tbody>\n",
       "</table>\n",
       "<p>5 rows × 21 columns</p>\n",
       "</div>"
      ],
      "text/plain": [
       "  datetime_of_infraction time_of_infraction  year  month  day  \\\n",
       "0    2016-12-30 16:37:00           16:37:00  2016     12   30   \n",
       "1    2016-12-30 16:37:00           16:37:00  2016     12   30   \n",
       "2    2016-12-30 16:37:00           16:37:00  2016     12   30   \n",
       "3    2016-12-30 16:37:00           16:37:00  2016     12   30   \n",
       "4    2016-12-30 16:37:00           16:37:00  2016     12   30   \n",
       "\n",
       "   infraction_code         infraction_description  set_fine_amount  \\\n",
       "0            403.0  STOP-SIGNED HIGHWAY-RUSH HOUR              150   \n",
       "1            403.0  STOP-SIGNED HIGHWAY-RUSH HOUR              150   \n",
       "2            403.0  STOP-SIGNED HIGHWAY-RUSH HOUR              150   \n",
       "3            403.0  STOP-SIGNED HIGHWAY-RUSH HOUR              150   \n",
       "4            403.0  STOP-SIGNED HIGHWAY-RUSH HOUR              150   \n",
       "\n",
       "                               location2 province  ...  longitude  \\\n",
       "0   1546 BLOOR ST W, TORONTO, ON, CANADA       ON  ... -79.453142   \n",
       "1     5418 YONGE ST, TORONTO, ON, CANADA       ON  ... -79.414671   \n",
       "2    777 QUEEN ST W, TORONTO, ON, CANADA       ON  ... -79.408080   \n",
       "3    747 QUEEN ST E, TORONTO, ON, CANADA       ON  ... -79.348080   \n",
       "4  3042 DUNDAS ST W, TORONTO, ON, CANADA       ON  ... -79.470785   \n",
       "\n",
       "   permit_time_restrictions  fee_related  time_related  plate_related  \\\n",
       "0                         0            0             1              0   \n",
       "1                         0            0             1              0   \n",
       "2                         0            0             1              0   \n",
       "3                         0            0             1              0   \n",
       "4                         0            0             1              0   \n",
       "\n",
       "   fire_route  accessible_related  commercial_related  obstruction_related  \\\n",
       "0           0                   0                   0                    0   \n",
       "1           0                   0                   0                    0   \n",
       "2           0                   0                   0                    0   \n",
       "3           0                   0                   0                    0   \n",
       "4           0                   0                   0                    0   \n",
       "\n",
       "   cycle_related  \n",
       "0              0  \n",
       "1              0  \n",
       "2              0  \n",
       "3              0  \n",
       "4              0  \n",
       "\n",
       "[5 rows x 21 columns]"
      ]
     },
     "execution_count": 15,
     "metadata": {},
     "output_type": "execute_result"
    }
   ],
   "source": [
    "for group, keywords in infraction_groups.items():\n",
    "    parking_df[group] = parking_df['infraction_description'].apply(lambda x: 1 if any(keyword in x for keyword in keywords) else 0)\n",
    "\n",
    "    \n",
    "parking_df.head()"
   ]
  },
  {
   "cell_type": "code",
   "execution_count": 16,
   "id": "0edba452",
   "metadata": {},
   "outputs": [],
   "source": [
    "parking_df.to_csv('../data/parking_df.csv', index=False)"
   ]
  },
  {
   "cell_type": "code",
   "execution_count": null,
   "id": "6dbe190c",
   "metadata": {},
   "outputs": [],
   "source": []
  }
 ],
 "metadata": {
  "kernelspec": {
   "display_name": "Python 3 (ipykernel)",
   "language": "python",
   "name": "python3"
  },
  "language_info": {
   "codemirror_mode": {
    "name": "ipython",
    "version": 3
   },
   "file_extension": ".py",
   "mimetype": "text/x-python",
   "name": "python",
   "nbconvert_exporter": "python",
   "pygments_lexer": "ipython3",
   "version": "3.11.8"
  }
 },
 "nbformat": 4,
 "nbformat_minor": 5
}
