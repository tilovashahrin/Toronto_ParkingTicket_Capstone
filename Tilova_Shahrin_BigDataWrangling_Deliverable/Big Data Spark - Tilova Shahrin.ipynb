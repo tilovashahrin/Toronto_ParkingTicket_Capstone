{
 "cells": [
  {
   "cell_type": "markdown",
   "id": "4fe14255-feb3-4395-b11f-d8fe760e7353",
   "metadata": {},
   "source": [
    "## Big Data Wrangling Deliverable - Tilova Shahrin"
   ]
  },
  {
   "cell_type": "markdown",
   "id": "480670ec-41b9-4c4d-bd68-91b91dd1cc2e",
   "metadata": {},
   "source": [
    "Initialize SparkContext and SparkSession. "
   ]
  },
  {
   "cell_type": "code",
   "execution_count": 1,
   "id": "aabe9b1c",
   "metadata": {
    "scrolled": true
   },
   "outputs": [
    {
     "name": "stdout",
     "output_type": "stream",
     "text": [
      "Starting Spark application\n"
     ]
    },
    {
     "data": {
      "text/html": [
       "<table>\n",
       "<tr><th>ID</th><th>YARN Application ID</th><th>Kind</th><th>State</th><th>Spark UI</th><th>Driver log</th><th>User</th><th>Current session?</th></tr><tr><td>11</td><td>application_1711981918489_0013</td><td>pyspark</td><td>idle</td><td><a target=\"_blank\" href=\"http://ip-172-31-10-55.us-east-2.compute.internal:20888/proxy/application_1711981918489_0013/\">Link</a></td><td><a target=\"_blank\" href=\"http://ip-172-31-14-31.us-east-2.compute.internal:8042/node/containerlogs/container_1711981918489_0013_01_000001/livy\">Link</a></td><td>None</td><td>✔</td></tr></table>"
      ],
      "text/plain": [
       "<IPython.core.display.HTML object>"
      ]
     },
     "metadata": {},
     "output_type": "display_data"
    },
    {
     "data": {
      "application/vnd.jupyter.widget-view+json": {
       "model_id": "",
       "version_major": 2,
       "version_minor": 0
      },
      "text/plain": [
       "FloatProgress(value=0.0, bar_style='info', description='Progress:', layout=Layout(height='25px', width='50%'),…"
      ]
     },
     "metadata": {},
     "output_type": "display_data"
    },
    {
     "name": "stdout",
     "output_type": "stream",
     "text": [
      "SparkSession available as 'spark'.\n"
     ]
    },
    {
     "data": {
      "application/vnd.jupyter.widget-view+json": {
       "model_id": "",
       "version_major": 2,
       "version_minor": 0
      },
      "text/plain": [
       "FloatProgress(value=0.0, bar_style='info', description='Progress:', layout=Layout(height='25px', width='50%'),…"
      ]
     },
     "metadata": {},
     "output_type": "display_data"
    },
    {
     "name": "stdout",
     "output_type": "stream",
     "text": [
      "<pyspark.sql.session.SparkSession object at 0x7fddb54e5d90>"
     ]
    }
   ],
   "source": [
    "spark"
   ]
  },
  {
   "cell_type": "markdown",
   "id": "58f2242f-05c5-454b-851d-4ea0481fbbb8",
   "metadata": {},
   "source": [
    "Configure with the following code to have your virtual env and python3 enabled. "
   ]
  },
  {
   "cell_type": "code",
   "execution_count": 3,
   "id": "ca35bcbf",
   "metadata": {},
   "outputs": [
    {
     "name": "stdout",
     "output_type": "stream",
     "text": [
      "Starting Spark application\n"
     ]
    },
    {
     "data": {
      "text/html": [
       "<table>\n",
       "<tr><th>ID</th><th>YARN Application ID</th><th>Kind</th><th>State</th><th>Spark UI</th><th>Driver log</th><th>User</th><th>Current session?</th></tr><tr><td>12</td><td>application_1711981918489_0014</td><td>pyspark</td><td>idle</td><td><a target=\"_blank\" href=\"http://ip-172-31-10-55.us-east-2.compute.internal:20888/proxy/application_1711981918489_0014/\">Link</a></td><td><a target=\"_blank\" href=\"http://ip-172-31-7-159.us-east-2.compute.internal:8042/node/containerlogs/container_1711981918489_0014_01_000001/livy\">Link</a></td><td>None</td><td>✔</td></tr></table>"
      ],
      "text/plain": [
       "<IPython.core.display.HTML object>"
      ]
     },
     "metadata": {},
     "output_type": "display_data"
    },
    {
     "data": {
      "application/vnd.jupyter.widget-view+json": {
       "model_id": "",
       "version_major": 2,
       "version_minor": 0
      },
      "text/plain": [
       "FloatProgress(value=0.0, bar_style='info', description='Progress:', layout=Layout(height='25px', width='50%'),…"
      ]
     },
     "metadata": {},
     "output_type": "display_data"
    },
    {
     "name": "stdout",
     "output_type": "stream",
     "text": [
      "SparkSession available as 'spark'.\n"
     ]
    },
    {
     "data": {
      "text/html": [
       "Current session configs: <tt>{'conf': {'spark.pyspark.python': 'python3', 'spark.pyspark.virtualenv.enabled': 'true', 'spark.pyspark.virtualenv.type': 'native', 'spark.pyspark.virtualenv.bin.path': '/usr/bin/virtualenv'}, 'proxyUser': 'jovyan', 'kind': 'pyspark'}</tt><br>"
      ],
      "text/plain": [
       "<IPython.core.display.HTML object>"
      ]
     },
     "metadata": {},
     "output_type": "display_data"
    },
    {
     "data": {
      "text/html": [
       "<table>\n",
       "<tr><th>ID</th><th>YARN Application ID</th><th>Kind</th><th>State</th><th>Spark UI</th><th>Driver log</th><th>User</th><th>Current session?</th></tr><tr><td>12</td><td>application_1711981918489_0014</td><td>pyspark</td><td>idle</td><td><a target=\"_blank\" href=\"http://ip-172-31-10-55.us-east-2.compute.internal:20888/proxy/application_1711981918489_0014/\">Link</a></td><td><a target=\"_blank\" href=\"http://ip-172-31-7-159.us-east-2.compute.internal:8042/node/containerlogs/container_1711981918489_0014_01_000001/livy\">Link</a></td><td>None</td><td>✔</td></tr></table>"
      ],
      "text/plain": [
       "<IPython.core.display.HTML object>"
      ]
     },
     "metadata": {},
     "output_type": "display_data"
    }
   ],
   "source": [
    "%%configure -f\n",
    "{\n",
    "    \"conf\": {\n",
    "        \"spark.pyspark.python\": \"python3\",\n",
    "        \"spark.pyspark.virtualenv.enabled\": \"true\",\n",
    "        \"spark.pyspark.virtualenv.type\":\"native\",\n",
    "        \"spark.pyspark.virtualenv.bin.path\":\"/usr/bin/virtualenv\"\n",
    "    }\n",
    "}"
   ]
  },
  {
   "cell_type": "markdown",
   "id": "e8c72ac4-c37f-4855-a6b0-a85a7fc63579",
   "metadata": {},
   "source": [
    "Now we can import SparkSession. "
   ]
  },
  {
   "cell_type": "code",
   "execution_count": 20,
   "id": "a9c248fd",
   "metadata": {},
   "outputs": [
    {
     "data": {
      "application/vnd.jupyter.widget-view+json": {
       "model_id": "",
       "version_major": 2,
       "version_minor": 0
      },
      "text/plain": [
       "FloatProgress(value=0.0, bar_style='info', description='Progress:', layout=Layout(height='25px', width='50%'),…"
      ]
     },
     "metadata": {},
     "output_type": "display_data"
    }
   ],
   "source": [
    "from pyspark.sql import SparkSession"
   ]
  },
  {
   "cell_type": "code",
   "execution_count": 4,
   "id": "c1af6a68",
   "metadata": {},
   "outputs": [
    {
     "data": {
      "application/vnd.jupyter.widget-view+json": {
       "model_id": "",
       "version_major": 2,
       "version_minor": 0
      },
      "text/plain": [
       "FloatProgress(value=0.0, bar_style='info', description='Progress:', layout=Layout(height='25px', width='50%'),…"
      ]
     },
     "metadata": {},
     "output_type": "display_data"
    },
    {
     "name": "stdout",
     "output_type": "stream",
     "text": [
      "Package              Version\n",
      "-------------------- ------------\n",
      "appdirs              1.4.4\n",
      "attrs                20.3.0\n",
      "aws-cfn-bootstrap    2.0\n",
      "awscli               2.14.5\n",
      "awscrt               0.19.19\n",
      "Babel                2.9.1\n",
      "beautifulsoup4       4.9.3\n",
      "boto                 2.49.0\n",
      "cffi                 1.14.5\n",
      "chardet              4.0.0\n",
      "chevron              0.13.1\n",
      "click                8.1.7\n",
      "cloud-init           22.2.2\n",
      "colorama             0.4.4\n",
      "configobj            5.0.6\n",
      "cryptography         36.0.1\n",
      "dbus-python          1.2.18\n",
      "distlib              0.3.1\n",
      "distro               1.5.0\n",
      "docutils             0.16\n",
      "ec2-hibinit-agent    1.0.8\n",
      "filelock             3.0.12\n",
      "gpg                  1.15.1\n",
      "idna                 2.10\n",
      "Jinja2               2.11.3\n",
      "jmespath             1.0.1\n",
      "joblib               1.3.2\n",
      "jsonpatch            1.21\n",
      "jsonpointer          2.0\n",
      "jsonschema           3.2.0\n",
      "libcomps             0.1.18\n",
      "lockfile             0.12.2\n",
      "lxml                 4.9.3\n",
      "MarkupSafe           1.1.1\n",
      "mysqlclient          1.4.2\n",
      "netifaces            0.10.6\n",
      "nltk                 3.8.1\n",
      "nose                 1.3.4\n",
      "oauthlib             3.0.2\n",
      "pip                  21.3.1\n",
      "ply                  3.11\n",
      "prettytable          0.7.2\n",
      "prompt-toolkit       3.0.24\n",
      "py-dateutil          2.2\n",
      "pycparser            2.20\n",
      "pyrsistent           0.17.3\n",
      "pyserial             3.4\n",
      "PySocks              1.7.1\n",
      "python-daemon        2.3.0\n",
      "python-dateutil      2.8.1\n",
      "pytz                 2023.3.post1\n",
      "PyYAML               5.4.1\n",
      "regex                2021.11.10\n",
      "release-notification 1.2\n",
      "requests             2.25.1\n",
      "rpm                  4.16.1.3\n",
      "ruamel.yaml          0.16.6\n",
      "ruamel.yaml.clib     0.1.2\n",
      "selinux              3.4\n",
      "sepolicy             3.4\n",
      "setools              4.4.1\n",
      "setuptools           59.6.0\n",
      "six                  1.13.0\n",
      "soupsieve            1.9.5\n",
      "support-info         1.0\n",
      "tqdm                 4.66.1\n",
      "urllib3              1.25.10\n",
      "virtualenv           20.4.0\n",
      "wcwidth              0.2.5\n",
      "wheel                0.37.1\n",
      "windmill             1.6\n",
      "\n",
      "WARNING: The directory '/home/.cache/pip' or its parent directory is not owned or is not writable by the current user. The cache has been disabled. Check the permissions and owner of that directory. If executing pip with sudo, you should use sudo's -H flag."
     ]
    }
   ],
   "source": [
    "sc.list_packages()"
   ]
  },
  {
   "cell_type": "code",
   "execution_count": 5,
   "id": "6cf491fb",
   "metadata": {},
   "outputs": [
    {
     "data": {
      "text/html": [
       "Current session configs: <tt>{'conf': {'spark.pyspark.python': 'python3', 'spark.pyspark.virtualenv.enabled': 'true', 'spark.pyspark.virtualenv.type': 'native', 'spark.pyspark.virtualenv.bin.path': '/usr/bin/virtualenv'}, 'proxyUser': 'jovyan', 'kind': 'pyspark'}</tt><br>"
      ],
      "text/plain": [
       "<IPython.core.display.HTML object>"
      ]
     },
     "metadata": {},
     "output_type": "display_data"
    },
    {
     "data": {
      "text/html": [
       "<table>\n",
       "<tr><th>ID</th><th>YARN Application ID</th><th>Kind</th><th>State</th><th>Spark UI</th><th>Driver log</th><th>User</th><th>Current session?</th></tr><tr><td>12</td><td>application_1711981918489_0014</td><td>pyspark</td><td>idle</td><td><a target=\"_blank\" href=\"http://ip-172-31-10-55.us-east-2.compute.internal:20888/proxy/application_1711981918489_0014/\">Link</a></td><td><a target=\"_blank\" href=\"http://ip-172-31-7-159.us-east-2.compute.internal:8042/node/containerlogs/container_1711981918489_0014_01_000001/livy\">Link</a></td><td>None</td><td>✔</td></tr></table>"
      ],
      "text/plain": [
       "<IPython.core.display.HTML object>"
      ]
     },
     "metadata": {},
     "output_type": "display_data"
    }
   ],
   "source": [
    "%%info"
   ]
  },
  {
   "cell_type": "markdown",
   "id": "80c4f60e",
   "metadata": {},
   "source": [
    "Let's install python pandas and matplotlib. "
   ]
  },
  {
   "cell_type": "markdown",
   "id": "67e2f154",
   "metadata": {},
   "source": [
    "## Read and Describe the Dataset"
   ]
  },
  {
   "cell_type": "markdown",
   "id": "88e07886",
   "metadata": {},
   "source": [
    "Let's start importing the eng_1M_1gram.csv file. "
   ]
  },
  {
   "cell_type": "code",
   "execution_count": 12,
   "id": "fb20457d",
   "metadata": {},
   "outputs": [
    {
     "data": {
      "application/vnd.jupyter.widget-view+json": {
       "model_id": "",
       "version_major": 2,
       "version_minor": 0
      },
      "text/plain": [
       "FloatProgress(value=0.0, bar_style='info', description='Progress:', layout=Layout(height='25px', width='50%'),…"
      ]
     },
     "metadata": {},
     "output_type": "display_data"
    }
   ],
   "source": [
    "data = sc.textFile('s3://brainstation-dsft/eng_1M_1gram.csv')"
   ]
  },
  {
   "cell_type": "code",
   "execution_count": 13,
   "id": "37bc5049",
   "metadata": {},
   "outputs": [
    {
     "data": {
      "application/vnd.jupyter.widget-view+json": {
       "model_id": "",
       "version_major": 2,
       "version_minor": 0
      },
      "text/plain": [
       "FloatProgress(value=0.0, bar_style='info', description='Progress:', layout=Layout(height='25px', width='50%'),…"
      ]
     },
     "metadata": {},
     "output_type": "display_data"
    },
    {
     "name": "stdout",
     "output_type": "stream",
     "text": [
      "s3://brainstation-dsft/eng_1M_1gram.csv MapPartitionsRDD[1] at textFile at NativeMethodAccessorImpl.java:0"
     ]
    }
   ],
   "source": [
    "data"
   ]
  },
  {
   "cell_type": "code",
   "execution_count": 14,
   "id": "412c371e",
   "metadata": {},
   "outputs": [
    {
     "data": {
      "application/vnd.jupyter.widget-view+json": {
       "model_id": "",
       "version_major": 2,
       "version_minor": 0
      },
      "text/plain": [
       "FloatProgress(value=0.0, bar_style='info', description='Progress:', layout=Layout(height='25px', width='50%'),…"
      ]
     },
     "metadata": {},
     "output_type": "display_data"
    },
    {
     "name": "stdout",
     "output_type": "stream",
     "text": [
      "['token,year,frequency,pages,books', 'inGermany,1927,2,2,2', 'inGermany,1929,1,1,1', 'inGermany,1930,1,1,1', 'inGermany,1933,1,1,1']"
     ]
    }
   ],
   "source": [
    "data.take(5)"
   ]
  },
  {
   "cell_type": "markdown",
   "id": "e64de182",
   "metadata": {},
   "source": [
    "Run a command that checks the number of rows. We can see there are 261 million rows and 5 columns. "
   ]
  },
  {
   "cell_type": "code",
   "execution_count": 15,
   "id": "40142cf8",
   "metadata": {},
   "outputs": [
    {
     "data": {
      "application/vnd.jupyter.widget-view+json": {
       "model_id": "",
       "version_major": 2,
       "version_minor": 0
      },
      "text/plain": [
       "FloatProgress(value=0.0, bar_style='info', description='Progress:', layout=Layout(height='25px', width='50%'),…"
      ]
     },
     "metadata": {},
     "output_type": "display_data"
    },
    {
     "name": "stdout",
     "output_type": "stream",
     "text": [
      "261823226"
     ]
    }
   ],
   "source": [
    "data.count()"
   ]
  },
  {
   "cell_type": "markdown",
   "id": "4024d643",
   "metadata": {},
   "source": [
    "### Create a new DataFrame from a query using Spark SQL, filtering to include only the rows where the token is \"data\" and describe the new dataset"
   ]
  },
  {
   "cell_type": "code",
   "execution_count": 23,
   "id": "1d30b807",
   "metadata": {},
   "outputs": [
    {
     "data": {
      "application/vnd.jupyter.widget-view+json": {
       "model_id": "",
       "version_major": 2,
       "version_minor": 0
      },
      "text/plain": [
       "FloatProgress(value=0.0, bar_style='info', description='Progress:', layout=Layout(height='25px', width='50%'),…"
      ]
     },
     "metadata": {},
     "output_type": "display_data"
    }
   ],
   "source": [
    "df = spark.read.csv('s3://brainstation-dsft/eng_1M_1gram.csv', header=True)"
   ]
  },
  {
   "cell_type": "code",
   "execution_count": 24,
   "id": "18439c43",
   "metadata": {},
   "outputs": [
    {
     "data": {
      "application/vnd.jupyter.widget-view+json": {
       "model_id": "",
       "version_major": 2,
       "version_minor": 0
      },
      "text/plain": [
       "FloatProgress(value=0.0, bar_style='info', description='Progress:', layout=Layout(height='25px', width='50%'),…"
      ]
     },
     "metadata": {},
     "output_type": "display_data"
    },
    {
     "name": "stdout",
     "output_type": "stream",
     "text": [
      "root\n",
      " |-- token: string (nullable = true)\n",
      " |-- year: string (nullable = true)\n",
      " |-- frequency: string (nullable = true)\n",
      " |-- pages: string (nullable = true)\n",
      " |-- books: string (nullable = true)"
     ]
    }
   ],
   "source": [
    "df.printSchema()"
   ]
  },
  {
   "cell_type": "code",
   "execution_count": 25,
   "id": "81789b85",
   "metadata": {},
   "outputs": [
    {
     "data": {
      "application/vnd.jupyter.widget-view+json": {
       "model_id": "",
       "version_major": 2,
       "version_minor": 0
      },
      "text/plain": [
       "FloatProgress(value=0.0, bar_style='info', description='Progress:', layout=Layout(height='25px', width='50%'),…"
      ]
     },
     "metadata": {},
     "output_type": "display_data"
    },
    {
     "name": "stdout",
     "output_type": "stream",
     "text": [
      "['token', 'year', 'frequency', 'pages', 'books']"
     ]
    }
   ],
   "source": [
    "df.columns"
   ]
  },
  {
   "cell_type": "code",
   "execution_count": 27,
   "id": "11dfcbe5",
   "metadata": {},
   "outputs": [
    {
     "data": {
      "application/vnd.jupyter.widget-view+json": {
       "model_id": "",
       "version_major": 2,
       "version_minor": 0
      },
      "text/plain": [
       "FloatProgress(value=0.0, bar_style='info', description='Progress:', layout=Layout(height='25px', width='50%'),…"
      ]
     },
     "metadata": {},
     "output_type": "display_data"
    },
    {
     "name": "stdout",
     "output_type": "stream",
     "text": [
      "-RECORD 0--------------\n",
      " token     | inGermany \n",
      " year      | 1927      \n",
      " frequency | 2         \n",
      " pages     | 2         \n",
      " books     | 2         \n",
      "-RECORD 1--------------\n",
      " token     | inGermany \n",
      " year      | 1929      \n",
      " frequency | 1         \n",
      " pages     | 1         \n",
      " books     | 1         \n",
      "-RECORD 2--------------\n",
      " token     | inGermany \n",
      " year      | 1930      \n",
      " frequency | 1         \n",
      " pages     | 1         \n",
      " books     | 1         \n",
      "-RECORD 3--------------\n",
      " token     | inGermany \n",
      " year      | 1933      \n",
      " frequency | 1         \n",
      " pages     | 1         \n",
      " books     | 1         \n",
      "only showing top 4 rows"
     ]
    }
   ],
   "source": [
    "df.show(4, vertical=True)"
   ]
  },
  {
   "cell_type": "markdown",
   "id": "917ddf58",
   "metadata": {},
   "source": [
    "### Write the filtered data back to a directory in the HDFS from Spark using df.write.csv(). Be sure to pass the header=True parameter and examine the contents of what you've written."
   ]
  },
  {
   "cell_type": "markdown",
   "id": "be4770c3",
   "metadata": {},
   "source": [
    "Let's start running a spark sql query. Create a table and run a spark.sql query for the first 10 rows. "
   ]
  },
  {
   "cell_type": "code",
   "execution_count": 41,
   "id": "f2a2e46b",
   "metadata": {
    "scrolled": true
   },
   "outputs": [
    {
     "data": {
      "application/vnd.jupyter.widget-view+json": {
       "model_id": "",
       "version_major": 2,
       "version_minor": 0
      },
      "text/plain": [
       "FloatProgress(value=0.0, bar_style='info', description='Progress:', layout=Layout(height='25px', width='50%'),…"
      ]
     },
     "metadata": {},
     "output_type": "display_data"
    },
    {
     "name": "stdout",
     "output_type": "stream",
     "text": [
      "+-----+----+---------+-----+-----+\n",
      "|token|year|frequency|pages|books|\n",
      "+-----+----+---------+-----+-----+\n",
      "| data|1584|       16|   14|    1|\n",
      "| data|1614|        3|    2|    1|\n",
      "| data|1627|        1|    1|    1|\n",
      "| data|1631|       22|   18|    1|\n",
      "| data|1637|        1|    1|    1|\n",
      "| data|1638|        2|    2|    1|\n",
      "| data|1640|        1|    1|    1|\n",
      "| data|1642|        1|    1|    1|\n",
      "| data|1644|        4|    4|    1|\n",
      "| data|1647|        1|    1|    1|\n",
      "+-----+----+---------+-----+-----+\n",
      "only showing top 10 rows"
     ]
    }
   ],
   "source": [
    "df.createOrReplaceTempView(\"data_table\")\n",
    "\n",
    "spark.sql(\"SELECT *\\\n",
    "            FROM data_table\\\n",
    "            WHERE token = 'data'\").show(10)"
   ]
  },
  {
   "cell_type": "code",
   "execution_count": 42,
   "id": "1121b07a",
   "metadata": {},
   "outputs": [
    {
     "data": {
      "application/vnd.jupyter.widget-view+json": {
       "model_id": "",
       "version_major": 2,
       "version_minor": 0
      },
      "text/plain": [
       "FloatProgress(value=0.0, bar_style='info', description='Progress:', layout=Layout(height='25px', width='50%'),…"
      ]
     },
     "metadata": {},
     "output_type": "display_data"
    }
   ],
   "source": [
    "df = spark.sql(\"SELECT *\\\n",
    "                FROM data_table\\\n",
    "                WHERE token = 'data'\")"
   ]
  },
  {
   "cell_type": "code",
   "execution_count": 44,
   "id": "c771fceb",
   "metadata": {
    "scrolled": true
   },
   "outputs": [
    {
     "data": {
      "application/vnd.jupyter.widget-view+json": {
       "model_id": "",
       "version_major": 2,
       "version_minor": 0
      },
      "text/plain": [
       "FloatProgress(value=0.0, bar_style='info', description='Progress:', layout=Layout(height='25px', width='50%'),…"
      ]
     },
     "metadata": {},
     "output_type": "display_data"
    },
    {
     "name": "stdout",
     "output_type": "stream",
     "text": [
      "316"
     ]
    }
   ],
   "source": [
    "df.count()"
   ]
  },
  {
   "cell_type": "code",
   "execution_count": 45,
   "id": "354fd762",
   "metadata": {},
   "outputs": [
    {
     "data": {
      "application/vnd.jupyter.widget-view+json": {
       "model_id": "",
       "version_major": 2,
       "version_minor": 0
      },
      "text/plain": [
       "FloatProgress(value=0.0, bar_style='info', description='Progress:', layout=Layout(height='25px', width='50%'),…"
      ]
     },
     "metadata": {},
     "output_type": "display_data"
    },
    {
     "name": "stdout",
     "output_type": "stream",
     "text": [
      "root\n",
      " |-- token: string (nullable = true)\n",
      " |-- year: string (nullable = true)\n",
      " |-- frequency: string (nullable = true)\n",
      " |-- pages: string (nullable = true)\n",
      " |-- books: string (nullable = true)"
     ]
    }
   ],
   "source": [
    "df.printSchema()"
   ]
  },
  {
   "cell_type": "code",
   "execution_count": 46,
   "id": "553192be",
   "metadata": {},
   "outputs": [
    {
     "data": {
      "application/vnd.jupyter.widget-view+json": {
       "model_id": "",
       "version_major": 2,
       "version_minor": 0
      },
      "text/plain": [
       "FloatProgress(value=0.0, bar_style='info', description='Progress:', layout=Layout(height='25px', width='50%'),…"
      ]
     },
     "metadata": {},
     "output_type": "display_data"
    },
    {
     "name": "stdout",
     "output_type": "stream",
     "text": [
      "-RECORD 0---------\n",
      " token     | data \n",
      " year      | 1584 \n",
      " frequency | 16   \n",
      " pages     | 14   \n",
      " books     | 1    \n",
      "-RECORD 1---------\n",
      " token     | data \n",
      " year      | 1614 \n",
      " frequency | 3    \n",
      " pages     | 2    \n",
      " books     | 1    \n",
      "-RECORD 2---------\n",
      " token     | data \n",
      " year      | 1627 \n",
      " frequency | 1    \n",
      " pages     | 1    \n",
      " books     | 1    \n",
      "-RECORD 3---------\n",
      " token     | data \n",
      " year      | 1631 \n",
      " frequency | 22   \n",
      " pages     | 18   \n",
      " books     | 1    \n",
      "only showing top 4 rows"
     ]
    }
   ],
   "source": [
    "df.show(4, vertical=True)"
   ]
  },
  {
   "cell_type": "markdown",
   "id": "c02270ec",
   "metadata": {},
   "source": [
    "Let's write this data into our hadoop directory. Since the path already exists I'm going to add a mode parameter and set it to overwrite. "
   ]
  },
  {
   "cell_type": "code",
   "execution_count": 52,
   "id": "5316e0d3",
   "metadata": {},
   "outputs": [
    {
     "data": {
      "application/vnd.jupyter.widget-view+json": {
       "model_id": "",
       "version_major": 2,
       "version_minor": 0
      },
      "text/plain": [
       "FloatProgress(value=0.0, bar_style='info', description='Progress:', layout=Layout(height='25px', width='50%'),…"
      ]
     },
     "metadata": {},
     "output_type": "display_data"
    },
    {
     "name": "stdout",
     "output_type": "stream",
     "text": [
      "+-----+----+---------+-----+-----+\n",
      "|token|year|frequency|pages|books|\n",
      "+-----+----+---------+-----+-----+\n",
      "| data|1584|       16|   14|    1|\n",
      "| data|1614|        3|    2|    1|\n",
      "| data|1627|        1|    1|    1|\n",
      "| data|1631|       22|   18|    1|\n",
      "| data|1637|        1|    1|    1|\n",
      "| data|1638|        2|    2|    1|\n",
      "| data|1640|        1|    1|    1|\n",
      "| data|1642|        1|    1|    1|\n",
      "| data|1644|        4|    4|    1|\n",
      "| data|1647|        1|    1|    1|\n",
      "| data|1651|        1|    1|    1|\n",
      "| data|1674|        1|    1|    1|\n",
      "| data|1690|        1|    1|    1|\n",
      "| data|1693|        1|    1|    1|\n",
      "| data|1697|        1|    1|    1|\n",
      "| data|1699|        1|    1|    1|\n",
      "| data|1700|        1|    1|    1|\n",
      "| data|1701|       11|   11|    2|\n",
      "| data|1702|        1|    1|    1|\n",
      "| data|1703|        1|    1|    1|\n",
      "+-----+----+---------+-----+-----+\n",
      "only showing top 20 rows"
     ]
    }
   ],
   "source": [
    "output_dir = \"/user/hadoop/eng_1M_1gram.csv\"\n",
    "\n",
    "df.write.csv(output_dir, header=True, mode=\"overwrite\")\n",
    "\n",
    "written_data = spark.read.csv(output_dir, header=True)\n",
    "written_data.show()"
   ]
  },
  {
   "cell_type": "code",
   "execution_count": null,
   "id": "7df9899c",
   "metadata": {},
   "outputs": [],
   "source": []
  }
 ],
 "metadata": {
  "kernelspec": {
   "display_name": "Python 3 (ipykernel)",
   "language": "python",
   "name": "python3"
  },
  "language_info": {
   "codemirror_mode": {
    "name": "ipython",
    "version": 3
   },
   "file_extension": ".py",
   "mimetype": "text/x-python",
   "name": "python",
   "nbconvert_exporter": "python",
   "pygments_lexer": "ipython3",
   "version": "3.11.8"
  }
 },
 "nbformat": 4,
 "nbformat_minor": 5
}
